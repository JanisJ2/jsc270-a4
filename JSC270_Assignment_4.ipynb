{
  "nbformat": 4,
  "nbformat_minor": 0,
  "metadata": {
    "colab": {
      "provenance": [],
      "include_colab_link": true
    },
    "kernelspec": {
      "name": "python3",
      "display_name": "Python 3"
    },
    "language_info": {
      "name": "python"
    }
  },
  "cells": [
    {
      "cell_type": "markdown",
      "metadata": {
        "id": "view-in-github",
        "colab_type": "text"
      },
      "source": [
        "<a href=\"https://colab.research.google.com/github/JanisJ2/jsc270-a4/blob/main/JSC270_Assignment_4.ipynb\" target=\"_parent\"><img src=\"https://colab.research.google.com/assets/colab-badge.svg\" alt=\"Open In Colab\"/></a>"
      ]
    },
    {
      "cell_type": "markdown",
      "source": [
        "Github link: https://github.com/JanisJ2/jsc270-a4 \\\n",
        "Group member:\n",
        "- Christoffer Tan (1008740445)\n",
        "- Janis Joplin (10097515051)\n"
      ],
      "metadata": {
        "id": "nOx_bQ-RmImT"
      }
    },
    {
      "cell_type": "code",
      "source": [
        "# Import necessary modules\n",
        "from google.colab import files\n",
        "import io\n",
        "import sys\n",
        "import re\n",
        "\n",
        "import numpy as np\n",
        "import pandas as pd\n",
        "\n",
        "import matplotlib.pyplot as plt\n",
        "from matplotlib.colors import ListedColormap\n",
        "\n",
        "from sklearn.datasets import make_blobs\n",
        "from sklearn.cluster import KMeans\n",
        "from sklearn.metrics import silhouette_score\n",
        "from sklearn.preprocessing import StandardScaler\n",
        "from sklearn.cluster import AgglomerativeClustering\n",
        "from sklearn.feature_extraction.text import TfidfTransformer\n",
        "from sklearn.feature_extraction.text import CountVectorizer\n",
        "from sklearn.model_selection import train_test_split\n",
        "from sklearn.naive_bayes import MultinomialNB\n",
        "from sklearn.metrics import accuracy_score, roc_curve\n",
        "\n",
        "from scipy.cluster.hierarchy import dendrogram, linkage\n",
        "\n",
        "import seaborn as sns\n",
        "\n",
        "import nltk\n",
        "nltk.download('punkt')  # Tokenizer\n",
        "from nltk.corpus import stopwords\n",
        "nltk.download('stopwords')\n",
        "from nltk.stem.porter import *\n",
        "from nltk.stem import WordNetLemmatizer\n",
        "nltk.download('wordnet')"
      ],
      "metadata": {
        "colab": {
          "base_uri": "https://localhost:8080/"
        },
        "id": "2eTJeDCkwpdC",
        "outputId": "6acf76eb-ff1b-4974-a120-a0443e3bd203"
      },
      "execution_count": 1,
      "outputs": [
        {
          "output_type": "stream",
          "name": "stderr",
          "text": [
            "[nltk_data] Downloading package punkt to /root/nltk_data...\n",
            "[nltk_data]   Unzipping tokenizers/punkt.zip.\n",
            "[nltk_data] Downloading package stopwords to /root/nltk_data...\n",
            "[nltk_data]   Unzipping corpora/stopwords.zip.\n",
            "[nltk_data] Downloading package wordnet to /root/nltk_data...\n"
          ]
        },
        {
          "output_type": "execute_result",
          "data": {
            "text/plain": [
              "True"
            ]
          },
          "metadata": {},
          "execution_count": 1
        }
      ]
    },
    {
      "cell_type": "code",
      "source": [
        "# Read the dataset from GitHub\n",
        "!wget \"https://raw.githubusercontent.com/JanisJ2/jsc270-a4/main/covid-tweets-train.csv\"\n",
        "!wget \"https://raw.githubusercontent.com/JanisJ2/jsc270-a4/main/covid-tweets-test.csv\""
      ],
      "metadata": {
        "colab": {
          "base_uri": "https://localhost:8080/"
        },
        "id": "3GbY3rOzxcej",
        "outputId": "58d65155-8c89-45ee-e685-a9915b9a6489"
      },
      "execution_count": 2,
      "outputs": [
        {
          "output_type": "stream",
          "name": "stdout",
          "text": [
            "--2024-03-31 01:37:05--  https://raw.githubusercontent.com/JanisJ2/jsc270-a4/main/covid-tweets-train.csv\n",
            "Resolving raw.githubusercontent.com (raw.githubusercontent.com)... 185.199.110.133, 185.199.111.133, 185.199.108.133, ...\n",
            "Connecting to raw.githubusercontent.com (raw.githubusercontent.com)|185.199.110.133|:443... connected.\n",
            "HTTP request sent, awaiting response... 200 OK\n",
            "Length: 8991364 (8.6M) [text/plain]\n",
            "Saving to: ‘covid-tweets-train.csv’\n",
            "\n",
            "covid-tweets-train. 100%[===================>]   8.57M  --.-KB/s    in 0.09s   \n",
            "\n",
            "2024-03-31 01:37:05 (90.9 MB/s) - ‘covid-tweets-train.csv’ saved [8991364/8991364]\n",
            "\n",
            "--2024-03-31 01:37:05--  https://raw.githubusercontent.com/JanisJ2/jsc270-a4/main/covid-tweets-test.csv\n",
            "Resolving raw.githubusercontent.com (raw.githubusercontent.com)... 185.199.108.133, 185.199.109.133, 185.199.110.133, ...\n",
            "Connecting to raw.githubusercontent.com (raw.githubusercontent.com)|185.199.108.133|:443... connected.\n",
            "HTTP request sent, awaiting response... 200 OK\n",
            "Length: 866735 (846K) [text/plain]\n",
            "Saving to: ‘covid-tweets-test.csv’\n",
            "\n",
            "covid-tweets-test.c 100%[===================>] 846.42K  --.-KB/s    in 0.01s   \n",
            "\n",
            "2024-03-31 01:37:06 (59.4 MB/s) - ‘covid-tweets-test.csv’ saved [866735/866735]\n",
            "\n"
          ]
        }
      ]
    },
    {
      "cell_type": "code",
      "source": [
        "# Read the train data from CSV file\n",
        "train_data = pd.read_csv('covid-tweets-train.csv')\n",
        "train_data.columns = ['Label', 'Message', 'Sentiment']\n",
        "train_data.head()"
      ],
      "metadata": {
        "colab": {
          "base_uri": "https://localhost:8080/",
          "height": 206
        },
        "id": "7ltXkzDaxl2K",
        "outputId": "86e4ce2a-5fda-4184-fd19-ae80f19b7bf2"
      },
      "execution_count": 3,
      "outputs": [
        {
          "output_type": "execute_result",
          "data": {
            "text/plain": [
              "   Label                                            Message Sentiment\n",
              "0      0  @MeNyrbie @Phil_Gahan @Chrisitv https://t.co/i...         1\n",
              "1      1  advice Talk to your neighbours family to excha...         2\n",
              "2      2  Coronavirus Australia: Woolworths to give elde...         2\n",
              "3      3  My food stock is not the only one which is emp...         2\n",
              "4      4  Me, ready to go at supermarket during the #COV...         0"
            ],
            "text/html": [
              "\n",
              "  <div id=\"df-23e53f29-b34d-46a5-afb2-e612e2b6817b\" class=\"colab-df-container\">\n",
              "    <div>\n",
              "<style scoped>\n",
              "    .dataframe tbody tr th:only-of-type {\n",
              "        vertical-align: middle;\n",
              "    }\n",
              "\n",
              "    .dataframe tbody tr th {\n",
              "        vertical-align: top;\n",
              "    }\n",
              "\n",
              "    .dataframe thead th {\n",
              "        text-align: right;\n",
              "    }\n",
              "</style>\n",
              "<table border=\"1\" class=\"dataframe\">\n",
              "  <thead>\n",
              "    <tr style=\"text-align: right;\">\n",
              "      <th></th>\n",
              "      <th>Label</th>\n",
              "      <th>Message</th>\n",
              "      <th>Sentiment</th>\n",
              "    </tr>\n",
              "  </thead>\n",
              "  <tbody>\n",
              "    <tr>\n",
              "      <th>0</th>\n",
              "      <td>0</td>\n",
              "      <td>@MeNyrbie @Phil_Gahan @Chrisitv https://t.co/i...</td>\n",
              "      <td>1</td>\n",
              "    </tr>\n",
              "    <tr>\n",
              "      <th>1</th>\n",
              "      <td>1</td>\n",
              "      <td>advice Talk to your neighbours family to excha...</td>\n",
              "      <td>2</td>\n",
              "    </tr>\n",
              "    <tr>\n",
              "      <th>2</th>\n",
              "      <td>2</td>\n",
              "      <td>Coronavirus Australia: Woolworths to give elde...</td>\n",
              "      <td>2</td>\n",
              "    </tr>\n",
              "    <tr>\n",
              "      <th>3</th>\n",
              "      <td>3</td>\n",
              "      <td>My food stock is not the only one which is emp...</td>\n",
              "      <td>2</td>\n",
              "    </tr>\n",
              "    <tr>\n",
              "      <th>4</th>\n",
              "      <td>4</td>\n",
              "      <td>Me, ready to go at supermarket during the #COV...</td>\n",
              "      <td>0</td>\n",
              "    </tr>\n",
              "  </tbody>\n",
              "</table>\n",
              "</div>\n",
              "    <div class=\"colab-df-buttons\">\n",
              "\n",
              "  <div class=\"colab-df-container\">\n",
              "    <button class=\"colab-df-convert\" onclick=\"convertToInteractive('df-23e53f29-b34d-46a5-afb2-e612e2b6817b')\"\n",
              "            title=\"Convert this dataframe to an interactive table.\"\n",
              "            style=\"display:none;\">\n",
              "\n",
              "  <svg xmlns=\"http://www.w3.org/2000/svg\" height=\"24px\" viewBox=\"0 -960 960 960\">\n",
              "    <path d=\"M120-120v-720h720v720H120Zm60-500h600v-160H180v160Zm220 220h160v-160H400v160Zm0 220h160v-160H400v160ZM180-400h160v-160H180v160Zm440 0h160v-160H620v160ZM180-180h160v-160H180v160Zm440 0h160v-160H620v160Z\"/>\n",
              "  </svg>\n",
              "    </button>\n",
              "\n",
              "  <style>\n",
              "    .colab-df-container {\n",
              "      display:flex;\n",
              "      gap: 12px;\n",
              "    }\n",
              "\n",
              "    .colab-df-convert {\n",
              "      background-color: #E8F0FE;\n",
              "      border: none;\n",
              "      border-radius: 50%;\n",
              "      cursor: pointer;\n",
              "      display: none;\n",
              "      fill: #1967D2;\n",
              "      height: 32px;\n",
              "      padding: 0 0 0 0;\n",
              "      width: 32px;\n",
              "    }\n",
              "\n",
              "    .colab-df-convert:hover {\n",
              "      background-color: #E2EBFA;\n",
              "      box-shadow: 0px 1px 2px rgba(60, 64, 67, 0.3), 0px 1px 3px 1px rgba(60, 64, 67, 0.15);\n",
              "      fill: #174EA6;\n",
              "    }\n",
              "\n",
              "    .colab-df-buttons div {\n",
              "      margin-bottom: 4px;\n",
              "    }\n",
              "\n",
              "    [theme=dark] .colab-df-convert {\n",
              "      background-color: #3B4455;\n",
              "      fill: #D2E3FC;\n",
              "    }\n",
              "\n",
              "    [theme=dark] .colab-df-convert:hover {\n",
              "      background-color: #434B5C;\n",
              "      box-shadow: 0px 1px 3px 1px rgba(0, 0, 0, 0.15);\n",
              "      filter: drop-shadow(0px 1px 2px rgba(0, 0, 0, 0.3));\n",
              "      fill: #FFFFFF;\n",
              "    }\n",
              "  </style>\n",
              "\n",
              "    <script>\n",
              "      const buttonEl =\n",
              "        document.querySelector('#df-23e53f29-b34d-46a5-afb2-e612e2b6817b button.colab-df-convert');\n",
              "      buttonEl.style.display =\n",
              "        google.colab.kernel.accessAllowed ? 'block' : 'none';\n",
              "\n",
              "      async function convertToInteractive(key) {\n",
              "        const element = document.querySelector('#df-23e53f29-b34d-46a5-afb2-e612e2b6817b');\n",
              "        const dataTable =\n",
              "          await google.colab.kernel.invokeFunction('convertToInteractive',\n",
              "                                                    [key], {});\n",
              "        if (!dataTable) return;\n",
              "\n",
              "        const docLinkHtml = 'Like what you see? Visit the ' +\n",
              "          '<a target=\"_blank\" href=https://colab.research.google.com/notebooks/data_table.ipynb>data table notebook</a>'\n",
              "          + ' to learn more about interactive tables.';\n",
              "        element.innerHTML = '';\n",
              "        dataTable['output_type'] = 'display_data';\n",
              "        await google.colab.output.renderOutput(dataTable, element);\n",
              "        const docLink = document.createElement('div');\n",
              "        docLink.innerHTML = docLinkHtml;\n",
              "        element.appendChild(docLink);\n",
              "      }\n",
              "    </script>\n",
              "  </div>\n",
              "\n",
              "\n",
              "<div id=\"df-f08fa945-1c3c-4a71-b248-30dd6863f592\">\n",
              "  <button class=\"colab-df-quickchart\" onclick=\"quickchart('df-f08fa945-1c3c-4a71-b248-30dd6863f592')\"\n",
              "            title=\"Suggest charts\"\n",
              "            style=\"display:none;\">\n",
              "\n",
              "<svg xmlns=\"http://www.w3.org/2000/svg\" height=\"24px\"viewBox=\"0 0 24 24\"\n",
              "     width=\"24px\">\n",
              "    <g>\n",
              "        <path d=\"M19 3H5c-1.1 0-2 .9-2 2v14c0 1.1.9 2 2 2h14c1.1 0 2-.9 2-2V5c0-1.1-.9-2-2-2zM9 17H7v-7h2v7zm4 0h-2V7h2v10zm4 0h-2v-4h2v4z\"/>\n",
              "    </g>\n",
              "</svg>\n",
              "  </button>\n",
              "\n",
              "<style>\n",
              "  .colab-df-quickchart {\n",
              "      --bg-color: #E8F0FE;\n",
              "      --fill-color: #1967D2;\n",
              "      --hover-bg-color: #E2EBFA;\n",
              "      --hover-fill-color: #174EA6;\n",
              "      --disabled-fill-color: #AAA;\n",
              "      --disabled-bg-color: #DDD;\n",
              "  }\n",
              "\n",
              "  [theme=dark] .colab-df-quickchart {\n",
              "      --bg-color: #3B4455;\n",
              "      --fill-color: #D2E3FC;\n",
              "      --hover-bg-color: #434B5C;\n",
              "      --hover-fill-color: #FFFFFF;\n",
              "      --disabled-bg-color: #3B4455;\n",
              "      --disabled-fill-color: #666;\n",
              "  }\n",
              "\n",
              "  .colab-df-quickchart {\n",
              "    background-color: var(--bg-color);\n",
              "    border: none;\n",
              "    border-radius: 50%;\n",
              "    cursor: pointer;\n",
              "    display: none;\n",
              "    fill: var(--fill-color);\n",
              "    height: 32px;\n",
              "    padding: 0;\n",
              "    width: 32px;\n",
              "  }\n",
              "\n",
              "  .colab-df-quickchart:hover {\n",
              "    background-color: var(--hover-bg-color);\n",
              "    box-shadow: 0 1px 2px rgba(60, 64, 67, 0.3), 0 1px 3px 1px rgba(60, 64, 67, 0.15);\n",
              "    fill: var(--button-hover-fill-color);\n",
              "  }\n",
              "\n",
              "  .colab-df-quickchart-complete:disabled,\n",
              "  .colab-df-quickchart-complete:disabled:hover {\n",
              "    background-color: var(--disabled-bg-color);\n",
              "    fill: var(--disabled-fill-color);\n",
              "    box-shadow: none;\n",
              "  }\n",
              "\n",
              "  .colab-df-spinner {\n",
              "    border: 2px solid var(--fill-color);\n",
              "    border-color: transparent;\n",
              "    border-bottom-color: var(--fill-color);\n",
              "    animation:\n",
              "      spin 1s steps(1) infinite;\n",
              "  }\n",
              "\n",
              "  @keyframes spin {\n",
              "    0% {\n",
              "      border-color: transparent;\n",
              "      border-bottom-color: var(--fill-color);\n",
              "      border-left-color: var(--fill-color);\n",
              "    }\n",
              "    20% {\n",
              "      border-color: transparent;\n",
              "      border-left-color: var(--fill-color);\n",
              "      border-top-color: var(--fill-color);\n",
              "    }\n",
              "    30% {\n",
              "      border-color: transparent;\n",
              "      border-left-color: var(--fill-color);\n",
              "      border-top-color: var(--fill-color);\n",
              "      border-right-color: var(--fill-color);\n",
              "    }\n",
              "    40% {\n",
              "      border-color: transparent;\n",
              "      border-right-color: var(--fill-color);\n",
              "      border-top-color: var(--fill-color);\n",
              "    }\n",
              "    60% {\n",
              "      border-color: transparent;\n",
              "      border-right-color: var(--fill-color);\n",
              "    }\n",
              "    80% {\n",
              "      border-color: transparent;\n",
              "      border-right-color: var(--fill-color);\n",
              "      border-bottom-color: var(--fill-color);\n",
              "    }\n",
              "    90% {\n",
              "      border-color: transparent;\n",
              "      border-bottom-color: var(--fill-color);\n",
              "    }\n",
              "  }\n",
              "</style>\n",
              "\n",
              "  <script>\n",
              "    async function quickchart(key) {\n",
              "      const quickchartButtonEl =\n",
              "        document.querySelector('#' + key + ' button');\n",
              "      quickchartButtonEl.disabled = true;  // To prevent multiple clicks.\n",
              "      quickchartButtonEl.classList.add('colab-df-spinner');\n",
              "      try {\n",
              "        const charts = await google.colab.kernel.invokeFunction(\n",
              "            'suggestCharts', [key], {});\n",
              "      } catch (error) {\n",
              "        console.error('Error during call to suggestCharts:', error);\n",
              "      }\n",
              "      quickchartButtonEl.classList.remove('colab-df-spinner');\n",
              "      quickchartButtonEl.classList.add('colab-df-quickchart-complete');\n",
              "    }\n",
              "    (() => {\n",
              "      let quickchartButtonEl =\n",
              "        document.querySelector('#df-f08fa945-1c3c-4a71-b248-30dd6863f592 button');\n",
              "      quickchartButtonEl.style.display =\n",
              "        google.colab.kernel.accessAllowed ? 'block' : 'none';\n",
              "    })();\n",
              "  </script>\n",
              "</div>\n",
              "\n",
              "    </div>\n",
              "  </div>\n"
            ],
            "application/vnd.google.colaboratory.intrinsic+json": {
              "type": "dataframe",
              "variable_name": "train_data",
              "summary": "{\n  \"name\": \"train_data\",\n  \"rows\": 41155,\n  \"fields\": [\n    {\n      \"column\": \"Label\",\n      \"properties\": {\n        \"dtype\": \"number\",\n        \"std\": 11880,\n        \"min\": 0,\n        \"max\": 41154,\n        \"num_unique_values\": 41155,\n        \"samples\": [\n          14623,\n          23458,\n          8170\n        ],\n        \"semantic_type\": \"\",\n        \"description\": \"\"\n      }\n    },\n    {\n      \"column\": \"Message\",\n      \"properties\": {\n        \"dtype\": \"string\",\n        \"num_unique_values\": 41155,\n        \"samples\": [\n          \"So panic buying of soaps and toilet roll was bad enough, now the idiots are stockpiling alcohol ? whats wrong with people #CoronaVirus #StopPanicBuying #Covid_19\",\n          \"Talked to the excellent about about transmission risk at the supermarket As usual good hand hygiene avoid crowds and physical distancing are the way to go\",\n          \"\\\"Saudi Arabia is bracing for an economic downturn as oil prices plummet due to the #coronavirus pandemic\\\" https://t.co/PQ3eRX9euZ\"\n        ],\n        \"semantic_type\": \"\",\n        \"description\": \"\"\n      }\n    },\n    {\n      \"column\": \"Sentiment\",\n      \"properties\": {\n        \"dtype\": \"category\",\n        \"num_unique_values\": 5,\n        \"samples\": [\n          \"2\",\n          \" England\\\"\",\n          \"0\"\n        ],\n        \"semantic_type\": \"\",\n        \"description\": \"\"\n      }\n    }\n  ]\n}"
            }
          },
          "metadata": {},
          "execution_count": 3
        }
      ]
    },
    {
      "cell_type": "code",
      "source": [
        "def filter_missing_values(data):\n",
        "    data.dropna(inplace=True)"
      ],
      "metadata": {
        "id": "Qx1qire1nYTL"
      },
      "execution_count": 4,
      "outputs": []
    },
    {
      "cell_type": "code",
      "source": [
        "# Clean missing values from train_data\n",
        "filter_missing_values(train_data)\n",
        "# Take only rows with sentiments either 0, 1, or 2\n",
        "train_data = train_data[train_data['Sentiment'].isin(['0', '1', '2'])]"
      ],
      "metadata": {
        "id": "OfuQcylhs47B"
      },
      "execution_count": 5,
      "outputs": []
    },
    {
      "cell_type": "markdown",
      "source": [
        "# Part I"
      ],
      "metadata": {
        "id": "4cDujdn7m_6M"
      }
    },
    {
      "cell_type": "markdown",
      "source": [
        "## a)"
      ],
      "metadata": {
        "id": "px6QeKNAxsWI"
      }
    },
    {
      "cell_type": "code",
      "source": [
        "# Given the a data set, it will return the proportion of the observations belong the a sentiment type\n",
        "def proportion_of_sentiment(data, sentiment_type):\n",
        "    return (data['Sentiment'] == sentiment_type).sum() / len(data['Sentiment'])"
      ],
      "metadata": {
        "id": "P7glpGdjxtay"
      },
      "execution_count": 6,
      "outputs": []
    },
    {
      "cell_type": "code",
      "source": [
        "for i in range(3):\n",
        "    print(f\"The proportion of the train observations belonging to sentiment type {i}: {proportion_of_sentiment(train_data, str(i))}\")"
      ],
      "metadata": {
        "id": "JEahDK0ps8WU",
        "outputId": "d8cbb98c-c88a-4774-e283-6f62d22fe330",
        "colab": {
          "base_uri": "https://localhost:8080/"
        }
      },
      "execution_count": 7,
      "outputs": [
        {
          "output_type": "stream",
          "name": "stdout",
          "text": [
            "The proportion of the train observations belonging to sentiment type 0: 0.37415858666861074\n",
            "The proportion of the train observations belonging to sentiment type 1: 0.18740735340574954\n",
            "The proportion of the train observations belonging to sentiment type 2: 0.4384340599256397\n"
          ]
        }
      ]
    },
    {
      "cell_type": "markdown",
      "source": [
        "## b)"
      ],
      "metadata": {
        "id": "44JVVuDywCOR"
      }
    },
    {
      "cell_type": "code",
      "execution_count": 8,
      "metadata": {
        "id": "yoXSDjI6kcsb"
      },
      "outputs": [],
      "source": [
        "# Custom tokenizer function\n",
        "def whitespace_tokenizer(text):\n",
        "    return text.split()\n",
        "\n",
        "def tokenize(data):\n",
        "    nltk.tokenize.word_tokenize = whitespace_tokenizer\n",
        "    data['Tokens'] = data['Message'].apply(nltk.word_tokenize)"
      ]
    },
    {
      "cell_type": "code",
      "source": [
        "tokenize(train_data)\n",
        "train_data['Tokens'].head()"
      ],
      "metadata": {
        "id": "nclSR-_Ds_96",
        "outputId": "87fb1bd2-0e81-4dd4-e73e-6c72ac8ba6e3",
        "colab": {
          "base_uri": "https://localhost:8080/"
        }
      },
      "execution_count": 9,
      "outputs": [
        {
          "output_type": "execute_result",
          "data": {
            "text/plain": [
              "0    [@, MeNyrbie, @, Phil_Gahan, @, Chrisitv, http...\n",
              "1    [advice, Talk, to, your, neighbours, family, t...\n",
              "2    [Coronavirus, Australia, :, Woolworths, to, gi...\n",
              "3    [My, food, stock, is, not, the, only, one, whi...\n",
              "4    [Me, ,, ready, to, go, at, supermarket, during...\n",
              "Name: Tokens, dtype: object"
            ]
          },
          "metadata": {},
          "execution_count": 9
        }
      ]
    },
    {
      "cell_type": "markdown",
      "source": [
        "## c)"
      ],
      "metadata": {
        "id": "TWccBIH4HjGb"
      }
    },
    {
      "cell_type": "code",
      "source": [
        "def remove_url(data):\n",
        "    tokens_no_url = []\n",
        "\n",
        "    # for the tokens of each row, remove all occurences of url\n",
        "    for row in data['Tokens']:\n",
        "        tokens_no_url.append([re.sub('^http.*', '', t) for t in row])\n",
        "\n",
        "    # Replace our tokens with the url-removed version\n",
        "    data['Tokens'] = tokens_no_url"
      ],
      "metadata": {
        "id": "LjNabPjNHhj9"
      },
      "execution_count": 10,
      "outputs": []
    },
    {
      "cell_type": "code",
      "source": [
        "remove_url(train_data)\n",
        "train_data['Tokens'].head()"
      ],
      "metadata": {
        "id": "WXD7m3fZtB-W",
        "outputId": "0f8f3404-1880-429b-88e3-9d5ae6d4b84f",
        "colab": {
          "base_uri": "https://localhost:8080/"
        }
      },
      "execution_count": 11,
      "outputs": [
        {
          "output_type": "execute_result",
          "data": {
            "text/plain": [
              "0    [@, MeNyrbie, @, Phil_Gahan, @, Chrisitv, , :,...\n",
              "1    [advice, Talk, to, your, neighbours, family, t...\n",
              "2    [Coronavirus, Australia, :, Woolworths, to, gi...\n",
              "3    [My, food, stock, is, not, the, only, one, whi...\n",
              "4    [Me, ,, ready, to, go, at, supermarket, during...\n",
              "Name: Tokens, dtype: object"
            ]
          },
          "metadata": {},
          "execution_count": 11
        }
      ]
    },
    {
      "cell_type": "markdown",
      "source": [
        "## d)"
      ],
      "metadata": {
        "id": "sWM2Bhwq_Hxc"
      }
    },
    {
      "cell_type": "code",
      "source": [
        "def remove_punctuation(data):\n",
        "    tokens_no_punct = []\n",
        "    # For the tokens of each row, remove all occurrences of punctuations (i.e. non-alphanumeric and non-whitespace)\n",
        "    for row in data['Tokens']:\n",
        "        tokens_no_punct.append([re.sub('[^\\w\\s]', '', t) for t in row])\n",
        "    # Replace our tokens with the punctuation-removed version\n",
        "    data['Tokens'] = tokens_no_punct\n",
        "\n",
        "def convert_to_lowercase(data):\n",
        "    lowercase_tokens = []\n",
        "    # For the tokens of each row, convert all strings to lowercase\n",
        "    for row in data['Tokens']:\n",
        "        lowercase_tokens.append([t.lower() for t in row])\n",
        "    # Replace our tokens with the lowercase version\n",
        "    data['Tokens'] = lowercase_tokens"
      ],
      "metadata": {
        "id": "0XIsIT2b_KI3"
      },
      "execution_count": 12,
      "outputs": []
    },
    {
      "cell_type": "code",
      "source": [
        "remove_punctuation(train_data)\n",
        "convert_to_lowercase(train_data)\n",
        "train_data['Tokens'].head()"
      ],
      "metadata": {
        "id": "WxcrjJdutYNM",
        "outputId": "2b61b37e-7022-4da2-f27a-3b300bc485be",
        "colab": {
          "base_uri": "https://localhost:8080/"
        }
      },
      "execution_count": 13,
      "outputs": [
        {
          "output_type": "execute_result",
          "data": {
            "text/plain": [
              "0    [, menyrbie, , phil_gahan, , chrisitv, , , tco...\n",
              "1    [advice, talk, to, your, neighbours, family, t...\n",
              "2    [coronavirus, australia, , woolworths, to, giv...\n",
              "3    [my, food, stock, is, not, the, only, one, whi...\n",
              "4    [me, , ready, to, go, at, supermarket, during,...\n",
              "Name: Tokens, dtype: object"
            ]
          },
          "metadata": {},
          "execution_count": 13
        }
      ]
    },
    {
      "cell_type": "markdown",
      "source": [
        "## e)"
      ],
      "metadata": {
        "id": "6J18_NrxIiDH"
      }
    },
    {
      "cell_type": "code",
      "source": [
        "def stemming_tokens(data):\n",
        "    ### Stemming our dataset using PorterStemmer\n",
        "    stemmer = PorterStemmer()\n",
        "\n",
        "    stemmed_tokens = []\n",
        "    for row in data['Tokens']:\n",
        "      stemmed_tokens.append([stemmer.stem(t) for t in row])\n",
        "\n",
        "    data['stemmed_tokens'] = stemmed_tokens"
      ],
      "metadata": {
        "id": "WQj0e2CBK5TP"
      },
      "execution_count": 14,
      "outputs": []
    },
    {
      "cell_type": "code",
      "source": [
        "stemming_tokens(train_data)\n",
        "train_data['stemmed_tokens'].head()"
      ],
      "metadata": {
        "id": "4MiS4d5UtZjD",
        "outputId": "4d6fb3ce-2a39-450d-fa85-654dd19a6213",
        "colab": {
          "base_uri": "https://localhost:8080/"
        }
      },
      "execution_count": 15,
      "outputs": [
        {
          "output_type": "execute_result",
          "data": {
            "text/plain": [
              "0    [, menyrbi, , phil_gahan, , chrisitv, , , tcoi...\n",
              "1    [advic, talk, to, your, neighbour, famili, to,...\n",
              "2    [coronaviru, australia, , woolworth, to, give,...\n",
              "3    [my, food, stock, is, not, the, onli, one, whi...\n",
              "4    [me, , readi, to, go, at, supermarket, dure, t...\n",
              "Name: stemmed_tokens, dtype: object"
            ]
          },
          "metadata": {},
          "execution_count": 15
        }
      ]
    },
    {
      "cell_type": "markdown",
      "source": [
        "## f)"
      ],
      "metadata": {
        "id": "Gu3KjZjPIj7J"
      }
    },
    {
      "cell_type": "code",
      "source": [
        "def remove_stopwords(data, col):\n",
        "    sw = stopwords.words('english')[:100]\n",
        "    sw.extend(['amp'])\n",
        "    tokens_no_sw = []\n",
        "    # For the tokens of each row, remove all occurrences of stopwords\n",
        "    for row in data[col]:\n",
        "        tokens_no_sw.append([w for w in row if w not in sw])\n",
        "    # Replace our tokens with the stopwords-removed version\n",
        "    data[col] = tokens_no_sw"
      ],
      "metadata": {
        "id": "9CbMFoGFIlL1"
      },
      "execution_count": 16,
      "outputs": []
    },
    {
      "cell_type": "code",
      "source": [
        "remove_stopwords(train_data, 'stemmed_tokens')\n",
        "train_data['Tokens'].head()"
      ],
      "metadata": {
        "id": "PhPjg6fztbDM",
        "outputId": "e4870204-be40-4b2b-ba90-67a1a8283b4c",
        "colab": {
          "base_uri": "https://localhost:8080/"
        }
      },
      "execution_count": 17,
      "outputs": [
        {
          "output_type": "execute_result",
          "data": {
            "text/plain": [
              "0    [, menyrbie, , phil_gahan, , chrisitv, , , tco...\n",
              "1    [advice, talk, to, your, neighbours, family, t...\n",
              "2    [coronavirus, australia, , woolworths, to, giv...\n",
              "3    [my, food, stock, is, not, the, only, one, whi...\n",
              "4    [me, , ready, to, go, at, supermarket, during,...\n",
              "Name: Tokens, dtype: object"
            ]
          },
          "metadata": {},
          "execution_count": 17
        }
      ]
    },
    {
      "cell_type": "code",
      "source": [
        "# Remove empty strings\n",
        "def remove_empty_strings(data, col):\n",
        "    data[col] = [[x for x in lst if x != ''] for lst in data[col]]"
      ],
      "metadata": {
        "id": "LkT6uH-tTz7J"
      },
      "execution_count": 18,
      "outputs": []
    },
    {
      "cell_type": "code",
      "source": [
        "remove_empty_strings(train_data, 'stemmed_tokens')"
      ],
      "metadata": {
        "id": "vnAbXLTTUk4j"
      },
      "execution_count": 19,
      "outputs": []
    },
    {
      "cell_type": "markdown",
      "source": [
        "## g)"
      ],
      "metadata": {
        "id": "XGXU1SuPLagm"
      }
    },
    {
      "cell_type": "code",
      "source": [
        "def override_fcn(doc):\n",
        "  # We expect a list of tokens as input\n",
        "  return doc\n",
        "\n",
        "# Count Vectorizer for training data\n",
        "count_vec_train = CountVectorizer(\n",
        "    analyzer='word',\n",
        "    tokenizer= override_fcn,\n",
        "    preprocessor= override_fcn,\n",
        "    token_pattern= None,\n",
        "    # max_features= 2000\n",
        "    )"
      ],
      "metadata": {
        "id": "qWsGby1_0Rhl"
      },
      "execution_count": 20,
      "outputs": []
    },
    {
      "cell_type": "code",
      "source": [
        "def split_tokens_and_label(data, col):\n",
        "    return data[col].to_numpy(), data['Sentiment'].to_numpy()\n",
        "\n",
        "def convert_to_vector_fit(X):\n",
        "    # Remember this output is a Scipy Sparse Array\n",
        "    counts = count_vec_train.fit_transform(X)\n",
        "    # print(counts.toarray())\n",
        "\n",
        "    # # Print this mapping as dictionary\n",
        "    # print(count_vec_train.vocabulary_)\n",
        "\n",
        "    # Print the length of the vocabulary\n",
        "    print(f'The length of the vocabulary is {len(count_vec_train.vocabulary_)}')\n",
        "    return counts\n",
        "\n",
        "def convert_to_vector_transform(X):\n",
        "    # Remember this output is a Scipy Sparse Array\n",
        "    counts = count_vec_train.transform(X)\n",
        "    # print(counts.toarray())\n",
        "\n",
        "    # # Print this mapping as dictionary\n",
        "    # print(count_vec_train.vocabulary_)\n",
        "\n",
        "    # Print the length of the vocabulary\n",
        "    print(f'The length of the vocabulary is {len(count_vec_train.vocabulary_)}')\n",
        "    return counts"
      ],
      "metadata": {
        "id": "VZxgHg0cUjH9"
      },
      "execution_count": 21,
      "outputs": []
    },
    {
      "cell_type": "code",
      "source": [
        "X_train, y_train = split_tokens_and_label(train_data, 'stemmed_tokens')\n",
        "counts = convert_to_vector_fit(X_train)\n",
        "X_train = counts"
      ],
      "metadata": {
        "id": "6XFQvONltcdd",
        "outputId": "8f229596-518f-49ca-c82a-3ed5c07caf40",
        "colab": {
          "base_uri": "https://localhost:8080/"
        }
      },
      "execution_count": 22,
      "outputs": [
        {
          "output_type": "stream",
          "name": "stdout",
          "text": [
            "The length of the vocabulary is 74220\n"
          ]
        }
      ]
    },
    {
      "cell_type": "markdown",
      "source": [
        "## h) `train_data`\n"
      ],
      "metadata": {
        "id": "Jzp_9vc7Lb9T"
      }
    },
    {
      "cell_type": "code",
      "source": [
        "def fit_naive_bayes_model(X_data, y_data):\n",
        "    nb = MultinomialNB()\n",
        "    # Fit model to the data\n",
        "    nb.fit(X_data, y_data)\n",
        "    return nb"
      ],
      "metadata": {
        "id": "_JtAWJRfLdks"
      },
      "execution_count": 23,
      "outputs": []
    },
    {
      "cell_type": "code",
      "source": [
        "nb_train = fit_naive_bayes_model(X_train, y_train)\n",
        "y_train_preds = nb_train.predict(X_train)\n",
        "print(f'Test accuracy with simple Naive Bayes on training data:', accuracy_score(y_train, y_train_preds))\n",
        "# predict(X_train, y_train, 'training')"
      ],
      "metadata": {
        "id": "zi-_JQqFtf1a",
        "outputId": "f798ce31-3855-4252-8015-fdd9b4aa17ee",
        "colab": {
          "base_uri": "https://localhost:8080/"
        }
      },
      "execution_count": 24,
      "outputs": [
        {
          "output_type": "stream",
          "name": "stdout",
          "text": [
            "Test accuracy with simple Naive Bayes on training data: 0.8195183592136278\n"
          ]
        }
      ]
    },
    {
      "cell_type": "code",
      "source": [
        "# Report the 5 most probable words in each class, along with their counts.\n",
        "num_top_words = 5\n",
        "# Get the probabilities of each word given each class\n",
        "word_probs = nb_train.feature_log_prob_  # Log probabilities of features given a class\n",
        "\n",
        "# Reverse the mapping from feature indices to words\n",
        "feature_names = count_vec_train.get_feature_names_out()\n",
        "\n",
        "# Get the top 5 most probable words for each class\n",
        "sentiments = ['Negative', 'Neutral', 'Positive']\n",
        "num_top_words = 5\n",
        "for i, class_probs in enumerate(word_probs):\n",
        "    print(f\"Class {i} ({sentiments[i]}):\")\n",
        "    top_word_indices = class_probs.argsort()[-num_top_words:][::-1]  # Indices of top words\n",
        "    for idx in top_word_indices:\n",
        "        word = feature_names[idx]\n",
        "        count = count_vec_train.vocabulary_[word]  # Convert log probability back to count\n",
        "        print(f\"   {word}: {count}\")"
      ],
      "metadata": {
        "id": "BD2fFFNz4_HP",
        "outputId": "32314ec4-73cd-4a13-b4cd-6677f20466b0",
        "colab": {
          "base_uri": "https://localhost:8080/"
        }
      },
      "execution_count": 25,
      "outputs": [
        {
          "output_type": "stream",
          "name": "stdout",
          "text": [
            "Class 0 (Negative):\n",
            "   coronaviru: 11218\n",
            "   covid19: 11685\n",
            "   price: 35083\n",
            "   food: 17725\n",
            "   thi: 67859\n",
            "Class 1 (Neutral):\n",
            "   coronaviru: 11218\n",
            "   covid19: 11685\n",
            "   store: 42146\n",
            "   supermarket: 42620\n",
            "   price: 35083\n",
            "Class 2 (Positive):\n",
            "   coronaviru: 11218\n",
            "   covid19: 11685\n",
            "   store: 42146\n",
            "   thi: 67859\n",
            "   price: 35083\n"
          ]
        }
      ]
    },
    {
      "cell_type": "markdown",
      "source": [
        "## h) `test_data`"
      ],
      "metadata": {
        "id": "-t08tf52SKkT"
      }
    },
    {
      "cell_type": "code",
      "source": [
        "# Read the test data from CSV file\n",
        "test_data = pd.read_csv('covid-tweets-test.csv')\n",
        "test_data.columns = ['Label', 'Message', 'Sentiment']\n",
        "test_data[\"Sentiment\"] = test_data[\"Sentiment\"].astype(str)\n",
        "# Test our model by doing the same analysis to test_data\n",
        "filter_missing_values(test_data)\n",
        "tokenize(test_data)\n",
        "remove_url(test_data)\n",
        "remove_punctuation(test_data)\n",
        "convert_to_lowercase(test_data)\n",
        "stemming_tokens(test_data)\n",
        "remove_stopwords(test_data, 'stemmed_tokens')\n",
        "remove_empty_strings(test_data, 'stemmed_tokens')\n",
        "X_test, y_test = split_tokens_and_label(test_data, 'stemmed_tokens')\n",
        "X_test = convert_to_vector_transform(X_test)\n",
        "# predict(X_test, y_test, 'test')\n",
        "# nb_test = fit_naive_bayes_model(X_test, y_test)\n",
        "y_test_preds = nb_train.predict(X_test)\n",
        "print(f'Test accuracy with simple Naive Bayes on test data:', accuracy_score(y_test, y_test_preds))"
      ],
      "metadata": {
        "id": "ylgrKsxouCyr",
        "outputId": "9486fec8-4bd1-448b-8828-d4e02c15d7e4",
        "colab": {
          "base_uri": "https://localhost:8080/"
        }
      },
      "execution_count": 26,
      "outputs": [
        {
          "output_type": "stream",
          "name": "stdout",
          "text": [
            "The length of the vocabulary is 74220\n",
            "Test accuracy with simple Naive Bayes on test data: 0.669826224328594\n"
          ]
        }
      ]
    },
    {
      "cell_type": "markdown",
      "source": [
        "# j)"
      ],
      "metadata": {
        "id": "5eLk289CRFMN"
      }
    },
    {
      "cell_type": "code",
      "source": [
        "def tfidf_transformer(X):\n",
        "    tfidf = TfidfTransformer()\n",
        "\n",
        "    tfs = tfidf.fit_transform(X);\n",
        "\n",
        "    return tfs.toarray()"
      ],
      "metadata": {
        "id": "yjObhdWPRM9S"
      },
      "execution_count": 27,
      "outputs": []
    },
    {
      "cell_type": "code",
      "source": [
        "### Build the model based on train data ###\n",
        "X_train = tfidf_transformer(counts)\n",
        "\n",
        "nb_train = fit_naive_bayes_model(X_train, y_train)\n",
        "y_train_preds = nb_train.predict(X_train)\n",
        "print(f'Test accuracy with simple Naive Bayes on training data:', accuracy_score(y_train, y_train_preds))"
      ],
      "metadata": {
        "id": "xMBOfeHkRV7q",
        "outputId": "980d9c87-1ece-47d2-de3e-5e53d726356a",
        "colab": {
          "base_uri": "https://localhost:8080/"
        }
      },
      "execution_count": 28,
      "outputs": [
        {
          "output_type": "stream",
          "name": "stdout",
          "text": [
            "Test accuracy with simple Naive Bayes on training data: 0.7255473743043911\n"
          ]
        }
      ]
    },
    {
      "cell_type": "code",
      "source": [
        "### Train data ###\n",
        "y_test_preds = nb_train.predict(X_test)\n",
        "print(f'Test accuracy with simple Naive Bayes on test data:', accuracy_score(y_test, y_test_preds))"
      ],
      "metadata": {
        "id": "og7e_6BqUAdi",
        "outputId": "0ffd466e-5a26-4a59-cd7a-230ca630615e",
        "colab": {
          "base_uri": "https://localhost:8080/"
        }
      },
      "execution_count": 29,
      "outputs": [
        {
          "output_type": "stream",
          "name": "stdout",
          "text": [
            "Test accuracy with simple Naive Bayes on test data: 0.6374407582938388\n"
          ]
        }
      ]
    },
    {
      "cell_type": "markdown",
      "source": [
        "# k)"
      ],
      "metadata": {
        "id": "cmw5PAb9UMk6"
      }
    },
    {
      "cell_type": "code",
      "source": [
        "def lemmatize_tokens(data):\n",
        "    lemmatizer = WordNetLemmatizer()\n",
        "    lemmatized_tokens = []\n",
        "    for row in data['Tokens']:\n",
        "        lemmatized_tokens.append([lemmatizer.lemmatize(t) for t in row])\n",
        "\n",
        "    data['lemmatized_tokens'] = lemmatized_tokens"
      ],
      "metadata": {
        "id": "bsK6kA8IUOPP"
      },
      "execution_count": 30,
      "outputs": []
    },
    {
      "cell_type": "code",
      "source": [
        "### Train data ###\n",
        "lemmatize_tokens(train_data)\n",
        "remove_stopwords(train_data, 'lemmatized_tokens')\n",
        "remove_empty_strings(train_data, 'lemmatized_tokens')\n",
        "X_train, y_train = split_tokens_and_label(train_data, 'lemmatized_tokens')\n",
        "counts = convert_to_vector_fit(X_train)\n",
        "X_train = counts\n",
        "\n",
        "nb_train = fit_naive_bayes_model(X_train, y_train)\n",
        "y_train_preds = nb_train.predict(X_train)\n",
        "print(f'Test accuracy with simple Naive Bayes on training data:', accuracy_score(y_train, y_train_preds))"
      ],
      "metadata": {
        "id": "wXYPRfD3UQii",
        "outputId": "985fdaf1-f48a-406c-987a-dbf8118e65cf",
        "colab": {
          "base_uri": "https://localhost:8080/"
        }
      },
      "execution_count": 31,
      "outputs": [
        {
          "output_type": "stream",
          "name": "stdout",
          "text": [
            "The length of the vocabulary is 80977\n",
            "Test accuracy with simple Naive Bayes on training data: 0.833539889674613\n"
          ]
        }
      ]
    },
    {
      "cell_type": "code",
      "source": [
        "### Test data ###\n",
        "lemmatize_tokens(test_data)\n",
        "remove_stopwords(test_data, 'lemmatized_tokens')\n",
        "remove_empty_strings(test_data, 'lemmatized_tokens')\n",
        "X_test, y_test = split_tokens_and_label(test_data, 'lemmatized_tokens')\n",
        "X_test = convert_to_vector_transform(X_test)\n",
        "\n",
        "y_test_preds = nb_train.predict(X_test)\n",
        "print(f'Test accuracy with simple Naive Bayes on test data:', accuracy_score(y_test, y_test_preds))"
      ],
      "metadata": {
        "id": "HLLKmI14VXbk",
        "outputId": "1d7d7c32-9e0a-425a-80a6-9bd423810d6d",
        "colab": {
          "base_uri": "https://localhost:8080/"
        }
      },
      "execution_count": 32,
      "outputs": [
        {
          "output_type": "stream",
          "name": "stdout",
          "text": [
            "The length of the vocabulary is 80977\n",
            "Test accuracy with simple Naive Bayes on test data: 0.6721958925750395\n"
          ]
        }
      ]
    },
    {
      "cell_type": "code",
      "source": [
        "# Report the 5 most probable words in each class, along with their counts.\n",
        "num_top_words = 5\n",
        "# Get the probabilities of each word given each class\n",
        "word_probs = nb_train.feature_log_prob_  # Log probabilities of features given a class\n",
        "\n",
        "# Reverse the mapping from feature indices to words\n",
        "feature_names = count_vec_train.get_feature_names_out()\n",
        "\n",
        "# Get the top 5 most probable words for each class\n",
        "sentiments = ['Negative', 'Neutral', 'Positive']\n",
        "num_top_words = 5\n",
        "for i, class_probs in enumerate(word_probs):\n",
        "    print(f\"Class {i} ({sentiments[i]}):\")\n",
        "    top_word_indices = class_probs.argsort()[-num_top_words:][::-1]  # Indices of top words\n",
        "    for idx in top_word_indices:\n",
        "        word = feature_names[idx]\n",
        "        count = count_vec_train.vocabulary_[word]  # Convert log probability back to count\n",
        "        print(f\"   {word}: {count}\")"
      ],
      "metadata": {
        "colab": {
          "base_uri": "https://localhost:8080/"
        },
        "id": "4ocPwb1l3cWR",
        "outputId": "dd00db81-80bc-4285-9ab1-7c4ef1ae6503"
      },
      "execution_count": 33,
      "outputs": [
        {
          "output_type": "stream",
          "name": "stdout",
          "text": [
            "Class 0 (Negative):\n",
            "   coronavirus: 12544\n",
            "   covid19: 13064\n",
            "   price: 39669\n",
            "   food: 20289\n",
            "   supermarket: 48601\n",
            "Class 1 (Neutral):\n",
            "   coronavirus: 12544\n",
            "   covid19: 13064\n",
            "   store: 48022\n",
            "   supermarket: 48601\n",
            "   price: 39669\n",
            "Class 2 (Positive):\n",
            "   coronavirus: 12544\n",
            "   covid19: 13064\n",
            "   store: 48022\n",
            "   supermarket: 48601\n",
            "   price: 39669\n"
          ]
        }
      ]
    },
    {
      "cell_type": "markdown",
      "source": [
        "# Part II"
      ],
      "metadata": {
        "id": "WNdrjeuYbgIY"
      }
    },
    {
      "cell_type": "markdown",
      "source": [
        "## Preparing Data"
      ],
      "metadata": {
        "id": "vRn-s48B5Om_"
      }
    },
    {
      "cell_type": "code",
      "source": [
        "!wget \"https://raw.githubusercontent.com/JanisJ2/jsc270-a4/main/tweets.csv\""
      ],
      "metadata": {
        "colab": {
          "base_uri": "https://localhost:8080/"
        },
        "id": "YJTT0hEGZupY",
        "outputId": "39312ca7-ed52-4544-f4aa-551bfc66efc6"
      },
      "execution_count": 34,
      "outputs": [
        {
          "output_type": "stream",
          "name": "stdout",
          "text": [
            "--2024-03-31 01:39:03--  https://raw.githubusercontent.com/JanisJ2/jsc270-a4/main/tweets.csv\n",
            "Resolving raw.githubusercontent.com (raw.githubusercontent.com)... 185.199.108.133, 185.199.109.133, 185.199.110.133, ...\n",
            "Connecting to raw.githubusercontent.com (raw.githubusercontent.com)|185.199.108.133|:443... connected.\n",
            "HTTP request sent, awaiting response... 200 OK\n",
            "Length: 1912231 (1.8M) [text/plain]\n",
            "Saving to: ‘tweets.csv’\n",
            "\n",
            "tweets.csv          100%[===================>]   1.82M  --.-KB/s    in 0.01s   \n",
            "\n",
            "2024-03-31 01:39:03 (162 MB/s) - ‘tweets.csv’ saved [1912231/1912231]\n",
            "\n"
          ]
        }
      ]
    },
    {
      "cell_type": "code",
      "source": [
        "# Read the data form CSV file\n",
        "df = pd.read_csv('tweets.csv', index_col = 0)"
      ],
      "metadata": {
        "id": "7xJASLqZbHyQ"
      },
      "execution_count": 35,
      "outputs": []
    },
    {
      "cell_type": "markdown",
      "source": [
        "### Peek into the dataset"
      ],
      "metadata": {
        "id": "wSzD9Fj7OaBp"
      }
    },
    {
      "cell_type": "code",
      "source": [
        "df.head()"
      ],
      "metadata": {
        "id": "8zKVtmFubaqy",
        "outputId": "1064b0e8-0b6d-4262-9f33-142bddbf0a1b",
        "colab": {
          "base_uri": "https://localhost:8080/",
          "height": 504
        }
      },
      "execution_count": 36,
      "outputs": [
        {
          "output_type": "execute_result",
          "data": {
            "text/plain": [
              "                                          tweet_text  tweet_favourite_count  \\\n",
              "0  The priority for the city should be on providi...                      0   \n",
              "1  Like it or not, this kind of clip is the sort ...                      0   \n",
              "2  On a scale of moderately conservative (1) to r...                      0   \n",
              "3  Keep up with the latest politics with The Dail...                      0   \n",
              "4  So much resemblance to NAZI Germany leading up...                      0   \n",
              "\n",
              "            tweet_created_at  tweet_retweet_count  user_statuses_count  \\\n",
              "0  2023-03-27 21:01:36+00:00                    0                10194   \n",
              "1  2023-03-27 21:01:26+00:00                    0                 2843   \n",
              "2  2023-03-27 21:01:16+00:00                    0                13608   \n",
              "3  2023-03-27 21:01:06+00:00                    0                 3610   \n",
              "4  2023-03-27 21:01:05+00:00                    0               108226   \n",
              "\n",
              "  user_screen_name  user_followers_count  \n",
              "0   EmergencyAgent                  1145  \n",
              "1         EDenhoff                  4630  \n",
              "2     dzoolander85                 11234  \n",
              "3  VassKapelosShow                  4901  \n",
              "4     marshiehilgs                   515  "
            ],
            "text/html": [
              "\n",
              "  <div id=\"df-eb44b941-4580-4663-beab-df6a4771409a\" class=\"colab-df-container\">\n",
              "    <div>\n",
              "<style scoped>\n",
              "    .dataframe tbody tr th:only-of-type {\n",
              "        vertical-align: middle;\n",
              "    }\n",
              "\n",
              "    .dataframe tbody tr th {\n",
              "        vertical-align: top;\n",
              "    }\n",
              "\n",
              "    .dataframe thead th {\n",
              "        text-align: right;\n",
              "    }\n",
              "</style>\n",
              "<table border=\"1\" class=\"dataframe\">\n",
              "  <thead>\n",
              "    <tr style=\"text-align: right;\">\n",
              "      <th></th>\n",
              "      <th>tweet_text</th>\n",
              "      <th>tweet_favourite_count</th>\n",
              "      <th>tweet_created_at</th>\n",
              "      <th>tweet_retweet_count</th>\n",
              "      <th>user_statuses_count</th>\n",
              "      <th>user_screen_name</th>\n",
              "      <th>user_followers_count</th>\n",
              "    </tr>\n",
              "  </thead>\n",
              "  <tbody>\n",
              "    <tr>\n",
              "      <th>0</th>\n",
              "      <td>The priority for the city should be on providi...</td>\n",
              "      <td>0</td>\n",
              "      <td>2023-03-27 21:01:36+00:00</td>\n",
              "      <td>0</td>\n",
              "      <td>10194</td>\n",
              "      <td>EmergencyAgent</td>\n",
              "      <td>1145</td>\n",
              "    </tr>\n",
              "    <tr>\n",
              "      <th>1</th>\n",
              "      <td>Like it or not, this kind of clip is the sort ...</td>\n",
              "      <td>0</td>\n",
              "      <td>2023-03-27 21:01:26+00:00</td>\n",
              "      <td>0</td>\n",
              "      <td>2843</td>\n",
              "      <td>EDenhoff</td>\n",
              "      <td>4630</td>\n",
              "    </tr>\n",
              "    <tr>\n",
              "      <th>2</th>\n",
              "      <td>On a scale of moderately conservative (1) to r...</td>\n",
              "      <td>0</td>\n",
              "      <td>2023-03-27 21:01:16+00:00</td>\n",
              "      <td>0</td>\n",
              "      <td>13608</td>\n",
              "      <td>dzoolander85</td>\n",
              "      <td>11234</td>\n",
              "    </tr>\n",
              "    <tr>\n",
              "      <th>3</th>\n",
              "      <td>Keep up with the latest politics with The Dail...</td>\n",
              "      <td>0</td>\n",
              "      <td>2023-03-27 21:01:06+00:00</td>\n",
              "      <td>0</td>\n",
              "      <td>3610</td>\n",
              "      <td>VassKapelosShow</td>\n",
              "      <td>4901</td>\n",
              "    </tr>\n",
              "    <tr>\n",
              "      <th>4</th>\n",
              "      <td>So much resemblance to NAZI Germany leading up...</td>\n",
              "      <td>0</td>\n",
              "      <td>2023-03-27 21:01:05+00:00</td>\n",
              "      <td>0</td>\n",
              "      <td>108226</td>\n",
              "      <td>marshiehilgs</td>\n",
              "      <td>515</td>\n",
              "    </tr>\n",
              "  </tbody>\n",
              "</table>\n",
              "</div>\n",
              "    <div class=\"colab-df-buttons\">\n",
              "\n",
              "  <div class=\"colab-df-container\">\n",
              "    <button class=\"colab-df-convert\" onclick=\"convertToInteractive('df-eb44b941-4580-4663-beab-df6a4771409a')\"\n",
              "            title=\"Convert this dataframe to an interactive table.\"\n",
              "            style=\"display:none;\">\n",
              "\n",
              "  <svg xmlns=\"http://www.w3.org/2000/svg\" height=\"24px\" viewBox=\"0 -960 960 960\">\n",
              "    <path d=\"M120-120v-720h720v720H120Zm60-500h600v-160H180v160Zm220 220h160v-160H400v160Zm0 220h160v-160H400v160ZM180-400h160v-160H180v160Zm440 0h160v-160H620v160ZM180-180h160v-160H180v160Zm440 0h160v-160H620v160Z\"/>\n",
              "  </svg>\n",
              "    </button>\n",
              "\n",
              "  <style>\n",
              "    .colab-df-container {\n",
              "      display:flex;\n",
              "      gap: 12px;\n",
              "    }\n",
              "\n",
              "    .colab-df-convert {\n",
              "      background-color: #E8F0FE;\n",
              "      border: none;\n",
              "      border-radius: 50%;\n",
              "      cursor: pointer;\n",
              "      display: none;\n",
              "      fill: #1967D2;\n",
              "      height: 32px;\n",
              "      padding: 0 0 0 0;\n",
              "      width: 32px;\n",
              "    }\n",
              "\n",
              "    .colab-df-convert:hover {\n",
              "      background-color: #E2EBFA;\n",
              "      box-shadow: 0px 1px 2px rgba(60, 64, 67, 0.3), 0px 1px 3px 1px rgba(60, 64, 67, 0.15);\n",
              "      fill: #174EA6;\n",
              "    }\n",
              "\n",
              "    .colab-df-buttons div {\n",
              "      margin-bottom: 4px;\n",
              "    }\n",
              "\n",
              "    [theme=dark] .colab-df-convert {\n",
              "      background-color: #3B4455;\n",
              "      fill: #D2E3FC;\n",
              "    }\n",
              "\n",
              "    [theme=dark] .colab-df-convert:hover {\n",
              "      background-color: #434B5C;\n",
              "      box-shadow: 0px 1px 3px 1px rgba(0, 0, 0, 0.15);\n",
              "      filter: drop-shadow(0px 1px 2px rgba(0, 0, 0, 0.3));\n",
              "      fill: #FFFFFF;\n",
              "    }\n",
              "  </style>\n",
              "\n",
              "    <script>\n",
              "      const buttonEl =\n",
              "        document.querySelector('#df-eb44b941-4580-4663-beab-df6a4771409a button.colab-df-convert');\n",
              "      buttonEl.style.display =\n",
              "        google.colab.kernel.accessAllowed ? 'block' : 'none';\n",
              "\n",
              "      async function convertToInteractive(key) {\n",
              "        const element = document.querySelector('#df-eb44b941-4580-4663-beab-df6a4771409a');\n",
              "        const dataTable =\n",
              "          await google.colab.kernel.invokeFunction('convertToInteractive',\n",
              "                                                    [key], {});\n",
              "        if (!dataTable) return;\n",
              "\n",
              "        const docLinkHtml = 'Like what you see? Visit the ' +\n",
              "          '<a target=\"_blank\" href=https://colab.research.google.com/notebooks/data_table.ipynb>data table notebook</a>'\n",
              "          + ' to learn more about interactive tables.';\n",
              "        element.innerHTML = '';\n",
              "        dataTable['output_type'] = 'display_data';\n",
              "        await google.colab.output.renderOutput(dataTable, element);\n",
              "        const docLink = document.createElement('div');\n",
              "        docLink.innerHTML = docLinkHtml;\n",
              "        element.appendChild(docLink);\n",
              "      }\n",
              "    </script>\n",
              "  </div>\n",
              "\n",
              "\n",
              "<div id=\"df-c8c85d44-bb89-44d8-aa2b-60080a036ebf\">\n",
              "  <button class=\"colab-df-quickchart\" onclick=\"quickchart('df-c8c85d44-bb89-44d8-aa2b-60080a036ebf')\"\n",
              "            title=\"Suggest charts\"\n",
              "            style=\"display:none;\">\n",
              "\n",
              "<svg xmlns=\"http://www.w3.org/2000/svg\" height=\"24px\"viewBox=\"0 0 24 24\"\n",
              "     width=\"24px\">\n",
              "    <g>\n",
              "        <path d=\"M19 3H5c-1.1 0-2 .9-2 2v14c0 1.1.9 2 2 2h14c1.1 0 2-.9 2-2V5c0-1.1-.9-2-2-2zM9 17H7v-7h2v7zm4 0h-2V7h2v10zm4 0h-2v-4h2v4z\"/>\n",
              "    </g>\n",
              "</svg>\n",
              "  </button>\n",
              "\n",
              "<style>\n",
              "  .colab-df-quickchart {\n",
              "      --bg-color: #E8F0FE;\n",
              "      --fill-color: #1967D2;\n",
              "      --hover-bg-color: #E2EBFA;\n",
              "      --hover-fill-color: #174EA6;\n",
              "      --disabled-fill-color: #AAA;\n",
              "      --disabled-bg-color: #DDD;\n",
              "  }\n",
              "\n",
              "  [theme=dark] .colab-df-quickchart {\n",
              "      --bg-color: #3B4455;\n",
              "      --fill-color: #D2E3FC;\n",
              "      --hover-bg-color: #434B5C;\n",
              "      --hover-fill-color: #FFFFFF;\n",
              "      --disabled-bg-color: #3B4455;\n",
              "      --disabled-fill-color: #666;\n",
              "  }\n",
              "\n",
              "  .colab-df-quickchart {\n",
              "    background-color: var(--bg-color);\n",
              "    border: none;\n",
              "    border-radius: 50%;\n",
              "    cursor: pointer;\n",
              "    display: none;\n",
              "    fill: var(--fill-color);\n",
              "    height: 32px;\n",
              "    padding: 0;\n",
              "    width: 32px;\n",
              "  }\n",
              "\n",
              "  .colab-df-quickchart:hover {\n",
              "    background-color: var(--hover-bg-color);\n",
              "    box-shadow: 0 1px 2px rgba(60, 64, 67, 0.3), 0 1px 3px 1px rgba(60, 64, 67, 0.15);\n",
              "    fill: var(--button-hover-fill-color);\n",
              "  }\n",
              "\n",
              "  .colab-df-quickchart-complete:disabled,\n",
              "  .colab-df-quickchart-complete:disabled:hover {\n",
              "    background-color: var(--disabled-bg-color);\n",
              "    fill: var(--disabled-fill-color);\n",
              "    box-shadow: none;\n",
              "  }\n",
              "\n",
              "  .colab-df-spinner {\n",
              "    border: 2px solid var(--fill-color);\n",
              "    border-color: transparent;\n",
              "    border-bottom-color: var(--fill-color);\n",
              "    animation:\n",
              "      spin 1s steps(1) infinite;\n",
              "  }\n",
              "\n",
              "  @keyframes spin {\n",
              "    0% {\n",
              "      border-color: transparent;\n",
              "      border-bottom-color: var(--fill-color);\n",
              "      border-left-color: var(--fill-color);\n",
              "    }\n",
              "    20% {\n",
              "      border-color: transparent;\n",
              "      border-left-color: var(--fill-color);\n",
              "      border-top-color: var(--fill-color);\n",
              "    }\n",
              "    30% {\n",
              "      border-color: transparent;\n",
              "      border-left-color: var(--fill-color);\n",
              "      border-top-color: var(--fill-color);\n",
              "      border-right-color: var(--fill-color);\n",
              "    }\n",
              "    40% {\n",
              "      border-color: transparent;\n",
              "      border-right-color: var(--fill-color);\n",
              "      border-top-color: var(--fill-color);\n",
              "    }\n",
              "    60% {\n",
              "      border-color: transparent;\n",
              "      border-right-color: var(--fill-color);\n",
              "    }\n",
              "    80% {\n",
              "      border-color: transparent;\n",
              "      border-right-color: var(--fill-color);\n",
              "      border-bottom-color: var(--fill-color);\n",
              "    }\n",
              "    90% {\n",
              "      border-color: transparent;\n",
              "      border-bottom-color: var(--fill-color);\n",
              "    }\n",
              "  }\n",
              "</style>\n",
              "\n",
              "  <script>\n",
              "    async function quickchart(key) {\n",
              "      const quickchartButtonEl =\n",
              "        document.querySelector('#' + key + ' button');\n",
              "      quickchartButtonEl.disabled = true;  // To prevent multiple clicks.\n",
              "      quickchartButtonEl.classList.add('colab-df-spinner');\n",
              "      try {\n",
              "        const charts = await google.colab.kernel.invokeFunction(\n",
              "            'suggestCharts', [key], {});\n",
              "      } catch (error) {\n",
              "        console.error('Error during call to suggestCharts:', error);\n",
              "      }\n",
              "      quickchartButtonEl.classList.remove('colab-df-spinner');\n",
              "      quickchartButtonEl.classList.add('colab-df-quickchart-complete');\n",
              "    }\n",
              "    (() => {\n",
              "      let quickchartButtonEl =\n",
              "        document.querySelector('#df-c8c85d44-bb89-44d8-aa2b-60080a036ebf button');\n",
              "      quickchartButtonEl.style.display =\n",
              "        google.colab.kernel.accessAllowed ? 'block' : 'none';\n",
              "    })();\n",
              "  </script>\n",
              "</div>\n",
              "\n",
              "    </div>\n",
              "  </div>\n"
            ],
            "application/vnd.google.colaboratory.intrinsic+json": {
              "type": "dataframe",
              "variable_name": "df",
              "summary": "{\n  \"name\": \"df\",\n  \"rows\": 10000,\n  \"fields\": [\n    {\n      \"column\": \"tweet_text\",\n      \"properties\": {\n        \"dtype\": \"string\",\n        \"num_unique_values\": 9998,\n        \"samples\": [\n          \"Says a lot about the media\\u2019s hypocrisy and hate for conservatives when they think that video is more damaging than\\u2026 https://t.co/wVijB6o5Mm\",\n          \"@brianlilley @POTUS shamed the @CPC_HQ didn\\u2019t he !!!\\ud83e\\udd21\\ud83e\\udd21\\ud83e\\udd21\\ud83e\\udd21\\ud83e\\udd21\\ud83e\\udd21\\ud83e\\udd21\\ud83e\\udd21\\ud83e\\udd21#cdnpoli\",\n          \"Imagine being this overly partisan and not being able to just chill and acknowledge others\\u2019 cool shit without being\\u2026 https://t.co/oV2o27nmQi\"\n        ],\n        \"semantic_type\": \"\",\n        \"description\": \"\"\n      }\n    },\n    {\n      \"column\": \"tweet_favourite_count\",\n      \"properties\": {\n        \"dtype\": \"number\",\n        \"std\": 163,\n        \"min\": 0,\n        \"max\": 4889,\n        \"num_unique_values\": 390,\n        \"samples\": [\n          13,\n          40,\n          21\n        ],\n        \"semantic_type\": \"\",\n        \"description\": \"\"\n      }\n    },\n    {\n      \"column\": \"tweet_created_at\",\n      \"properties\": {\n        \"dtype\": \"object\",\n        \"num_unique_values\": 9745,\n        \"samples\": [\n          \"2023-03-24 20:39:49+00:00\",\n          \"2023-03-27 13:58:28+00:00\",\n          \"2023-03-23 22:28:49+00:00\"\n        ],\n        \"semantic_type\": \"\",\n        \"description\": \"\"\n      }\n    },\n    {\n      \"column\": \"tweet_retweet_count\",\n      \"properties\": {\n        \"dtype\": \"number\",\n        \"std\": 46,\n        \"min\": 0,\n        \"max\": 1562,\n        \"num_unique_values\": 221,\n        \"samples\": [\n          44,\n          61,\n          90\n        ],\n        \"semantic_type\": \"\",\n        \"description\": \"\"\n      }\n    },\n    {\n      \"column\": \"user_statuses_count\",\n      \"properties\": {\n        \"dtype\": \"number\",\n        \"std\": 136439,\n        \"min\": 1,\n        \"max\": 1041619,\n        \"num_unique_values\": 2737,\n        \"samples\": [\n          22216,\n          4501,\n          105432\n        ],\n        \"semantic_type\": \"\",\n        \"description\": \"\"\n      }\n    },\n    {\n      \"column\": \"user_screen_name\",\n      \"properties\": {\n        \"dtype\": \"category\",\n        \"num_unique_values\": 2431,\n        \"samples\": [\n          \"barridoc\",\n          \"jamferg57\",\n          \"SummaStrategies\"\n        ],\n        \"semantic_type\": \"\",\n        \"description\": \"\"\n      }\n    },\n    {\n      \"column\": \"user_followers_count\",\n      \"properties\": {\n        \"dtype\": \"number\",\n        \"std\": 27802,\n        \"min\": 0,\n        \"max\": 755203,\n        \"num_unique_values\": 1887,\n        \"samples\": [\n          1684,\n          1264,\n          36174\n        ],\n        \"semantic_type\": \"\",\n        \"description\": \"\"\n      }\n    }\n  ]\n}"
            }
          },
          "metadata": {},
          "execution_count": 36
        }
      ]
    },
    {
      "cell_type": "code",
      "source": [
        "df.info()"
      ],
      "metadata": {
        "id": "zZ7MLGYGbn2H",
        "outputId": "0cd2a405-6db8-4289-c669-9e404d7c1cf9",
        "colab": {
          "base_uri": "https://localhost:8080/"
        }
      },
      "execution_count": 37,
      "outputs": [
        {
          "output_type": "stream",
          "name": "stdout",
          "text": [
            "<class 'pandas.core.frame.DataFrame'>\n",
            "Int64Index: 10000 entries, 0 to 9999\n",
            "Data columns (total 7 columns):\n",
            " #   Column                 Non-Null Count  Dtype \n",
            "---  ------                 --------------  ----- \n",
            " 0   tweet_text             10000 non-null  object\n",
            " 1   tweet_favourite_count  10000 non-null  int64 \n",
            " 2   tweet_created_at       10000 non-null  object\n",
            " 3   tweet_retweet_count    10000 non-null  int64 \n",
            " 4   user_statuses_count    10000 non-null  int64 \n",
            " 5   user_screen_name       10000 non-null  object\n",
            " 6   user_followers_count   10000 non-null  int64 \n",
            "dtypes: int64(4), object(3)\n",
            "memory usage: 883.0+ KB\n"
          ]
        }
      ]
    },
    {
      "cell_type": "markdown",
      "source": [
        "## Data Cleaning"
      ],
      "metadata": {
        "id": "k6G40l334UOv"
      }
    },
    {
      "cell_type": "code",
      "source": [
        "# Check if there are any negative values in numeric columns\n",
        "has_negative = (df['tweet_favourite_count'] < 0).any() and (df['tweet_retweet_count'] < 0).any() and \\\n",
        " (df['user_statuses_count'] < 0).any() and(df['user_followers_count'] < 0).any()\n",
        "\n",
        "if (has_negative): print(\"There's at least one negative value in the dataset.\")\n",
        "else: print(\"There's no negative value in the dataset.\")"
      ],
      "metadata": {
        "id": "o04hHdb_byP3",
        "outputId": "6b95a450-4931-4c71-e450-a1799bfed49e",
        "colab": {
          "base_uri": "https://localhost:8080/"
        }
      },
      "execution_count": 38,
      "outputs": [
        {
          "output_type": "stream",
          "name": "stdout",
          "text": [
            "There's no negative value in the dataset.\n"
          ]
        }
      ]
    },
    {
      "cell_type": "markdown",
      "source": [
        "## Text Pre-Processing 1"
      ],
      "metadata": {
        "id": "ENf1RZbs4TV_"
      }
    },
    {
      "cell_type": "markdown",
      "source": [
        "1. Tokenize, remove url, punctutation, lowercase\n",
        "2. Remove stop words"
      ],
      "metadata": {
        "id": "wOIpZMN65oOQ"
      }
    },
    {
      "cell_type": "code",
      "source": [
        "# rename the \"tweet_text\" column as \"Messages\"\n",
        "df = df.rename(columns={'tweet_text': 'Message'})\n",
        "\n",
        "# select only the column needed (in this case, we only need 'Messages')\n",
        "df = df[['Message']]"
      ],
      "metadata": {
        "id": "sJLjjICZ9nBd"
      },
      "execution_count": 39,
      "outputs": []
    },
    {
      "cell_type": "code",
      "source": [
        "# tokenize each tweet\n",
        "tokenize(df)\n",
        "\n",
        "# remove url\n",
        "remove_url(df)\n",
        "\n",
        "# remove punctuation in the Tokens\n",
        "remove_punctuation(df)\n",
        "\n",
        "# convert each token to lowercase\n",
        "convert_to_lowercase(df)\n",
        "\n",
        "# remove empty strings\n",
        "remove_empty_strings(df, 'Tokens')\n",
        "\n",
        "df.head()"
      ],
      "metadata": {
        "id": "zJqzKSBC_sp6",
        "outputId": "700223ef-c901-4b31-f624-e95de2e02a6a",
        "colab": {
          "base_uri": "https://localhost:8080/",
          "height": 206
        }
      },
      "execution_count": 40,
      "outputs": [
        {
          "output_type": "execute_result",
          "data": {
            "text/plain": [
              "                                             Message  \\\n",
              "0  The priority for the city should be on providi...   \n",
              "1  Like it or not, this kind of clip is the sort ...   \n",
              "2  On a scale of moderately conservative (1) to r...   \n",
              "3  Keep up with the latest politics with The Dail...   \n",
              "4  So much resemblance to NAZI Germany leading up...   \n",
              "\n",
              "                                              Tokens  \n",
              "0  [the, priority, for, the, city, should, be, on...  \n",
              "1  [like, it, or, not, this, kind, of, clip, is, ...  \n",
              "2  [on, a, scale, of, moderately, conservative, 1...  \n",
              "3  [keep, up, with, the, latest, politics, with, ...  \n",
              "4  [so, much, resemblance, to, nazi, germany, lea...  "
            ],
            "text/html": [
              "\n",
              "  <div id=\"df-533c96e9-c295-4eda-b5d9-2448f316d1d6\" class=\"colab-df-container\">\n",
              "    <div>\n",
              "<style scoped>\n",
              "    .dataframe tbody tr th:only-of-type {\n",
              "        vertical-align: middle;\n",
              "    }\n",
              "\n",
              "    .dataframe tbody tr th {\n",
              "        vertical-align: top;\n",
              "    }\n",
              "\n",
              "    .dataframe thead th {\n",
              "        text-align: right;\n",
              "    }\n",
              "</style>\n",
              "<table border=\"1\" class=\"dataframe\">\n",
              "  <thead>\n",
              "    <tr style=\"text-align: right;\">\n",
              "      <th></th>\n",
              "      <th>Message</th>\n",
              "      <th>Tokens</th>\n",
              "    </tr>\n",
              "  </thead>\n",
              "  <tbody>\n",
              "    <tr>\n",
              "      <th>0</th>\n",
              "      <td>The priority for the city should be on providi...</td>\n",
              "      <td>[the, priority, for, the, city, should, be, on...</td>\n",
              "    </tr>\n",
              "    <tr>\n",
              "      <th>1</th>\n",
              "      <td>Like it or not, this kind of clip is the sort ...</td>\n",
              "      <td>[like, it, or, not, this, kind, of, clip, is, ...</td>\n",
              "    </tr>\n",
              "    <tr>\n",
              "      <th>2</th>\n",
              "      <td>On a scale of moderately conservative (1) to r...</td>\n",
              "      <td>[on, a, scale, of, moderately, conservative, 1...</td>\n",
              "    </tr>\n",
              "    <tr>\n",
              "      <th>3</th>\n",
              "      <td>Keep up with the latest politics with The Dail...</td>\n",
              "      <td>[keep, up, with, the, latest, politics, with, ...</td>\n",
              "    </tr>\n",
              "    <tr>\n",
              "      <th>4</th>\n",
              "      <td>So much resemblance to NAZI Germany leading up...</td>\n",
              "      <td>[so, much, resemblance, to, nazi, germany, lea...</td>\n",
              "    </tr>\n",
              "  </tbody>\n",
              "</table>\n",
              "</div>\n",
              "    <div class=\"colab-df-buttons\">\n",
              "\n",
              "  <div class=\"colab-df-container\">\n",
              "    <button class=\"colab-df-convert\" onclick=\"convertToInteractive('df-533c96e9-c295-4eda-b5d9-2448f316d1d6')\"\n",
              "            title=\"Convert this dataframe to an interactive table.\"\n",
              "            style=\"display:none;\">\n",
              "\n",
              "  <svg xmlns=\"http://www.w3.org/2000/svg\" height=\"24px\" viewBox=\"0 -960 960 960\">\n",
              "    <path d=\"M120-120v-720h720v720H120Zm60-500h600v-160H180v160Zm220 220h160v-160H400v160Zm0 220h160v-160H400v160ZM180-400h160v-160H180v160Zm440 0h160v-160H620v160ZM180-180h160v-160H180v160Zm440 0h160v-160H620v160Z\"/>\n",
              "  </svg>\n",
              "    </button>\n",
              "\n",
              "  <style>\n",
              "    .colab-df-container {\n",
              "      display:flex;\n",
              "      gap: 12px;\n",
              "    }\n",
              "\n",
              "    .colab-df-convert {\n",
              "      background-color: #E8F0FE;\n",
              "      border: none;\n",
              "      border-radius: 50%;\n",
              "      cursor: pointer;\n",
              "      display: none;\n",
              "      fill: #1967D2;\n",
              "      height: 32px;\n",
              "      padding: 0 0 0 0;\n",
              "      width: 32px;\n",
              "    }\n",
              "\n",
              "    .colab-df-convert:hover {\n",
              "      background-color: #E2EBFA;\n",
              "      box-shadow: 0px 1px 2px rgba(60, 64, 67, 0.3), 0px 1px 3px 1px rgba(60, 64, 67, 0.15);\n",
              "      fill: #174EA6;\n",
              "    }\n",
              "\n",
              "    .colab-df-buttons div {\n",
              "      margin-bottom: 4px;\n",
              "    }\n",
              "\n",
              "    [theme=dark] .colab-df-convert {\n",
              "      background-color: #3B4455;\n",
              "      fill: #D2E3FC;\n",
              "    }\n",
              "\n",
              "    [theme=dark] .colab-df-convert:hover {\n",
              "      background-color: #434B5C;\n",
              "      box-shadow: 0px 1px 3px 1px rgba(0, 0, 0, 0.15);\n",
              "      filter: drop-shadow(0px 1px 2px rgba(0, 0, 0, 0.3));\n",
              "      fill: #FFFFFF;\n",
              "    }\n",
              "  </style>\n",
              "\n",
              "    <script>\n",
              "      const buttonEl =\n",
              "        document.querySelector('#df-533c96e9-c295-4eda-b5d9-2448f316d1d6 button.colab-df-convert');\n",
              "      buttonEl.style.display =\n",
              "        google.colab.kernel.accessAllowed ? 'block' : 'none';\n",
              "\n",
              "      async function convertToInteractive(key) {\n",
              "        const element = document.querySelector('#df-533c96e9-c295-4eda-b5d9-2448f316d1d6');\n",
              "        const dataTable =\n",
              "          await google.colab.kernel.invokeFunction('convertToInteractive',\n",
              "                                                    [key], {});\n",
              "        if (!dataTable) return;\n",
              "\n",
              "        const docLinkHtml = 'Like what you see? Visit the ' +\n",
              "          '<a target=\"_blank\" href=https://colab.research.google.com/notebooks/data_table.ipynb>data table notebook</a>'\n",
              "          + ' to learn more about interactive tables.';\n",
              "        element.innerHTML = '';\n",
              "        dataTable['output_type'] = 'display_data';\n",
              "        await google.colab.output.renderOutput(dataTable, element);\n",
              "        const docLink = document.createElement('div');\n",
              "        docLink.innerHTML = docLinkHtml;\n",
              "        element.appendChild(docLink);\n",
              "      }\n",
              "    </script>\n",
              "  </div>\n",
              "\n",
              "\n",
              "<div id=\"df-7ba67e7d-ecfd-4557-9660-f9210fb2a8aa\">\n",
              "  <button class=\"colab-df-quickchart\" onclick=\"quickchart('df-7ba67e7d-ecfd-4557-9660-f9210fb2a8aa')\"\n",
              "            title=\"Suggest charts\"\n",
              "            style=\"display:none;\">\n",
              "\n",
              "<svg xmlns=\"http://www.w3.org/2000/svg\" height=\"24px\"viewBox=\"0 0 24 24\"\n",
              "     width=\"24px\">\n",
              "    <g>\n",
              "        <path d=\"M19 3H5c-1.1 0-2 .9-2 2v14c0 1.1.9 2 2 2h14c1.1 0 2-.9 2-2V5c0-1.1-.9-2-2-2zM9 17H7v-7h2v7zm4 0h-2V7h2v10zm4 0h-2v-4h2v4z\"/>\n",
              "    </g>\n",
              "</svg>\n",
              "  </button>\n",
              "\n",
              "<style>\n",
              "  .colab-df-quickchart {\n",
              "      --bg-color: #E8F0FE;\n",
              "      --fill-color: #1967D2;\n",
              "      --hover-bg-color: #E2EBFA;\n",
              "      --hover-fill-color: #174EA6;\n",
              "      --disabled-fill-color: #AAA;\n",
              "      --disabled-bg-color: #DDD;\n",
              "  }\n",
              "\n",
              "  [theme=dark] .colab-df-quickchart {\n",
              "      --bg-color: #3B4455;\n",
              "      --fill-color: #D2E3FC;\n",
              "      --hover-bg-color: #434B5C;\n",
              "      --hover-fill-color: #FFFFFF;\n",
              "      --disabled-bg-color: #3B4455;\n",
              "      --disabled-fill-color: #666;\n",
              "  }\n",
              "\n",
              "  .colab-df-quickchart {\n",
              "    background-color: var(--bg-color);\n",
              "    border: none;\n",
              "    border-radius: 50%;\n",
              "    cursor: pointer;\n",
              "    display: none;\n",
              "    fill: var(--fill-color);\n",
              "    height: 32px;\n",
              "    padding: 0;\n",
              "    width: 32px;\n",
              "  }\n",
              "\n",
              "  .colab-df-quickchart:hover {\n",
              "    background-color: var(--hover-bg-color);\n",
              "    box-shadow: 0 1px 2px rgba(60, 64, 67, 0.3), 0 1px 3px 1px rgba(60, 64, 67, 0.15);\n",
              "    fill: var(--button-hover-fill-color);\n",
              "  }\n",
              "\n",
              "  .colab-df-quickchart-complete:disabled,\n",
              "  .colab-df-quickchart-complete:disabled:hover {\n",
              "    background-color: var(--disabled-bg-color);\n",
              "    fill: var(--disabled-fill-color);\n",
              "    box-shadow: none;\n",
              "  }\n",
              "\n",
              "  .colab-df-spinner {\n",
              "    border: 2px solid var(--fill-color);\n",
              "    border-color: transparent;\n",
              "    border-bottom-color: var(--fill-color);\n",
              "    animation:\n",
              "      spin 1s steps(1) infinite;\n",
              "  }\n",
              "\n",
              "  @keyframes spin {\n",
              "    0% {\n",
              "      border-color: transparent;\n",
              "      border-bottom-color: var(--fill-color);\n",
              "      border-left-color: var(--fill-color);\n",
              "    }\n",
              "    20% {\n",
              "      border-color: transparent;\n",
              "      border-left-color: var(--fill-color);\n",
              "      border-top-color: var(--fill-color);\n",
              "    }\n",
              "    30% {\n",
              "      border-color: transparent;\n",
              "      border-left-color: var(--fill-color);\n",
              "      border-top-color: var(--fill-color);\n",
              "      border-right-color: var(--fill-color);\n",
              "    }\n",
              "    40% {\n",
              "      border-color: transparent;\n",
              "      border-right-color: var(--fill-color);\n",
              "      border-top-color: var(--fill-color);\n",
              "    }\n",
              "    60% {\n",
              "      border-color: transparent;\n",
              "      border-right-color: var(--fill-color);\n",
              "    }\n",
              "    80% {\n",
              "      border-color: transparent;\n",
              "      border-right-color: var(--fill-color);\n",
              "      border-bottom-color: var(--fill-color);\n",
              "    }\n",
              "    90% {\n",
              "      border-color: transparent;\n",
              "      border-bottom-color: var(--fill-color);\n",
              "    }\n",
              "  }\n",
              "</style>\n",
              "\n",
              "  <script>\n",
              "    async function quickchart(key) {\n",
              "      const quickchartButtonEl =\n",
              "        document.querySelector('#' + key + ' button');\n",
              "      quickchartButtonEl.disabled = true;  // To prevent multiple clicks.\n",
              "      quickchartButtonEl.classList.add('colab-df-spinner');\n",
              "      try {\n",
              "        const charts = await google.colab.kernel.invokeFunction(\n",
              "            'suggestCharts', [key], {});\n",
              "      } catch (error) {\n",
              "        console.error('Error during call to suggestCharts:', error);\n",
              "      }\n",
              "      quickchartButtonEl.classList.remove('colab-df-spinner');\n",
              "      quickchartButtonEl.classList.add('colab-df-quickchart-complete');\n",
              "    }\n",
              "    (() => {\n",
              "      let quickchartButtonEl =\n",
              "        document.querySelector('#df-7ba67e7d-ecfd-4557-9660-f9210fb2a8aa button');\n",
              "      quickchartButtonEl.style.display =\n",
              "        google.colab.kernel.accessAllowed ? 'block' : 'none';\n",
              "    })();\n",
              "  </script>\n",
              "</div>\n",
              "\n",
              "    </div>\n",
              "  </div>\n"
            ],
            "application/vnd.google.colaboratory.intrinsic+json": {
              "type": "dataframe",
              "variable_name": "df",
              "summary": "{\n  \"name\": \"df\",\n  \"rows\": 10000,\n  \"fields\": [\n    {\n      \"column\": \"Message\",\n      \"properties\": {\n        \"dtype\": \"string\",\n        \"num_unique_values\": 9998,\n        \"samples\": [\n          \"Says a lot about the media\\u2019s hypocrisy and hate for conservatives when they think that video is more damaging than\\u2026 https://t.co/wVijB6o5Mm\",\n          \"@brianlilley @POTUS shamed the @CPC_HQ didn\\u2019t he !!!\\ud83e\\udd21\\ud83e\\udd21\\ud83e\\udd21\\ud83e\\udd21\\ud83e\\udd21\\ud83e\\udd21\\ud83e\\udd21\\ud83e\\udd21\\ud83e\\udd21#cdnpoli\",\n          \"Imagine being this overly partisan and not being able to just chill and acknowledge others\\u2019 cool shit without being\\u2026 https://t.co/oV2o27nmQi\"\n        ],\n        \"semantic_type\": \"\",\n        \"description\": \"\"\n      }\n    },\n    {\n      \"column\": \"Tokens\",\n      \"properties\": {\n        \"dtype\": \"object\",\n        \"semantic_type\": \"\",\n        \"description\": \"\"\n      }\n    }\n  ]\n}"
            }
          },
          "metadata": {},
          "execution_count": 40
        }
      ]
    },
    {
      "cell_type": "code",
      "source": [
        "# remove stop words in the token\n",
        "remove_stopwords(df, 'Tokens')\n",
        "\n",
        "df.head()"
      ],
      "metadata": {
        "id": "9XsfZ7eWCJIU",
        "outputId": "e7e54dbd-9a5e-4bf7-e67f-26199ea0001d",
        "colab": {
          "base_uri": "https://localhost:8080/",
          "height": 206
        }
      },
      "execution_count": 41,
      "outputs": [
        {
          "output_type": "execute_result",
          "data": {
            "text/plain": [
              "                                             Message  \\\n",
              "0  The priority for the city should be on providi...   \n",
              "1  Like it or not, this kind of clip is the sort ...   \n",
              "2  On a scale of moderately conservative (1) to r...   \n",
              "3  Keep up with the latest politics with The Dail...   \n",
              "4  So much resemblance to NAZI Germany leading up...   \n",
              "\n",
              "                                              Tokens  \n",
              "0  [priority, city, should, providing, affordable...  \n",
              "1  [like, not, kind, clip, sort, thing, can, irre...  \n",
              "2  [scale, moderately, conservative, 1, rightwing...  \n",
              "3  [keep, latest, politics, daily, debrief, panel...  \n",
              "4  [so, much, resemblance, nazi, germany, leading...  "
            ],
            "text/html": [
              "\n",
              "  <div id=\"df-9f3aaf0e-d7c9-45c8-b9f1-1130937ef90b\" class=\"colab-df-container\">\n",
              "    <div>\n",
              "<style scoped>\n",
              "    .dataframe tbody tr th:only-of-type {\n",
              "        vertical-align: middle;\n",
              "    }\n",
              "\n",
              "    .dataframe tbody tr th {\n",
              "        vertical-align: top;\n",
              "    }\n",
              "\n",
              "    .dataframe thead th {\n",
              "        text-align: right;\n",
              "    }\n",
              "</style>\n",
              "<table border=\"1\" class=\"dataframe\">\n",
              "  <thead>\n",
              "    <tr style=\"text-align: right;\">\n",
              "      <th></th>\n",
              "      <th>Message</th>\n",
              "      <th>Tokens</th>\n",
              "    </tr>\n",
              "  </thead>\n",
              "  <tbody>\n",
              "    <tr>\n",
              "      <th>0</th>\n",
              "      <td>The priority for the city should be on providi...</td>\n",
              "      <td>[priority, city, should, providing, affordable...</td>\n",
              "    </tr>\n",
              "    <tr>\n",
              "      <th>1</th>\n",
              "      <td>Like it or not, this kind of clip is the sort ...</td>\n",
              "      <td>[like, not, kind, clip, sort, thing, can, irre...</td>\n",
              "    </tr>\n",
              "    <tr>\n",
              "      <th>2</th>\n",
              "      <td>On a scale of moderately conservative (1) to r...</td>\n",
              "      <td>[scale, moderately, conservative, 1, rightwing...</td>\n",
              "    </tr>\n",
              "    <tr>\n",
              "      <th>3</th>\n",
              "      <td>Keep up with the latest politics with The Dail...</td>\n",
              "      <td>[keep, latest, politics, daily, debrief, panel...</td>\n",
              "    </tr>\n",
              "    <tr>\n",
              "      <th>4</th>\n",
              "      <td>So much resemblance to NAZI Germany leading up...</td>\n",
              "      <td>[so, much, resemblance, nazi, germany, leading...</td>\n",
              "    </tr>\n",
              "  </tbody>\n",
              "</table>\n",
              "</div>\n",
              "    <div class=\"colab-df-buttons\">\n",
              "\n",
              "  <div class=\"colab-df-container\">\n",
              "    <button class=\"colab-df-convert\" onclick=\"convertToInteractive('df-9f3aaf0e-d7c9-45c8-b9f1-1130937ef90b')\"\n",
              "            title=\"Convert this dataframe to an interactive table.\"\n",
              "            style=\"display:none;\">\n",
              "\n",
              "  <svg xmlns=\"http://www.w3.org/2000/svg\" height=\"24px\" viewBox=\"0 -960 960 960\">\n",
              "    <path d=\"M120-120v-720h720v720H120Zm60-500h600v-160H180v160Zm220 220h160v-160H400v160Zm0 220h160v-160H400v160ZM180-400h160v-160H180v160Zm440 0h160v-160H620v160ZM180-180h160v-160H180v160Zm440 0h160v-160H620v160Z\"/>\n",
              "  </svg>\n",
              "    </button>\n",
              "\n",
              "  <style>\n",
              "    .colab-df-container {\n",
              "      display:flex;\n",
              "      gap: 12px;\n",
              "    }\n",
              "\n",
              "    .colab-df-convert {\n",
              "      background-color: #E8F0FE;\n",
              "      border: none;\n",
              "      border-radius: 50%;\n",
              "      cursor: pointer;\n",
              "      display: none;\n",
              "      fill: #1967D2;\n",
              "      height: 32px;\n",
              "      padding: 0 0 0 0;\n",
              "      width: 32px;\n",
              "    }\n",
              "\n",
              "    .colab-df-convert:hover {\n",
              "      background-color: #E2EBFA;\n",
              "      box-shadow: 0px 1px 2px rgba(60, 64, 67, 0.3), 0px 1px 3px 1px rgba(60, 64, 67, 0.15);\n",
              "      fill: #174EA6;\n",
              "    }\n",
              "\n",
              "    .colab-df-buttons div {\n",
              "      margin-bottom: 4px;\n",
              "    }\n",
              "\n",
              "    [theme=dark] .colab-df-convert {\n",
              "      background-color: #3B4455;\n",
              "      fill: #D2E3FC;\n",
              "    }\n",
              "\n",
              "    [theme=dark] .colab-df-convert:hover {\n",
              "      background-color: #434B5C;\n",
              "      box-shadow: 0px 1px 3px 1px rgba(0, 0, 0, 0.15);\n",
              "      filter: drop-shadow(0px 1px 2px rgba(0, 0, 0, 0.3));\n",
              "      fill: #FFFFFF;\n",
              "    }\n",
              "  </style>\n",
              "\n",
              "    <script>\n",
              "      const buttonEl =\n",
              "        document.querySelector('#df-9f3aaf0e-d7c9-45c8-b9f1-1130937ef90b button.colab-df-convert');\n",
              "      buttonEl.style.display =\n",
              "        google.colab.kernel.accessAllowed ? 'block' : 'none';\n",
              "\n",
              "      async function convertToInteractive(key) {\n",
              "        const element = document.querySelector('#df-9f3aaf0e-d7c9-45c8-b9f1-1130937ef90b');\n",
              "        const dataTable =\n",
              "          await google.colab.kernel.invokeFunction('convertToInteractive',\n",
              "                                                    [key], {});\n",
              "        if (!dataTable) return;\n",
              "\n",
              "        const docLinkHtml = 'Like what you see? Visit the ' +\n",
              "          '<a target=\"_blank\" href=https://colab.research.google.com/notebooks/data_table.ipynb>data table notebook</a>'\n",
              "          + ' to learn more about interactive tables.';\n",
              "        element.innerHTML = '';\n",
              "        dataTable['output_type'] = 'display_data';\n",
              "        await google.colab.output.renderOutput(dataTable, element);\n",
              "        const docLink = document.createElement('div');\n",
              "        docLink.innerHTML = docLinkHtml;\n",
              "        element.appendChild(docLink);\n",
              "      }\n",
              "    </script>\n",
              "  </div>\n",
              "\n",
              "\n",
              "<div id=\"df-eaab25bc-73aa-47c1-b018-3fef1f8c0746\">\n",
              "  <button class=\"colab-df-quickchart\" onclick=\"quickchart('df-eaab25bc-73aa-47c1-b018-3fef1f8c0746')\"\n",
              "            title=\"Suggest charts\"\n",
              "            style=\"display:none;\">\n",
              "\n",
              "<svg xmlns=\"http://www.w3.org/2000/svg\" height=\"24px\"viewBox=\"0 0 24 24\"\n",
              "     width=\"24px\">\n",
              "    <g>\n",
              "        <path d=\"M19 3H5c-1.1 0-2 .9-2 2v14c0 1.1.9 2 2 2h14c1.1 0 2-.9 2-2V5c0-1.1-.9-2-2-2zM9 17H7v-7h2v7zm4 0h-2V7h2v10zm4 0h-2v-4h2v4z\"/>\n",
              "    </g>\n",
              "</svg>\n",
              "  </button>\n",
              "\n",
              "<style>\n",
              "  .colab-df-quickchart {\n",
              "      --bg-color: #E8F0FE;\n",
              "      --fill-color: #1967D2;\n",
              "      --hover-bg-color: #E2EBFA;\n",
              "      --hover-fill-color: #174EA6;\n",
              "      --disabled-fill-color: #AAA;\n",
              "      --disabled-bg-color: #DDD;\n",
              "  }\n",
              "\n",
              "  [theme=dark] .colab-df-quickchart {\n",
              "      --bg-color: #3B4455;\n",
              "      --fill-color: #D2E3FC;\n",
              "      --hover-bg-color: #434B5C;\n",
              "      --hover-fill-color: #FFFFFF;\n",
              "      --disabled-bg-color: #3B4455;\n",
              "      --disabled-fill-color: #666;\n",
              "  }\n",
              "\n",
              "  .colab-df-quickchart {\n",
              "    background-color: var(--bg-color);\n",
              "    border: none;\n",
              "    border-radius: 50%;\n",
              "    cursor: pointer;\n",
              "    display: none;\n",
              "    fill: var(--fill-color);\n",
              "    height: 32px;\n",
              "    padding: 0;\n",
              "    width: 32px;\n",
              "  }\n",
              "\n",
              "  .colab-df-quickchart:hover {\n",
              "    background-color: var(--hover-bg-color);\n",
              "    box-shadow: 0 1px 2px rgba(60, 64, 67, 0.3), 0 1px 3px 1px rgba(60, 64, 67, 0.15);\n",
              "    fill: var(--button-hover-fill-color);\n",
              "  }\n",
              "\n",
              "  .colab-df-quickchart-complete:disabled,\n",
              "  .colab-df-quickchart-complete:disabled:hover {\n",
              "    background-color: var(--disabled-bg-color);\n",
              "    fill: var(--disabled-fill-color);\n",
              "    box-shadow: none;\n",
              "  }\n",
              "\n",
              "  .colab-df-spinner {\n",
              "    border: 2px solid var(--fill-color);\n",
              "    border-color: transparent;\n",
              "    border-bottom-color: var(--fill-color);\n",
              "    animation:\n",
              "      spin 1s steps(1) infinite;\n",
              "  }\n",
              "\n",
              "  @keyframes spin {\n",
              "    0% {\n",
              "      border-color: transparent;\n",
              "      border-bottom-color: var(--fill-color);\n",
              "      border-left-color: var(--fill-color);\n",
              "    }\n",
              "    20% {\n",
              "      border-color: transparent;\n",
              "      border-left-color: var(--fill-color);\n",
              "      border-top-color: var(--fill-color);\n",
              "    }\n",
              "    30% {\n",
              "      border-color: transparent;\n",
              "      border-left-color: var(--fill-color);\n",
              "      border-top-color: var(--fill-color);\n",
              "      border-right-color: var(--fill-color);\n",
              "    }\n",
              "    40% {\n",
              "      border-color: transparent;\n",
              "      border-right-color: var(--fill-color);\n",
              "      border-top-color: var(--fill-color);\n",
              "    }\n",
              "    60% {\n",
              "      border-color: transparent;\n",
              "      border-right-color: var(--fill-color);\n",
              "    }\n",
              "    80% {\n",
              "      border-color: transparent;\n",
              "      border-right-color: var(--fill-color);\n",
              "      border-bottom-color: var(--fill-color);\n",
              "    }\n",
              "    90% {\n",
              "      border-color: transparent;\n",
              "      border-bottom-color: var(--fill-color);\n",
              "    }\n",
              "  }\n",
              "</style>\n",
              "\n",
              "  <script>\n",
              "    async function quickchart(key) {\n",
              "      const quickchartButtonEl =\n",
              "        document.querySelector('#' + key + ' button');\n",
              "      quickchartButtonEl.disabled = true;  // To prevent multiple clicks.\n",
              "      quickchartButtonEl.classList.add('colab-df-spinner');\n",
              "      try {\n",
              "        const charts = await google.colab.kernel.invokeFunction(\n",
              "            'suggestCharts', [key], {});\n",
              "      } catch (error) {\n",
              "        console.error('Error during call to suggestCharts:', error);\n",
              "      }\n",
              "      quickchartButtonEl.classList.remove('colab-df-spinner');\n",
              "      quickchartButtonEl.classList.add('colab-df-quickchart-complete');\n",
              "    }\n",
              "    (() => {\n",
              "      let quickchartButtonEl =\n",
              "        document.querySelector('#df-eaab25bc-73aa-47c1-b018-3fef1f8c0746 button');\n",
              "      quickchartButtonEl.style.display =\n",
              "        google.colab.kernel.accessAllowed ? 'block' : 'none';\n",
              "    })();\n",
              "  </script>\n",
              "</div>\n",
              "\n",
              "    </div>\n",
              "  </div>\n"
            ],
            "application/vnd.google.colaboratory.intrinsic+json": {
              "type": "dataframe",
              "variable_name": "df",
              "summary": "{\n  \"name\": \"df\",\n  \"rows\": 10000,\n  \"fields\": [\n    {\n      \"column\": \"Message\",\n      \"properties\": {\n        \"dtype\": \"string\",\n        \"num_unique_values\": 9998,\n        \"samples\": [\n          \"Says a lot about the media\\u2019s hypocrisy and hate for conservatives when they think that video is more damaging than\\u2026 https://t.co/wVijB6o5Mm\",\n          \"@brianlilley @POTUS shamed the @CPC_HQ didn\\u2019t he !!!\\ud83e\\udd21\\ud83e\\udd21\\ud83e\\udd21\\ud83e\\udd21\\ud83e\\udd21\\ud83e\\udd21\\ud83e\\udd21\\ud83e\\udd21\\ud83e\\udd21#cdnpoli\",\n          \"Imagine being this overly partisan and not being able to just chill and acknowledge others\\u2019 cool shit without being\\u2026 https://t.co/oV2o27nmQi\"\n        ],\n        \"semantic_type\": \"\",\n        \"description\": \"\"\n      }\n    },\n    {\n      \"column\": \"Tokens\",\n      \"properties\": {\n        \"dtype\": \"object\",\n        \"semantic_type\": \"\",\n        \"description\": \"\"\n      }\n    }\n  ]\n}"
            }
          },
          "metadata": {},
          "execution_count": 41
        }
      ]
    },
    {
      "cell_type": "markdown",
      "source": [
        "## Exploratory Data Analysis (EDA)"
      ],
      "metadata": {
        "id": "RpNd2Xl87CSl"
      }
    },
    {
      "cell_type": "markdown",
      "source": [
        "1. Word cloud\n",
        "2. Print the 10 most frequent words"
      ],
      "metadata": {
        "id": "5X7o9LD47Riy"
      }
    },
    {
      "cell_type": "code",
      "source": [
        "# Word cloud\n",
        "from wordcloud import WordCloud\n",
        "\n",
        "def list_of_lists_to_list(data, col):\n",
        "    return data[col].explode().tolist()\n",
        "\n",
        "def display_word_cloud(flatten_data):\n",
        "    # Join the different processed titles together.\n",
        "    long_string = ' '.join(flatten_data)\n",
        "    # Create a WordCloud object\n",
        "    wordcloud = WordCloud(background_color=\"white\", max_words=5000, contour_width=3, contour_color='steelblue')\n",
        "    # Generate a word cloud\n",
        "    wordcloud = wordcloud.generate(long_string)\n",
        "    # Visualize the word cloud\n",
        "    plt.imshow(wordcloud)\n",
        "    plt.axis(\"off\")\n",
        "    plt.show()"
      ],
      "metadata": {
        "id": "xv2BVNpwG5o5"
      },
      "execution_count": 42,
      "outputs": []
    },
    {
      "cell_type": "code",
      "source": [
        "flatten_df = list_of_lists_to_list(df, 'Tokens')\n",
        "display_word_cloud(flatten_df)"
      ],
      "metadata": {
        "id": "dWMKlPWjG9YJ",
        "outputId": "730bcb72-d641-44d6-f608-1378951f8ca1",
        "colab": {
          "base_uri": "https://localhost:8080/",
          "height": 285
        }
      },
      "execution_count": 43,
      "outputs": [
        {
          "output_type": "display_data",
          "data": {
            "text/plain": [
              "<Figure size 640x480 with 1 Axes>"
            ],
            "image/png": "[encoded data removed]"
          },
          "metadata": {}
        }
      ]
    },
    {
      "cell_type": "code",
      "source": [
        "# Print the 15 most frequent words\n",
        "def print_15_most_frequent_words(flatten_data):\n",
        "    words, counts = np.unique(flatten_data, return_counts=True)\n",
        "    # Sort words and counts based on counts in descending order\n",
        "    sorted_indices = np.argsort(counts)[::-1]   # index of descending count\n",
        "    sorted_words = words[sorted_indices]\n",
        "    sorted_counts = counts[sorted_indices]\n",
        "\n",
        "    # Print the 15 most frequent words\n",
        "    for word, count in zip(sorted_words[:15], sorted_counts[:15]):\n",
        "        print(f'Word: {word}, count: {count}')"
      ],
      "metadata": {
        "id": "uf_5OEp-H6zg"
      },
      "execution_count": 44,
      "outputs": []
    },
    {
      "cell_type": "code",
      "source": [
        "print_15_most_frequent_words(flatten_df)"
      ],
      "metadata": {
        "id": "JkKAhDQWH7cA",
        "outputId": "179dc017-2615-4622-b8f6-3cd174a0222c",
        "colab": {
          "base_uri": "https://localhost:8080/"
        }
      },
      "execution_count": 45,
      "outputs": [
        {
          "output_type": "stream",
          "name": "stdout",
          "text": [
            "Word: cdnpoli, count: 3449\n",
            "Word: s, count: 2208\n",
            "Word: canada, count: 1066\n",
            "Word: not, count: 835\n",
            "Word: trudeau, count: 708\n",
            "Word: t, count: 583\n",
            "Word: biden, count: 567\n",
            "Word: nt, count: 567\n",
            "Word: pierrepoilievre, count: 546\n",
            "Word: will, count: 518\n",
            "Word: so, count: 487\n",
            "Word: all, count: 471\n",
            "Word: how, count: 437\n",
            "Word: no, count: 420\n",
            "Word: us, count: 384\n"
          ]
        }
      ]
    },
    {
      "cell_type": "markdown",
      "source": [
        "## Text Pre-Processing 2"
      ],
      "metadata": {
        "id": "Mb_ONrmV7WQp"
      }
    },
    {
      "cell_type": "markdown",
      "source": [
        "1. Lemmatize tokens\n",
        "2. Create dictionary, corpus, and term document frequency list"
      ],
      "metadata": {
        "id": "6FKnxZMS7ZFZ"
      }
    },
    {
      "cell_type": "code",
      "source": [
        "# Lemmatize the tokens\n",
        "lemmatize_tokens(df)\n",
        "\n",
        "# # Convert the list of lists of strings (list of messages) to array of strings\n",
        "# df = list_of_lists_to_list(df, 'lemmatized_tokens')"
      ],
      "metadata": {
        "id": "I-bqoiNs90KC"
      },
      "execution_count": 46,
      "outputs": []
    },
    {
      "cell_type": "code",
      "source": [
        "df"
      ],
      "metadata": {
        "colab": {
          "base_uri": "https://localhost:8080/",
          "height": 597
        },
        "id": "uKy9MFWnNu0c",
        "outputId": "f3d37114-aeb2-438f-ea42-3f22f15ed388"
      },
      "execution_count": 47,
      "outputs": [
        {
          "output_type": "execute_result",
          "data": {
            "text/plain": [
              "                                                Message  \\\n",
              "0     The priority for the city should be on providi...   \n",
              "1     Like it or not, this kind of clip is the sort ...   \n",
              "2     On a scale of moderately conservative (1) to r...   \n",
              "3     Keep up with the latest politics with The Dail...   \n",
              "4     So much resemblance to NAZI Germany leading up...   \n",
              "...                                                 ...   \n",
              "9995  🇨🇦 and 🇺🇸 are working together 🤝\\n\\nThe Canada...   \n",
              "9996  Harper throws the #Poilievre sh1theads over th...   \n",
              "9997  @theJagmeetSingh Good. I called my @liberal_pa...   \n",
              "9998  @Theseaforge @theJagmeetSingh This motion incl...   \n",
              "9999  Things are not getting any better for the Libe...   \n",
              "\n",
              "                                                 Tokens  \\\n",
              "0     [priority, city, should, providing, affordable...   \n",
              "1     [like, not, kind, clip, sort, thing, can, irre...   \n",
              "2     [scale, moderately, conservative, 1, rightwing...   \n",
              "3     [keep, latest, politics, daily, debrief, panel...   \n",
              "4     [so, much, resemblance, nazi, germany, leading...   \n",
              "...                                                 ...   \n",
              "9995  [working, together, canadaus, joint, action, p...   \n",
              "9996  [harper, throws, poilievre, sh1theads, side, c...   \n",
              "9997  [thejagmeetsingh, good, called, liberal_party,...   \n",
              "9998  [theseaforge, thejagmeetsingh, motion, include...   \n",
              "9999  [things, not, getting, any, better, liberals, ...   \n",
              "\n",
              "                                      lemmatized_tokens  \n",
              "0     [priority, city, should, providing, affordable...  \n",
              "1     [like, not, kind, clip, sort, thing, can, irre...  \n",
              "2     [scale, moderately, conservative, 1, rightwing...  \n",
              "3     [keep, latest, politics, daily, debrief, panel...  \n",
              "4     [so, much, resemblance, nazi, germany, leading...  \n",
              "...                                                 ...  \n",
              "9995  [working, together, canadaus, joint, action, p...  \n",
              "9996  [harper, throw, poilievre, sh1theads, side, ca...  \n",
              "9997  [thejagmeetsingh, good, called, liberal_party,...  \n",
              "9998  [theseaforge, thejagmeetsingh, motion, include...  \n",
              "9999  [thing, not, getting, any, better, liberal, cd...  \n",
              "\n",
              "[10000 rows x 3 columns]"
            ],
            "text/html": [
              "\n",
              "  <div id=\"df-5885610f-13cd-43fa-be7c-32af8bc8e521\" class=\"colab-df-container\">\n",
              "    <div>\n",
              "<style scoped>\n",
              "    .dataframe tbody tr th:only-of-type {\n",
              "        vertical-align: middle;\n",
              "    }\n",
              "\n",
              "    .dataframe tbody tr th {\n",
              "        vertical-align: top;\n",
              "    }\n",
              "\n",
              "    .dataframe thead th {\n",
              "        text-align: right;\n",
              "    }\n",
              "</style>\n",
              "<table border=\"1\" class=\"dataframe\">\n",
              "  <thead>\n",
              "    <tr style=\"text-align: right;\">\n",
              "      <th></th>\n",
              "      <th>Message</th>\n",
              "      <th>Tokens</th>\n",
              "      <th>lemmatized_tokens</th>\n",
              "    </tr>\n",
              "  </thead>\n",
              "  <tbody>\n",
              "    <tr>\n",
              "      <th>0</th>\n",
              "      <td>The priority for the city should be on providi...</td>\n",
              "      <td>[priority, city, should, providing, affordable...</td>\n",
              "      <td>[priority, city, should, providing, affordable...</td>\n",
              "    </tr>\n",
              "    <tr>\n",
              "      <th>1</th>\n",
              "      <td>Like it or not, this kind of clip is the sort ...</td>\n",
              "      <td>[like, not, kind, clip, sort, thing, can, irre...</td>\n",
              "      <td>[like, not, kind, clip, sort, thing, can, irre...</td>\n",
              "    </tr>\n",
              "    <tr>\n",
              "      <th>2</th>\n",
              "      <td>On a scale of moderately conservative (1) to r...</td>\n",
              "      <td>[scale, moderately, conservative, 1, rightwing...</td>\n",
              "      <td>[scale, moderately, conservative, 1, rightwing...</td>\n",
              "    </tr>\n",
              "    <tr>\n",
              "      <th>3</th>\n",
              "      <td>Keep up with the latest politics with The Dail...</td>\n",
              "      <td>[keep, latest, politics, daily, debrief, panel...</td>\n",
              "      <td>[keep, latest, politics, daily, debrief, panel...</td>\n",
              "    </tr>\n",
              "    <tr>\n",
              "      <th>4</th>\n",
              "      <td>So much resemblance to NAZI Germany leading up...</td>\n",
              "      <td>[so, much, resemblance, nazi, germany, leading...</td>\n",
              "      <td>[so, much, resemblance, nazi, germany, leading...</td>\n",
              "    </tr>\n",
              "    <tr>\n",
              "      <th>...</th>\n",
              "      <td>...</td>\n",
              "      <td>...</td>\n",
              "      <td>...</td>\n",
              "    </tr>\n",
              "    <tr>\n",
              "      <th>9995</th>\n",
              "      <td>🇨🇦 and 🇺🇸 are working together 🤝\\n\\nThe Canada...</td>\n",
              "      <td>[working, together, canadaus, joint, action, p...</td>\n",
              "      <td>[working, together, canadaus, joint, action, p...</td>\n",
              "    </tr>\n",
              "    <tr>\n",
              "      <th>9996</th>\n",
              "      <td>Harper throws the #Poilievre sh1theads over th...</td>\n",
              "      <td>[harper, throws, poilievre, sh1theads, side, c...</td>\n",
              "      <td>[harper, throw, poilievre, sh1theads, side, ca...</td>\n",
              "    </tr>\n",
              "    <tr>\n",
              "      <th>9997</th>\n",
              "      <td>@theJagmeetSingh Good. I called my @liberal_pa...</td>\n",
              "      <td>[thejagmeetsingh, good, called, liberal_party,...</td>\n",
              "      <td>[thejagmeetsingh, good, called, liberal_party,...</td>\n",
              "    </tr>\n",
              "    <tr>\n",
              "      <th>9998</th>\n",
              "      <td>@Theseaforge @theJagmeetSingh This motion incl...</td>\n",
              "      <td>[theseaforge, thejagmeetsingh, motion, include...</td>\n",
              "      <td>[theseaforge, thejagmeetsingh, motion, include...</td>\n",
              "    </tr>\n",
              "    <tr>\n",
              "      <th>9999</th>\n",
              "      <td>Things are not getting any better for the Libe...</td>\n",
              "      <td>[things, not, getting, any, better, liberals, ...</td>\n",
              "      <td>[thing, not, getting, any, better, liberal, cd...</td>\n",
              "    </tr>\n",
              "  </tbody>\n",
              "</table>\n",
              "<p>10000 rows × 3 columns</p>\n",
              "</div>\n",
              "    <div class=\"colab-df-buttons\">\n",
              "\n",
              "  <div class=\"colab-df-container\">\n",
              "    <button class=\"colab-df-convert\" onclick=\"convertToInteractive('df-5885610f-13cd-43fa-be7c-32af8bc8e521')\"\n",
              "            title=\"Convert this dataframe to an interactive table.\"\n",
              "            style=\"display:none;\">\n",
              "\n",
              "  <svg xmlns=\"http://www.w3.org/2000/svg\" height=\"24px\" viewBox=\"0 -960 960 960\">\n",
              "    <path d=\"M120-120v-720h720v720H120Zm60-500h600v-160H180v160Zm220 220h160v-160H400v160Zm0 220h160v-160H400v160ZM180-400h160v-160H180v160Zm440 0h160v-160H620v160ZM180-180h160v-160H180v160Zm440 0h160v-160H620v160Z\"/>\n",
              "  </svg>\n",
              "    </button>\n",
              "\n",
              "  <style>\n",
              "    .colab-df-container {\n",
              "      display:flex;\n",
              "      gap: 12px;\n",
              "    }\n",
              "\n",
              "    .colab-df-convert {\n",
              "      background-color: #E8F0FE;\n",
              "      border: none;\n",
              "      border-radius: 50%;\n",
              "      cursor: pointer;\n",
              "      display: none;\n",
              "      fill: #1967D2;\n",
              "      height: 32px;\n",
              "      padding: 0 0 0 0;\n",
              "      width: 32px;\n",
              "    }\n",
              "\n",
              "    .colab-df-convert:hover {\n",
              "      background-color: #E2EBFA;\n",
              "      box-shadow: 0px 1px 2px rgba(60, 64, 67, 0.3), 0px 1px 3px 1px rgba(60, 64, 67, 0.15);\n",
              "      fill: #174EA6;\n",
              "    }\n",
              "\n",
              "    .colab-df-buttons div {\n",
              "      margin-bottom: 4px;\n",
              "    }\n",
              "\n",
              "    [theme=dark] .colab-df-convert {\n",
              "      background-color: #3B4455;\n",
              "      fill: #D2E3FC;\n",
              "    }\n",
              "\n",
              "    [theme=dark] .colab-df-convert:hover {\n",
              "      background-color: #434B5C;\n",
              "      box-shadow: 0px 1px 3px 1px rgba(0, 0, 0, 0.15);\n",
              "      filter: drop-shadow(0px 1px 2px rgba(0, 0, 0, 0.3));\n",
              "      fill: #FFFFFF;\n",
              "    }\n",
              "  </style>\n",
              "\n",
              "    <script>\n",
              "      const buttonEl =\n",
              "        document.querySelector('#df-5885610f-13cd-43fa-be7c-32af8bc8e521 button.colab-df-convert');\n",
              "      buttonEl.style.display =\n",
              "        google.colab.kernel.accessAllowed ? 'block' : 'none';\n",
              "\n",
              "      async function convertToInteractive(key) {\n",
              "        const element = document.querySelector('#df-5885610f-13cd-43fa-be7c-32af8bc8e521');\n",
              "        const dataTable =\n",
              "          await google.colab.kernel.invokeFunction('convertToInteractive',\n",
              "                                                    [key], {});\n",
              "        if (!dataTable) return;\n",
              "\n",
              "        const docLinkHtml = 'Like what you see? Visit the ' +\n",
              "          '<a target=\"_blank\" href=https://colab.research.google.com/notebooks/data_table.ipynb>data table notebook</a>'\n",
              "          + ' to learn more about interactive tables.';\n",
              "        element.innerHTML = '';\n",
              "        dataTable['output_type'] = 'display_data';\n",
              "        await google.colab.output.renderOutput(dataTable, element);\n",
              "        const docLink = document.createElement('div');\n",
              "        docLink.innerHTML = docLinkHtml;\n",
              "        element.appendChild(docLink);\n",
              "      }\n",
              "    </script>\n",
              "  </div>\n",
              "\n",
              "\n",
              "<div id=\"df-0a064262-5cc4-4f12-bfc2-39cef42cef17\">\n",
              "  <button class=\"colab-df-quickchart\" onclick=\"quickchart('df-0a064262-5cc4-4f12-bfc2-39cef42cef17')\"\n",
              "            title=\"Suggest charts\"\n",
              "            style=\"display:none;\">\n",
              "\n",
              "<svg xmlns=\"http://www.w3.org/2000/svg\" height=\"24px\"viewBox=\"0 0 24 24\"\n",
              "     width=\"24px\">\n",
              "    <g>\n",
              "        <path d=\"M19 3H5c-1.1 0-2 .9-2 2v14c0 1.1.9 2 2 2h14c1.1 0 2-.9 2-2V5c0-1.1-.9-2-2-2zM9 17H7v-7h2v7zm4 0h-2V7h2v10zm4 0h-2v-4h2v4z\"/>\n",
              "    </g>\n",
              "</svg>\n",
              "  </button>\n",
              "\n",
              "<style>\n",
              "  .colab-df-quickchart {\n",
              "      --bg-color: #E8F0FE;\n",
              "      --fill-color: #1967D2;\n",
              "      --hover-bg-color: #E2EBFA;\n",
              "      --hover-fill-color: #174EA6;\n",
              "      --disabled-fill-color: #AAA;\n",
              "      --disabled-bg-color: #DDD;\n",
              "  }\n",
              "\n",
              "  [theme=dark] .colab-df-quickchart {\n",
              "      --bg-color: #3B4455;\n",
              "      --fill-color: #D2E3FC;\n",
              "      --hover-bg-color: #434B5C;\n",
              "      --hover-fill-color: #FFFFFF;\n",
              "      --disabled-bg-color: #3B4455;\n",
              "      --disabled-fill-color: #666;\n",
              "  }\n",
              "\n",
              "  .colab-df-quickchart {\n",
              "    background-color: var(--bg-color);\n",
              "    border: none;\n",
              "    border-radius: 50%;\n",
              "    cursor: pointer;\n",
              "    display: none;\n",
              "    fill: var(--fill-color);\n",
              "    height: 32px;\n",
              "    padding: 0;\n",
              "    width: 32px;\n",
              "  }\n",
              "\n",
              "  .colab-df-quickchart:hover {\n",
              "    background-color: var(--hover-bg-color);\n",
              "    box-shadow: 0 1px 2px rgba(60, 64, 67, 0.3), 0 1px 3px 1px rgba(60, 64, 67, 0.15);\n",
              "    fill: var(--button-hover-fill-color);\n",
              "  }\n",
              "\n",
              "  .colab-df-quickchart-complete:disabled,\n",
              "  .colab-df-quickchart-complete:disabled:hover {\n",
              "    background-color: var(--disabled-bg-color);\n",
              "    fill: var(--disabled-fill-color);\n",
              "    box-shadow: none;\n",
              "  }\n",
              "\n",
              "  .colab-df-spinner {\n",
              "    border: 2px solid var(--fill-color);\n",
              "    border-color: transparent;\n",
              "    border-bottom-color: var(--fill-color);\n",
              "    animation:\n",
              "      spin 1s steps(1) infinite;\n",
              "  }\n",
              "\n",
              "  @keyframes spin {\n",
              "    0% {\n",
              "      border-color: transparent;\n",
              "      border-bottom-color: var(--fill-color);\n",
              "      border-left-color: var(--fill-color);\n",
              "    }\n",
              "    20% {\n",
              "      border-color: transparent;\n",
              "      border-left-color: var(--fill-color);\n",
              "      border-top-color: var(--fill-color);\n",
              "    }\n",
              "    30% {\n",
              "      border-color: transparent;\n",
              "      border-left-color: var(--fill-color);\n",
              "      border-top-color: var(--fill-color);\n",
              "      border-right-color: var(--fill-color);\n",
              "    }\n",
              "    40% {\n",
              "      border-color: transparent;\n",
              "      border-right-color: var(--fill-color);\n",
              "      border-top-color: var(--fill-color);\n",
              "    }\n",
              "    60% {\n",
              "      border-color: transparent;\n",
              "      border-right-color: var(--fill-color);\n",
              "    }\n",
              "    80% {\n",
              "      border-color: transparent;\n",
              "      border-right-color: var(--fill-color);\n",
              "      border-bottom-color: var(--fill-color);\n",
              "    }\n",
              "    90% {\n",
              "      border-color: transparent;\n",
              "      border-bottom-color: var(--fill-color);\n",
              "    }\n",
              "  }\n",
              "</style>\n",
              "\n",
              "  <script>\n",
              "    async function quickchart(key) {\n",
              "      const quickchartButtonEl =\n",
              "        document.querySelector('#' + key + ' button');\n",
              "      quickchartButtonEl.disabled = true;  // To prevent multiple clicks.\n",
              "      quickchartButtonEl.classList.add('colab-df-spinner');\n",
              "      try {\n",
              "        const charts = await google.colab.kernel.invokeFunction(\n",
              "            'suggestCharts', [key], {});\n",
              "      } catch (error) {\n",
              "        console.error('Error during call to suggestCharts:', error);\n",
              "      }\n",
              "      quickchartButtonEl.classList.remove('colab-df-spinner');\n",
              "      quickchartButtonEl.classList.add('colab-df-quickchart-complete');\n",
              "    }\n",
              "    (() => {\n",
              "      let quickchartButtonEl =\n",
              "        document.querySelector('#df-0a064262-5cc4-4f12-bfc2-39cef42cef17 button');\n",
              "      quickchartButtonEl.style.display =\n",
              "        google.colab.kernel.accessAllowed ? 'block' : 'none';\n",
              "    })();\n",
              "  </script>\n",
              "</div>\n",
              "\n",
              "  <div id=\"id_1982c9aa-adec-4325-99b2-adc3cbea36cd\">\n",
              "    <style>\n",
              "      .colab-df-generate {\n",
              "        background-color: #E8F0FE;\n",
              "        border: none;\n",
              "        border-radius: 50%;\n",
              "        cursor: pointer;\n",
              "        display: none;\n",
              "        fill: #1967D2;\n",
              "        height: 32px;\n",
              "        padding: 0 0 0 0;\n",
              "        width: 32px;\n",
              "      }\n",
              "\n",
              "      .colab-df-generate:hover {\n",
              "        background-color: #E2EBFA;\n",
              "        box-shadow: 0px 1px 2px rgba(60, 64, 67, 0.3), 0px 1px 3px 1px rgba(60, 64, 67, 0.15);\n",
              "        fill: #174EA6;\n",
              "      }\n",
              "\n",
              "      [theme=dark] .colab-df-generate {\n",
              "        background-color: #3B4455;\n",
              "        fill: #D2E3FC;\n",
              "      }\n",
              "\n",
              "      [theme=dark] .colab-df-generate:hover {\n",
              "        background-color: #434B5C;\n",
              "        box-shadow: 0px 1px 3px 1px rgba(0, 0, 0, 0.15);\n",
              "        filter: drop-shadow(0px 1px 2px rgba(0, 0, 0, 0.3));\n",
              "        fill: #FFFFFF;\n",
              "      }\n",
              "    </style>\n",
              "    <button class=\"colab-df-generate\" onclick=\"generateWithVariable('df')\"\n",
              "            title=\"Generate code using this dataframe.\"\n",
              "            style=\"display:none;\">\n",
              "\n",
              "  <svg xmlns=\"http://www.w3.org/2000/svg\" height=\"24px\"viewBox=\"0 0 24 24\"\n",
              "       width=\"24px\">\n",
              "    <path d=\"M7,19H8.4L18.45,9,17,7.55,7,17.6ZM5,21V16.75L18.45,3.32a2,2,0,0,1,2.83,0l1.4,1.43a1.91,1.91,0,0,1,.58,1.4,1.91,1.91,0,0,1-.58,1.4L9.25,21ZM18.45,9,17,7.55Zm-12,3A5.31,5.31,0,0,0,4.9,8.1,5.31,5.31,0,0,0,1,6.5,5.31,5.31,0,0,0,4.9,4.9,5.31,5.31,0,0,0,6.5,1,5.31,5.31,0,0,0,8.1,4.9,5.31,5.31,0,0,0,12,6.5,5.46,5.46,0,0,0,6.5,12Z\"/>\n",
              "  </svg>\n",
              "    </button>\n",
              "    <script>\n",
              "      (() => {\n",
              "      const buttonEl =\n",
              "        document.querySelector('#id_1982c9aa-adec-4325-99b2-adc3cbea36cd button.colab-df-generate');\n",
              "      buttonEl.style.display =\n",
              "        google.colab.kernel.accessAllowed ? 'block' : 'none';\n",
              "\n",
              "      buttonEl.onclick = () => {\n",
              "        google.colab.notebook.generateWithVariable('df');\n",
              "      }\n",
              "      })();\n",
              "    </script>\n",
              "  </div>\n",
              "\n",
              "    </div>\n",
              "  </div>\n"
            ],
            "application/vnd.google.colaboratory.intrinsic+json": {
              "type": "dataframe",
              "variable_name": "df",
              "summary": "{\n  \"name\": \"df\",\n  \"rows\": 10000,\n  \"fields\": [\n    {\n      \"column\": \"Message\",\n      \"properties\": {\n        \"dtype\": \"string\",\n        \"num_unique_values\": 9998,\n        \"samples\": [\n          \"Says a lot about the media\\u2019s hypocrisy and hate for conservatives when they think that video is more damaging than\\u2026 https://t.co/wVijB6o5Mm\",\n          \"@brianlilley @POTUS shamed the @CPC_HQ didn\\u2019t he !!!\\ud83e\\udd21\\ud83e\\udd21\\ud83e\\udd21\\ud83e\\udd21\\ud83e\\udd21\\ud83e\\udd21\\ud83e\\udd21\\ud83e\\udd21\\ud83e\\udd21#cdnpoli\",\n          \"Imagine being this overly partisan and not being able to just chill and acknowledge others\\u2019 cool shit without being\\u2026 https://t.co/oV2o27nmQi\"\n        ],\n        \"semantic_type\": \"\",\n        \"description\": \"\"\n      }\n    },\n    {\n      \"column\": \"Tokens\",\n      \"properties\": {\n        \"dtype\": \"object\",\n        \"semantic_type\": \"\",\n        \"description\": \"\"\n      }\n    },\n    {\n      \"column\": \"lemmatized_tokens\",\n      \"properties\": {\n        \"dtype\": \"object\",\n        \"semantic_type\": \"\",\n        \"description\": \"\"\n      }\n    }\n  ]\n}"
            }
          },
          "metadata": {},
          "execution_count": 47
        }
      ]
    },
    {
      "cell_type": "code",
      "source": [
        "from sklearn.model_selection import train_test_split\n",
        "# Split the data into training (60%), validation (20%), and test (20%) sets\n",
        "\n",
        "# Splitting the data into training (60%) and temporary (40%) sets, setting the seed to ensure reproducibility\n",
        "X_train, X_temp = train_test_split(df['lemmatized_tokens'], train_size=0.6, random_state=70)\n",
        "\n",
        "# Splitting the temporary set into the validation (50% of the temporary data) and test (50% of the temporary data) sets\n",
        "X_validate, X_test = train_test_split(X_temp, test_size=0.5, random_state=70)"
      ],
      "metadata": {
        "id": "H21bFwraOyA2"
      },
      "execution_count": 48,
      "outputs": []
    },
    {
      "cell_type": "code",
      "source": [
        "import gensim.corpora as corpora\n",
        "\n",
        "# Create dictionary\n",
        "id2word = corpora.Dictionary(X_validate)\n",
        "\n",
        "# Create Corpus\n",
        "texts = X_validate\n",
        "\n",
        "# Term Document Frequency\n",
        "corpus = [id2word.doc2bow(text) for text in texts]"
      ],
      "metadata": {
        "id": "2YESjzClMao6"
      },
      "execution_count": 49,
      "outputs": []
    },
    {
      "cell_type": "code",
      "source": [
        "print(corpus[:1][0][:30])"
      ],
      "metadata": {
        "colab": {
          "base_uri": "https://localhost:8080/"
        },
        "id": "tLIy_HO-NcxT",
        "outputId": "73b75c08-e462-4946-e703-967192b42c56"
      },
      "execution_count": 50,
      "outputs": [
        {
          "output_type": "stream",
          "name": "stdout",
          "text": [
            "[(0, 1), (1, 1), (2, 1), (3, 1), (4, 1), (5, 1), (6, 1), (7, 1)]\n"
          ]
        }
      ]
    },
    {
      "cell_type": "markdown",
      "source": [
        "## Latent Dirichlet Allocation (LDA)"
      ],
      "metadata": {
        "id": "ClvklNWM7b86"
      }
    },
    {
      "cell_type": "markdown",
      "source": [
        "1. Tuning hyperparameters (search for the best number of topics): use validation data set\n",
        "2. LDA setup (using training set)\n",
        "3. Visualizing topics (pyLDAvis)"
      ],
      "metadata": {
        "id": "345iev_Q7hYn"
      }
    },
    {
      "cell_type": "code",
      "source": [
        "from gensim.models import CoherenceModel\n",
        "from gensim.models.ldamodel import LdaModel\n",
        "\n",
        "# Tuning hyperparameters (search for the best number of topics)\n",
        "# We're going to use default value for alpha and beta\n",
        "\n",
        "def calculate_coherence_score(LDA_model):\n",
        "    coherence_model_LDA = CoherenceModel(model=LDA_model, texts=texts, dictionary=id2word, coherence='c_v')\n",
        "    return coherence_model_LDA.get_coherence()\n",
        "\n",
        "best_coherence_score = -1\n",
        "best_num_topics = -1\n",
        "\n",
        "for num_topics in range(5, 15):\n",
        "    LDA_model = LdaModel(\n",
        "        corpus=corpus,\n",
        "        id2word=id2word,\n",
        "        num_topics=num_topics,\n",
        "        random_state=70,\n",
        "        per_word_topics=True\n",
        "    )\n",
        "    # Compute coherence score\n",
        "    coherence_score = calculate_coherence_score(LDA_model)\n",
        "    print(coherence_score)\n",
        "    if coherence_score > best_coherence_score:\n",
        "        best_coherence_score = coherence_score\n",
        "        best_num_topics = num_topics\n",
        "\n",
        "print(f'Best topic: {best_num_topics} with coherence score {best_coherence_score}')"
      ],
      "metadata": {
        "colab": {
          "base_uri": "https://localhost:8080/"
        },
        "id": "gpRSoX9SQrNs",
        "outputId": "10599068-7c05-4680-a842-65bbc80cdb9e"
      },
      "execution_count": 51,
      "outputs": [
        {
          "output_type": "stream",
          "name": "stderr",
          "text": [
            "WARNING:gensim.models.ldamodel:too few updates, training might not converge; consider increasing the number of passes or iterations to improve accuracy\n",
            "WARNING:gensim.models.ldamodel:too few updates, training might not converge; consider increasing the number of passes or iterations to improve accuracy\n"
          ]
        },
        {
          "output_type": "stream",
          "name": "stdout",
          "text": [
            "0.17960572174492814\n"
          ]
        },
        {
          "output_type": "stream",
          "name": "stderr",
          "text": [
            "WARNING:gensim.models.ldamodel:too few updates, training might not converge; consider increasing the number of passes or iterations to improve accuracy\n"
          ]
        },
        {
          "output_type": "stream",
          "name": "stdout",
          "text": [
            "0.18497263369411784\n"
          ]
        },
        {
          "output_type": "stream",
          "name": "stderr",
          "text": [
            "WARNING:gensim.models.ldamodel:too few updates, training might not converge; consider increasing the number of passes or iterations to improve accuracy\n"
          ]
        },
        {
          "output_type": "stream",
          "name": "stdout",
          "text": [
            "0.19864764703268498\n"
          ]
        },
        {
          "output_type": "stream",
          "name": "stderr",
          "text": [
            "WARNING:gensim.models.ldamodel:too few updates, training might not converge; consider increasing the number of passes or iterations to improve accuracy\n"
          ]
        },
        {
          "output_type": "stream",
          "name": "stdout",
          "text": [
            "0.19138781057593857\n"
          ]
        },
        {
          "output_type": "stream",
          "name": "stderr",
          "text": [
            "WARNING:gensim.models.ldamodel:too few updates, training might not converge; consider increasing the number of passes or iterations to improve accuracy\n"
          ]
        },
        {
          "output_type": "stream",
          "name": "stdout",
          "text": [
            "0.185503316385382\n"
          ]
        },
        {
          "output_type": "stream",
          "name": "stderr",
          "text": [
            "WARNING:gensim.models.ldamodel:too few updates, training might not converge; consider increasing the number of passes or iterations to improve accuracy\n"
          ]
        },
        {
          "output_type": "stream",
          "name": "stdout",
          "text": [
            "0.17778659196990498\n"
          ]
        },
        {
          "output_type": "stream",
          "name": "stderr",
          "text": [
            "WARNING:gensim.models.ldamodel:too few updates, training might not converge; consider increasing the number of passes or iterations to improve accuracy\n"
          ]
        },
        {
          "output_type": "stream",
          "name": "stdout",
          "text": [
            "0.19831794561324737\n"
          ]
        },
        {
          "output_type": "stream",
          "name": "stderr",
          "text": [
            "WARNING:gensim.models.ldamodel:too few updates, training might not converge; consider increasing the number of passes or iterations to improve accuracy\n"
          ]
        },
        {
          "output_type": "stream",
          "name": "stdout",
          "text": [
            "0.21505052624891716\n"
          ]
        },
        {
          "output_type": "stream",
          "name": "stderr",
          "text": [
            "WARNING:gensim.models.ldamodel:too few updates, training might not converge; consider increasing the number of passes or iterations to improve accuracy\n"
          ]
        },
        {
          "output_type": "stream",
          "name": "stdout",
          "text": [
            "0.19557584912085715\n",
            "0.2109802657937186\n",
            "Best topic: 12 with coherence score 0.21505052624891716\n"
          ]
        }
      ]
    },
    {
      "cell_type": "code",
      "source": [
        "# We have computed the optimal number of topics to be included\n",
        "# Now, we can setup our LDA model\n",
        "\n",
        "# Create dictionary\n",
        "id2word = corpora.Dictionary(X_train)\n",
        "\n",
        "# Create Corpus\n",
        "texts = X_train\n",
        "\n",
        "# Term Document Frequency\n",
        "corpus = [id2word.doc2bow(text) for text in texts]\n",
        "\n",
        "LDA_model = LdaModel(\n",
        "    corpus=corpus,\n",
        "    id2word=id2word,\n",
        "    num_topics=best_num_topics,\n",
        "    chunksize=1000,\n",
        "    passes=10,\n",
        "    random_state=70,\n",
        "    per_word_topics=True\n",
        ")\n",
        "\n",
        "print(f'Coherence score = {calculate_coherence_score(LDA_model)}')"
      ],
      "metadata": {
        "colab": {
          "base_uri": "https://localhost:8080/"
        },
        "id": "r1us8rFOWCP3",
        "outputId": "81f674bb-cf0e-44a5-8527-4038e60d6c3c"
      },
      "execution_count": 56,
      "outputs": [
        {
          "output_type": "stream",
          "name": "stdout",
          "text": [
            "Coherence score = 0.42334169185273635\n"
          ]
        }
      ]
    },
    {
      "cell_type": "code",
      "source": [
        "def get_lda_topics(model, num_topics, top_n_words):\n",
        "    word_dict = {}\n",
        "    for i in range(num_topics):\n",
        "        # Get the top words for the current topic using model.show_topic\n",
        "        top_words = [word for word, _ in model.show_topic(i, topn=top_n_words)]\n",
        "        # Create a dictionary entry for the topic with its top words\n",
        "        word_dict['Topic #{:02d}'.format(i+1)] = top_words\n",
        "\n",
        "    # Convert the dictionary to a DataFrame for easier visualization\n",
        "    topics_df = pd.DataFrame(word_dict)\n",
        "    return topics_df\n",
        "\n",
        "get_lda_topics(LDA_model, best_num_topics,10)"
      ],
      "metadata": {
        "id": "FKjEfZYqK-ji",
        "outputId": "f829153e-761d-4d68-b6c1-c1920b8d7683",
        "colab": {
          "base_uri": "https://localhost:8080/",
          "height": 400
        }
      },
      "execution_count": 57,
      "outputs": [
        {
          "output_type": "execute_result",
          "data": {
            "text/plain": [
              "      Topic #01    Topic #02        Topic #03     Topic #04      Topic #05  \\\n",
              "0           law       onpoli                s  interference        cdnpoli   \n",
              "1  intelligence      cdnpoli          cdnpoli       foreign              s   \n",
              "2             6  interesting              not      election       cdnmedia   \n",
              "3          live         poll               nt       cdnpoli  liberal_party   \n",
              "4         trump       family          liberal       chinese       canadian   \n",
              "5         asked       wonder               so           hey  justintrudeau   \n",
              "6         crime       taking  pierrepoilievre     democracy          right   \n",
              "7      criminal         find            party         lying         canada   \n",
              "8             4     continue              how         march           time   \n",
              "9      abortion       abpoli            would        demand           very   \n",
              "\n",
              "   Topic #06      Topic #07      Topic #08  Topic #09  Topic #10 Topic #11  \\\n",
              "0          s        cdnpoli          house    cdnpoli       2023    canada   \n",
              "1    cdnpoli           dong              t      biden     budget         s   \n",
              "2        not            han         common    trudeau    cdnpoli         t   \n",
              "3         no          thank        cdnpoli     canada       year   cdnpoli   \n",
              "4     canada             nt          doesn          s  inflation      will   \n",
              "5  poilievre       canadian        someone  president        set       tax   \n",
              "6      think           free        trudeau   minister    michael       can   \n",
              "7       just            act            cbc   canadian     change       don   \n",
              "8         re  trudeaumustgo  markgerretsen      prime    economy   federal   \n",
              "9        get          guess         please        joe      price      come   \n",
              "\n",
              "         Topic #12  \n",
              "0          cdnpoli  \n",
              "1  pierrepoilievre  \n",
              "2         standing  \n",
              "3          imagine  \n",
              "4       bidenvisit  \n",
              "5              how  \n",
              "6           cpc_hq  \n",
              "7              new  \n",
              "8             face  \n",
              "9            sound  "
            ],
            "text/html": [
              "\n",
              "  <div id=\"df-de165447-d54c-4c47-a91a-b11eebcc6ebb\" class=\"colab-df-container\">\n",
              "    <div>\n",
              "<style scoped>\n",
              "    .dataframe tbody tr th:only-of-type {\n",
              "        vertical-align: middle;\n",
              "    }\n",
              "\n",
              "    .dataframe tbody tr th {\n",
              "        vertical-align: top;\n",
              "    }\n",
              "\n",
              "    .dataframe thead th {\n",
              "        text-align: right;\n",
              "    }\n",
              "</style>\n",
              "<table border=\"1\" class=\"dataframe\">\n",
              "  <thead>\n",
              "    <tr style=\"text-align: right;\">\n",
              "      <th></th>\n",
              "      <th>Topic #01</th>\n",
              "      <th>Topic #02</th>\n",
              "      <th>Topic #03</th>\n",
              "      <th>Topic #04</th>\n",
              "      <th>Topic #05</th>\n",
              "      <th>Topic #06</th>\n",
              "      <th>Topic #07</th>\n",
              "      <th>Topic #08</th>\n",
              "      <th>Topic #09</th>\n",
              "      <th>Topic #10</th>\n",
              "      <th>Topic #11</th>\n",
              "      <th>Topic #12</th>\n",
              "    </tr>\n",
              "  </thead>\n",
              "  <tbody>\n",
              "    <tr>\n",
              "      <th>0</th>\n",
              "      <td>law</td>\n",
              "      <td>onpoli</td>\n",
              "      <td>s</td>\n",
              "      <td>interference</td>\n",
              "      <td>cdnpoli</td>\n",
              "      <td>s</td>\n",
              "      <td>cdnpoli</td>\n",
              "      <td>house</td>\n",
              "      <td>cdnpoli</td>\n",
              "      <td>2023</td>\n",
              "      <td>canada</td>\n",
              "      <td>cdnpoli</td>\n",
              "    </tr>\n",
              "    <tr>\n",
              "      <th>1</th>\n",
              "      <td>intelligence</td>\n",
              "      <td>cdnpoli</td>\n",
              "      <td>cdnpoli</td>\n",
              "      <td>foreign</td>\n",
              "      <td>s</td>\n",
              "      <td>cdnpoli</td>\n",
              "      <td>dong</td>\n",
              "      <td>t</td>\n",
              "      <td>biden</td>\n",
              "      <td>budget</td>\n",
              "      <td>s</td>\n",
              "      <td>pierrepoilievre</td>\n",
              "    </tr>\n",
              "    <tr>\n",
              "      <th>2</th>\n",
              "      <td>6</td>\n",
              "      <td>interesting</td>\n",
              "      <td>not</td>\n",
              "      <td>election</td>\n",
              "      <td>cdnmedia</td>\n",
              "      <td>not</td>\n",
              "      <td>han</td>\n",
              "      <td>common</td>\n",
              "      <td>trudeau</td>\n",
              "      <td>cdnpoli</td>\n",
              "      <td>t</td>\n",
              "      <td>standing</td>\n",
              "    </tr>\n",
              "    <tr>\n",
              "      <th>3</th>\n",
              "      <td>live</td>\n",
              "      <td>poll</td>\n",
              "      <td>nt</td>\n",
              "      <td>cdnpoli</td>\n",
              "      <td>liberal_party</td>\n",
              "      <td>no</td>\n",
              "      <td>thank</td>\n",
              "      <td>cdnpoli</td>\n",
              "      <td>canada</td>\n",
              "      <td>year</td>\n",
              "      <td>cdnpoli</td>\n",
              "      <td>imagine</td>\n",
              "    </tr>\n",
              "    <tr>\n",
              "      <th>4</th>\n",
              "      <td>trump</td>\n",
              "      <td>family</td>\n",
              "      <td>liberal</td>\n",
              "      <td>chinese</td>\n",
              "      <td>canadian</td>\n",
              "      <td>canada</td>\n",
              "      <td>nt</td>\n",
              "      <td>doesn</td>\n",
              "      <td>s</td>\n",
              "      <td>inflation</td>\n",
              "      <td>will</td>\n",
              "      <td>bidenvisit</td>\n",
              "    </tr>\n",
              "    <tr>\n",
              "      <th>5</th>\n",
              "      <td>asked</td>\n",
              "      <td>wonder</td>\n",
              "      <td>so</td>\n",
              "      <td>hey</td>\n",
              "      <td>justintrudeau</td>\n",
              "      <td>poilievre</td>\n",
              "      <td>canadian</td>\n",
              "      <td>someone</td>\n",
              "      <td>president</td>\n",
              "      <td>set</td>\n",
              "      <td>tax</td>\n",
              "      <td>how</td>\n",
              "    </tr>\n",
              "    <tr>\n",
              "      <th>6</th>\n",
              "      <td>crime</td>\n",
              "      <td>taking</td>\n",
              "      <td>pierrepoilievre</td>\n",
              "      <td>democracy</td>\n",
              "      <td>right</td>\n",
              "      <td>think</td>\n",
              "      <td>free</td>\n",
              "      <td>trudeau</td>\n",
              "      <td>minister</td>\n",
              "      <td>michael</td>\n",
              "      <td>can</td>\n",
              "      <td>cpc_hq</td>\n",
              "    </tr>\n",
              "    <tr>\n",
              "      <th>7</th>\n",
              "      <td>criminal</td>\n",
              "      <td>find</td>\n",
              "      <td>party</td>\n",
              "      <td>lying</td>\n",
              "      <td>canada</td>\n",
              "      <td>just</td>\n",
              "      <td>act</td>\n",
              "      <td>cbc</td>\n",
              "      <td>canadian</td>\n",
              "      <td>change</td>\n",
              "      <td>don</td>\n",
              "      <td>new</td>\n",
              "    </tr>\n",
              "    <tr>\n",
              "      <th>8</th>\n",
              "      <td>4</td>\n",
              "      <td>continue</td>\n",
              "      <td>how</td>\n",
              "      <td>march</td>\n",
              "      <td>time</td>\n",
              "      <td>re</td>\n",
              "      <td>trudeaumustgo</td>\n",
              "      <td>markgerretsen</td>\n",
              "      <td>prime</td>\n",
              "      <td>economy</td>\n",
              "      <td>federal</td>\n",
              "      <td>face</td>\n",
              "    </tr>\n",
              "    <tr>\n",
              "      <th>9</th>\n",
              "      <td>abortion</td>\n",
              "      <td>abpoli</td>\n",
              "      <td>would</td>\n",
              "      <td>demand</td>\n",
              "      <td>very</td>\n",
              "      <td>get</td>\n",
              "      <td>guess</td>\n",
              "      <td>please</td>\n",
              "      <td>joe</td>\n",
              "      <td>price</td>\n",
              "      <td>come</td>\n",
              "      <td>sound</td>\n",
              "    </tr>\n",
              "  </tbody>\n",
              "</table>\n",
              "</div>\n",
              "    <div class=\"colab-df-buttons\">\n",
              "\n",
              "  <div class=\"colab-df-container\">\n",
              "    <button class=\"colab-df-convert\" onclick=\"convertToInteractive('df-de165447-d54c-4c47-a91a-b11eebcc6ebb')\"\n",
              "            title=\"Convert this dataframe to an interactive table.\"\n",
              "            style=\"display:none;\">\n",
              "\n",
              "  <svg xmlns=\"http://www.w3.org/2000/svg\" height=\"24px\" viewBox=\"0 -960 960 960\">\n",
              "    <path d=\"M120-120v-720h720v720H120Zm60-500h600v-160H180v160Zm220 220h160v-160H400v160Zm0 220h160v-160H400v160ZM180-400h160v-160H180v160Zm440 0h160v-160H620v160ZM180-180h160v-160H180v160Zm440 0h160v-160H620v160Z\"/>\n",
              "  </svg>\n",
              "    </button>\n",
              "\n",
              "  <style>\n",
              "    .colab-df-container {\n",
              "      display:flex;\n",
              "      gap: 12px;\n",
              "    }\n",
              "\n",
              "    .colab-df-convert {\n",
              "      background-color: #E8F0FE;\n",
              "      border: none;\n",
              "      border-radius: 50%;\n",
              "      cursor: pointer;\n",
              "      display: none;\n",
              "      fill: #1967D2;\n",
              "      height: 32px;\n",
              "      padding: 0 0 0 0;\n",
              "      width: 32px;\n",
              "    }\n",
              "\n",
              "    .colab-df-convert:hover {\n",
              "      background-color: #E2EBFA;\n",
              "      box-shadow: 0px 1px 2px rgba(60, 64, 67, 0.3), 0px 1px 3px 1px rgba(60, 64, 67, 0.15);\n",
              "      fill: #174EA6;\n",
              "    }\n",
              "\n",
              "    .colab-df-buttons div {\n",
              "      margin-bottom: 4px;\n",
              "    }\n",
              "\n",
              "    [theme=dark] .colab-df-convert {\n",
              "      background-color: #3B4455;\n",
              "      fill: #D2E3FC;\n",
              "    }\n",
              "\n",
              "    [theme=dark] .colab-df-convert:hover {\n",
              "      background-color: #434B5C;\n",
              "      box-shadow: 0px 1px 3px 1px rgba(0, 0, 0, 0.15);\n",
              "      filter: drop-shadow(0px 1px 2px rgba(0, 0, 0, 0.3));\n",
              "      fill: #FFFFFF;\n",
              "    }\n",
              "  </style>\n",
              "\n",
              "    <script>\n",
              "      const buttonEl =\n",
              "        document.querySelector('#df-de165447-d54c-4c47-a91a-b11eebcc6ebb button.colab-df-convert');\n",
              "      buttonEl.style.display =\n",
              "        google.colab.kernel.accessAllowed ? 'block' : 'none';\n",
              "\n",
              "      async function convertToInteractive(key) {\n",
              "        const element = document.querySelector('#df-de165447-d54c-4c47-a91a-b11eebcc6ebb');\n",
              "        const dataTable =\n",
              "          await google.colab.kernel.invokeFunction('convertToInteractive',\n",
              "                                                    [key], {});\n",
              "        if (!dataTable) return;\n",
              "\n",
              "        const docLinkHtml = 'Like what you see? Visit the ' +\n",
              "          '<a target=\"_blank\" href=https://colab.research.google.com/notebooks/data_table.ipynb>data table notebook</a>'\n",
              "          + ' to learn more about interactive tables.';\n",
              "        element.innerHTML = '';\n",
              "        dataTable['output_type'] = 'display_data';\n",
              "        await google.colab.output.renderOutput(dataTable, element);\n",
              "        const docLink = document.createElement('div');\n",
              "        docLink.innerHTML = docLinkHtml;\n",
              "        element.appendChild(docLink);\n",
              "      }\n",
              "    </script>\n",
              "  </div>\n",
              "\n",
              "\n",
              "<div id=\"df-93af51b8-5679-41b4-81ed-fea924e6840f\">\n",
              "  <button class=\"colab-df-quickchart\" onclick=\"quickchart('df-93af51b8-5679-41b4-81ed-fea924e6840f')\"\n",
              "            title=\"Suggest charts\"\n",
              "            style=\"display:none;\">\n",
              "\n",
              "<svg xmlns=\"http://www.w3.org/2000/svg\" height=\"24px\"viewBox=\"0 0 24 24\"\n",
              "     width=\"24px\">\n",
              "    <g>\n",
              "        <path d=\"M19 3H5c-1.1 0-2 .9-2 2v14c0 1.1.9 2 2 2h14c1.1 0 2-.9 2-2V5c0-1.1-.9-2-2-2zM9 17H7v-7h2v7zm4 0h-2V7h2v10zm4 0h-2v-4h2v4z\"/>\n",
              "    </g>\n",
              "</svg>\n",
              "  </button>\n",
              "\n",
              "<style>\n",
              "  .colab-df-quickchart {\n",
              "      --bg-color: #E8F0FE;\n",
              "      --fill-color: #1967D2;\n",
              "      --hover-bg-color: #E2EBFA;\n",
              "      --hover-fill-color: #174EA6;\n",
              "      --disabled-fill-color: #AAA;\n",
              "      --disabled-bg-color: #DDD;\n",
              "  }\n",
              "\n",
              "  [theme=dark] .colab-df-quickchart {\n",
              "      --bg-color: #3B4455;\n",
              "      --fill-color: #D2E3FC;\n",
              "      --hover-bg-color: #434B5C;\n",
              "      --hover-fill-color: #FFFFFF;\n",
              "      --disabled-bg-color: #3B4455;\n",
              "      --disabled-fill-color: #666;\n",
              "  }\n",
              "\n",
              "  .colab-df-quickchart {\n",
              "    background-color: var(--bg-color);\n",
              "    border: none;\n",
              "    border-radius: 50%;\n",
              "    cursor: pointer;\n",
              "    display: none;\n",
              "    fill: var(--fill-color);\n",
              "    height: 32px;\n",
              "    padding: 0;\n",
              "    width: 32px;\n",
              "  }\n",
              "\n",
              "  .colab-df-quickchart:hover {\n",
              "    background-color: var(--hover-bg-color);\n",
              "    box-shadow: 0 1px 2px rgba(60, 64, 67, 0.3), 0 1px 3px 1px rgba(60, 64, 67, 0.15);\n",
              "    fill: var(--button-hover-fill-color);\n",
              "  }\n",
              "\n",
              "  .colab-df-quickchart-complete:disabled,\n",
              "  .colab-df-quickchart-complete:disabled:hover {\n",
              "    background-color: var(--disabled-bg-color);\n",
              "    fill: var(--disabled-fill-color);\n",
              "    box-shadow: none;\n",
              "  }\n",
              "\n",
              "  .colab-df-spinner {\n",
              "    border: 2px solid var(--fill-color);\n",
              "    border-color: transparent;\n",
              "    border-bottom-color: var(--fill-color);\n",
              "    animation:\n",
              "      spin 1s steps(1) infinite;\n",
              "  }\n",
              "\n",
              "  @keyframes spin {\n",
              "    0% {\n",
              "      border-color: transparent;\n",
              "      border-bottom-color: var(--fill-color);\n",
              "      border-left-color: var(--fill-color);\n",
              "    }\n",
              "    20% {\n",
              "      border-color: transparent;\n",
              "      border-left-color: var(--fill-color);\n",
              "      border-top-color: var(--fill-color);\n",
              "    }\n",
              "    30% {\n",
              "      border-color: transparent;\n",
              "      border-left-color: var(--fill-color);\n",
              "      border-top-color: var(--fill-color);\n",
              "      border-right-color: var(--fill-color);\n",
              "    }\n",
              "    40% {\n",
              "      border-color: transparent;\n",
              "      border-right-color: var(--fill-color);\n",
              "      border-top-color: var(--fill-color);\n",
              "    }\n",
              "    60% {\n",
              "      border-color: transparent;\n",
              "      border-right-color: var(--fill-color);\n",
              "    }\n",
              "    80% {\n",
              "      border-color: transparent;\n",
              "      border-right-color: var(--fill-color);\n",
              "      border-bottom-color: var(--fill-color);\n",
              "    }\n",
              "    90% {\n",
              "      border-color: transparent;\n",
              "      border-bottom-color: var(--fill-color);\n",
              "    }\n",
              "  }\n",
              "</style>\n",
              "\n",
              "  <script>\n",
              "    async function quickchart(key) {\n",
              "      const quickchartButtonEl =\n",
              "        document.querySelector('#' + key + ' button');\n",
              "      quickchartButtonEl.disabled = true;  // To prevent multiple clicks.\n",
              "      quickchartButtonEl.classList.add('colab-df-spinner');\n",
              "      try {\n",
              "        const charts = await google.colab.kernel.invokeFunction(\n",
              "            'suggestCharts', [key], {});\n",
              "      } catch (error) {\n",
              "        console.error('Error during call to suggestCharts:', error);\n",
              "      }\n",
              "      quickchartButtonEl.classList.remove('colab-df-spinner');\n",
              "      quickchartButtonEl.classList.add('colab-df-quickchart-complete');\n",
              "    }\n",
              "    (() => {\n",
              "      let quickchartButtonEl =\n",
              "        document.querySelector('#df-93af51b8-5679-41b4-81ed-fea924e6840f button');\n",
              "      quickchartButtonEl.style.display =\n",
              "        google.colab.kernel.accessAllowed ? 'block' : 'none';\n",
              "    })();\n",
              "  </script>\n",
              "</div>\n",
              "\n",
              "    </div>\n",
              "  </div>\n"
            ],
            "application/vnd.google.colaboratory.intrinsic+json": {
              "type": "dataframe",
              "summary": "{\n  \"name\": \"get_lda_topics(LDA_model, best_num_topics,10)\",\n  \"rows\": 10,\n  \"fields\": [\n    {\n      \"column\": \"Topic #01\",\n      \"properties\": {\n        \"dtype\": \"string\",\n        \"num_unique_values\": 10,\n        \"samples\": [\n          \"4\",\n          \"intelligence\",\n          \"asked\"\n        ],\n        \"semantic_type\": \"\",\n        \"description\": \"\"\n      }\n    },\n    {\n      \"column\": \"Topic #02\",\n      \"properties\": {\n        \"dtype\": \"string\",\n        \"num_unique_values\": 10,\n        \"samples\": [\n          \"continue\",\n          \"cdnpoli\",\n          \"wonder\"\n        ],\n        \"semantic_type\": \"\",\n        \"description\": \"\"\n      }\n    },\n    {\n      \"column\": \"Topic #03\",\n      \"properties\": {\n        \"dtype\": \"string\",\n        \"num_unique_values\": 10,\n        \"samples\": [\n          \"how\",\n          \"cdnpoli\",\n          \"so\"\n        ],\n        \"semantic_type\": \"\",\n        \"description\": \"\"\n      }\n    },\n    {\n      \"column\": \"Topic #04\",\n      \"properties\": {\n        \"dtype\": \"string\",\n        \"num_unique_values\": 10,\n        \"samples\": [\n          \"march\",\n          \"foreign\",\n          \"hey\"\n        ],\n        \"semantic_type\": \"\",\n        \"description\": \"\"\n      }\n    },\n    {\n      \"column\": \"Topic #05\",\n      \"properties\": {\n        \"dtype\": \"string\",\n        \"num_unique_values\": 10,\n        \"samples\": [\n          \"time\",\n          \"s\",\n          \"justintrudeau\"\n        ],\n        \"semantic_type\": \"\",\n        \"description\": \"\"\n      }\n    },\n    {\n      \"column\": \"Topic #06\",\n      \"properties\": {\n        \"dtype\": \"string\",\n        \"num_unique_values\": 10,\n        \"samples\": [\n          \"re\",\n          \"cdnpoli\",\n          \"poilievre\"\n        ],\n        \"semantic_type\": \"\",\n        \"description\": \"\"\n      }\n    },\n    {\n      \"column\": \"Topic #07\",\n      \"properties\": {\n        \"dtype\": \"string\",\n        \"num_unique_values\": 10,\n        \"samples\": [\n          \"trudeaumustgo\",\n          \"dong\",\n          \"canadian\"\n        ],\n        \"semantic_type\": \"\",\n        \"description\": \"\"\n      }\n    },\n    {\n      \"column\": \"Topic #08\",\n      \"properties\": {\n        \"dtype\": \"string\",\n        \"num_unique_values\": 10,\n        \"samples\": [\n          \"markgerretsen\",\n          \"t\",\n          \"someone\"\n        ],\n        \"semantic_type\": \"\",\n        \"description\": \"\"\n      }\n    },\n    {\n      \"column\": \"Topic #09\",\n      \"properties\": {\n        \"dtype\": \"string\",\n        \"num_unique_values\": 10,\n        \"samples\": [\n          \"prime\",\n          \"biden\",\n          \"president\"\n        ],\n        \"semantic_type\": \"\",\n        \"description\": \"\"\n      }\n    },\n    {\n      \"column\": \"Topic #10\",\n      \"properties\": {\n        \"dtype\": \"string\",\n        \"num_unique_values\": 10,\n        \"samples\": [\n          \"economy\",\n          \"budget\",\n          \"set\"\n        ],\n        \"semantic_type\": \"\",\n        \"description\": \"\"\n      }\n    },\n    {\n      \"column\": \"Topic #11\",\n      \"properties\": {\n        \"dtype\": \"string\",\n        \"num_unique_values\": 10,\n        \"samples\": [\n          \"federal\",\n          \"s\",\n          \"tax\"\n        ],\n        \"semantic_type\": \"\",\n        \"description\": \"\"\n      }\n    },\n    {\n      \"column\": \"Topic #12\",\n      \"properties\": {\n        \"dtype\": \"string\",\n        \"num_unique_values\": 10,\n        \"samples\": [\n          \"face\",\n          \"pierrepoilievre\",\n          \"how\"\n        ],\n        \"semantic_type\": \"\",\n        \"description\": \"\"\n      }\n    }\n  ]\n}"
            }
          },
          "metadata": {},
          "execution_count": 57
        }
      ]
    },
    {
      "cell_type": "code",
      "source": [
        "LDA_model.print_topics()"
      ],
      "metadata": {
        "colab": {
          "base_uri": "https://localhost:8080/"
        },
        "id": "WsWIb1MIW_IV",
        "outputId": "f349e580-2aa5-4741-9aa3-620c8fddbb03"
      },
      "execution_count": 53,
      "outputs": [
        {
          "output_type": "execute_result",
          "data": {
            "text/plain": [
              "[(0,\n",
              "  '0.010*\"another\" + 0.008*\"law\" + 0.007*\"6\" + 0.006*\"intelligence\" + 0.005*\"csis\" + 0.005*\"bc\" + 0.004*\"abortion\" + 0.004*\"broke\" + 0.004*\"north\" + 0.004*\"school\"'),\n",
              " (1,\n",
              "  '0.009*\"foreign\" + 0.008*\"standing\" + 0.008*\"interference\" + 0.007*\"standwithukraine\" + 0.007*\"long\" + 0.007*\"mp\" + 0.006*\"trump\" + 0.006*\"ukraine\" + 0.006*\"allegation\" + 0.006*\"arrestputin\"'),\n",
              " (2,\n",
              "  '0.025*\"cdnpoli\" + 0.020*\"s\" + 0.015*\"pierrepoilievre\" + 0.013*\"party\" + 0.012*\"liberal\" + 0.011*\"canada\" + 0.010*\"conservative\" + 0.010*\"not\" + 0.009*\"canadian\" + 0.008*\"trudeau\"'),\n",
              " (3,\n",
              "  '0.012*\"chinese\" + 0.011*\"interference\" + 0.010*\"election\" + 0.009*\"act\" + 0.008*\"group\" + 0.007*\"demand\" + 0.006*\"bill\" + 0.006*\"clean\" + 0.006*\"must\" + 0.006*\"imagine\"'),\n",
              " (4,\n",
              "  '0.026*\"cdnpoli\" + 0.014*\"s\" + 0.009*\"need\" + 0.009*\"canadian\" + 0.007*\"ve\" + 0.007*\"very\" + 0.006*\"time\" + 0.006*\"globalnews\" + 0.006*\"so\" + 0.006*\"not\"'),\n",
              " (5,\n",
              "  '0.037*\"s\" + 0.023*\"cdnpoli\" + 0.013*\"not\" + 0.012*\"nt\" + 0.010*\"no\" + 0.010*\"like\" + 0.010*\"so\" + 0.010*\"just\" + 0.009*\"more\" + 0.008*\"canada\"'),\n",
              " (6,\n",
              "  '0.031*\"cdnpoli\" + 0.023*\"t\" + 0.011*\"canadian\" + 0.010*\"really\" + 0.009*\"don\" + 0.009*\"dong\" + 0.009*\"abpoli\" + 0.009*\"ableg\" + 0.007*\"not\" + 0.006*\"stop\"'),\n",
              " (7,\n",
              "  '0.033*\"cdnpoli\" + 0.010*\"canada\" + 0.009*\"house\" + 0.008*\"s\" + 0.008*\"onpoli\" + 0.007*\"t\" + 0.007*\"common\" + 0.006*\"not\" + 0.006*\"cdnpolitics\" + 0.006*\"may\"'),\n",
              " (8,\n",
              "  '0.055*\"cdnpoli\" + 0.031*\"biden\" + 0.020*\"trudeau\" + 0.020*\"canada\" + 0.014*\"s\" + 0.013*\"president\" + 0.010*\"joe\" + 0.008*\"justin\" + 0.008*\"bcpoli\" + 0.007*\"u\"'),\n",
              " (9,\n",
              "  '0.018*\"s\" + 0.016*\"cdnpoli\" + 0.010*\"budget\" + 0.009*\"canada\" + 0.009*\"tax\" + 0.008*\"will\" + 0.006*\"government\" + 0.006*\"not\" + 0.006*\"2023\" + 0.005*\"year\"')]"
            ]
          },
          "metadata": {},
          "execution_count": 53
        }
      ]
    },
    {
      "cell_type": "code",
      "source": [
        "doc_lda = LDA_model[corpus]"
      ],
      "metadata": {
        "id": "-BzydeRuXKqS"
      },
      "execution_count": 54,
      "outputs": []
    },
    {
      "cell_type": "code",
      "source": [
        "# Visualizing topics\n",
        "import pyLDAvis.gensim\n",
        "import pickle\n",
        "import pyLDAvis\n",
        "import os\n",
        "import copy\n",
        "\n",
        "# Visualize the topics\n",
        "pyLDAvis.enable_notebook()\n",
        "LDAvis_data_filepath = os.path.join('visualizations', 'LDAvis_prepared_'+str(10)+'.pkl')  # Adjust the path as needed\n",
        "# Check if the visualization data file exists\n",
        "if not os.path.exists(LDAvis_data_filepath):\n",
        "    # Prepare the visualization data\n",
        "    LDAvis_prepared = pyLDAvis.gensim.prepare(LDA_model, corpus, id2word)\n",
        "\n",
        "    # Exclude unpicklable elements from the LDAvis_prepared object\n",
        "    LDAvis_prepared_copy = copy.deepcopy(LDAvis_prepared)\n",
        "    LDAvis_prepared_copy.topic_info = None  # Exclude topic_info, which may contain unpicklable elements\n",
        "\n",
        "    # Save the modified visualization data to a file\n",
        "    with open(LDAvis_data_filepath, 'wb') as f:\n",
        "        pickle.dump(LDAvis_prepared_copy, f)\n",
        "else:\n",
        "    # Load the pre-prepared pyLDAvis data from disk\n",
        "    with open(LDAvis_data_filepath, 'rb') as f:\n",
        "        LDAvis_prepared = pickle.load(f)\n",
        "\n",
        "# Display the visualization\n",
        "pyLDAvis.display(LDAvis_prepared)\n"
      ],
      "metadata": {
        "colab": {
          "base_uri": "https://localhost:8080/",
          "height": 393
        },
        "id": "ZBilFt_OgKeK",
        "outputId": "18d1da8a-a820-4b10-dc8d-0e16f12feef0"
      },
      "execution_count": 55,
      "outputs": [
        {
          "output_type": "error",
          "ename": "ModuleNotFoundError",
          "evalue": "No module named 'pyLDAvis'",
          "traceback": [
            "\u001b[0;31m---------------------------------------------------------------------------\u001b[0m",
            "\u001b[0;31mModuleNotFoundError\u001b[0m                       Traceback (most recent call last)",
            "\u001b[0;32m<ipython-input-55-dccab5320f01>\u001b[0m in \u001b[0;36m<cell line: 2>\u001b[0;34m()\u001b[0m\n\u001b[1;32m      1\u001b[0m \u001b[0;31m# Visualizing topics\u001b[0m\u001b[0;34m\u001b[0m\u001b[0;34m\u001b[0m\u001b[0m\n\u001b[0;32m----> 2\u001b[0;31m \u001b[0;32mimport\u001b[0m \u001b[0mpyLDAvis\u001b[0m\u001b[0;34m.\u001b[0m\u001b[0mgensim\u001b[0m\u001b[0;34m\u001b[0m\u001b[0;34m\u001b[0m\u001b[0m\n\u001b[0m\u001b[1;32m      3\u001b[0m \u001b[0;32mimport\u001b[0m \u001b[0mpickle\u001b[0m\u001b[0;34m\u001b[0m\u001b[0;34m\u001b[0m\u001b[0m\n\u001b[1;32m      4\u001b[0m \u001b[0;32mimport\u001b[0m \u001b[0mpyLDAvis\u001b[0m\u001b[0;34m\u001b[0m\u001b[0;34m\u001b[0m\u001b[0m\n\u001b[1;32m      5\u001b[0m \u001b[0;32mimport\u001b[0m \u001b[0mos\u001b[0m\u001b[0;34m\u001b[0m\u001b[0;34m\u001b[0m\u001b[0m\n",
            "\u001b[0;31mModuleNotFoundError\u001b[0m: No module named 'pyLDAvis'",
            "",
            "\u001b[0;31m---------------------------------------------------------------------------\u001b[0;32m\nNOTE: If your import is failing due to a missing package, you can\nmanually install dependencies using either !pip or !apt.\n\nTo view examples of installing some common dependencies, click the\n\"Open Examples\" button below.\n\u001b[0;31m---------------------------------------------------------------------------\u001b[0m\n"
          ],
          "errorDetails": {
            "actions": [
              {
                "action": "open_url",
                "actionText": "Open Examples",
                "url": "/notebooks/snippets/importing_libraries.ipynb"
              }
            ]
          }
        }
      ]
    },
    {
      "cell_type": "code",
      "source": [
        "!pip install pandas"
      ],
      "metadata": {
        "id": "lm3ZGAQoghtF"
      },
      "execution_count": null,
      "outputs": []
    },
    {
      "cell_type": "markdown",
      "source": [
        "## Performance Evaluation"
      ],
      "metadata": {
        "id": "3Jhyex8v8mEf"
      }
    },
    {
      "cell_type": "markdown",
      "source": [
        "1. Eyeball\n",
        "2. Weird technique"
      ],
      "metadata": {
        "id": "vg3yXG9W82oJ"
      }
    },
    {
      "cell_type": "markdown",
      "source": [
        "## Playground"
      ],
      "metadata": {
        "id": "OffAIo5b1q45"
      }
    },
    {
      "cell_type": "code",
      "source": [
        "import spacy\n",
        "\n",
        "# Load the English language model\n",
        "nlp = spacy.load(\"en_core_web_sm\")\n",
        "\n",
        "def compute_relevance(word, sentence):\n",
        "    # Process the sentence\n",
        "    doc = nlp(sentence)\n",
        "    return doc.similarity(nlp(word))\n",
        "    # Compute relevance score for each token in the sentence\n",
        "    # relevance_scores = []\n",
        "    # for token in doc:\n",
        "    #     relevance_score = token.similarity(nlp(word))\n",
        "    #     relevance_scores.append(relevance_score)\n",
        "\n",
        "    # # Calculate the average relevance score\n",
        "    # average_relevance_score = sum(relevance_scores) / len(relevance_scores)\n",
        "\n",
        "    # return average_relevance_score\n",
        "\n",
        "sentence = \"Okay. Hello, this is X insurance calling regarding a liability decision as well as to verify if there were any injuries in your insurance vehicle. And to confirm if the policy is active on the date of loss for the claim number XXXXXXXX. The claim number is XXXXXXXX. The adjuster could be reached at XXX XXX XXXX. Thank you. And have a nice day\"\n",
        "word = \"Other insurance companies\"\n",
        "relevance_score = compute_relevance(word, sentence)\n",
        "print(relevance_score)"
      ],
      "metadata": {
        "id": "SXRtmiU_sf5_"
      },
      "execution_count": null,
      "outputs": []
    },
    {
      "cell_type": "markdown",
      "source": [
        "# Back-up"
      ],
      "metadata": {
        "id": "ocdXbJ2ubBZ7"
      }
    },
    {
      "cell_type": "code",
      "source": [
        "# bearer_token=\"AAAAAAAAAAAAAAAAAAAAABjFsgEAAAAAlpTaLAR1wJ2sut2HNk8oY2r9u28%3DRWpfy37hyg15PEYEQJAQwhjS9S3RasSkc1WV35KH1FhBPfAgjF\"\n",
        "\n",
        "\n",
        "# import tweepy as tw\n",
        "\n",
        "# client = tw.Client(bearer_token=bearer_token)\n",
        "\n",
        "\n",
        "# # ONLY RUN THIS CELL ONCE IN LAB SO AVOID GOING OVER THE RATE LIMIT FOR THIS ACCOUNT!\n",
        "\n",
        "# #Collect tweets (here, I get only 20)\n",
        "# search_words = '#toronto'\n",
        "\n",
        "# response = client.search_recent_tweets(search_words, max_results=100)\n",
        "# tweets = response.data\n",
        "\n",
        "\n",
        "# print(f'Number of tweets: {len(tweets)}')\n",
        "\n",
        "# # The result is an iterable\n",
        "# for tweet in tweets:\n",
        "#   print(tweet.text)\n",
        "\n",
        "# # Could also use a list comprehension\n",
        "\n",
        "\n",
        "# tweet_list = [tweet.text for tweet in tweets]\n",
        "# tweet_text = pd.DataFrame(tweet_list, columns = ['tweet'])\n",
        "\n",
        "# print(tweet_text.head(5))\n",
        "\n",
        "\n",
        "# # Extract handles\n",
        "# handle_regex = '@[A-Za-z|0-9]+'\n",
        "\n",
        "# tweet_text['handles'] = tweet_text['tweet'].str.findall(handle_regex)\n",
        "# print(tweet_text.head(10))\n",
        "\n",
        "\n",
        "# # Define the file path to save the DataFrame\n",
        "# file_path = 'twitter_data.txt'\n",
        "\n",
        "# # Write the DataFrame to a text file\n",
        "# tweet_text.to_csv(file_path, sep='\\t', index=False)\n",
        "\n",
        "# print(f\"DataFrame has been successfully written to '{file_path}'.\")"
      ],
      "metadata": {
        "id": "4GhWZV5PbhXX"
      },
      "execution_count": null,
      "outputs": []
    }
  ]
}