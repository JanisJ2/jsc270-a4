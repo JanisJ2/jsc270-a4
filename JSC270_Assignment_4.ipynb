{
  "nbformat": 4,
  "nbformat_minor": 0,
  "metadata": {
    "colab": {
      "provenance": [],
      "include_colab_link": true
    },
    "kernelspec": {
      "name": "python3",
      "display_name": "Python 3"
    },
    "language_info": {
      "name": "python"
    }
  },
  "cells": [
    {
      "cell_type": "markdown",
      "metadata": {
        "id": "view-in-github",
        "colab_type": "text"
      },
      "source": [
        "<a href=\"https://colab.research.google.com/github/JanisJ2/jsc270-a4/blob/main/JSC270_Assignment_4.ipynb\" target=\"_parent\"><img src=\"https://colab.research.google.com/assets/colab-badge.svg\" alt=\"Open In Colab\"/></a>"
      ]
    },
    {
      "cell_type": "markdown",
      "source": [
        "Github link: https://github.com/JanisJ2/jsc270-a4 \\\n",
        "Group member:\n",
        "- Christoffer Tan (1008740445)\n",
        "- Janis Joplin (10097515051)\n"
      ],
      "metadata": {
        "id": "nOx_bQ-RmImT"
      }
    },
    {
      "cell_type": "code",
      "source": [
        "# Import necessary modules\n",
        "from google.colab import files\n",
        "import io\n",
        "import sys\n",
        "import re\n",
        "\n",
        "import numpy as np\n",
        "import pandas as pd\n",
        "\n",
        "import matplotlib.pyplot as plt\n",
        "from matplotlib.colors import ListedColormap\n",
        "\n",
        "from sklearn.datasets import make_blobs\n",
        "from sklearn.cluster import KMeans\n",
        "from sklearn.metrics import silhouette_score\n",
        "from sklearn.preprocessing import StandardScaler\n",
        "from sklearn.cluster import AgglomerativeClustering\n",
        "from sklearn.feature_extraction.text import TfidfTransformer\n",
        "from sklearn.feature_extraction.text import CountVectorizer\n",
        "\n",
        "from scipy.cluster.hierarchy import dendrogram, linkage\n",
        "\n",
        "import seaborn as sns\n",
        "\n",
        "import nltk\n",
        "nltk.download('punkt')  # Tokenizer\n",
        "from nltk.corpus import stopwords\n",
        "nltk.download('stopwords')\n",
        "from nltk.stem.porter import *"
      ],
      "metadata": {
        "colab": {
          "base_uri": "https://localhost:8080/"
        },
        "id": "2eTJeDCkwpdC",
        "outputId": "b2aba6b2-da22-4e3a-d37e-255d2b543198"
      },
      "execution_count": 115,
      "outputs": [
        {
          "output_type": "stream",
          "name": "stderr",
          "text": [
            "[nltk_data] Downloading package punkt to /root/nltk_data...\n",
            "[nltk_data]   Package punkt is already up-to-date!\n",
            "[nltk_data] Downloading package stopwords to /root/nltk_data...\n",
            "[nltk_data]   Package stopwords is already up-to-date!\n"
          ]
        }
      ]
    },
    {
      "cell_type": "code",
      "source": [
        "# Read the dataset from GitHub\n",
        "!wget \"https://raw.githubusercontent.com/JanisJ2/jsc270-a4/main/covid-tweets-train.csv\"\n",
        "!wget \"https://raw.githubusercontent.com/JanisJ2/jsc270-a4/main/covid-tweets-test.csv\""
      ],
      "metadata": {
        "colab": {
          "base_uri": "https://localhost:8080/"
        },
        "id": "3GbY3rOzxcej",
        "outputId": "b41023f0-d96c-4137-cc0d-fc6b95f61cb5"
      },
      "execution_count": 103,
      "outputs": [
        {
          "output_type": "stream",
          "name": "stdout",
          "text": [
            "--2024-03-24 20:56:17--  https://raw.githubusercontent.com/JanisJ2/jsc270-a4/main/covid-tweets-train.csv\n",
            "Resolving raw.githubusercontent.com (raw.githubusercontent.com)... 185.199.108.133, 185.199.109.133, 185.199.110.133, ...\n",
            "Connecting to raw.githubusercontent.com (raw.githubusercontent.com)|185.199.108.133|:443... connected.\n",
            "HTTP request sent, awaiting response... 200 OK\n",
            "Length: 8991364 (8.6M) [text/plain]\n",
            "Saving to: ‘covid-tweets-train.csv.3’\n",
            "\n",
            "covid-tweets-train. 100%[===================>]   8.57M  --.-KB/s    in 0.09s   \n",
            "\n",
            "2024-03-24 20:56:18 (97.9 MB/s) - ‘covid-tweets-train.csv.3’ saved [8991364/8991364]\n",
            "\n",
            "--2024-03-24 20:56:18--  https://raw.githubusercontent.com/JanisJ2/jsc270-a4/main/covid-tweets-test.csv\n",
            "Resolving raw.githubusercontent.com (raw.githubusercontent.com)... 185.199.111.133, 185.199.109.133, 185.199.110.133, ...\n",
            "Connecting to raw.githubusercontent.com (raw.githubusercontent.com)|185.199.111.133|:443... connected.\n",
            "HTTP request sent, awaiting response... 200 OK\n",
            "Length: 866735 (846K) [text/plain]\n",
            "Saving to: ‘covid-tweets-test.csv.3’\n",
            "\n",
            "covid-tweets-test.c 100%[===================>] 846.42K  --.-KB/s    in 0.04s   \n",
            "\n",
            "2024-03-24 20:56:18 (18.5 MB/s) - ‘covid-tweets-test.csv.3’ saved [866735/866735]\n",
            "\n"
          ]
        }
      ]
    },
    {
      "cell_type": "code",
      "source": [
        "# Read the train data from CSV file\n",
        "train_data = pd.read_csv('covid-tweets-train.csv')\n",
        "train_data.columns = ['Label', 'Message', 'Sentiment']\n",
        "train_data.head()"
      ],
      "metadata": {
        "colab": {
          "base_uri": "https://localhost:8080/",
          "height": 206
        },
        "id": "7ltXkzDaxl2K",
        "outputId": "ccb55916-5ea9-461c-b24e-c57377b7648f"
      },
      "execution_count": 104,
      "outputs": [
        {
          "output_type": "execute_result",
          "data": {
            "text/plain": [
              "   Label                                            Message Sentiment\n",
              "0      0  @MeNyrbie @Phil_Gahan @Chrisitv https://t.co/i...         1\n",
              "1      1  advice Talk to your neighbours family to excha...         2\n",
              "2      2  Coronavirus Australia: Woolworths to give elde...         2\n",
              "3      3  My food stock is not the only one which is emp...         2\n",
              "4      4  Me, ready to go at supermarket during the #COV...         0"
            ],
            "text/html": [
              "\n",
              "  <div id=\"df-899d6579-ee53-4c21-bb0c-77b1e7b8945f\" class=\"colab-df-container\">\n",
              "    <div>\n",
              "<style scoped>\n",
              "    .dataframe tbody tr th:only-of-type {\n",
              "        vertical-align: middle;\n",
              "    }\n",
              "\n",
              "    .dataframe tbody tr th {\n",
              "        vertical-align: top;\n",
              "    }\n",
              "\n",
              "    .dataframe thead th {\n",
              "        text-align: right;\n",
              "    }\n",
              "</style>\n",
              "<table border=\"1\" class=\"dataframe\">\n",
              "  <thead>\n",
              "    <tr style=\"text-align: right;\">\n",
              "      <th></th>\n",
              "      <th>Label</th>\n",
              "      <th>Message</th>\n",
              "      <th>Sentiment</th>\n",
              "    </tr>\n",
              "  </thead>\n",
              "  <tbody>\n",
              "    <tr>\n",
              "      <th>0</th>\n",
              "      <td>0</td>\n",
              "      <td>@MeNyrbie @Phil_Gahan @Chrisitv https://t.co/i...</td>\n",
              "      <td>1</td>\n",
              "    </tr>\n",
              "    <tr>\n",
              "      <th>1</th>\n",
              "      <td>1</td>\n",
              "      <td>advice Talk to your neighbours family to excha...</td>\n",
              "      <td>2</td>\n",
              "    </tr>\n",
              "    <tr>\n",
              "      <th>2</th>\n",
              "      <td>2</td>\n",
              "      <td>Coronavirus Australia: Woolworths to give elde...</td>\n",
              "      <td>2</td>\n",
              "    </tr>\n",
              "    <tr>\n",
              "      <th>3</th>\n",
              "      <td>3</td>\n",
              "      <td>My food stock is not the only one which is emp...</td>\n",
              "      <td>2</td>\n",
              "    </tr>\n",
              "    <tr>\n",
              "      <th>4</th>\n",
              "      <td>4</td>\n",
              "      <td>Me, ready to go at supermarket during the #COV...</td>\n",
              "      <td>0</td>\n",
              "    </tr>\n",
              "  </tbody>\n",
              "</table>\n",
              "</div>\n",
              "    <div class=\"colab-df-buttons\">\n",
              "\n",
              "  <div class=\"colab-df-container\">\n",
              "    <button class=\"colab-df-convert\" onclick=\"convertToInteractive('df-899d6579-ee53-4c21-bb0c-77b1e7b8945f')\"\n",
              "            title=\"Convert this dataframe to an interactive table.\"\n",
              "            style=\"display:none;\">\n",
              "\n",
              "  <svg xmlns=\"http://www.w3.org/2000/svg\" height=\"24px\" viewBox=\"0 -960 960 960\">\n",
              "    <path d=\"M120-120v-720h720v720H120Zm60-500h600v-160H180v160Zm220 220h160v-160H400v160Zm0 220h160v-160H400v160ZM180-400h160v-160H180v160Zm440 0h160v-160H620v160ZM180-180h160v-160H180v160Zm440 0h160v-160H620v160Z\"/>\n",
              "  </svg>\n",
              "    </button>\n",
              "\n",
              "  <style>\n",
              "    .colab-df-container {\n",
              "      display:flex;\n",
              "      gap: 12px;\n",
              "    }\n",
              "\n",
              "    .colab-df-convert {\n",
              "      background-color: #E8F0FE;\n",
              "      border: none;\n",
              "      border-radius: 50%;\n",
              "      cursor: pointer;\n",
              "      display: none;\n",
              "      fill: #1967D2;\n",
              "      height: 32px;\n",
              "      padding: 0 0 0 0;\n",
              "      width: 32px;\n",
              "    }\n",
              "\n",
              "    .colab-df-convert:hover {\n",
              "      background-color: #E2EBFA;\n",
              "      box-shadow: 0px 1px 2px rgba(60, 64, 67, 0.3), 0px 1px 3px 1px rgba(60, 64, 67, 0.15);\n",
              "      fill: #174EA6;\n",
              "    }\n",
              "\n",
              "    .colab-df-buttons div {\n",
              "      margin-bottom: 4px;\n",
              "    }\n",
              "\n",
              "    [theme=dark] .colab-df-convert {\n",
              "      background-color: #3B4455;\n",
              "      fill: #D2E3FC;\n",
              "    }\n",
              "\n",
              "    [theme=dark] .colab-df-convert:hover {\n",
              "      background-color: #434B5C;\n",
              "      box-shadow: 0px 1px 3px 1px rgba(0, 0, 0, 0.15);\n",
              "      filter: drop-shadow(0px 1px 2px rgba(0, 0, 0, 0.3));\n",
              "      fill: #FFFFFF;\n",
              "    }\n",
              "  </style>\n",
              "\n",
              "    <script>\n",
              "      const buttonEl =\n",
              "        document.querySelector('#df-899d6579-ee53-4c21-bb0c-77b1e7b8945f button.colab-df-convert');\n",
              "      buttonEl.style.display =\n",
              "        google.colab.kernel.accessAllowed ? 'block' : 'none';\n",
              "\n",
              "      async function convertToInteractive(key) {\n",
              "        const element = document.querySelector('#df-899d6579-ee53-4c21-bb0c-77b1e7b8945f');\n",
              "        const dataTable =\n",
              "          await google.colab.kernel.invokeFunction('convertToInteractive',\n",
              "                                                    [key], {});\n",
              "        if (!dataTable) return;\n",
              "\n",
              "        const docLinkHtml = 'Like what you see? Visit the ' +\n",
              "          '<a target=\"_blank\" href=https://colab.research.google.com/notebooks/data_table.ipynb>data table notebook</a>'\n",
              "          + ' to learn more about interactive tables.';\n",
              "        element.innerHTML = '';\n",
              "        dataTable['output_type'] = 'display_data';\n",
              "        await google.colab.output.renderOutput(dataTable, element);\n",
              "        const docLink = document.createElement('div');\n",
              "        docLink.innerHTML = docLinkHtml;\n",
              "        element.appendChild(docLink);\n",
              "      }\n",
              "    </script>\n",
              "  </div>\n",
              "\n",
              "\n",
              "<div id=\"df-5183cb4b-65de-439b-87ac-479cb2aa41c4\">\n",
              "  <button class=\"colab-df-quickchart\" onclick=\"quickchart('df-5183cb4b-65de-439b-87ac-479cb2aa41c4')\"\n",
              "            title=\"Suggest charts\"\n",
              "            style=\"display:none;\">\n",
              "\n",
              "<svg xmlns=\"http://www.w3.org/2000/svg\" height=\"24px\"viewBox=\"0 0 24 24\"\n",
              "     width=\"24px\">\n",
              "    <g>\n",
              "        <path d=\"M19 3H5c-1.1 0-2 .9-2 2v14c0 1.1.9 2 2 2h14c1.1 0 2-.9 2-2V5c0-1.1-.9-2-2-2zM9 17H7v-7h2v7zm4 0h-2V7h2v10zm4 0h-2v-4h2v4z\"/>\n",
              "    </g>\n",
              "</svg>\n",
              "  </button>\n",
              "\n",
              "<style>\n",
              "  .colab-df-quickchart {\n",
              "      --bg-color: #E8F0FE;\n",
              "      --fill-color: #1967D2;\n",
              "      --hover-bg-color: #E2EBFA;\n",
              "      --hover-fill-color: #174EA6;\n",
              "      --disabled-fill-color: #AAA;\n",
              "      --disabled-bg-color: #DDD;\n",
              "  }\n",
              "\n",
              "  [theme=dark] .colab-df-quickchart {\n",
              "      --bg-color: #3B4455;\n",
              "      --fill-color: #D2E3FC;\n",
              "      --hover-bg-color: #434B5C;\n",
              "      --hover-fill-color: #FFFFFF;\n",
              "      --disabled-bg-color: #3B4455;\n",
              "      --disabled-fill-color: #666;\n",
              "  }\n",
              "\n",
              "  .colab-df-quickchart {\n",
              "    background-color: var(--bg-color);\n",
              "    border: none;\n",
              "    border-radius: 50%;\n",
              "    cursor: pointer;\n",
              "    display: none;\n",
              "    fill: var(--fill-color);\n",
              "    height: 32px;\n",
              "    padding: 0;\n",
              "    width: 32px;\n",
              "  }\n",
              "\n",
              "  .colab-df-quickchart:hover {\n",
              "    background-color: var(--hover-bg-color);\n",
              "    box-shadow: 0 1px 2px rgba(60, 64, 67, 0.3), 0 1px 3px 1px rgba(60, 64, 67, 0.15);\n",
              "    fill: var(--button-hover-fill-color);\n",
              "  }\n",
              "\n",
              "  .colab-df-quickchart-complete:disabled,\n",
              "  .colab-df-quickchart-complete:disabled:hover {\n",
              "    background-color: var(--disabled-bg-color);\n",
              "    fill: var(--disabled-fill-color);\n",
              "    box-shadow: none;\n",
              "  }\n",
              "\n",
              "  .colab-df-spinner {\n",
              "    border: 2px solid var(--fill-color);\n",
              "    border-color: transparent;\n",
              "    border-bottom-color: var(--fill-color);\n",
              "    animation:\n",
              "      spin 1s steps(1) infinite;\n",
              "  }\n",
              "\n",
              "  @keyframes spin {\n",
              "    0% {\n",
              "      border-color: transparent;\n",
              "      border-bottom-color: var(--fill-color);\n",
              "      border-left-color: var(--fill-color);\n",
              "    }\n",
              "    20% {\n",
              "      border-color: transparent;\n",
              "      border-left-color: var(--fill-color);\n",
              "      border-top-color: var(--fill-color);\n",
              "    }\n",
              "    30% {\n",
              "      border-color: transparent;\n",
              "      border-left-color: var(--fill-color);\n",
              "      border-top-color: var(--fill-color);\n",
              "      border-right-color: var(--fill-color);\n",
              "    }\n",
              "    40% {\n",
              "      border-color: transparent;\n",
              "      border-right-color: var(--fill-color);\n",
              "      border-top-color: var(--fill-color);\n",
              "    }\n",
              "    60% {\n",
              "      border-color: transparent;\n",
              "      border-right-color: var(--fill-color);\n",
              "    }\n",
              "    80% {\n",
              "      border-color: transparent;\n",
              "      border-right-color: var(--fill-color);\n",
              "      border-bottom-color: var(--fill-color);\n",
              "    }\n",
              "    90% {\n",
              "      border-color: transparent;\n",
              "      border-bottom-color: var(--fill-color);\n",
              "    }\n",
              "  }\n",
              "</style>\n",
              "\n",
              "  <script>\n",
              "    async function quickchart(key) {\n",
              "      const quickchartButtonEl =\n",
              "        document.querySelector('#' + key + ' button');\n",
              "      quickchartButtonEl.disabled = true;  // To prevent multiple clicks.\n",
              "      quickchartButtonEl.classList.add('colab-df-spinner');\n",
              "      try {\n",
              "        const charts = await google.colab.kernel.invokeFunction(\n",
              "            'suggestCharts', [key], {});\n",
              "      } catch (error) {\n",
              "        console.error('Error during call to suggestCharts:', error);\n",
              "      }\n",
              "      quickchartButtonEl.classList.remove('colab-df-spinner');\n",
              "      quickchartButtonEl.classList.add('colab-df-quickchart-complete');\n",
              "    }\n",
              "    (() => {\n",
              "      let quickchartButtonEl =\n",
              "        document.querySelector('#df-5183cb4b-65de-439b-87ac-479cb2aa41c4 button');\n",
              "      quickchartButtonEl.style.display =\n",
              "        google.colab.kernel.accessAllowed ? 'block' : 'none';\n",
              "    })();\n",
              "  </script>\n",
              "</div>\n",
              "\n",
              "    </div>\n",
              "  </div>\n"
            ],
            "application/vnd.google.colaboratory.intrinsic+json": {
              "type": "dataframe",
              "variable_name": "train_data",
              "summary": "{\n  \"name\": \"train_data\",\n  \"rows\": 41155,\n  \"fields\": [\n    {\n      \"column\": \"Label\",\n      \"properties\": {\n        \"dtype\": \"number\",\n        \"std\": 11880,\n        \"min\": 0,\n        \"max\": 41154,\n        \"num_unique_values\": 41155,\n        \"samples\": [\n          14623,\n          23458,\n          8170\n        ],\n        \"semantic_type\": \"\",\n        \"description\": \"\"\n      }\n    },\n    {\n      \"column\": \"Message\",\n      \"properties\": {\n        \"dtype\": \"string\",\n        \"num_unique_values\": 41155,\n        \"samples\": [\n          \"So panic buying of soaps and toilet roll was bad enough, now the idiots are stockpiling alcohol ? whats wrong with people #CoronaVirus #StopPanicBuying #Covid_19\",\n          \"Talked to the excellent about about transmission risk at the supermarket As usual good hand hygiene avoid crowds and physical distancing are the way to go\",\n          \"\\\"Saudi Arabia is bracing for an economic downturn as oil prices plummet due to the #coronavirus pandemic\\\" https://t.co/PQ3eRX9euZ\"\n        ],\n        \"semantic_type\": \"\",\n        \"description\": \"\"\n      }\n    },\n    {\n      \"column\": \"Sentiment\",\n      \"properties\": {\n        \"dtype\": \"category\",\n        \"num_unique_values\": 5,\n        \"samples\": [\n          \"2\",\n          \" England\\\"\",\n          \"0\"\n        ],\n        \"semantic_type\": \"\",\n        \"description\": \"\"\n      }\n    }\n  ]\n}"
            }
          },
          "metadata": {},
          "execution_count": 104
        }
      ]
    },
    {
      "cell_type": "code",
      "source": [
        "# Read the test data from CSV file\n",
        "test_data = pd.read_csv('covid-tweets-test.csv')\n",
        "test_data.columns = ['Label', 'Message', 'Sentiment']\n",
        "test_data.head()"
      ],
      "metadata": {
        "colab": {
          "base_uri": "https://localhost:8080/",
          "height": 206
        },
        "id": "EaD1usnayUa6",
        "outputId": "2b4df2d9-8c4e-4ed6-9fef-c374184786c2"
      },
      "execution_count": 105,
      "outputs": [
        {
          "output_type": "execute_result",
          "data": {
            "text/plain": [
              "   Label                                            Message  Sentiment\n",
              "0      0  TRENDING: New Yorkers encounter empty supermar...          0\n",
              "1      1  When I couldn't find hand sanitizer at Fred Me...          2\n",
              "2      2  Find out how you can protect yourself and love...          2\n",
              "3      3  #Panic buying hits #NewYork City as anxious sh...          0\n",
              "4      4  #toiletpaper #dunnypaper #coronavirus #coronav...          1"
            ],
            "text/html": [
              "\n",
              "  <div id=\"df-d918d4f7-3b33-4fb9-b591-3639bfe68250\" class=\"colab-df-container\">\n",
              "    <div>\n",
              "<style scoped>\n",
              "    .dataframe tbody tr th:only-of-type {\n",
              "        vertical-align: middle;\n",
              "    }\n",
              "\n",
              "    .dataframe tbody tr th {\n",
              "        vertical-align: top;\n",
              "    }\n",
              "\n",
              "    .dataframe thead th {\n",
              "        text-align: right;\n",
              "    }\n",
              "</style>\n",
              "<table border=\"1\" class=\"dataframe\">\n",
              "  <thead>\n",
              "    <tr style=\"text-align: right;\">\n",
              "      <th></th>\n",
              "      <th>Label</th>\n",
              "      <th>Message</th>\n",
              "      <th>Sentiment</th>\n",
              "    </tr>\n",
              "  </thead>\n",
              "  <tbody>\n",
              "    <tr>\n",
              "      <th>0</th>\n",
              "      <td>0</td>\n",
              "      <td>TRENDING: New Yorkers encounter empty supermar...</td>\n",
              "      <td>0</td>\n",
              "    </tr>\n",
              "    <tr>\n",
              "      <th>1</th>\n",
              "      <td>1</td>\n",
              "      <td>When I couldn't find hand sanitizer at Fred Me...</td>\n",
              "      <td>2</td>\n",
              "    </tr>\n",
              "    <tr>\n",
              "      <th>2</th>\n",
              "      <td>2</td>\n",
              "      <td>Find out how you can protect yourself and love...</td>\n",
              "      <td>2</td>\n",
              "    </tr>\n",
              "    <tr>\n",
              "      <th>3</th>\n",
              "      <td>3</td>\n",
              "      <td>#Panic buying hits #NewYork City as anxious sh...</td>\n",
              "      <td>0</td>\n",
              "    </tr>\n",
              "    <tr>\n",
              "      <th>4</th>\n",
              "      <td>4</td>\n",
              "      <td>#toiletpaper #dunnypaper #coronavirus #coronav...</td>\n",
              "      <td>1</td>\n",
              "    </tr>\n",
              "  </tbody>\n",
              "</table>\n",
              "</div>\n",
              "    <div class=\"colab-df-buttons\">\n",
              "\n",
              "  <div class=\"colab-df-container\">\n",
              "    <button class=\"colab-df-convert\" onclick=\"convertToInteractive('df-d918d4f7-3b33-4fb9-b591-3639bfe68250')\"\n",
              "            title=\"Convert this dataframe to an interactive table.\"\n",
              "            style=\"display:none;\">\n",
              "\n",
              "  <svg xmlns=\"http://www.w3.org/2000/svg\" height=\"24px\" viewBox=\"0 -960 960 960\">\n",
              "    <path d=\"M120-120v-720h720v720H120Zm60-500h600v-160H180v160Zm220 220h160v-160H400v160Zm0 220h160v-160H400v160ZM180-400h160v-160H180v160Zm440 0h160v-160H620v160ZM180-180h160v-160H180v160Zm440 0h160v-160H620v160Z\"/>\n",
              "  </svg>\n",
              "    </button>\n",
              "\n",
              "  <style>\n",
              "    .colab-df-container {\n",
              "      display:flex;\n",
              "      gap: 12px;\n",
              "    }\n",
              "\n",
              "    .colab-df-convert {\n",
              "      background-color: #E8F0FE;\n",
              "      border: none;\n",
              "      border-radius: 50%;\n",
              "      cursor: pointer;\n",
              "      display: none;\n",
              "      fill: #1967D2;\n",
              "      height: 32px;\n",
              "      padding: 0 0 0 0;\n",
              "      width: 32px;\n",
              "    }\n",
              "\n",
              "    .colab-df-convert:hover {\n",
              "      background-color: #E2EBFA;\n",
              "      box-shadow: 0px 1px 2px rgba(60, 64, 67, 0.3), 0px 1px 3px 1px rgba(60, 64, 67, 0.15);\n",
              "      fill: #174EA6;\n",
              "    }\n",
              "\n",
              "    .colab-df-buttons div {\n",
              "      margin-bottom: 4px;\n",
              "    }\n",
              "\n",
              "    [theme=dark] .colab-df-convert {\n",
              "      background-color: #3B4455;\n",
              "      fill: #D2E3FC;\n",
              "    }\n",
              "\n",
              "    [theme=dark] .colab-df-convert:hover {\n",
              "      background-color: #434B5C;\n",
              "      box-shadow: 0px 1px 3px 1px rgba(0, 0, 0, 0.15);\n",
              "      filter: drop-shadow(0px 1px 2px rgba(0, 0, 0, 0.3));\n",
              "      fill: #FFFFFF;\n",
              "    }\n",
              "  </style>\n",
              "\n",
              "    <script>\n",
              "      const buttonEl =\n",
              "        document.querySelector('#df-d918d4f7-3b33-4fb9-b591-3639bfe68250 button.colab-df-convert');\n",
              "      buttonEl.style.display =\n",
              "        google.colab.kernel.accessAllowed ? 'block' : 'none';\n",
              "\n",
              "      async function convertToInteractive(key) {\n",
              "        const element = document.querySelector('#df-d918d4f7-3b33-4fb9-b591-3639bfe68250');\n",
              "        const dataTable =\n",
              "          await google.colab.kernel.invokeFunction('convertToInteractive',\n",
              "                                                    [key], {});\n",
              "        if (!dataTable) return;\n",
              "\n",
              "        const docLinkHtml = 'Like what you see? Visit the ' +\n",
              "          '<a target=\"_blank\" href=https://colab.research.google.com/notebooks/data_table.ipynb>data table notebook</a>'\n",
              "          + ' to learn more about interactive tables.';\n",
              "        element.innerHTML = '';\n",
              "        dataTable['output_type'] = 'display_data';\n",
              "        await google.colab.output.renderOutput(dataTable, element);\n",
              "        const docLink = document.createElement('div');\n",
              "        docLink.innerHTML = docLinkHtml;\n",
              "        element.appendChild(docLink);\n",
              "      }\n",
              "    </script>\n",
              "  </div>\n",
              "\n",
              "\n",
              "<div id=\"df-6b6e1c08-12ae-4a1d-9847-c414dd7c01c6\">\n",
              "  <button class=\"colab-df-quickchart\" onclick=\"quickchart('df-6b6e1c08-12ae-4a1d-9847-c414dd7c01c6')\"\n",
              "            title=\"Suggest charts\"\n",
              "            style=\"display:none;\">\n",
              "\n",
              "<svg xmlns=\"http://www.w3.org/2000/svg\" height=\"24px\"viewBox=\"0 0 24 24\"\n",
              "     width=\"24px\">\n",
              "    <g>\n",
              "        <path d=\"M19 3H5c-1.1 0-2 .9-2 2v14c0 1.1.9 2 2 2h14c1.1 0 2-.9 2-2V5c0-1.1-.9-2-2-2zM9 17H7v-7h2v7zm4 0h-2V7h2v10zm4 0h-2v-4h2v4z\"/>\n",
              "    </g>\n",
              "</svg>\n",
              "  </button>\n",
              "\n",
              "<style>\n",
              "  .colab-df-quickchart {\n",
              "      --bg-color: #E8F0FE;\n",
              "      --fill-color: #1967D2;\n",
              "      --hover-bg-color: #E2EBFA;\n",
              "      --hover-fill-color: #174EA6;\n",
              "      --disabled-fill-color: #AAA;\n",
              "      --disabled-bg-color: #DDD;\n",
              "  }\n",
              "\n",
              "  [theme=dark] .colab-df-quickchart {\n",
              "      --bg-color: #3B4455;\n",
              "      --fill-color: #D2E3FC;\n",
              "      --hover-bg-color: #434B5C;\n",
              "      --hover-fill-color: #FFFFFF;\n",
              "      --disabled-bg-color: #3B4455;\n",
              "      --disabled-fill-color: #666;\n",
              "  }\n",
              "\n",
              "  .colab-df-quickchart {\n",
              "    background-color: var(--bg-color);\n",
              "    border: none;\n",
              "    border-radius: 50%;\n",
              "    cursor: pointer;\n",
              "    display: none;\n",
              "    fill: var(--fill-color);\n",
              "    height: 32px;\n",
              "    padding: 0;\n",
              "    width: 32px;\n",
              "  }\n",
              "\n",
              "  .colab-df-quickchart:hover {\n",
              "    background-color: var(--hover-bg-color);\n",
              "    box-shadow: 0 1px 2px rgba(60, 64, 67, 0.3), 0 1px 3px 1px rgba(60, 64, 67, 0.15);\n",
              "    fill: var(--button-hover-fill-color);\n",
              "  }\n",
              "\n",
              "  .colab-df-quickchart-complete:disabled,\n",
              "  .colab-df-quickchart-complete:disabled:hover {\n",
              "    background-color: var(--disabled-bg-color);\n",
              "    fill: var(--disabled-fill-color);\n",
              "    box-shadow: none;\n",
              "  }\n",
              "\n",
              "  .colab-df-spinner {\n",
              "    border: 2px solid var(--fill-color);\n",
              "    border-color: transparent;\n",
              "    border-bottom-color: var(--fill-color);\n",
              "    animation:\n",
              "      spin 1s steps(1) infinite;\n",
              "  }\n",
              "\n",
              "  @keyframes spin {\n",
              "    0% {\n",
              "      border-color: transparent;\n",
              "      border-bottom-color: var(--fill-color);\n",
              "      border-left-color: var(--fill-color);\n",
              "    }\n",
              "    20% {\n",
              "      border-color: transparent;\n",
              "      border-left-color: var(--fill-color);\n",
              "      border-top-color: var(--fill-color);\n",
              "    }\n",
              "    30% {\n",
              "      border-color: transparent;\n",
              "      border-left-color: var(--fill-color);\n",
              "      border-top-color: var(--fill-color);\n",
              "      border-right-color: var(--fill-color);\n",
              "    }\n",
              "    40% {\n",
              "      border-color: transparent;\n",
              "      border-right-color: var(--fill-color);\n",
              "      border-top-color: var(--fill-color);\n",
              "    }\n",
              "    60% {\n",
              "      border-color: transparent;\n",
              "      border-right-color: var(--fill-color);\n",
              "    }\n",
              "    80% {\n",
              "      border-color: transparent;\n",
              "      border-right-color: var(--fill-color);\n",
              "      border-bottom-color: var(--fill-color);\n",
              "    }\n",
              "    90% {\n",
              "      border-color: transparent;\n",
              "      border-bottom-color: var(--fill-color);\n",
              "    }\n",
              "  }\n",
              "</style>\n",
              "\n",
              "  <script>\n",
              "    async function quickchart(key) {\n",
              "      const quickchartButtonEl =\n",
              "        document.querySelector('#' + key + ' button');\n",
              "      quickchartButtonEl.disabled = true;  // To prevent multiple clicks.\n",
              "      quickchartButtonEl.classList.add('colab-df-spinner');\n",
              "      try {\n",
              "        const charts = await google.colab.kernel.invokeFunction(\n",
              "            'suggestCharts', [key], {});\n",
              "      } catch (error) {\n",
              "        console.error('Error during call to suggestCharts:', error);\n",
              "      }\n",
              "      quickchartButtonEl.classList.remove('colab-df-spinner');\n",
              "      quickchartButtonEl.classList.add('colab-df-quickchart-complete');\n",
              "    }\n",
              "    (() => {\n",
              "      let quickchartButtonEl =\n",
              "        document.querySelector('#df-6b6e1c08-12ae-4a1d-9847-c414dd7c01c6 button');\n",
              "      quickchartButtonEl.style.display =\n",
              "        google.colab.kernel.accessAllowed ? 'block' : 'none';\n",
              "    })();\n",
              "  </script>\n",
              "</div>\n",
              "\n",
              "    </div>\n",
              "  </div>\n"
            ],
            "application/vnd.google.colaboratory.intrinsic+json": {
              "type": "dataframe",
              "variable_name": "test_data",
              "summary": "{\n  \"name\": \"test_data\",\n  \"rows\": 3798,\n  \"fields\": [\n    {\n      \"column\": \"Label\",\n      \"properties\": {\n        \"dtype\": \"number\",\n        \"std\": 1096,\n        \"min\": 0,\n        \"max\": 3797,\n        \"num_unique_values\": 3798,\n        \"samples\": [\n          1070,\n          354,\n          881\n        ],\n        \"semantic_type\": \"\",\n        \"description\": \"\"\n      }\n    },\n    {\n      \"column\": \"Message\",\n      \"properties\": {\n        \"dtype\": \"string\",\n        \"num_unique_values\": 3798,\n        \"samples\": [\n          \"At my local grocery store in New Hampshire... #coronavirus #Covid_19 #NationalEmergency https://t.co/AXuMBSfNU9\",\n          \"Seeing resellers sell masks, alcohols and other necessities in prices which are 5-15x more expensive compared to SRPs makes me wonder how can people be so heartless, insensitive, and opportunistic in these times of crisis. #COVID2019\",\n          \"Where did coronavirus come from, and where will it take us? An interview with Rob Wallace, author of Big Farms Make Big Flu\\r\\r\\n\\r\\r\\n\\r\\r\\n\\r\\r\\nhttps://t.co/Hqp68iu1iN https://t.co/dR4Ys2hCOy\"\n        ],\n        \"semantic_type\": \"\",\n        \"description\": \"\"\n      }\n    },\n    {\n      \"column\": \"Sentiment\",\n      \"properties\": {\n        \"dtype\": \"number\",\n        \"std\": 0,\n        \"min\": 0,\n        \"max\": 2,\n        \"num_unique_values\": 3,\n        \"samples\": [\n          0,\n          2,\n          1\n        ],\n        \"semantic_type\": \"\",\n        \"description\": \"\"\n      }\n    }\n  ]\n}"
            }
          },
          "metadata": {},
          "execution_count": 105
        }
      ]
    },
    {
      "cell_type": "markdown",
      "source": [
        "# Part I"
      ],
      "metadata": {
        "id": "4cDujdn7m_6M"
      }
    },
    {
      "cell_type": "markdown",
      "source": [
        "## a)"
      ],
      "metadata": {
        "id": "px6QeKNAxsWI"
      }
    },
    {
      "cell_type": "code",
      "source": [
        "# Given the a data set, it will return the proportion of the observations belong the a sentiment type\n",
        "def proportion_of_sentiment(data, sentiment_type):\n",
        "    return (data['Sentiment'] == sentiment_type).sum() / len(data['Sentiment'])\n",
        "\n",
        "\n",
        "for i in range(3):\n",
        "    print(f\"The proportion of the observations belong to sentiment type {i}: {proportion_of_sentiment(train_data, str(i))}\")"
      ],
      "metadata": {
        "colab": {
          "base_uri": "https://localhost:8080/"
        },
        "id": "P7glpGdjxtay",
        "outputId": "4c2040d5-c304-4e73-afd0-08be80039f71"
      },
      "execution_count": 106,
      "outputs": [
        {
          "output_type": "stream",
          "name": "stdout",
          "text": [
            "The proportion of the observations belong to sentiment type 0: 0.374122220872312\n",
            "The proportion of the observations belong to sentiment type 1: 0.18738913862228163\n",
            "The proportion of the observations belong to sentiment type 2: 0.4383914469687766\n"
          ]
        }
      ]
    },
    {
      "cell_type": "markdown",
      "source": [
        "## b)"
      ],
      "metadata": {
        "id": "44JVVuDywCOR"
      }
    },
    {
      "cell_type": "code",
      "execution_count": 107,
      "metadata": {
        "id": "yoXSDjI6kcsb",
        "colab": {
          "base_uri": "https://localhost:8080/"
        },
        "outputId": "0e85542b-237d-445a-b4ab-7986a4fe0519"
      },
      "outputs": [
        {
          "output_type": "stream",
          "name": "stdout",
          "text": [
            "0    [@, MeNyrbie, @, Phil_Gahan, @, Chrisitv, http...\n",
            "1    [advice, Talk, to, your, neighbours, family, t...\n",
            "2    [Coronavirus, Australia, :, Woolworths, to, gi...\n",
            "3    [My, food, stock, is, not, the, only, one, whi...\n",
            "4    [Me, ,, ready, to, go, at, supermarket, during...\n",
            "Name: Tokens, dtype: object\n"
          ]
        }
      ],
      "source": [
        "def tokenize(data):\n",
        "    data['Tokens'] = data['Message'].apply(nltk.word_tokenize)\n",
        "\n",
        "\n",
        "tokenize(train_data)\n",
        "print(train_data['Tokens'].head())"
      ]
    },
    {
      "cell_type": "markdown",
      "source": [
        "## c)"
      ],
      "metadata": {
        "id": "TWccBIH4HjGb"
      }
    },
    {
      "cell_type": "code",
      "source": [
        "def remove_url(data):\n",
        "    tokens_no_url = []\n",
        "\n",
        "    # for the tokens of each row, remove all occurences of url\n",
        "    for row in data['Tokens']:\n",
        "        tokens_no_url.append([re.sub('^http', '', t) for t in row])\n",
        "\n",
        "    # Replace our tokens with the url-removed version\n",
        "    data['Tokens'] = tokens_no_url\n",
        "\n",
        "\n",
        "remove_url(train_data)\n",
        "train_data['Tokens'].head()"
      ],
      "metadata": {
        "colab": {
          "base_uri": "https://localhost:8080/"
        },
        "id": "LjNabPjNHhj9",
        "outputId": "05ed9781-95ea-409a-eedc-eff3d1486f5d"
      },
      "execution_count": 108,
      "outputs": [
        {
          "output_type": "execute_result",
          "data": {
            "text/plain": [
              "0    [@, MeNyrbie, @, Phil_Gahan, @, Chrisitv, s, :...\n",
              "1    [advice, Talk, to, your, neighbours, family, t...\n",
              "2    [Coronavirus, Australia, :, Woolworths, to, gi...\n",
              "3    [My, food, stock, is, not, the, only, one, whi...\n",
              "4    [Me, ,, ready, to, go, at, supermarket, during...\n",
              "Name: Tokens, dtype: object"
            ]
          },
          "metadata": {},
          "execution_count": 108
        }
      ]
    },
    {
      "cell_type": "markdown",
      "source": [
        "## d)"
      ],
      "metadata": {
        "id": "sWM2Bhwq_Hxc"
      }
    },
    {
      "cell_type": "code",
      "source": [
        "def remove_punctuation(data):\n",
        "    tokens_no_punct = []\n",
        "    # For the tokens of each row, remove all occurrences of punctuations (i.e. non-alphanumeric and non-whitespace)\n",
        "    for row in data['Tokens']:\n",
        "        tokens_no_punct.append([re.sub('[^\\w\\s]', '', t) for t in row])\n",
        "    # Replace our tokens with the punctuation-removed version\n",
        "    data['Tokens'] = tokens_no_punct\n",
        "\n",
        "def convert_to_lowercase(data):\n",
        "    lowercase_tokens = []\n",
        "    # For the tokens of each row, convert all strings to lowercase\n",
        "    for row in data['Tokens']:\n",
        "        lowercase_tokens.append([t.lower() for t in row])\n",
        "    # Replace our tokens with the lowercase version\n",
        "    data['Tokens'] = lowercase_tokens\n",
        "\n",
        "\n",
        "remove_punctuation(train_data)\n",
        "convert_to_lowercase(train_data)\n",
        "train_data['Tokens'].head()"
      ],
      "metadata": {
        "colab": {
          "base_uri": "https://localhost:8080/"
        },
        "id": "0XIsIT2b_KI3",
        "outputId": "f41f0770-50d1-4487-cde1-fb0621b15b57"
      },
      "execution_count": 109,
      "outputs": [
        {
          "output_type": "execute_result",
          "data": {
            "text/plain": [
              "0    [, menyrbie, , phil_gahan, , chrisitv, s, , tc...\n",
              "1    [advice, talk, to, your, neighbours, family, t...\n",
              "2    [coronavirus, australia, , woolworths, to, giv...\n",
              "3    [my, food, stock, is, not, the, only, one, whi...\n",
              "4    [me, , ready, to, go, at, supermarket, during,...\n",
              "Name: Tokens, dtype: object"
            ]
          },
          "metadata": {},
          "execution_count": 109
        }
      ]
    },
    {
      "cell_type": "markdown",
      "source": [
        "## e)"
      ],
      "metadata": {
        "id": "6J18_NrxIiDH"
      }
    },
    {
      "cell_type": "code",
      "source": [
        "def stemming_tokens(data):\n",
        "    ### Stemming our dataset using PorterStemmer\n",
        "    stemmer = PorterStemmer()\n",
        "\n",
        "    stemmed_tokens = []\n",
        "    for row in data['Tokens']:\n",
        "      stemmed_tokens.append([stemmer.stem(t) for t in row])\n",
        "\n",
        "    data['Tokens'] = stemmed_tokens\n",
        "\n",
        "stemming_tokens(train_data)\n",
        "train_data['Tokens'].head()"
      ],
      "metadata": {
        "id": "WQj0e2CBK5TP",
        "outputId": "e5a746ca-e6fc-4c93-bff5-da58a39bd90b",
        "colab": {
          "base_uri": "https://localhost:8080/"
        }
      },
      "execution_count": 110,
      "outputs": [
        {
          "output_type": "execute_result",
          "data": {
            "text/plain": [
              "0    [, menyrbi, , phil_gahan, , chrisitv, s, , tco...\n",
              "1    [advic, talk, to, your, neighbour, famili, to,...\n",
              "2    [coronaviru, australia, , woolworth, to, give,...\n",
              "3    [my, food, stock, is, not, the, onli, one, whi...\n",
              "4    [me, , readi, to, go, at, supermarket, dure, t...\n",
              "Name: Tokens, dtype: object"
            ]
          },
          "metadata": {},
          "execution_count": 110
        }
      ]
    },
    {
      "cell_type": "markdown",
      "source": [
        "## f)"
      ],
      "metadata": {
        "id": "Gu3KjZjPIj7J"
      }
    },
    {
      "cell_type": "code",
      "source": [
        "def remove_stopwords(data):\n",
        "    sw = stopwords.words('english')[:100]\n",
        "    tokens_no_sw = []\n",
        "    # For the tokens of each row, remove all occurrences of stopwords\n",
        "    for row in data['Tokens']:\n",
        "        tokens_no_sw.append([w for w in row if w not in sw])\n",
        "    # Replace our tokens with the stopwords-removed version\n",
        "    data['Tokens'] = tokens_no_sw\n",
        "\n",
        "\n",
        "remove_stopwords(train_data)\n",
        "train_data['Tokens'].head()"
      ],
      "metadata": {
        "id": "9CbMFoGFIlL1",
        "outputId": "f2b4f87f-53a9-4fd5-cbcd-52d8da5bc916",
        "colab": {
          "base_uri": "https://localhost:8080/"
        }
      },
      "execution_count": 111,
      "outputs": [
        {
          "output_type": "execute_result",
          "data": {
            "text/plain": [
              "0    [, menyrbi, , phil_gahan, , chrisitv, s, , tco...\n",
              "1    [advic, talk, neighbour, famili, exchang, phon...\n",
              "2    [coronaviru, australia, , woolworth, give, eld...\n",
              "3    [food, stock, not, onli, one, empti, , pleas, ...\n",
              "4    [, readi, go, supermarket, dure, , covid19, ou...\n",
              "Name: Tokens, dtype: object"
            ]
          },
          "metadata": {},
          "execution_count": 111
        }
      ]
    },
    {
      "cell_type": "markdown",
      "source": [
        "## g)"
      ],
      "metadata": {
        "id": "ZLJZW4b3N4T-"
      }
    },
    {
      "cell_type": "code",
      "source": [
        "def split_tokens_and_label(data):\n",
        "    return data['Tokens'].to_numpy(), data['Label'].to_numpy()\n",
        "\n",
        "def override_fcn(doc):\n",
        "  # We expect a list of tokens as input\n",
        "  return doc\n",
        "\n",
        "def convert_to_vector(X):\n",
        "    # Count Vectorizer\n",
        "    count_vec = CountVectorizer(\n",
        "        analyzer='word',\n",
        "        tokenizer= override_fcn,\n",
        "        preprocessor= override_fcn,\n",
        "        token_pattern= None,\n",
        "        max_features = 1000)\n",
        "\n",
        "    # Remember this output is a Scipy Sparse Array\n",
        "    counts = count_vec.fit_transform(X)\n",
        "    print(counts.toarray())\n",
        "\n",
        "    # Print this mapping as dictionary\n",
        "    print(count_vec.vocabulary_)\n",
        "\n",
        "    # Print the length of the vocabulary\n",
        "    print(f'The length of the vocabulary is {len(count_vec.vocabulary_)}')\n",
        "\n",
        "X, y = split_tokens_and_label(train_data)\n",
        "convert_to_vector(X)"
      ],
      "metadata": {
        "id": "oV8tABixN8f2",
        "outputId": "49e3a9ca-d24d-4dd9-89cd-5c6a5810ca7b",
        "colab": {
          "base_uri": "https://localhost:8080/"
        }
      },
      "execution_count": 135,
      "outputs": [
        {
          "output_type": "stream",
          "name": "stdout",
          "text": [
            "[[6 0 0 ... 0 0 0]\n",
            " [0 0 0 ... 0 0 0]\n",
            " [3 0 0 ... 0 0 0]\n",
            " ...\n",
            " [7 0 0 ... 0 0 0]\n",
            " [4 0 0 ... 0 0 0]\n",
            " [5 0 0 ... 0 0 0]]\n",
            "{'': 0, 's': 739, 'advic': 38, 'talk': 866, 'famili': 331, 'phone': 634, 'number': 586, 'creat': 219, 'contact': 188, 'list': 499, 'school': 755, 'employ': 297, 'set': 774, 'onlin': 598, 'shop': 784, 'account': 27, 'suppli': 855, 'not': 580, 'order': 604, 'coronaviru': 197, 'australia': 80, 'give': 375, 'elderli': 293, 'disabl': 256, 'hour': 430, 'amid': 58, 'covid19': 212, 'outbreak': 607, 'food': 353, 'stock': 836, 'onli': 597, 'one': 596, 'empti': 299, 'pleas': 643, 'nt': 585, 'panic': 615, 'there': 879, 'will': 976, 'enough': 304, 'everyon': 315, 'take': 864, 'more': 558, 'than': 875, 'need': 570, 'stay': 828, 'calm': 131, 'safe': 740, 'covid_19': 215, 'readi': 694, 'go': 379, 'supermarket': 854, 'dure': 280, 'becaus': 96, 'm': 520, 'seriou': 770, 'thing': 883, 'caus': 147, 'shortag': 787, 'stayathom': 829, 'news': 573, 'first': 349, 'confirm': 185, 'case': 143, 'came': 132, 'counti': 207, 'last': 478, 'week': 967, 'peopl': 629, 'area': 73, 'store': 841, 'purchas': 678, 'clean': 164, 'hand': 403, 'sanit': 746, 'toilet': 895, 'paper': 618, 'other': 606, 'good': 385, 'report': 713, 'cashier': 145, 'groceri': 393, 'wa': 949, 'share': 777, 'hi': 418, 'insight': 454, 'so': 805, 'know': 475, 'today': 893, 'buy': 126, 'toiletpapercrisi': 897, 'due': 279, 'retail': 726, 'open': 600, 'busi': 125, 'next': 574, 'two': 924, 'begin': 99, 'monday': 555, 'march': 529, 'continu': 190, 'process': 670, 'normal': 579, 'thank': 876, 'understand': 927, 'corona': 195, 'prevent': 665, 'should': 788, 'stop': 838, 'cash': 144, 'use': 935, 'payment': 628, 'can': 133, 'spread': 822, 'note': 581, 'also': 52, 'home': 427, 'time': 891, 'fight': 341, 'covid': 211, '19': 8, 'all': 48, 'month': 557, 'ha': 400, 'crowd': 223, 'restaur': 722, 'howev': 434, 'reduc': 703, 'close': 168, 'mean': 538, 'now': 584, 'same': 745, 'singl': 797, 'lockdown': 508, 'covid2019': 214, 'situat': 800, 'increas': 446, 'demand': 244, 'product': 672, 'wait': 951, 'may': 535, 'longer': 511, 'pack': 611, 'thi': 882, 'care': 140, 'commun': 177, 'look': 512, 'less': 490, 'ensur': 305, 'healthi': 412, 'bring': 123, 'door': 272, 'help': 414, 'self': 762, 'isol': 459, 'symptom': 861, 'expos': 323, 'll': 503, 'just': 468, 'amazon': 55, 'deliv': 242, 'releas': 707, 'resourc': 718, 'travel': 914, 'brand': 120, 'consum': 187, 'behavior': 100, 'trend': 917, 'line': 497, 'eat': 285, 'find': 346, 'avoid': 83, 'right': 730, 'russia': 738, 'high': 419, 'where': 973, 'man': 525, 'whole': 975, 'fresh': 359, 'deliveri': 243, 'seen': 761, 'â': 999, 'said': 742, 'result': 725, 'system': 862, 'impact': 442, 'affect': 39, 'struggl': 846, 'consid': 186, 'donat': 268, 'bank': 91, 'servic': 773, 'job': 466, 'way': 963, 'life': 493, '100': 4, 'nation': 567, 'world': 987, 'must': 564, 'play': 642, 'china': 159, 'new': 572, 'chines': 160, 'global': 377, 'pandem': 614, 'sale': 744, 'accord': 26, 'studi': 848, 'amaz': 54, 'cheap': 155, 'deal': 235, 'price': 666, 'us': 933, 'done': 269, 'essenti': 309, 'restock': 723, 'activ': 31, 'left': 489, 'checkout': 157, 'staff': 823, 'polic': 649, 'action': 30, 'selfish': 763, 'profit': 673, 'uk': 926, 'major': 523, 'expect': 319, '12': 5, 'see': 759, 'full': 367, 'confid': 184, 'here': 415, 'prepar': 661, 'higher': 420, 'potenti': 655, '10': 3, 'morn': 559, 'test': 874, 'posit': 652, 'feel': 339, 'ok': 593, 'no': 578, 'far': 332, 'sinc': 796, 'found': 356, 'possibl': 653, 'viru': 944, 'keep': 469, 'updat': 931, 'how': 433, 'iâm': 464, 'depart': 245, 'worker': 986, 'protect': 675, 'digit': 254, 'complaint': 180, 'click': 167, 'word': 984, 'soon': 815, 'break': 122, 'amp': 61, 'crisi': 221, 'massiv': 533, 'countri': 208, 'shelv': 779, 'unit': 929, 'state': 826, 'coronavirusoutbreak': 198, 'collaps': 172, 'closur': 169, 'could': 206, 'via': 942, 'fact': 327, 'cough': 205, 'get': 373, 'aisl': 45, 'pretti': 664, 'quickli': 686, 're': 691, 'say': 751, 'event': 312, 'cancel': 135, 'health': 410, 'top': 904, 'prioriti': 667, 'ani': 62, 'answer': 65, 'link': 498, 'went': 970, 'yesterday': 995, 'gone': 384, 'anyth': 68, 'ye': 993, 'point': 648, 'post': 654, 'photo': 635, 'stuff': 849, 'parent': 619, 'kid': 471, 'etc': 310, 'ca': 128, 'themselv': 878, 'everyth': 316, 'worri': 988, 'current': 226, 'financ': 344, 'some': 812, 'tip': 892, 'manag': 526, 'money': 556, 'challeng': 151, 'work': 985, 'custom': 227, 'request': 714, 'compani': 178, 'cost': 204, 'team': 869, 'disinfect': 260, 'gon': 383, 'na': 566, 'sick': 792, 'capit': 137, 'like': 495, 'without': 980, 'provid': 676, 'experi': 320, 'associ': 79, 'place': 639, 'think': 884, 'shopper': 785, 'lot': 516, 'bc': 95, 'too': 902, 'extra': 324, 'economi': 289, 'stayhom': 830, 'check': 156, 'video': 943, 'usa': 934, 'market': 530, 'die': 251, 'walmart': 954, 'stori': 842, 'cloth': 170, 'rise': 731, 'quarantinelif': 682, 'outsid': 608, 'target': 867, 'south': 817, 'basic': 94, 'hit': 423, 'someon': 813, 'live': 502, 'own': 609, '2': 9, 'local': 505, 'issu': 460, 'around': 74, 'offer': 588, 'free': 358, 'anyon': 67, 'half': 402, 'complet': 181, 'call': 130, 'idiot': 439, 'never': 571, 'thought': 886, 'd': 229, 'come': 174, 'back': 87, 'stoppanicbuy': 840, 'restrict': 724, 'run': 737, 'yet': 996, 'day': 234, 'weâr': 971, 'befor': 98, 'fear': 336, 'medicin': 543, 'cure': 225, 'remain': 709, 'emerg': 296, 'socialdistanc': 808, 'whi': 974, 'water': 962, 'shut': 790, 'lose': 513, 'canât': 136, 'afford': 40, 'worth': 990, 'dear': 236, 've': 939, 'follow': 352, 'social': 807, 'distanc': 262, 'rule': 736, 'amount': 60, 'let': 491, 'across': 28, 'sever': 775, 'pressur': 663, 'well': 969, 'great': 392, 'import': 443, 'wash': 959, 'crazi': 218, 'clerk': 166, 'front': 361, 'respond': 720, 'hard': 408, 'serv': 772, 'face': 326, 'near': 568, 'futur': 369, 'mani': 527, 'lost': 515, 'scammer': 753, 'advantag': 37, 'alert': 47, '4': 15, 'both': 116, 'mask': 531, 'made': 521, 'medic': 542, 'requir': 715, 'packag': 612, 'make': 524, 'safeti': 741, 'still': 834, 'ship': 781, 'love': 517, 'told': 899, 'chang': 153, 'daili': 230, 'bought': 118, 'hous': 431, 'group': 394, 'itâ': 463, 'total': 905, 'stockpil': 837, 'hygien': 437, 'thatâ': 877, 'when': 972, 'realli': 697, 'necessari': 569, '3': 13, 'hope': 428, 'kind': 473, 'donât': 271, 'thereâ': 880, 'noth': 582, 'scare': 754, 'send': 767, 'skyrocket': 801, 'gt': 397, 'coronavirusupd': 201, 'student': 847, 'loan': 504, 'addit': 35, 'interest': 457, 'collect': 173, 'would': 991, 'much': 563, 'immedi': 441, 'relief': 708, 'econom': 288, 'side': 793, 'alreadi': 51, 'though': 885, 'detail': 249, 'wage': 950, 'urg': 932, 'support': 856, 'bill': 109, 'includ': 444, 'meal': 537, 'ceo': 148, 'show': 789, 'saw': 750, 'coupl': 209, 'roll': 733, 'tp': 909, 'mayb': 536, 'surg': 858, 'borisjohnson': 115, 'charg': 154, 'inflat': 450, 'item': 462, 'govern': 389, 'someth': 814, 'ago': 42, 'put': 680, 'pick': 636, 'ecommerc': 287, 'folk': 351, 'idea': 438, 'special': 819, 'senior': 768, 'head': 409, 'happen': 406, 'dont': 270, 'spend': 820, 'hold': 426, 'organ': 605, 'household': 432, 'debt': 238, 'respons': 721, 'sign': 794, 'want': 955, 'doe': 265, 'low': 518, 'mind': 550, 'stupid': 850, 'plan': 640, 'such': 851, 'bread': 121, 'iâv': 465, 'save': 749, '1': 2, 'n': 565, 'got': 386, 'hire': 422, 'oper': 601, 'public': 677, 'hoard': 424, 'absolut': 24, 'chain': 150, 'probabl': 668, 'fruit': 363, 'veget': 940, 'human': 436, 'might': 547, 'forget': 355, 'alway': 53, 'easi': 283, '2020': 11, 'pictur': 638, 'tri': 918, 'except': 318, 'gener': 372, 'offic': 589, 'sure': 857, 'effect': 290, 'ration': 690, 'frontlin': 362, 'extrem': 325, 'move': 562, 'best': 105, 'opportun': 602, 'key': 470, 'biggest': 108, 'employe': 298, 'receiv': 699, 'leav': 488, 'even': 311, 'wo': 981, 'paid': 613, 'instead': 455, 'quarantin': 681, 'especi': 308, 'littl': 501, 'few': 340, 'took': 903, 'meat': 540, 'panicbuy': 616, 'buyer': 127, 'coronavirusuk': 200, 'anxieti': 66, 'slot': 802, 'seem': 760, 'fine': 347, 'email': 295, 'bottl': 117, 'short': 786, 'risk': 732, '6': 18, 'recess': 701, 'three': 889, 'street': 843, 'credit': 220, 'second': 756, 'shock': 783, 'later': 480, 'final': 343, 'end': 301, 'real': 695, 'drive': 275, 'earli': 282, 'each': 281, 'chanc': 152, '20': 10, 'handl': 404, '60': 19, 'polici': 650, 'locat': 506, 'precaut': 660, 'light': 494, 'effort': 291, 'problem': 669, 'rice': 728, 'year': 994, 'wast': 960, 'date': 233, 'hoarder': 425, 'temporarili': 871, 'read': 693, 'return': 727, 'financi': 345, 'feder': 337, 'regul': 705, 'most': 561, 'veri': 941, 'poor': 651, 'clear': 165, 'relat': 706, 'friend': 360, 'act': 29, 'stand': 824, 'woman': 982, '5': 16, 'box': 119, 'agre': 43, 'youâr': 998, 'walk': 953, 'shit': 782, 'avail': 82, 'awar': 84, 'scam': 752, 'media': 541, 'websit': 966, 'visit': 945, 'abl': 23, 'tell': 870, 'respect': 719, 'least': 487, 'notic': 583, 'industri': 448, 'trump': 922, 'cut': 228, 'secur': 758, 'benefit': 104, 'condit': 183, 'concern': 182, 'rememb': 710, 'option': 603, 'appreci': 71, 'limit': 496, 'push': 679, 'toward': 907, 'pickup': 637, 'per': 630, 'cart': 142, 'happi': 407, 'small': 804, 'measur': 539, 'person': 632, 'info': 451, 'sourc': 816, 'queue': 684, 'theyâr': 881, 'base': 93, 'ask': 77, 'app': 70, 'toiletpap': 896, 'bad': 88, 'habit': 401, 'wear': 964, 'leader': 485, 'imagin': 440, '7': 20, 'wake': 952, 'wonder': 983, 'past': 624, 'start': 825, 'catch': 146, 'delay': 241, 'car': 138, 'transport': 913, 'wipe': 978, 'hear': 413, 'believ': 103, 'feed': 338, 'long': 510, 'pasta': 625, 'game': 371, 'differ': 252, 'shelf': 778, 'control': 192, 'realdonaldtrump': 696, 'actual': 32, 'soap': 806, 'enter': 306, 'staysaf': 832, 'grow': 395, 'surviv': 860, '8': 21, '9': 22, 'announc': 63, 'add': 34, 'sanitis': 747, 'old': 594, 'encourag': 300, 'citi': 161, 'kill': 472, 'sell': 765, 'almost': 50, 'remind': 711, 'corpor': 203, 'america': 56, 'turn': 923, 'night': 577, 'gov': 388, 'driver': 276, 'togeth': 894, 'sold': 810, 'mass': 532, 'contract': 191, 'milk': 548, 'treat': 915, 'god': 380, 'develop': 250, 'fill': 342, 'survey': 859, 'suggest': 853, 'selfisol': 764, 'american': 57, 'taken': 865, 't': 863, 'rate': 688, 'oil': 592, 'guess': 398, 'step': 833, 'build': 124, 'join': 467, 'contain': 189, 'given': 376, 'meet': 544, 'discuss': 258, 'decid': 239, 'infect': 449, 'fund': 368, '50': 17, 'becom': 97, 'sector': 757, 'access': 25, 'coronaviruspandem': 199, 'critic': 222, 'citizen': 162, 'warn': 958, 'late': 479, 'drop': 277, 'latest': 481, 'invest': 458, 'articl': 75, 'trade': 911, 'fake': 329, 'usual': 936, 'regard': 704, 'vaccin': 937, 'away': 85, 'boost': 114, 'pantri': 617, 'level': 492, 'everi': 314, 'fuck': 365, 'goe': 381, 'wors': 989, 'canada': 134, 'youtub': 997, 'space': 818, 'nice': 576, 'pay': 627, 'lead': 484, 'ban': 90, 'shame': 776, 'growth': 396, 'question': 683, 'manufactur': 528, 'shutdown': 791, 'big': 107, '15': 7, 'asda': 76, 'tesco': 873, 'morrison': 560, 'sainsburi': 743, 'wish': 979, 'hospit': 429, 'behaviour': 101, 'war': 956, 'threat': 888, 'true': 921, 'stress': 844, 'fail': 328, 'difficult': 253, 'huge': 435, 'strong': 845, 'unpreced': 930, 'agricultur': 44, 'children': 158, 'learn': 486, 'danger': 231, 'tonight': 901, 'presid': 662, 'allow': 49, 'trip': 919, 'pharmaci': 633, 'fraud': 357, 'inform': 452, 'commiss': 175, 'vulner': 947, 'member': 545, 'insur': 456, 'commod': 176, 'deserv': 246, 'els': 294, 'giant': 374, 'ad': 33, 'patient': 626, 'partner': 622, 'hike': 421, 'ebay': 286, 'ridicul': 729, 'bare': 92, 'track': 910, 'blog': 112, 'kit': 474, 'pm': 647, 'research': 716, 'author': 81, 'design': 247, 'slow': 803, 'diseas': 259, 'egg': 292, 'london': 509, 'april': 72, 'doctor': 264, 'plung': 646, 'societi': 809, 'larg': 477, 'serious': 771, 'itali': 461, 'india': 447, 'incom': 445, 'station': 827, 'listen': 500, 'till': 890, 'quick': 685, 'watch': 961, 'fall': 330, 'energi': 302, 'ga': 370, 'shift': 780, 'fuel': 366, 'power': 656, 'stophoard': 839, 'period': 631, 'town': 908, 'tomorrow': 900, 'owner': 610, '14': 6, 'wine': 977, 'reach': 692, 'lock': 507, 'guy': 399, 'address': 36, 'plenti': 644, 'nurs': 587, 'better': 106, 'cover': 210, 'despit': 248, 'opec': 599, 'lower': 519, 'treatment': 916, 'crash': 217, 'billion': 110, 'babi': 86, 'hey': 417, 'ladi': 476, 'produc': 671, 'drug': 278, 'pass': 623, 'term': 872, 'tax': 868, 'rais': 687, 'suffer': 852, 'carri': 141, 'behind': 102, 'recent': 700, 'rs': 734, 'practic': 659, 'assist': 78, 'fast': 335, 'glove': 378, 'goug': 387, 'messag': 546, 'death': 237, 'ever': 313, 'data': 232, 'card': 139, 'touch': 906, 'age': 41, 'farm': 333, 'launch': 482, 'healthcar': 411, 'crude': 224, 'million': 549, 'toiletpaperpan': 898, 'bag': 89, 'thousand': 887, 'weekli': 968, 'dollar': 266, 'site': 799, 'law': 483, '30': 14, 'part': 621, 'anoth': 64, 'governor': 390, 'resid': 717, 'oh': 591, 'book': 113, 'minut': 552, 'saudi': 748, 'trader': 912, 'miss': 553, 'u': 925, 'loss': 514, 'solut': 811, 'claim': 163, 'hero': 416, 'sentiment': 769, 'declin': 240, 'fix': 350, 'park': 620, 'ftc': 364, 'expert': 321, 'seller': 766, 'distribut': 263, 'minist': 551, 'explain': 322, 'onc': 595, 'gold': 382, 'sir': 798, 'farmer': 334, 'cook': 193, 'moment': 554, 'rather': 689, 'reason': 698, 'california': 129, 'coronavirususa': 202, 'bit': 111, 'direct': 255, 'alcohol': 46, 'dr': 274, 'discount': 257, 'rt': 735, 'w': 948, 'unemploy': 928, 'truck': 920, 'doubl': 273, 'don': 267, 'ppl': 658, '000': 1, 'govt': 391, 'forc': 354, 'handsanit': 405, 'platform': 641, 'co': 171, 'maintain': 522, 'volunt': 946, 'coronacrisi': 196, 'simpl': 795, 'matter': 534, 'offici': 590, 'rent': 712, 'among': 59, 'exampl': 317, 'insid': 453, 'wrong': 992, 'enforc': 303, 'warehous': 957, 'stimulu': 835, 'nh': 575, 'cope': 194, 'disrupt': 261, 'certain': 149, '25': 12, 'record': 702, 'firm': 348, 'valu': 938, 'apart': 69, 'covid19uk': 213, 'competit': 179, 'spike': 821, 'webinar': 965, 'ppe': 657, 'equip': 307, 'easter': 284, 'plummet': 645, 'properti': 674, 'stayhomesavel': 831, 'covidiot': 216}\n",
            "The length of the vocabulary is 1000\n"
          ]
        }
      ]
    }
  ]
}