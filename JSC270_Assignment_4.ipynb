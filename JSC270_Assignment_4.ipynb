{
  "nbformat": 4,
  "nbformat_minor": 0,
  "metadata": {
    "colab": {
      "provenance": [],
      "authorship_tag": "ABX9TyNC70CgGJfX1kW7AXWDiei8",
      "include_colab_link": true
    },
    "kernelspec": {
      "name": "python3",
      "display_name": "Python 3"
    },
    "language_info": {
      "name": "python"
    }
  },
  "cells": [
    {
      "cell_type": "markdown",
      "metadata": {
        "id": "view-in-github",
        "colab_type": "text"
      },
      "source": [
        "<a href=\"https://colab.research.google.com/github/JanisJ2/jsc270-a4/blob/main/JSC270_Assignment_4.ipynb\" target=\"_parent\"><img src=\"https://colab.research.google.com/assets/colab-badge.svg\" alt=\"Open In Colab\"/></a>"
      ]
    },
    {
      "cell_type": "markdown",
      "source": [
        "Github link: https://github.com/JanisJ2/jsc270-a4 \\\n",
        "Group member:\n",
        "- Christoffer Tan (1008740445)\n",
        "- Janis Joplin (10097515051)\n"
      ],
      "metadata": {
        "id": "nOx_bQ-RmImT"
      }
    },
    {
      "cell_type": "code",
      "source": [
        "# Import necessary modules\n",
        "from google.colab import files\n",
        "import io\n",
        "import sys\n",
        "import re\n",
        "\n",
        "import numpy as np\n",
        "import pandas as pd\n",
        "\n",
        "import matplotlib.pyplot as plt\n",
        "from matplotlib.colors import ListedColormap\n",
        "\n",
        "from sklearn.datasets import make_blobs\n",
        "from sklearn.cluster import KMeans\n",
        "from sklearn.metrics import silhouette_score\n",
        "from sklearn.preprocessing import StandardScaler\n",
        "from sklearn.cluster import AgglomerativeClustering\n",
        "from sklearn.feature_extraction.text import TfidfTransformer\n",
        "from sklearn.feature_extraction.text import CountVectorizer\n",
        "from sklearn.model_selection import train_test_split\n",
        "from sklearn.naive_bayes import MultinomialNB\n",
        "from sklearn.metrics import accuracy_score, roc_curve\n",
        "\n",
        "from scipy.cluster.hierarchy import dendrogram, linkage\n",
        "\n",
        "import seaborn as sns\n",
        "\n",
        "import nltk\n",
        "nltk.download('punkt')  # Tokenizer\n",
        "from nltk.corpus import stopwords\n",
        "nltk.download('stopwords')\n",
        "from nltk.stem.porter import *"
      ],
      "metadata": {
        "colab": {
          "base_uri": "https://localhost:8080/"
        },
        "id": "2eTJeDCkwpdC",
        "outputId": "a78b461f-26dc-4ddb-809a-5f554c4ffbf2"
      },
      "execution_count": null,
      "outputs": [
        {
          "output_type": "stream",
          "name": "stderr",
          "text": [
            "[nltk_data] Downloading package punkt to /root/nltk_data...\n",
            "[nltk_data]   Package punkt is already up-to-date!\n",
            "[nltk_data] Downloading package stopwords to /root/nltk_data...\n",
            "[nltk_data]   Package stopwords is already up-to-date!\n"
          ]
        }
      ]
    },
    {
      "cell_type": "code",
      "source": [
        "# Read the dataset from GitHub\n",
        "!wget \"https://raw.githubusercontent.com/JanisJ2/jsc270-a4/main/covid-tweets-train.csv\"\n",
        "!wget \"https://raw.githubusercontent.com/JanisJ2/jsc270-a4/main/covid-tweets-test.csv\""
      ],
      "metadata": {
        "colab": {
          "base_uri": "https://localhost:8080/"
        },
        "id": "3GbY3rOzxcej",
        "outputId": "045c3f4d-e64c-4e4a-ac6c-ce60fca19859"
      },
      "execution_count": null,
      "outputs": [
        {
          "output_type": "stream",
          "name": "stdout",
          "text": [
            "--2024-03-24 21:41:53--  https://raw.githubusercontent.com/JanisJ2/jsc270-a4/main/covid-tweets-train.csv\n",
            "Resolving raw.githubusercontent.com (raw.githubusercontent.com)... 185.199.108.133, 185.199.111.133, 185.199.110.133, ...\n",
            "Connecting to raw.githubusercontent.com (raw.githubusercontent.com)|185.199.108.133|:443... connected.\n",
            "HTTP request sent, awaiting response... 200 OK\n",
            "Length: 8991364 (8.6M) [text/plain]\n",
            "Saving to: ‘covid-tweets-train.csv.5’\n",
            "\n",
            "covid-tweets-train. 100%[===================>]   8.57M  --.-KB/s    in 0.09s   \n",
            "\n",
            "2024-03-24 21:41:53 (97.8 MB/s) - ‘covid-tweets-train.csv.5’ saved [8991364/8991364]\n",
            "\n",
            "--2024-03-24 21:41:53--  https://raw.githubusercontent.com/JanisJ2/jsc270-a4/main/covid-tweets-test.csv\n",
            "Resolving raw.githubusercontent.com (raw.githubusercontent.com)... 185.199.108.133, 185.199.109.133, 185.199.110.133, ...\n",
            "Connecting to raw.githubusercontent.com (raw.githubusercontent.com)|185.199.108.133|:443... connected.\n",
            "HTTP request sent, awaiting response... 200 OK\n",
            "Length: 866735 (846K) [text/plain]\n",
            "Saving to: ‘covid-tweets-test.csv.5’\n",
            "\n",
            "covid-tweets-test.c 100%[===================>] 846.42K  --.-KB/s    in 0.04s   \n",
            "\n",
            "2024-03-24 21:41:54 (18.5 MB/s) - ‘covid-tweets-test.csv.5’ saved [866735/866735]\n",
            "\n"
          ]
        }
      ]
    },
    {
      "cell_type": "code",
      "source": [
        "# Read the train data from CSV file\n",
        "train_data = pd.read_csv('covid-tweets-train.csv')\n",
        "train_data.columns = ['Label', 'Message', 'Sentiment']\n",
        "train_data.head()"
      ],
      "metadata": {
        "colab": {
          "base_uri": "https://localhost:8080/",
          "height": 206
        },
        "id": "7ltXkzDaxl2K",
        "outputId": "78ba87f7-7f0a-44c1-9710-2527bd51b8d5"
      },
      "execution_count": null,
      "outputs": [
        {
          "output_type": "execute_result",
          "data": {
            "text/plain": [
              "   Label                                            Message Sentiment\n",
              "0      0  @MeNyrbie @Phil_Gahan @Chrisitv https://t.co/i...         1\n",
              "1      1  advice Talk to your neighbours family to excha...         2\n",
              "2      2  Coronavirus Australia: Woolworths to give elde...         2\n",
              "3      3  My food stock is not the only one which is emp...         2\n",
              "4      4  Me, ready to go at supermarket during the #COV...         0"
            ],
            "text/html": [
              "\n",
              "  <div id=\"df-cbc43c6c-b57a-4973-8567-cda0f8168d65\" class=\"colab-df-container\">\n",
              "    <div>\n",
              "<style scoped>\n",
              "    .dataframe tbody tr th:only-of-type {\n",
              "        vertical-align: middle;\n",
              "    }\n",
              "\n",
              "    .dataframe tbody tr th {\n",
              "        vertical-align: top;\n",
              "    }\n",
              "\n",
              "    .dataframe thead th {\n",
              "        text-align: right;\n",
              "    }\n",
              "</style>\n",
              "<table border=\"1\" class=\"dataframe\">\n",
              "  <thead>\n",
              "    <tr style=\"text-align: right;\">\n",
              "      <th></th>\n",
              "      <th>Label</th>\n",
              "      <th>Message</th>\n",
              "      <th>Sentiment</th>\n",
              "    </tr>\n",
              "  </thead>\n",
              "  <tbody>\n",
              "    <tr>\n",
              "      <th>0</th>\n",
              "      <td>0</td>\n",
              "      <td>@MeNyrbie @Phil_Gahan @Chrisitv https://t.co/i...</td>\n",
              "      <td>1</td>\n",
              "    </tr>\n",
              "    <tr>\n",
              "      <th>1</th>\n",
              "      <td>1</td>\n",
              "      <td>advice Talk to your neighbours family to excha...</td>\n",
              "      <td>2</td>\n",
              "    </tr>\n",
              "    <tr>\n",
              "      <th>2</th>\n",
              "      <td>2</td>\n",
              "      <td>Coronavirus Australia: Woolworths to give elde...</td>\n",
              "      <td>2</td>\n",
              "    </tr>\n",
              "    <tr>\n",
              "      <th>3</th>\n",
              "      <td>3</td>\n",
              "      <td>My food stock is not the only one which is emp...</td>\n",
              "      <td>2</td>\n",
              "    </tr>\n",
              "    <tr>\n",
              "      <th>4</th>\n",
              "      <td>4</td>\n",
              "      <td>Me, ready to go at supermarket during the #COV...</td>\n",
              "      <td>0</td>\n",
              "    </tr>\n",
              "  </tbody>\n",
              "</table>\n",
              "</div>\n",
              "    <div class=\"colab-df-buttons\">\n",
              "\n",
              "  <div class=\"colab-df-container\">\n",
              "    <button class=\"colab-df-convert\" onclick=\"convertToInteractive('df-cbc43c6c-b57a-4973-8567-cda0f8168d65')\"\n",
              "            title=\"Convert this dataframe to an interactive table.\"\n",
              "            style=\"display:none;\">\n",
              "\n",
              "  <svg xmlns=\"http://www.w3.org/2000/svg\" height=\"24px\" viewBox=\"0 -960 960 960\">\n",
              "    <path d=\"M120-120v-720h720v720H120Zm60-500h600v-160H180v160Zm220 220h160v-160H400v160Zm0 220h160v-160H400v160ZM180-400h160v-160H180v160Zm440 0h160v-160H620v160ZM180-180h160v-160H180v160Zm440 0h160v-160H620v160Z\"/>\n",
              "  </svg>\n",
              "    </button>\n",
              "\n",
              "  <style>\n",
              "    .colab-df-container {\n",
              "      display:flex;\n",
              "      gap: 12px;\n",
              "    }\n",
              "\n",
              "    .colab-df-convert {\n",
              "      background-color: #E8F0FE;\n",
              "      border: none;\n",
              "      border-radius: 50%;\n",
              "      cursor: pointer;\n",
              "      display: none;\n",
              "      fill: #1967D2;\n",
              "      height: 32px;\n",
              "      padding: 0 0 0 0;\n",
              "      width: 32px;\n",
              "    }\n",
              "\n",
              "    .colab-df-convert:hover {\n",
              "      background-color: #E2EBFA;\n",
              "      box-shadow: 0px 1px 2px rgba(60, 64, 67, 0.3), 0px 1px 3px 1px rgba(60, 64, 67, 0.15);\n",
              "      fill: #174EA6;\n",
              "    }\n",
              "\n",
              "    .colab-df-buttons div {\n",
              "      margin-bottom: 4px;\n",
              "    }\n",
              "\n",
              "    [theme=dark] .colab-df-convert {\n",
              "      background-color: #3B4455;\n",
              "      fill: #D2E3FC;\n",
              "    }\n",
              "\n",
              "    [theme=dark] .colab-df-convert:hover {\n",
              "      background-color: #434B5C;\n",
              "      box-shadow: 0px 1px 3px 1px rgba(0, 0, 0, 0.15);\n",
              "      filter: drop-shadow(0px 1px 2px rgba(0, 0, 0, 0.3));\n",
              "      fill: #FFFFFF;\n",
              "    }\n",
              "  </style>\n",
              "\n",
              "    <script>\n",
              "      const buttonEl =\n",
              "        document.querySelector('#df-cbc43c6c-b57a-4973-8567-cda0f8168d65 button.colab-df-convert');\n",
              "      buttonEl.style.display =\n",
              "        google.colab.kernel.accessAllowed ? 'block' : 'none';\n",
              "\n",
              "      async function convertToInteractive(key) {\n",
              "        const element = document.querySelector('#df-cbc43c6c-b57a-4973-8567-cda0f8168d65');\n",
              "        const dataTable =\n",
              "          await google.colab.kernel.invokeFunction('convertToInteractive',\n",
              "                                                    [key], {});\n",
              "        if (!dataTable) return;\n",
              "\n",
              "        const docLinkHtml = 'Like what you see? Visit the ' +\n",
              "          '<a target=\"_blank\" href=https://colab.research.google.com/notebooks/data_table.ipynb>data table notebook</a>'\n",
              "          + ' to learn more about interactive tables.';\n",
              "        element.innerHTML = '';\n",
              "        dataTable['output_type'] = 'display_data';\n",
              "        await google.colab.output.renderOutput(dataTable, element);\n",
              "        const docLink = document.createElement('div');\n",
              "        docLink.innerHTML = docLinkHtml;\n",
              "        element.appendChild(docLink);\n",
              "      }\n",
              "    </script>\n",
              "  </div>\n",
              "\n",
              "\n",
              "<div id=\"df-91d95228-b81c-40c1-ba0f-730ffa498d6b\">\n",
              "  <button class=\"colab-df-quickchart\" onclick=\"quickchart('df-91d95228-b81c-40c1-ba0f-730ffa498d6b')\"\n",
              "            title=\"Suggest charts\"\n",
              "            style=\"display:none;\">\n",
              "\n",
              "<svg xmlns=\"http://www.w3.org/2000/svg\" height=\"24px\"viewBox=\"0 0 24 24\"\n",
              "     width=\"24px\">\n",
              "    <g>\n",
              "        <path d=\"M19 3H5c-1.1 0-2 .9-2 2v14c0 1.1.9 2 2 2h14c1.1 0 2-.9 2-2V5c0-1.1-.9-2-2-2zM9 17H7v-7h2v7zm4 0h-2V7h2v10zm4 0h-2v-4h2v4z\"/>\n",
              "    </g>\n",
              "</svg>\n",
              "  </button>\n",
              "\n",
              "<style>\n",
              "  .colab-df-quickchart {\n",
              "      --bg-color: #E8F0FE;\n",
              "      --fill-color: #1967D2;\n",
              "      --hover-bg-color: #E2EBFA;\n",
              "      --hover-fill-color: #174EA6;\n",
              "      --disabled-fill-color: #AAA;\n",
              "      --disabled-bg-color: #DDD;\n",
              "  }\n",
              "\n",
              "  [theme=dark] .colab-df-quickchart {\n",
              "      --bg-color: #3B4455;\n",
              "      --fill-color: #D2E3FC;\n",
              "      --hover-bg-color: #434B5C;\n",
              "      --hover-fill-color: #FFFFFF;\n",
              "      --disabled-bg-color: #3B4455;\n",
              "      --disabled-fill-color: #666;\n",
              "  }\n",
              "\n",
              "  .colab-df-quickchart {\n",
              "    background-color: var(--bg-color);\n",
              "    border: none;\n",
              "    border-radius: 50%;\n",
              "    cursor: pointer;\n",
              "    display: none;\n",
              "    fill: var(--fill-color);\n",
              "    height: 32px;\n",
              "    padding: 0;\n",
              "    width: 32px;\n",
              "  }\n",
              "\n",
              "  .colab-df-quickchart:hover {\n",
              "    background-color: var(--hover-bg-color);\n",
              "    box-shadow: 0 1px 2px rgba(60, 64, 67, 0.3), 0 1px 3px 1px rgba(60, 64, 67, 0.15);\n",
              "    fill: var(--button-hover-fill-color);\n",
              "  }\n",
              "\n",
              "  .colab-df-quickchart-complete:disabled,\n",
              "  .colab-df-quickchart-complete:disabled:hover {\n",
              "    background-color: var(--disabled-bg-color);\n",
              "    fill: var(--disabled-fill-color);\n",
              "    box-shadow: none;\n",
              "  }\n",
              "\n",
              "  .colab-df-spinner {\n",
              "    border: 2px solid var(--fill-color);\n",
              "    border-color: transparent;\n",
              "    border-bottom-color: var(--fill-color);\n",
              "    animation:\n",
              "      spin 1s steps(1) infinite;\n",
              "  }\n",
              "\n",
              "  @keyframes spin {\n",
              "    0% {\n",
              "      border-color: transparent;\n",
              "      border-bottom-color: var(--fill-color);\n",
              "      border-left-color: var(--fill-color);\n",
              "    }\n",
              "    20% {\n",
              "      border-color: transparent;\n",
              "      border-left-color: var(--fill-color);\n",
              "      border-top-color: var(--fill-color);\n",
              "    }\n",
              "    30% {\n",
              "      border-color: transparent;\n",
              "      border-left-color: var(--fill-color);\n",
              "      border-top-color: var(--fill-color);\n",
              "      border-right-color: var(--fill-color);\n",
              "    }\n",
              "    40% {\n",
              "      border-color: transparent;\n",
              "      border-right-color: var(--fill-color);\n",
              "      border-top-color: var(--fill-color);\n",
              "    }\n",
              "    60% {\n",
              "      border-color: transparent;\n",
              "      border-right-color: var(--fill-color);\n",
              "    }\n",
              "    80% {\n",
              "      border-color: transparent;\n",
              "      border-right-color: var(--fill-color);\n",
              "      border-bottom-color: var(--fill-color);\n",
              "    }\n",
              "    90% {\n",
              "      border-color: transparent;\n",
              "      border-bottom-color: var(--fill-color);\n",
              "    }\n",
              "  }\n",
              "</style>\n",
              "\n",
              "  <script>\n",
              "    async function quickchart(key) {\n",
              "      const quickchartButtonEl =\n",
              "        document.querySelector('#' + key + ' button');\n",
              "      quickchartButtonEl.disabled = true;  // To prevent multiple clicks.\n",
              "      quickchartButtonEl.classList.add('colab-df-spinner');\n",
              "      try {\n",
              "        const charts = await google.colab.kernel.invokeFunction(\n",
              "            'suggestCharts', [key], {});\n",
              "      } catch (error) {\n",
              "        console.error('Error during call to suggestCharts:', error);\n",
              "      }\n",
              "      quickchartButtonEl.classList.remove('colab-df-spinner');\n",
              "      quickchartButtonEl.classList.add('colab-df-quickchart-complete');\n",
              "    }\n",
              "    (() => {\n",
              "      let quickchartButtonEl =\n",
              "        document.querySelector('#df-91d95228-b81c-40c1-ba0f-730ffa498d6b button');\n",
              "      quickchartButtonEl.style.display =\n",
              "        google.colab.kernel.accessAllowed ? 'block' : 'none';\n",
              "    })();\n",
              "  </script>\n",
              "</div>\n",
              "\n",
              "    </div>\n",
              "  </div>\n"
            ],
            "application/vnd.google.colaboratory.intrinsic+json": {
              "type": "dataframe",
              "variable_name": "train_data",
              "summary": "{\n  \"name\": \"train_data\",\n  \"rows\": 41155,\n  \"fields\": [\n    {\n      \"column\": \"Label\",\n      \"properties\": {\n        \"dtype\": \"number\",\n        \"std\": 11880,\n        \"min\": 0,\n        \"max\": 41154,\n        \"num_unique_values\": 41155,\n        \"samples\": [\n          14623,\n          23458,\n          8170\n        ],\n        \"semantic_type\": \"\",\n        \"description\": \"\"\n      }\n    },\n    {\n      \"column\": \"Message\",\n      \"properties\": {\n        \"dtype\": \"string\",\n        \"num_unique_values\": 41155,\n        \"samples\": [\n          \"So panic buying of soaps and toilet roll was bad enough, now the idiots are stockpiling alcohol ? whats wrong with people #CoronaVirus #StopPanicBuying #Covid_19\",\n          \"Talked to the excellent about about transmission risk at the supermarket As usual good hand hygiene avoid crowds and physical distancing are the way to go\",\n          \"\\\"Saudi Arabia is bracing for an economic downturn as oil prices plummet due to the #coronavirus pandemic\\\" https://t.co/PQ3eRX9euZ\"\n        ],\n        \"semantic_type\": \"\",\n        \"description\": \"\"\n      }\n    },\n    {\n      \"column\": \"Sentiment\",\n      \"properties\": {\n        \"dtype\": \"category\",\n        \"num_unique_values\": 5,\n        \"samples\": [\n          \"2\",\n          \" England\\\"\",\n          \"0\"\n        ],\n        \"semantic_type\": \"\",\n        \"description\": \"\"\n      }\n    }\n  ]\n}"
            }
          },
          "metadata": {},
          "execution_count": 90
        }
      ]
    },
    {
      "cell_type": "code",
      "source": [
        "# Read the test data from CSV file\n",
        "test_data = pd.read_csv('covid-tweets-test.csv')\n",
        "test_data.columns = ['Label', 'Message', 'Sentiment']\n",
        "test_data.head()"
      ],
      "metadata": {
        "colab": {
          "base_uri": "https://localhost:8080/",
          "height": 206
        },
        "id": "EaD1usnayUa6",
        "outputId": "19f9e428-0f6d-4bdf-814b-b74e0518c98d"
      },
      "execution_count": null,
      "outputs": [
        {
          "output_type": "execute_result",
          "data": {
            "text/plain": [
              "   Label                                            Message  Sentiment\n",
              "0      0  TRENDING: New Yorkers encounter empty supermar...          0\n",
              "1      1  When I couldn't find hand sanitizer at Fred Me...          2\n",
              "2      2  Find out how you can protect yourself and love...          2\n",
              "3      3  #Panic buying hits #NewYork City as anxious sh...          0\n",
              "4      4  #toiletpaper #dunnypaper #coronavirus #coronav...          1"
            ],
            "text/html": [
              "\n",
              "  <div id=\"df-e2475c7f-a470-4b5c-a1ca-650824814b33\" class=\"colab-df-container\">\n",
              "    <div>\n",
              "<style scoped>\n",
              "    .dataframe tbody tr th:only-of-type {\n",
              "        vertical-align: middle;\n",
              "    }\n",
              "\n",
              "    .dataframe tbody tr th {\n",
              "        vertical-align: top;\n",
              "    }\n",
              "\n",
              "    .dataframe thead th {\n",
              "        text-align: right;\n",
              "    }\n",
              "</style>\n",
              "<table border=\"1\" class=\"dataframe\">\n",
              "  <thead>\n",
              "    <tr style=\"text-align: right;\">\n",
              "      <th></th>\n",
              "      <th>Label</th>\n",
              "      <th>Message</th>\n",
              "      <th>Sentiment</th>\n",
              "    </tr>\n",
              "  </thead>\n",
              "  <tbody>\n",
              "    <tr>\n",
              "      <th>0</th>\n",
              "      <td>0</td>\n",
              "      <td>TRENDING: New Yorkers encounter empty supermar...</td>\n",
              "      <td>0</td>\n",
              "    </tr>\n",
              "    <tr>\n",
              "      <th>1</th>\n",
              "      <td>1</td>\n",
              "      <td>When I couldn't find hand sanitizer at Fred Me...</td>\n",
              "      <td>2</td>\n",
              "    </tr>\n",
              "    <tr>\n",
              "      <th>2</th>\n",
              "      <td>2</td>\n",
              "      <td>Find out how you can protect yourself and love...</td>\n",
              "      <td>2</td>\n",
              "    </tr>\n",
              "    <tr>\n",
              "      <th>3</th>\n",
              "      <td>3</td>\n",
              "      <td>#Panic buying hits #NewYork City as anxious sh...</td>\n",
              "      <td>0</td>\n",
              "    </tr>\n",
              "    <tr>\n",
              "      <th>4</th>\n",
              "      <td>4</td>\n",
              "      <td>#toiletpaper #dunnypaper #coronavirus #coronav...</td>\n",
              "      <td>1</td>\n",
              "    </tr>\n",
              "  </tbody>\n",
              "</table>\n",
              "</div>\n",
              "    <div class=\"colab-df-buttons\">\n",
              "\n",
              "  <div class=\"colab-df-container\">\n",
              "    <button class=\"colab-df-convert\" onclick=\"convertToInteractive('df-e2475c7f-a470-4b5c-a1ca-650824814b33')\"\n",
              "            title=\"Convert this dataframe to an interactive table.\"\n",
              "            style=\"display:none;\">\n",
              "\n",
              "  <svg xmlns=\"http://www.w3.org/2000/svg\" height=\"24px\" viewBox=\"0 -960 960 960\">\n",
              "    <path d=\"M120-120v-720h720v720H120Zm60-500h600v-160H180v160Zm220 220h160v-160H400v160Zm0 220h160v-160H400v160ZM180-400h160v-160H180v160Zm440 0h160v-160H620v160ZM180-180h160v-160H180v160Zm440 0h160v-160H620v160Z\"/>\n",
              "  </svg>\n",
              "    </button>\n",
              "\n",
              "  <style>\n",
              "    .colab-df-container {\n",
              "      display:flex;\n",
              "      gap: 12px;\n",
              "    }\n",
              "\n",
              "    .colab-df-convert {\n",
              "      background-color: #E8F0FE;\n",
              "      border: none;\n",
              "      border-radius: 50%;\n",
              "      cursor: pointer;\n",
              "      display: none;\n",
              "      fill: #1967D2;\n",
              "      height: 32px;\n",
              "      padding: 0 0 0 0;\n",
              "      width: 32px;\n",
              "    }\n",
              "\n",
              "    .colab-df-convert:hover {\n",
              "      background-color: #E2EBFA;\n",
              "      box-shadow: 0px 1px 2px rgba(60, 64, 67, 0.3), 0px 1px 3px 1px rgba(60, 64, 67, 0.15);\n",
              "      fill: #174EA6;\n",
              "    }\n",
              "\n",
              "    .colab-df-buttons div {\n",
              "      margin-bottom: 4px;\n",
              "    }\n",
              "\n",
              "    [theme=dark] .colab-df-convert {\n",
              "      background-color: #3B4455;\n",
              "      fill: #D2E3FC;\n",
              "    }\n",
              "\n",
              "    [theme=dark] .colab-df-convert:hover {\n",
              "      background-color: #434B5C;\n",
              "      box-shadow: 0px 1px 3px 1px rgba(0, 0, 0, 0.15);\n",
              "      filter: drop-shadow(0px 1px 2px rgba(0, 0, 0, 0.3));\n",
              "      fill: #FFFFFF;\n",
              "    }\n",
              "  </style>\n",
              "\n",
              "    <script>\n",
              "      const buttonEl =\n",
              "        document.querySelector('#df-e2475c7f-a470-4b5c-a1ca-650824814b33 button.colab-df-convert');\n",
              "      buttonEl.style.display =\n",
              "        google.colab.kernel.accessAllowed ? 'block' : 'none';\n",
              "\n",
              "      async function convertToInteractive(key) {\n",
              "        const element = document.querySelector('#df-e2475c7f-a470-4b5c-a1ca-650824814b33');\n",
              "        const dataTable =\n",
              "          await google.colab.kernel.invokeFunction('convertToInteractive',\n",
              "                                                    [key], {});\n",
              "        if (!dataTable) return;\n",
              "\n",
              "        const docLinkHtml = 'Like what you see? Visit the ' +\n",
              "          '<a target=\"_blank\" href=https://colab.research.google.com/notebooks/data_table.ipynb>data table notebook</a>'\n",
              "          + ' to learn more about interactive tables.';\n",
              "        element.innerHTML = '';\n",
              "        dataTable['output_type'] = 'display_data';\n",
              "        await google.colab.output.renderOutput(dataTable, element);\n",
              "        const docLink = document.createElement('div');\n",
              "        docLink.innerHTML = docLinkHtml;\n",
              "        element.appendChild(docLink);\n",
              "      }\n",
              "    </script>\n",
              "  </div>\n",
              "\n",
              "\n",
              "<div id=\"df-5863018c-4d16-477d-969c-2cf25debdeda\">\n",
              "  <button class=\"colab-df-quickchart\" onclick=\"quickchart('df-5863018c-4d16-477d-969c-2cf25debdeda')\"\n",
              "            title=\"Suggest charts\"\n",
              "            style=\"display:none;\">\n",
              "\n",
              "<svg xmlns=\"http://www.w3.org/2000/svg\" height=\"24px\"viewBox=\"0 0 24 24\"\n",
              "     width=\"24px\">\n",
              "    <g>\n",
              "        <path d=\"M19 3H5c-1.1 0-2 .9-2 2v14c0 1.1.9 2 2 2h14c1.1 0 2-.9 2-2V5c0-1.1-.9-2-2-2zM9 17H7v-7h2v7zm4 0h-2V7h2v10zm4 0h-2v-4h2v4z\"/>\n",
              "    </g>\n",
              "</svg>\n",
              "  </button>\n",
              "\n",
              "<style>\n",
              "  .colab-df-quickchart {\n",
              "      --bg-color: #E8F0FE;\n",
              "      --fill-color: #1967D2;\n",
              "      --hover-bg-color: #E2EBFA;\n",
              "      --hover-fill-color: #174EA6;\n",
              "      --disabled-fill-color: #AAA;\n",
              "      --disabled-bg-color: #DDD;\n",
              "  }\n",
              "\n",
              "  [theme=dark] .colab-df-quickchart {\n",
              "      --bg-color: #3B4455;\n",
              "      --fill-color: #D2E3FC;\n",
              "      --hover-bg-color: #434B5C;\n",
              "      --hover-fill-color: #FFFFFF;\n",
              "      --disabled-bg-color: #3B4455;\n",
              "      --disabled-fill-color: #666;\n",
              "  }\n",
              "\n",
              "  .colab-df-quickchart {\n",
              "    background-color: var(--bg-color);\n",
              "    border: none;\n",
              "    border-radius: 50%;\n",
              "    cursor: pointer;\n",
              "    display: none;\n",
              "    fill: var(--fill-color);\n",
              "    height: 32px;\n",
              "    padding: 0;\n",
              "    width: 32px;\n",
              "  }\n",
              "\n",
              "  .colab-df-quickchart:hover {\n",
              "    background-color: var(--hover-bg-color);\n",
              "    box-shadow: 0 1px 2px rgba(60, 64, 67, 0.3), 0 1px 3px 1px rgba(60, 64, 67, 0.15);\n",
              "    fill: var(--button-hover-fill-color);\n",
              "  }\n",
              "\n",
              "  .colab-df-quickchart-complete:disabled,\n",
              "  .colab-df-quickchart-complete:disabled:hover {\n",
              "    background-color: var(--disabled-bg-color);\n",
              "    fill: var(--disabled-fill-color);\n",
              "    box-shadow: none;\n",
              "  }\n",
              "\n",
              "  .colab-df-spinner {\n",
              "    border: 2px solid var(--fill-color);\n",
              "    border-color: transparent;\n",
              "    border-bottom-color: var(--fill-color);\n",
              "    animation:\n",
              "      spin 1s steps(1) infinite;\n",
              "  }\n",
              "\n",
              "  @keyframes spin {\n",
              "    0% {\n",
              "      border-color: transparent;\n",
              "      border-bottom-color: var(--fill-color);\n",
              "      border-left-color: var(--fill-color);\n",
              "    }\n",
              "    20% {\n",
              "      border-color: transparent;\n",
              "      border-left-color: var(--fill-color);\n",
              "      border-top-color: var(--fill-color);\n",
              "    }\n",
              "    30% {\n",
              "      border-color: transparent;\n",
              "      border-left-color: var(--fill-color);\n",
              "      border-top-color: var(--fill-color);\n",
              "      border-right-color: var(--fill-color);\n",
              "    }\n",
              "    40% {\n",
              "      border-color: transparent;\n",
              "      border-right-color: var(--fill-color);\n",
              "      border-top-color: var(--fill-color);\n",
              "    }\n",
              "    60% {\n",
              "      border-color: transparent;\n",
              "      border-right-color: var(--fill-color);\n",
              "    }\n",
              "    80% {\n",
              "      border-color: transparent;\n",
              "      border-right-color: var(--fill-color);\n",
              "      border-bottom-color: var(--fill-color);\n",
              "    }\n",
              "    90% {\n",
              "      border-color: transparent;\n",
              "      border-bottom-color: var(--fill-color);\n",
              "    }\n",
              "  }\n",
              "</style>\n",
              "\n",
              "  <script>\n",
              "    async function quickchart(key) {\n",
              "      const quickchartButtonEl =\n",
              "        document.querySelector('#' + key + ' button');\n",
              "      quickchartButtonEl.disabled = true;  // To prevent multiple clicks.\n",
              "      quickchartButtonEl.classList.add('colab-df-spinner');\n",
              "      try {\n",
              "        const charts = await google.colab.kernel.invokeFunction(\n",
              "            'suggestCharts', [key], {});\n",
              "      } catch (error) {\n",
              "        console.error('Error during call to suggestCharts:', error);\n",
              "      }\n",
              "      quickchartButtonEl.classList.remove('colab-df-spinner');\n",
              "      quickchartButtonEl.classList.add('colab-df-quickchart-complete');\n",
              "    }\n",
              "    (() => {\n",
              "      let quickchartButtonEl =\n",
              "        document.querySelector('#df-5863018c-4d16-477d-969c-2cf25debdeda button');\n",
              "      quickchartButtonEl.style.display =\n",
              "        google.colab.kernel.accessAllowed ? 'block' : 'none';\n",
              "    })();\n",
              "  </script>\n",
              "</div>\n",
              "\n",
              "    </div>\n",
              "  </div>\n"
            ],
            "application/vnd.google.colaboratory.intrinsic+json": {
              "type": "dataframe",
              "variable_name": "test_data",
              "summary": "{\n  \"name\": \"test_data\",\n  \"rows\": 3798,\n  \"fields\": [\n    {\n      \"column\": \"Label\",\n      \"properties\": {\n        \"dtype\": \"number\",\n        \"std\": 1096,\n        \"min\": 0,\n        \"max\": 3797,\n        \"num_unique_values\": 3798,\n        \"samples\": [\n          1070,\n          354,\n          881\n        ],\n        \"semantic_type\": \"\",\n        \"description\": \"\"\n      }\n    },\n    {\n      \"column\": \"Message\",\n      \"properties\": {\n        \"dtype\": \"string\",\n        \"num_unique_values\": 3798,\n        \"samples\": [\n          \"At my local grocery store in New Hampshire... #coronavirus #Covid_19 #NationalEmergency https://t.co/AXuMBSfNU9\",\n          \"Seeing resellers sell masks, alcohols and other necessities in prices which are 5-15x more expensive compared to SRPs makes me wonder how can people be so heartless, insensitive, and opportunistic in these times of crisis. #COVID2019\",\n          \"Where did coronavirus come from, and where will it take us? An interview with Rob Wallace, author of Big Farms Make Big Flu\\r\\r\\n\\r\\r\\n\\r\\r\\n\\r\\r\\nhttps://t.co/Hqp68iu1iN https://t.co/dR4Ys2hCOy\"\n        ],\n        \"semantic_type\": \"\",\n        \"description\": \"\"\n      }\n    },\n    {\n      \"column\": \"Sentiment\",\n      \"properties\": {\n        \"dtype\": \"number\",\n        \"std\": 0,\n        \"min\": 0,\n        \"max\": 2,\n        \"num_unique_values\": 3,\n        \"samples\": [\n          0,\n          2,\n          1\n        ],\n        \"semantic_type\": \"\",\n        \"description\": \"\"\n      }\n    }\n  ]\n}"
            }
          },
          "metadata": {},
          "execution_count": 91
        }
      ]
    },
    {
      "cell_type": "markdown",
      "source": [
        "# Part I"
      ],
      "metadata": {
        "id": "4cDujdn7m_6M"
      }
    },
    {
      "cell_type": "markdown",
      "source": [
        "## a)"
      ],
      "metadata": {
        "id": "px6QeKNAxsWI"
      }
    },
    {
      "cell_type": "code",
      "source": [
        "# Given the a data set, it will return the proportion of the observations belong the a sentiment type\n",
        "def proportion_of_sentiment(data, sentiment_type):\n",
        "    return (data['Sentiment'] == sentiment_type).sum() / len(data['Sentiment'])\n",
        "\n",
        "\n",
        "for i in range(3):\n",
        "    print(f\"The proportion of the observations belong to sentiment type {i}: {proportion_of_sentiment(train_data, str(i))}\")"
      ],
      "metadata": {
        "colab": {
          "base_uri": "https://localhost:8080/"
        },
        "id": "P7glpGdjxtay",
        "outputId": "1a6aa68e-0c43-4501-ab85-0c2e97cc8246"
      },
      "execution_count": null,
      "outputs": [
        {
          "output_type": "stream",
          "name": "stdout",
          "text": [
            "The proportion of the observations belong to sentiment type 0: 0.374122220872312\n",
            "The proportion of the observations belong to sentiment type 1: 0.18738913862228163\n",
            "The proportion of the observations belong to sentiment type 2: 0.4383914469687766\n"
          ]
        }
      ]
    },
    {
      "cell_type": "markdown",
      "source": [
        "## b)"
      ],
      "metadata": {
        "id": "44JVVuDywCOR"
      }
    },
    {
      "cell_type": "code",
      "execution_count": null,
      "metadata": {
        "id": "yoXSDjI6kcsb",
        "colab": {
          "base_uri": "https://localhost:8080/"
        },
        "outputId": "fe60a468-d360-4254-d0ca-4759824682c3"
      },
      "outputs": [
        {
          "output_type": "stream",
          "name": "stdout",
          "text": [
            "0    [@, MeNyrbie, @, Phil_Gahan, @, Chrisitv, http...\n",
            "1    [advice, Talk, to, your, neighbours, family, t...\n",
            "2    [Coronavirus, Australia, :, Woolworths, to, gi...\n",
            "3    [My, food, stock, is, not, the, only, one, whi...\n",
            "4    [Me, ,, ready, to, go, at, supermarket, during...\n",
            "Name: Tokens, dtype: object\n"
          ]
        }
      ],
      "source": [
        "def tokenize(data):\n",
        "    data['Tokens'] = data['Message'].apply(nltk.word_tokenize)\n",
        "\n",
        "\n",
        "tokenize(train_data)\n",
        "print(train_data['Tokens'].head())"
      ]
    },
    {
      "cell_type": "markdown",
      "source": [
        "## c)"
      ],
      "metadata": {
        "id": "TWccBIH4HjGb"
      }
    },
    {
      "cell_type": "code",
      "source": [
        "def remove_url(data):\n",
        "    tokens_no_url = []\n",
        "\n",
        "    # for the tokens of each row, remove all occurences of url\n",
        "    for row in data['Tokens']:\n",
        "        tokens_no_url.append([re.sub('^http', '', t) for t in row])\n",
        "\n",
        "    # Replace our tokens with the url-removed version\n",
        "    data['Tokens'] = tokens_no_url\n",
        "\n",
        "\n",
        "remove_url(train_data)\n",
        "train_data['Tokens'].head()"
      ],
      "metadata": {
        "colab": {
          "base_uri": "https://localhost:8080/"
        },
        "id": "LjNabPjNHhj9",
        "outputId": "9cfc9da2-0afa-440f-b5d4-aa68dbb8cbb5"
      },
      "execution_count": null,
      "outputs": [
        {
          "output_type": "execute_result",
          "data": {
            "text/plain": [
              "0    [@, MeNyrbie, @, Phil_Gahan, @, Chrisitv, s, :...\n",
              "1    [advice, Talk, to, your, neighbours, family, t...\n",
              "2    [Coronavirus, Australia, :, Woolworths, to, gi...\n",
              "3    [My, food, stock, is, not, the, only, one, whi...\n",
              "4    [Me, ,, ready, to, go, at, supermarket, during...\n",
              "Name: Tokens, dtype: object"
            ]
          },
          "metadata": {},
          "execution_count": 94
        }
      ]
    },
    {
      "cell_type": "markdown",
      "source": [
        "## d)"
      ],
      "metadata": {
        "id": "sWM2Bhwq_Hxc"
      }
    },
    {
      "cell_type": "code",
      "source": [
        "def remove_punctuation(data):\n",
        "    tokens_no_punct = []\n",
        "    # For the tokens of each row, remove all occurrences of punctuations (i.e. non-alphanumeric and non-whitespace)\n",
        "    for row in data['Tokens']:\n",
        "        tokens_no_punct.append([re.sub('[^\\w\\s]', '', t) for t in row])\n",
        "    # Replace our tokens with the punctuation-removed version\n",
        "    data['Tokens'] = tokens_no_punct\n",
        "\n",
        "def convert_to_lowercase(data):\n",
        "    lowercase_tokens = []\n",
        "    # For the tokens of each row, convert all strings to lowercase\n",
        "    for row in data['Tokens']:\n",
        "        lowercase_tokens.append([t.lower() for t in row])\n",
        "    # Replace our tokens with the lowercase version\n",
        "    data['Tokens'] = lowercase_tokens\n",
        "\n",
        "\n",
        "remove_punctuation(train_data)\n",
        "convert_to_lowercase(train_data)\n",
        "train_data['Tokens'].head()"
      ],
      "metadata": {
        "colab": {
          "base_uri": "https://localhost:8080/"
        },
        "id": "0XIsIT2b_KI3",
        "outputId": "8d2e3b38-f069-4a96-cfd7-4b743a3f7cbc"
      },
      "execution_count": null,
      "outputs": [
        {
          "output_type": "execute_result",
          "data": {
            "text/plain": [
              "0    [, menyrbie, , phil_gahan, , chrisitv, s, , tc...\n",
              "1    [advice, talk, to, your, neighbours, family, t...\n",
              "2    [coronavirus, australia, , woolworths, to, giv...\n",
              "3    [my, food, stock, is, not, the, only, one, whi...\n",
              "4    [me, , ready, to, go, at, supermarket, during,...\n",
              "Name: Tokens, dtype: object"
            ]
          },
          "metadata": {},
          "execution_count": 95
        }
      ]
    },
    {
      "cell_type": "markdown",
      "source": [
        "## e)"
      ],
      "metadata": {
        "id": "6J18_NrxIiDH"
      }
    },
    {
      "cell_type": "code",
      "source": [
        "def stemming_tokens(data):\n",
        "    ### Stemming our dataset using PorterStemmer\n",
        "    stemmer = PorterStemmer()\n",
        "\n",
        "    stemmed_tokens = []\n",
        "    for row in data['Tokens']:\n",
        "      stemmed_tokens.append([stemmer.stem(t) for t in row])\n",
        "\n",
        "    data['Tokens'] = stemmed_tokens\n",
        "\n",
        "stemming_tokens(train_data)\n",
        "train_data['Tokens'].head()"
      ],
      "metadata": {
        "colab": {
          "base_uri": "https://localhost:8080/"
        },
        "id": "WQj0e2CBK5TP",
        "outputId": "8ecf9de2-6298-40a8-b9c8-562dde867080"
      },
      "execution_count": null,
      "outputs": [
        {
          "output_type": "execute_result",
          "data": {
            "text/plain": [
              "0    [, menyrbi, , phil_gahan, , chrisitv, s, , tco...\n",
              "1    [advic, talk, to, your, neighbour, famili, to,...\n",
              "2    [coronaviru, australia, , woolworth, to, give,...\n",
              "3    [my, food, stock, is, not, the, onli, one, whi...\n",
              "4    [me, , readi, to, go, at, supermarket, dure, t...\n",
              "Name: Tokens, dtype: object"
            ]
          },
          "metadata": {},
          "execution_count": 96
        }
      ]
    },
    {
      "cell_type": "markdown",
      "source": [
        "## f)"
      ],
      "metadata": {
        "id": "Gu3KjZjPIj7J"
      }
    },
    {
      "cell_type": "code",
      "source": [
        "def remove_stopwords(data):\n",
        "    sw = stopwords.words('english')[:100]\n",
        "    tokens_no_sw = []\n",
        "    # For the tokens of each row, remove all occurrences of stopwords\n",
        "    for row in data['Tokens']:\n",
        "        tokens_no_sw.append([w for w in row if w not in sw])\n",
        "    # Replace our tokens with the stopwords-removed version\n",
        "    data['Tokens'] = tokens_no_sw\n",
        "\n",
        "\n",
        "remove_stopwords(train_data)\n",
        "train_data['Tokens'].head()"
      ],
      "metadata": {
        "colab": {
          "base_uri": "https://localhost:8080/"
        },
        "id": "9CbMFoGFIlL1",
        "outputId": "54bda33c-83e0-415f-bc31-3d16d96a75b0"
      },
      "execution_count": null,
      "outputs": [
        {
          "output_type": "execute_result",
          "data": {
            "text/plain": [
              "0    [, menyrbi, , phil_gahan, , chrisitv, s, , tco...\n",
              "1    [advic, talk, neighbour, famili, exchang, phon...\n",
              "2    [coronaviru, australia, , woolworth, give, eld...\n",
              "3    [food, stock, not, onli, one, empti, , pleas, ...\n",
              "4    [, readi, go, supermarket, dure, , covid19, ou...\n",
              "Name: Tokens, dtype: object"
            ]
          },
          "metadata": {},
          "execution_count": 97
        }
      ]
    },
    {
      "cell_type": "markdown",
      "source": [
        "## g)"
      ],
      "metadata": {
        "id": "XGXU1SuPLagm"
      }
    },
    {
      "cell_type": "code",
      "source": [
        "def split_tokens_and_label(data):\n",
        "    return data['Tokens'].to_numpy(), data['Sentiment'].to_numpy()\n",
        "\n",
        "def override_fcn(doc):\n",
        "  # We expect a list of tokens as input\n",
        "  return doc\n",
        "\n",
        "def convert_to_vector(X):\n",
        "    # Count Vectorizer\n",
        "    count_vec = CountVectorizer(\n",
        "        analyzer='word',\n",
        "        tokenizer= override_fcn,\n",
        "        preprocessor= override_fcn,\n",
        "        token_pattern= None,\n",
        "        max_features = 1000)\n",
        "\n",
        "    # Remember this output is a Scipy Sparse Array\n",
        "    counts = count_vec.fit_transform(X)\n",
        "    print(counts.toarray())\n",
        "\n",
        "    # # Print this mapping as dictionary\n",
        "    # print(count_vec.vocabulary_)\n",
        "\n",
        "    # Print the length of the vocabulary\n",
        "    print(f'The length of the vocabulary is {len(count_vec.vocabulary_)}')\n",
        "    # return counts\n",
        "\n",
        "X_train, y_train = split_tokens_and_label(train_data)\n",
        "convert_to_vector(X_train)\n",
        "# X_train = convert_to_vector(X_train)"
      ],
      "metadata": {
        "id": "VZxgHg0cUjH9",
        "outputId": "3f0a9297-7f7c-437b-ede7-358760433daa",
        "colab": {
          "base_uri": "https://localhost:8080/"
        }
      },
      "execution_count": null,
      "outputs": [
        {
          "output_type": "stream",
          "name": "stdout",
          "text": [
            "[[6 0 0 ... 0 0 0]\n",
            " [0 0 0 ... 0 0 0]\n",
            " [3 0 0 ... 0 0 0]\n",
            " ...\n",
            " [7 0 0 ... 0 0 0]\n",
            " [4 0 0 ... 0 0 0]\n",
            " [5 0 0 ... 0 0 0]]\n",
            "The length of the vocabulary is 1000\n"
          ]
        }
      ]
    },
    {
      "cell_type": "markdown",
      "source": [
        "## h) `train_data`\n"
      ],
      "metadata": {
        "id": "Jzp_9vc7Lb9T"
      }
    },
    {
      "cell_type": "code",
      "source": [
        "def fit_naive_bayes_model(X_data, y_data):\n",
        "    nb = MultinomialNB()\n",
        "    # Fit model to the data\n",
        "    nb.fit(X_data, y_data)  // TODO\n",
        "    return nb\n",
        "\n",
        "def predict(X_data, y_data):\n",
        "    nb = fit_naive_bayes_model(X_data, y_data)\n",
        "    y_preds = nb.predict(X_data)\n",
        "    print('Test accuracy with simple Naive Bayes: ', accuracy_score(y_data, y_preds))\n",
        "\n",
        "predict(X_train, y_train)"
      ],
      "metadata": {
        "id": "_JtAWJRfLdks",
        "outputId": "f95d27f2-5a7a-4819-d7ef-66682a0d06de",
        "colab": {
          "base_uri": "https://localhost:8080/",
          "height": 344
        }
      },
      "execution_count": null,
      "outputs": [
        {
          "output_type": "error",
          "ename": "ValueError",
          "evalue": "Input contains NaN",
          "traceback": [
            "\u001b[0;31m---------------------------------------------------------------------------\u001b[0m",
            "\u001b[0;31mValueError\u001b[0m                                Traceback (most recent call last)",
            "\u001b[0;32m<ipython-input-99-b8719b89db4c>\u001b[0m in \u001b[0;36m<cell line: 12>\u001b[0;34m()\u001b[0m\n\u001b[1;32m     10\u001b[0m     \u001b[0mprint\u001b[0m\u001b[0;34m(\u001b[0m\u001b[0;34m'Test accuracy with simple Naive Bayes: '\u001b[0m\u001b[0;34m,\u001b[0m \u001b[0maccuracy_score\u001b[0m\u001b[0;34m(\u001b[0m\u001b[0my_data\u001b[0m\u001b[0;34m,\u001b[0m \u001b[0my_preds\u001b[0m\u001b[0;34m)\u001b[0m\u001b[0;34m)\u001b[0m\u001b[0;34m\u001b[0m\u001b[0;34m\u001b[0m\u001b[0m\n\u001b[1;32m     11\u001b[0m \u001b[0;34m\u001b[0m\u001b[0m\n\u001b[0;32m---> 12\u001b[0;31m \u001b[0mpredict\u001b[0m\u001b[0;34m(\u001b[0m\u001b[0mX_train\u001b[0m\u001b[0;34m,\u001b[0m \u001b[0my_train\u001b[0m\u001b[0;34m)\u001b[0m\u001b[0;34m\u001b[0m\u001b[0;34m\u001b[0m\u001b[0m\n\u001b[0m",
            "\u001b[0;32m<ipython-input-99-b8719b89db4c>\u001b[0m in \u001b[0;36mpredict\u001b[0;34m(X_data, y_data)\u001b[0m\n\u001b[1;32m      6\u001b[0m \u001b[0;34m\u001b[0m\u001b[0m\n\u001b[1;32m      7\u001b[0m \u001b[0;32mdef\u001b[0m \u001b[0mpredict\u001b[0m\u001b[0;34m(\u001b[0m\u001b[0mX_data\u001b[0m\u001b[0;34m,\u001b[0m \u001b[0my_data\u001b[0m\u001b[0;34m)\u001b[0m\u001b[0;34m:\u001b[0m\u001b[0;34m\u001b[0m\u001b[0;34m\u001b[0m\u001b[0m\n\u001b[0;32m----> 8\u001b[0;31m     \u001b[0mnb\u001b[0m \u001b[0;34m=\u001b[0m \u001b[0mfit_naive_bayes_model\u001b[0m\u001b[0;34m(\u001b[0m\u001b[0mX_data\u001b[0m\u001b[0;34m,\u001b[0m \u001b[0my_data\u001b[0m\u001b[0;34m)\u001b[0m\u001b[0;34m\u001b[0m\u001b[0;34m\u001b[0m\u001b[0m\n\u001b[0m\u001b[1;32m      9\u001b[0m     \u001b[0my_preds\u001b[0m \u001b[0;34m=\u001b[0m \u001b[0mnb\u001b[0m\u001b[0;34m.\u001b[0m\u001b[0mpredict\u001b[0m\u001b[0;34m(\u001b[0m\u001b[0mX_data\u001b[0m\u001b[0;34m)\u001b[0m\u001b[0;34m\u001b[0m\u001b[0;34m\u001b[0m\u001b[0m\n\u001b[1;32m     10\u001b[0m     \u001b[0mprint\u001b[0m\u001b[0;34m(\u001b[0m\u001b[0;34m'Test accuracy with simple Naive Bayes: '\u001b[0m\u001b[0;34m,\u001b[0m \u001b[0maccuracy_score\u001b[0m\u001b[0;34m(\u001b[0m\u001b[0my_data\u001b[0m\u001b[0;34m,\u001b[0m \u001b[0my_preds\u001b[0m\u001b[0;34m)\u001b[0m\u001b[0;34m)\u001b[0m\u001b[0;34m\u001b[0m\u001b[0;34m\u001b[0m\u001b[0m\n",
            "\u001b[0;32m<ipython-input-99-b8719b89db4c>\u001b[0m in \u001b[0;36mfit_naive_bayes_model\u001b[0;34m(X_data, y_data)\u001b[0m\n\u001b[1;32m      2\u001b[0m     \u001b[0mnb\u001b[0m \u001b[0;34m=\u001b[0m \u001b[0mMultinomialNB\u001b[0m\u001b[0;34m(\u001b[0m\u001b[0;34m)\u001b[0m\u001b[0;34m\u001b[0m\u001b[0;34m\u001b[0m\u001b[0m\n\u001b[1;32m      3\u001b[0m     \u001b[0;31m# Fit model to the data\u001b[0m\u001b[0;34m\u001b[0m\u001b[0;34m\u001b[0m\u001b[0m\n\u001b[0;32m----> 4\u001b[0;31m     \u001b[0mnb\u001b[0m\u001b[0;34m.\u001b[0m\u001b[0mfit\u001b[0m\u001b[0;34m(\u001b[0m\u001b[0mX_data\u001b[0m\u001b[0;34m,\u001b[0m \u001b[0my_data\u001b[0m\u001b[0;34m)\u001b[0m\u001b[0;34m\u001b[0m\u001b[0;34m\u001b[0m\u001b[0m\n\u001b[0m\u001b[1;32m      5\u001b[0m     \u001b[0;32mreturn\u001b[0m \u001b[0mnb\u001b[0m\u001b[0;34m\u001b[0m\u001b[0;34m\u001b[0m\u001b[0m\n\u001b[1;32m      6\u001b[0m \u001b[0;34m\u001b[0m\u001b[0m\n",
            "\u001b[0;32m/usr/local/lib/python3.10/dist-packages/sklearn/naive_bayes.py\u001b[0m in \u001b[0;36mfit\u001b[0;34m(self, X, y, sample_weight)\u001b[0m\n\u001b[1;32m    747\u001b[0m         \"\"\"\n\u001b[1;32m    748\u001b[0m         \u001b[0mself\u001b[0m\u001b[0;34m.\u001b[0m\u001b[0m_validate_params\u001b[0m\u001b[0;34m(\u001b[0m\u001b[0;34m)\u001b[0m\u001b[0;34m\u001b[0m\u001b[0;34m\u001b[0m\u001b[0m\n\u001b[0;32m--> 749\u001b[0;31m         \u001b[0mX\u001b[0m\u001b[0;34m,\u001b[0m \u001b[0my\u001b[0m \u001b[0;34m=\u001b[0m \u001b[0mself\u001b[0m\u001b[0;34m.\u001b[0m\u001b[0m_check_X_y\u001b[0m\u001b[0;34m(\u001b[0m\u001b[0mX\u001b[0m\u001b[0;34m,\u001b[0m \u001b[0my\u001b[0m\u001b[0;34m)\u001b[0m\u001b[0;34m\u001b[0m\u001b[0;34m\u001b[0m\u001b[0m\n\u001b[0m\u001b[1;32m    750\u001b[0m         \u001b[0m_\u001b[0m\u001b[0;34m,\u001b[0m \u001b[0mn_features\u001b[0m \u001b[0;34m=\u001b[0m \u001b[0mX\u001b[0m\u001b[0;34m.\u001b[0m\u001b[0mshape\u001b[0m\u001b[0;34m\u001b[0m\u001b[0;34m\u001b[0m\u001b[0m\n\u001b[1;32m    751\u001b[0m \u001b[0;34m\u001b[0m\u001b[0m\n",
            "\u001b[0;32m/usr/local/lib/python3.10/dist-packages/sklearn/naive_bayes.py\u001b[0m in \u001b[0;36m_check_X_y\u001b[0;34m(self, X, y, reset)\u001b[0m\n\u001b[1;32m    581\u001b[0m     \u001b[0;32mdef\u001b[0m \u001b[0m_check_X_y\u001b[0m\u001b[0;34m(\u001b[0m\u001b[0mself\u001b[0m\u001b[0;34m,\u001b[0m \u001b[0mX\u001b[0m\u001b[0;34m,\u001b[0m \u001b[0my\u001b[0m\u001b[0;34m,\u001b[0m \u001b[0mreset\u001b[0m\u001b[0;34m=\u001b[0m\u001b[0;32mTrue\u001b[0m\u001b[0;34m)\u001b[0m\u001b[0;34m:\u001b[0m\u001b[0;34m\u001b[0m\u001b[0;34m\u001b[0m\u001b[0m\n\u001b[1;32m    582\u001b[0m         \u001b[0;34m\"\"\"Validate X and y in fit methods.\"\"\"\u001b[0m\u001b[0;34m\u001b[0m\u001b[0;34m\u001b[0m\u001b[0m\n\u001b[0;32m--> 583\u001b[0;31m         \u001b[0;32mreturn\u001b[0m \u001b[0mself\u001b[0m\u001b[0;34m.\u001b[0m\u001b[0m_validate_data\u001b[0m\u001b[0;34m(\u001b[0m\u001b[0mX\u001b[0m\u001b[0;34m,\u001b[0m \u001b[0my\u001b[0m\u001b[0;34m,\u001b[0m \u001b[0maccept_sparse\u001b[0m\u001b[0;34m=\u001b[0m\u001b[0;34m\"csr\"\u001b[0m\u001b[0;34m,\u001b[0m \u001b[0mreset\u001b[0m\u001b[0;34m=\u001b[0m\u001b[0mreset\u001b[0m\u001b[0;34m)\u001b[0m\u001b[0;34m\u001b[0m\u001b[0;34m\u001b[0m\u001b[0m\n\u001b[0m\u001b[1;32m    584\u001b[0m \u001b[0;34m\u001b[0m\u001b[0m\n\u001b[1;32m    585\u001b[0m     \u001b[0;32mdef\u001b[0m \u001b[0m_update_class_log_prior\u001b[0m\u001b[0;34m(\u001b[0m\u001b[0mself\u001b[0m\u001b[0;34m,\u001b[0m \u001b[0mclass_prior\u001b[0m\u001b[0;34m=\u001b[0m\u001b[0;32mNone\u001b[0m\u001b[0;34m)\u001b[0m\u001b[0;34m:\u001b[0m\u001b[0;34m\u001b[0m\u001b[0;34m\u001b[0m\u001b[0m\n",
            "\u001b[0;32m/usr/local/lib/python3.10/dist-packages/sklearn/base.py\u001b[0m in \u001b[0;36m_validate_data\u001b[0;34m(self, X, y, reset, validate_separately, **check_params)\u001b[0m\n\u001b[1;32m    582\u001b[0m                 \u001b[0my\u001b[0m \u001b[0;34m=\u001b[0m \u001b[0mcheck_array\u001b[0m\u001b[0;34m(\u001b[0m\u001b[0my\u001b[0m\u001b[0;34m,\u001b[0m \u001b[0minput_name\u001b[0m\u001b[0;34m=\u001b[0m\u001b[0;34m\"y\"\u001b[0m\u001b[0;34m,\u001b[0m \u001b[0;34m**\u001b[0m\u001b[0mcheck_y_params\u001b[0m\u001b[0;34m)\u001b[0m\u001b[0;34m\u001b[0m\u001b[0;34m\u001b[0m\u001b[0m\n\u001b[1;32m    583\u001b[0m             \u001b[0;32melse\u001b[0m\u001b[0;34m:\u001b[0m\u001b[0;34m\u001b[0m\u001b[0;34m\u001b[0m\u001b[0m\n\u001b[0;32m--> 584\u001b[0;31m                 \u001b[0mX\u001b[0m\u001b[0;34m,\u001b[0m \u001b[0my\u001b[0m \u001b[0;34m=\u001b[0m \u001b[0mcheck_X_y\u001b[0m\u001b[0;34m(\u001b[0m\u001b[0mX\u001b[0m\u001b[0;34m,\u001b[0m \u001b[0my\u001b[0m\u001b[0;34m,\u001b[0m \u001b[0;34m**\u001b[0m\u001b[0mcheck_params\u001b[0m\u001b[0;34m)\u001b[0m\u001b[0;34m\u001b[0m\u001b[0;34m\u001b[0m\u001b[0m\n\u001b[0m\u001b[1;32m    585\u001b[0m             \u001b[0mout\u001b[0m \u001b[0;34m=\u001b[0m \u001b[0mX\u001b[0m\u001b[0;34m,\u001b[0m \u001b[0my\u001b[0m\u001b[0;34m\u001b[0m\u001b[0;34m\u001b[0m\u001b[0m\n\u001b[1;32m    586\u001b[0m \u001b[0;34m\u001b[0m\u001b[0m\n",
            "\u001b[0;32m/usr/local/lib/python3.10/dist-packages/sklearn/utils/validation.py\u001b[0m in \u001b[0;36mcheck_X_y\u001b[0;34m(X, y, accept_sparse, accept_large_sparse, dtype, order, copy, force_all_finite, ensure_2d, allow_nd, multi_output, ensure_min_samples, ensure_min_features, y_numeric, estimator)\u001b[0m\n\u001b[1;32m   1120\u001b[0m     )\n\u001b[1;32m   1121\u001b[0m \u001b[0;34m\u001b[0m\u001b[0m\n\u001b[0;32m-> 1122\u001b[0;31m     \u001b[0my\u001b[0m \u001b[0;34m=\u001b[0m \u001b[0m_check_y\u001b[0m\u001b[0;34m(\u001b[0m\u001b[0my\u001b[0m\u001b[0;34m,\u001b[0m \u001b[0mmulti_output\u001b[0m\u001b[0;34m=\u001b[0m\u001b[0mmulti_output\u001b[0m\u001b[0;34m,\u001b[0m \u001b[0my_numeric\u001b[0m\u001b[0;34m=\u001b[0m\u001b[0my_numeric\u001b[0m\u001b[0;34m,\u001b[0m \u001b[0mestimator\u001b[0m\u001b[0;34m=\u001b[0m\u001b[0mestimator\u001b[0m\u001b[0;34m)\u001b[0m\u001b[0;34m\u001b[0m\u001b[0;34m\u001b[0m\u001b[0m\n\u001b[0m\u001b[1;32m   1123\u001b[0m \u001b[0;34m\u001b[0m\u001b[0m\n\u001b[1;32m   1124\u001b[0m     \u001b[0mcheck_consistent_length\u001b[0m\u001b[0;34m(\u001b[0m\u001b[0mX\u001b[0m\u001b[0;34m,\u001b[0m \u001b[0my\u001b[0m\u001b[0;34m)\u001b[0m\u001b[0;34m\u001b[0m\u001b[0;34m\u001b[0m\u001b[0m\n",
            "\u001b[0;32m/usr/local/lib/python3.10/dist-packages/sklearn/utils/validation.py\u001b[0m in \u001b[0;36m_check_y\u001b[0;34m(y, multi_output, y_numeric, estimator)\u001b[0m\n\u001b[1;32m   1142\u001b[0m         \u001b[0mestimator_name\u001b[0m \u001b[0;34m=\u001b[0m \u001b[0m_check_estimator_name\u001b[0m\u001b[0;34m(\u001b[0m\u001b[0mestimator\u001b[0m\u001b[0;34m)\u001b[0m\u001b[0;34m\u001b[0m\u001b[0;34m\u001b[0m\u001b[0m\n\u001b[1;32m   1143\u001b[0m         \u001b[0my\u001b[0m \u001b[0;34m=\u001b[0m \u001b[0mcolumn_or_1d\u001b[0m\u001b[0;34m(\u001b[0m\u001b[0my\u001b[0m\u001b[0;34m,\u001b[0m \u001b[0mwarn\u001b[0m\u001b[0;34m=\u001b[0m\u001b[0;32mTrue\u001b[0m\u001b[0;34m)\u001b[0m\u001b[0;34m\u001b[0m\u001b[0;34m\u001b[0m\u001b[0m\n\u001b[0;32m-> 1144\u001b[0;31m         \u001b[0m_assert_all_finite\u001b[0m\u001b[0;34m(\u001b[0m\u001b[0my\u001b[0m\u001b[0;34m,\u001b[0m \u001b[0minput_name\u001b[0m\u001b[0;34m=\u001b[0m\u001b[0;34m\"y\"\u001b[0m\u001b[0;34m,\u001b[0m \u001b[0mestimator_name\u001b[0m\u001b[0;34m=\u001b[0m\u001b[0mestimator_name\u001b[0m\u001b[0;34m)\u001b[0m\u001b[0;34m\u001b[0m\u001b[0;34m\u001b[0m\u001b[0m\n\u001b[0m\u001b[1;32m   1145\u001b[0m         \u001b[0m_ensure_no_complex_data\u001b[0m\u001b[0;34m(\u001b[0m\u001b[0my\u001b[0m\u001b[0;34m)\u001b[0m\u001b[0;34m\u001b[0m\u001b[0;34m\u001b[0m\u001b[0m\n\u001b[1;32m   1146\u001b[0m     \u001b[0;32mif\u001b[0m \u001b[0my_numeric\u001b[0m \u001b[0;32mand\u001b[0m \u001b[0my\u001b[0m\u001b[0;34m.\u001b[0m\u001b[0mdtype\u001b[0m\u001b[0;34m.\u001b[0m\u001b[0mkind\u001b[0m \u001b[0;34m==\u001b[0m \u001b[0;34m\"O\"\u001b[0m\u001b[0;34m:\u001b[0m\u001b[0;34m\u001b[0m\u001b[0;34m\u001b[0m\u001b[0m\n",
            "\u001b[0;32m/usr/local/lib/python3.10/dist-packages/sklearn/utils/validation.py\u001b[0m in \u001b[0;36m_assert_all_finite\u001b[0;34m(X, allow_nan, msg_dtype, estimator_name, input_name)\u001b[0m\n\u001b[1;32m    109\u001b[0m     \u001b[0;32mif\u001b[0m \u001b[0mX\u001b[0m\u001b[0;34m.\u001b[0m\u001b[0mdtype\u001b[0m \u001b[0;34m==\u001b[0m \u001b[0mnp\u001b[0m\u001b[0;34m.\u001b[0m\u001b[0mdtype\u001b[0m\u001b[0;34m(\u001b[0m\u001b[0;34m\"object\"\u001b[0m\u001b[0;34m)\u001b[0m \u001b[0;32mand\u001b[0m \u001b[0;32mnot\u001b[0m \u001b[0mallow_nan\u001b[0m\u001b[0;34m:\u001b[0m\u001b[0;34m\u001b[0m\u001b[0;34m\u001b[0m\u001b[0m\n\u001b[1;32m    110\u001b[0m         \u001b[0;32mif\u001b[0m \u001b[0m_object_dtype_isnan\u001b[0m\u001b[0;34m(\u001b[0m\u001b[0mX\u001b[0m\u001b[0;34m)\u001b[0m\u001b[0;34m.\u001b[0m\u001b[0many\u001b[0m\u001b[0;34m(\u001b[0m\u001b[0;34m)\u001b[0m\u001b[0;34m:\u001b[0m\u001b[0;34m\u001b[0m\u001b[0;34m\u001b[0m\u001b[0m\n\u001b[0;32m--> 111\u001b[0;31m             \u001b[0;32mraise\u001b[0m \u001b[0mValueError\u001b[0m\u001b[0;34m(\u001b[0m\u001b[0;34m\"Input contains NaN\"\u001b[0m\u001b[0;34m)\u001b[0m\u001b[0;34m\u001b[0m\u001b[0;34m\u001b[0m\u001b[0m\n\u001b[0m\u001b[1;32m    112\u001b[0m \u001b[0;34m\u001b[0m\u001b[0m\n\u001b[1;32m    113\u001b[0m     \u001b[0;31m# We need only consider float arrays, hence can early return for all else.\u001b[0m\u001b[0;34m\u001b[0m\u001b[0;34m\u001b[0m\u001b[0m\n",
            "\u001b[0;31mValueError\u001b[0m: Input contains NaN"
          ]
        }
      ]
    },
    {
      "cell_type": "markdown",
      "source": [
        "## h) `test_data`"
      ],
      "metadata": {
        "id": "-t08tf52SKkT"
      }
    },
    {
      "cell_type": "markdown",
      "source": [
        "# Part II"
      ],
      "metadata": {
        "id": "WNdrjeuYbgIY"
      }
    },
    {
      "cell_type": "code",
      "source": [
        "bearer_token=\"AAAAAAAAAAAAAAAAAAAAABjFsgEAAAAAlpTaLAR1wJ2sut2HNk8oY2r9u28%3DRWpfy37hyg15PEYEQJAQwhjS9S3RasSkc1WV35KH1FhBPfAgjF\""
      ],
      "metadata": {
        "id": "4GhWZV5PbhXX"
      },
      "execution_count": 102,
      "outputs": []
    },
    {
      "cell_type": "code",
      "source": [
        "import tweepy as tw\n",
        "\n",
        "client = tw.Client(bearer_token=bearer_token)"
      ],
      "metadata": {
        "id": "QDSlC81IbqJ1"
      },
      "execution_count": 103,
      "outputs": []
    },
    {
      "cell_type": "code",
      "source": [
        "# ONLY RUN THIS CELL ONCE IN LAB SO AVOID GOING OVER THE RATE LIMIT FOR THIS ACCOUNT!\n",
        "\n",
        "#Collect tweets (here, I get only 20)\n",
        "search_words = '#toronto'\n",
        "\n",
        "response = client.search_recent_tweets(search_words, max_results=100)\n",
        "tweets = response.data"
      ],
      "metadata": {
        "id": "AYCYwJ87bz0d"
      },
      "execution_count": 114,
      "outputs": []
    },
    {
      "cell_type": "code",
      "source": [
        "print(f'Number of tweets: {len(tweets)}')\n",
        "\n",
        "# The result is an iterable\n",
        "for tweet in tweets:\n",
        "  print(tweet.text)\n",
        "\n",
        "# Could also use a list comprehension"
      ],
      "metadata": {
        "id": "fVWxCTWqb5-J",
        "outputId": "2798ea67-9398-406a-b9f5-5276d9eec0a3",
        "colab": {
          "base_uri": "https://localhost:8080/"
        }
      },
      "execution_count": 115,
      "outputs": [
        {
          "output_type": "stream",
          "name": "stdout",
          "text": [
            "Number of tweets: 100\n",
            "RT @CarymaRules: Bird’s eye view of thousands of protesters marching down Yonge Street. \n",
            "\n",
            "#cdnpoli #Toronto #Palestine #Israel #Gaza #Prote…\n",
            "RT @XjusticeXpeace: THOUSANDS in #Toronto take to the streets for the 25th weekend in a row demanding Canada STOP ARMING ISRAEL'S GENOCIDE…\n",
            "RT @XjusticeXpeace: THOUSANDS in #Toronto take to the streets for the 25th weekend in a row demanding Canada STOP ARMING ISRAEL'S GENOCIDE…\n",
            "RT @XjusticeXpeace: THOUSANDS in #Toronto take to the streets for the 25th weekend in a row demanding Canada STOP ARMING ISRAEL'S GENOCIDE…\n",
            "RT @CGMagonline: Help us celebrate #CIVILWAR with @Elevation_Pics and #A24 with advanced passes for @CivilWarMovie all across #Canada on Ap…\n",
            "RT @BeachLoverOnt: “Queens Park doesn’t know best” Great - reverse course on  \n",
            "- Moving the #ScienceCentre❌\n",
            "- Selling #OntarioPlace❌\n",
            "- Bull…\n",
            "RT @XjusticeXpeace: THOUSANDS in #Toronto take to the streets for the 25th weekend in a row demanding Canada STOP ARMING ISRAEL'S GENOCIDE…\n",
            "RT @CarymaRules: Passerby screams “White power!” on his way through pro-Palestine protest on Yonge Street, then gets into a scuffle.\n",
            "\n",
            "He wa…\n",
            "Is anyone looking for Olivia Rodrigo tickets?  I'm selling Two tickets for Olivia Rodrigo concert for 03/29th at Scotiabank Arena - Toronto, CA\n",
            "\n",
            "Send a message if interested, I can provide all you need to verify them #oliviarodrigotickets #OliviaRodrigo #GUTSWorldTour #Toronto\n",
            "RT @XjusticeXpeace: THOUSANDS in #Toronto take to the streets for the 25th weekend in a row demanding Canada STOP ARMING ISRAEL'S GENOCIDE…\n",
            "RT @CarymaRules: Passerby screams “White power!” on his way through pro-Palestine protest on Yonge Street, then gets into a scuffle.\n",
            "\n",
            "He wa…\n",
            "RT @XjusticeXpeace: THOUSANDS in #Toronto take to the streets for the 25th weekend in a row demanding Canada STOP ARMING ISRAEL'S GENOCIDE…\n",
            "RT @XjusticeXpeace: THOUSANDS in #Toronto take to the streets for the 25th weekend in a row demanding Canada STOP ARMING ISRAEL'S GENOCIDE…\n",
            "Fishnets are a girls best friend 💁🏼‍♀️\n",
            "•\n",
            "•\n",
            "•\n",
            "•\n",
            "#TwitterModelTrainShow #TwitterX #HeelsUpHigh #heels #feetworshi̇p #blonde #girl #hotel #fyp #tweet #toronto #barrie #baddie https://t.co/pbcFnU63Mr\n",
            "RT @CarymaRules: Counter protester tells man he perceives as being on “the other side” to cross the street.\n",
            "\n",
            "(The photographer is, in fact,…\n",
            "RT @CarymaRules: Passerby screams “White power!” on his way through pro-Palestine protest on Yonge Street, then gets into a scuffle.\n",
            "\n",
            "He wa…\n",
            "RT @AndreaA69897970: Here we are at the Women Against Antisemitism Rally in #Toronto. Peaceful but strong and resilient energy. We will@not…\n",
            "RT @XjusticeXpeace: THOUSANDS in #Toronto take to the streets for the 25th weekend in a row demanding Canada STOP ARMING ISRAEL'S GENOCIDE…\n",
            "RT @XjusticeXpeace: THOUSANDS in #Toronto take to the streets for the 25th weekend in a row demanding Canada STOP ARMING ISRAEL'S GENOCIDE…\n",
            "RT @XjusticeXpeace: THOUSANDS in #Toronto take to the streets for the 25th weekend in a row demanding Canada STOP ARMING ISRAEL'S GENOCIDE…\n",
            "RT @XjusticeXpeace: THOUSANDS in #Toronto take to the streets for the 25th weekend in a row demanding Canada STOP ARMING ISRAEL'S GENOCIDE…\n",
            "RT @OpinionguruT: Toronto Protest Against Gaza Genocide In Ontario Canada.  24 March 2024.\n",
            "\n",
            "#Toronto #Jamaica #USA #England #Ontario #Middl…\n",
            "RT @CarymaRules: Passerby screams “White power!” on his way through pro-Palestine protest on Yonge Street, then gets into a scuffle.\n",
            "\n",
            "He wa…\n",
            "RT @twinkybottom1: This hung bi guy almost made me passed out while fucking me.\n",
            "\n",
            "#gay #Torontogays #tops #gaytop\n",
            "#Toronto Tops #Torontobott…\n",
            "RT @JohnWalkerGTA: Any hung bulls in the north eastern GTA looking to fuck a hot milf pussy? #toronto #cucklist #bbc #nsfw #nsfwtwt #interr…\n",
            "RT @CarymaRules: Passerby screams “White power!” on his way through pro-Palestine protest on Yonge Street, then gets into a scuffle.\n",
            "\n",
            "He wa…\n",
            "RT @XjusticeXpeace: THOUSANDS in #Toronto take to the streets for the 25th weekend in a row demanding Canada STOP ARMING ISRAEL'S GENOCIDE…\n",
            "Selling 3 Olivia Rodrigo tickets on march 29 at Scotiabank Bank Arena — Toronto, ON\n",
            "\n",
            "Will take any reasonable price and will provide all the necessary proof,reach me out for more details\n",
            "\n",
            "Pls send a dm very urgent pls \n",
            "\n",
            "#Oliviarodrigoconcert \n",
            "#Toronto\n",
            "@CBCQueensPark @TDotResident Remind #Ontario and #Toronto again what provincial government changed the 2005 ban on pitbulls? \n",
            "https://t.co/WmtvkHnDnj\n",
            "RT @CarymaRules: Passerby screams “White power!” on his way through pro-Palestine protest on Yonge Street, then gets into a scuffle.\n",
            "\n",
            "He wa…\n",
            "RT @CarymaRules: Passerby screams “White power!” on his way through pro-Palestine protest on Yonge Street, then gets into a scuffle.\n",
            "\n",
            "He wa…\n",
            "RT @XjusticeXpeace: THOUSANDS in #Toronto take to the streets for the 25th weekend in a row demanding Canada STOP ARMING ISRAEL'S GENOCIDE…\n",
            "RT @XjusticeXpeace: THOUSANDS in #Toronto take to the streets for the 25th weekend in a row demanding Canada STOP ARMING ISRAEL'S GENOCIDE…\n",
            "RT @XjusticeXpeace: THOUSANDS in #Toronto take to the streets for the 25th weekend in a row demanding Canada STOP ARMING ISRAEL'S GENOCIDE…\n",
            "RT @XjusticeXpeace: THOUSANDS in #Toronto take to the streets for the 25th weekend in a row demanding Canada STOP ARMING ISRAEL'S GENOCIDE…\n",
            "RT @XjusticeXpeace: THOUSANDS in #Toronto take to the streets for the 25th weekend in a row demanding Canada STOP ARMING ISRAEL'S GENOCIDE…\n",
            "RT @XjusticeXpeace: THOUSANDS in #Toronto take to the streets for the 25th weekend in a row demanding Canada STOP ARMING ISRAEL'S GENOCIDE…\n",
            "RT @XjusticeXpeace: THOUSANDS in #Toronto take to the streets for the 25th weekend in a row demanding Canada STOP ARMING ISRAEL'S GENOCIDE…\n",
            "RT @XjusticeXpeace: THOUSANDS in #Toronto take to the streets for the 25th weekend in a row demanding Canada STOP ARMING ISRAEL'S GENOCIDE…\n",
            "RT @XjusticeXpeace: THOUSANDS in #Toronto take to the streets for the 25th weekend in a row demanding Canada STOP ARMING ISRAEL'S GENOCIDE…\n",
            "RT @CarymaRules: Passerby screams “White power!” on his way through pro-Palestine protest on Yonge Street, then gets into a scuffle.\n",
            "\n",
            "He wa…\n",
            "RT @XjusticeXpeace: THOUSANDS in #Toronto take to the streets for the 25th weekend in a row demanding Canada STOP ARMING ISRAEL'S GENOCIDE…\n",
            "RT @XjusticeXpeace: THOUSANDS in #Toronto take to the streets for the 25th weekend in a row demanding Canada STOP ARMING ISRAEL'S GENOCIDE…\n",
            "RT @toronto_morning: Your Thoughts?! 🤔\n",
            "#torontomorning #Toronto \n",
            "👉 Repost 👈\n",
            "RT @CarymaRules: Bird’s eye view of thousands of protesters marching down Yonge Street. \n",
            "\n",
            "#cdnpoli #Toronto #Palestine #Israel #Gaza #Prote…\n",
            "The \"Nimbus\" art installation by David Stein at the 2024 @winterstations at Woodbine Beach.\n",
            "\n",
            "#WinterStations #WoodbineBeach #TorontoBeaches #Art #ArtInstallations #Toronto #Canon #Photography https://t.co/qe7fxBoUu6\n",
            "Selling 2 tickets for Olivia Rodrigo in Toronto,ON For March 30th..\n",
            "\n",
            "- selling it face value and they are seated together! \n",
            "\n",
            "- I can provide screen recording proof if needed !\n",
            "\n",
            "dm me if you’re interested no scammers please..\n",
            "\n",
            "#OliviaRodrigo #GutsWorldTour #Toronto\n",
            "RT @CarymaRules: Passerby screams “White power!” on his way through pro-Palestine protest on Yonge Street, then gets into a scuffle.\n",
            "\n",
            "He wa…\n",
            "Left Behind - 2000r #Apocalypse \n",
            "Left Behind II: Tribulation Force - 2002r\n",
            "#Montreal #Calgary #Victoria #Canada #Toronto #JustinTrudeau #Québec #Vancouver #DanielleSmith #Edmonton #Winnipeg #Halifax #ThunderBay #Ottawa https://t.co/qSOEg31dlE\n",
            "RT @XjusticeXpeace: THOUSANDS in #Toronto take to the streets for the 25th weekend in a row demanding Canada STOP ARMING ISRAEL'S GENOCIDE…\n",
            "RT @XjusticeXpeace: THOUSANDS in #Toronto take to the streets for the 25th weekend in a row demanding Canada STOP ARMING ISRAEL'S GENOCIDE…\n",
            "RT @CarymaRules: Passerby screams “White power!” on his way through pro-Palestine protest on Yonge Street, then gets into a scuffle.\n",
            "\n",
            "He wa…\n",
            "RT @CarymaRules: Passerby screams “White power!” on his way through pro-Palestine protest on Yonge Street, then gets into a scuffle.\n",
            "\n",
            "He wa…\n",
            "Selling 3 tickets for Olivia Rodrigo show in Toronto,ON For Saturday March 30\n",
            "\n",
            "⭑Sec 231, Row 2 \n",
            "⭑ selling it face value prices \n",
            "\n",
            "dm me if you’re interested no scammers please..🙏 \n",
            "\n",
            "#OliviaRodrigo #GutsWorldTour #Toronto #oliviarodrigotickets\n",
            "RT @XjusticeXpeace: THOUSANDS in #Toronto take to the streets for the 25th weekend in a row demanding Canada STOP ARMING ISRAEL'S GENOCIDE…\n",
            "RT @XjusticeXpeace: THOUSANDS in #Toronto take to the streets for the 25th weekend in a row demanding Canada STOP ARMING ISRAEL'S GENOCIDE…\n",
            "RT @CarymaRules: “Long Live the Resistance” banner at Yonge and St. Clair.\n",
            "\n",
            "#cdnpoli #Toronto #Palestine #Israel #Gaza #ProtestMania https:…\n",
            "RT @XjusticeXpeace: THOUSANDS in #Toronto take to the streets for the 25th weekend in a row demanding Canada STOP ARMING ISRAEL'S GENOCIDE…\n",
            "RT @BobGeorgiouTO: For more than a century the now lost Winchester Drive was once an important road and crossing to and from #Toronto. This…\n",
            "RT @CarymaRules: Passerby screams “White power!” on his way through pro-Palestine protest on Yonge Street, then gets into a scuffle.\n",
            "\n",
            "He wa…\n",
            "RT @ActionTime: WANTED: Child,9, Left with Life-altering injuries after BRUTAL off-leash Dog attack at #Toronto playground: Police #Injusti…\n",
            "RT @CarymaRules: Passerby screams “White power!” on his way through pro-Palestine protest on Yonge Street, then gets into a scuffle.\n",
            "\n",
            "He wa…\n",
            "RT @CarymaRules: Passerby screams “White power!” on his way through pro-Palestine protest on Yonge Street, then gets into a scuffle.\n",
            "\n",
            "He wa…\n",
            "RT @CarymaRules: I also have footage of a second arrest, with an intense takedown. \n",
            "\n",
            "Stay tuned. \n",
            "\n",
            "#cdnpoli #Toronto #ProtestMania\n",
            "RT @XjusticeXpeace: THOUSANDS in #Toronto take to the streets for the 25th weekend in a row demanding Canada STOP ARMING ISRAEL'S GENOCIDE…\n",
            "RT @XjusticeXpeace: THOUSANDS in #Toronto take to the streets for the 25th weekend in a row demanding Canada STOP ARMING ISRAEL'S GENOCIDE…\n",
            "The \"Nova\" art installation by the Toronto Metropolitan University Department of Architectural Science at the 2024 @winterstations at Woodbine Beach.\n",
            "\n",
            "#WinterStations #WoodbineBeach #TorontoBeaches #Art #ArtInstallations #Toronto #Canon #Photography https://t.co/Gkfs6RB5Pk\n",
            "RT @CarymaRules: Police wrestle with a wayward drone. \n",
            "\n",
            "#cdnpoli #Toronto #Palestine #Israel #Gaza #ProtestMania https://t.co/Exc2hAqQAg\n",
            "RT @CarymaRules: Passerby screams “White power!” on his way through pro-Palestine protest on Yonge Street, then gets into a scuffle.\n",
            "\n",
            "He wa…\n",
            "RT @XjusticeXpeace: THOUSANDS in #Toronto take to the streets for the 25th weekend in a row demanding Canada STOP ARMING ISRAEL'S GENOCIDE…\n",
            "RT @XjusticeXpeace: THOUSANDS in #Toronto take to the streets for the 25th weekend in a row demanding Canada STOP ARMING ISRAEL'S GENOCIDE…\n",
            "RT @CarymaRules: Passerby screams “White power!” on his way through pro-Palestine protest on Yonge Street, then gets into a scuffle.\n",
            "\n",
            "He wa…\n",
            "RT @XjusticeXpeace: THOUSANDS in #Toronto take to the streets for the 25th weekend in a row demanding Canada STOP ARMING ISRAEL'S GENOCIDE…\n",
            "RT @XjusticeXpeace: THOUSANDS in #Toronto take to the streets for the 25th weekend in a row demanding Canada STOP ARMING ISRAEL'S GENOCIDE…\n",
            "RT @XjusticeXpeace: THOUSANDS in #Toronto take to the streets for the 25th weekend in a row demanding Canada STOP ARMING ISRAEL'S GENOCIDE…\n",
            "RT @toronto_morning: Your Thoughts?! 🤔\n",
            "#torontomorning #Toronto \n",
            "👉 Repost 👈\n",
            "#Toronto .@JoshMatlow .@TPSOperations ⬇️⬇️⬇️ https://t.co/qodynXvito\n",
            "RT @CarymaRules: Passerby screams “White power!” on his way through pro-Palestine protest on Yonge Street, then gets into a scuffle.\n",
            "\n",
            "He wa…\n",
            "RT @Canada: The World Junior Championships puck drops today in Canada! @HC_WJC  @hockeycanada  #WJC2015   #Montreal #Toronto\n",
            "RT @EmekaGift100: Parts of Ontario could see biggest snowfall this year as storm slams central, eastern Canada\n",
            "\n",
            "Spring officially arrived t…\n",
            "RT @ActionTime: WANTED: Child,9, Left with Life-altering injuries after BRUTAL off-leash Dog attack at #Toronto playground: Police #Injusti…\n",
            "The \"We Caught A UFO!\" art installation by Xavier Madden and Katja Banović at the 2024 @winterstations at Woodbine Beach.\n",
            "\n",
            "#WinterStations #WoodbineBeach #TorontoBeaches #Art #ArtInstallations #Toronto #Canon #Photography https://t.co/XbcaHdatQh\n",
            "RT @Mai_Badawy: From our protest in #Toronto today for a #FreePalestine https://t.co/E8PVXJoLw6\n",
            "RT @XjusticeXpeace: THOUSANDS in #Toronto take to the streets for the 25th weekend in a row demanding Canada STOP ARMING ISRAEL'S GENOCIDE…\n",
            "RT @XjusticeXpeace: THOUSANDS in #Toronto take to the streets for the 25th weekend in a row demanding Canada STOP ARMING ISRAEL'S GENOCIDE…\n",
            "RT @CarymaRules: Passerby screams “White power!” on his way through pro-Palestine protest on Yonge Street, then gets into a scuffle.\n",
            "\n",
            "He wa…\n",
            "RT @PMJTCastro: Come clean @DFisman! Or are you still counting all the 💰💰💰 you received from Big Pharma for selling your Soul and betraying…\n",
            "RT @XjusticeXpeace: THOUSANDS in #Toronto take to the streets for the 25th weekend in a row demanding Canada STOP ARMING ISRAEL'S GENOCIDE…\n",
            "RT @AvSourceNews: #EMERGENCY | In the last few moments, a Pakistan International Airlines (PIA) Boeing 777 operating a flight between Lahor…\n",
            "RT @CarymaRules: Passerby screams “White power!” on his way through pro-Palestine protest on Yonge Street, then gets into a scuffle.\n",
            "\n",
            "He wa…\n",
            "RT @XjusticeXpeace: THOUSANDS in #Toronto take to the streets for the 25th weekend in a row demanding Canada STOP ARMING ISRAEL'S GENOCIDE…\n",
            "RT @Garnet_2203: Toronto Canada. 👇👇#toronto https://t.co/FiBmOWEulF\n",
            "RT @XjusticeXpeace: THOUSANDS in #Toronto take to the streets for the 25th weekend in a row demanding Canada STOP ARMING ISRAEL'S GENOCIDE…\n",
            "RT @XjusticeXpeace: THOUSANDS in #Toronto take to the streets for the 25th weekend in a row demanding Canada STOP ARMING ISRAEL'S GENOCIDE…\n",
            "The \"Bobbin'\" art installation by the University of Waterloo School of Architecture at the 2024 @winterstations at Woodbine Beach.\n",
            "\n",
            "#WinterStations #WoodbineBeach #TorontoBeaches #Art #ArtInstallations #Toronto #Canon #Photography https://t.co/ImGBgBpMGa\n",
            "RT @XjusticeXpeace: THOUSANDS in #Toronto take to the streets for the 25th weekend in a row demanding Canada STOP ARMING ISRAEL'S GENOCIDE…\n",
            "RT @XjusticeXpeace: THOUSANDS in #Toronto take to the streets for the 25th weekend in a row demanding Canada STOP ARMING ISRAEL'S GENOCIDE…\n",
            "RT @TorontoWriter: #Muslim finds out Muhammad is a false prophet and a PEDO who was mounting 9 year olds!\n",
            "\n",
            "#opensecret #notes #commentary #…\n",
            "RT @XjusticeXpeace: THOUSANDS in #Toronto take to the streets for the 25th weekend in a row demanding Canada STOP ARMING ISRAEL'S GENOCIDE…\n",
            "RT @clamchowder7: #1 #AutismIsMySuperPower✊✊✊✊✊✊✊✊✊!!! #1 #Greece #1 #NewYorkCity #1 #Europe #1 #Boston #1 #Toronto #1 #Montréal @AnnieKout…\n"
          ]
        }
      ]
    },
    {
      "cell_type": "code",
      "source": [
        "tweet_list = [tweet.text for tweet in tweets]\n",
        "tweet_text = pd.DataFrame(tweet_list, columns = ['tweet'])\n",
        "\n",
        "print(tweet_text.head(5))"
      ],
      "metadata": {
        "id": "p6qGNmHEcmom",
        "outputId": "48208e63-50a5-4e63-a109-7f6406a06a8d",
        "colab": {
          "base_uri": "https://localhost:8080/"
        }
      },
      "execution_count": 116,
      "outputs": [
        {
          "output_type": "stream",
          "name": "stdout",
          "text": [
            "                                               tweet\n",
            "0  RT @CarymaRules: Bird’s eye view of thousands ...\n",
            "1  RT @XjusticeXpeace: THOUSANDS in #Toronto take...\n",
            "2  RT @XjusticeXpeace: THOUSANDS in #Toronto take...\n",
            "3  RT @XjusticeXpeace: THOUSANDS in #Toronto take...\n",
            "4  RT @CGMagonline: Help us celebrate #CIVILWAR w...\n"
          ]
        }
      ]
    },
    {
      "cell_type": "code",
      "source": [
        "# Extract handles\n",
        "handle_regex = '@[A-Za-z|0-9]+'\n",
        "\n",
        "tweet_text['handles'] = tweet_text['tweet'].str.findall(handle_regex)\n",
        "print(tweet_text.head(10))"
      ],
      "metadata": {
        "id": "ugieerxnc_UV",
        "outputId": "58a99992-c13a-4082-8cbb-df013967ab28",
        "colab": {
          "base_uri": "https://localhost:8080/"
        }
      },
      "execution_count": 117,
      "outputs": [
        {
          "output_type": "stream",
          "name": "stdout",
          "text": [
            "                                               tweet  \\\n",
            "0  RT @CarymaRules: Bird’s eye view of thousands ...   \n",
            "1  RT @XjusticeXpeace: THOUSANDS in #Toronto take...   \n",
            "2  RT @XjusticeXpeace: THOUSANDS in #Toronto take...   \n",
            "3  RT @XjusticeXpeace: THOUSANDS in #Toronto take...   \n",
            "4  RT @CGMagonline: Help us celebrate #CIVILWAR w...   \n",
            "5  RT @BeachLoverOnt: “Queens Park doesn’t know b...   \n",
            "6  RT @XjusticeXpeace: THOUSANDS in #Toronto take...   \n",
            "7  RT @CarymaRules: Passerby screams “White power...   \n",
            "8  Is anyone looking for Olivia Rodrigo tickets? ...   \n",
            "9  RT @XjusticeXpeace: THOUSANDS in #Toronto take...   \n",
            "\n",
            "                                      handles  \n",
            "0                              [@CarymaRules]  \n",
            "1                           [@XjusticeXpeace]  \n",
            "2                           [@XjusticeXpeace]  \n",
            "3                           [@XjusticeXpeace]  \n",
            "4  [@CGMagonline, @Elevation, @CivilWarMovie]  \n",
            "5                            [@BeachLoverOnt]  \n",
            "6                           [@XjusticeXpeace]  \n",
            "7                              [@CarymaRules]  \n",
            "8                                          []  \n",
            "9                           [@XjusticeXpeace]  \n"
          ]
        }
      ]
    },
    {
      "cell_type": "code",
      "source": [
        "# Define the file path to save the DataFrame\n",
        "file_path = 'twitter_data.txt'\n",
        "\n",
        "# Write the DataFrame to a text file\n",
        "tweet_text.to_csv(file_path, sep='\\t', index=False)\n",
        "\n",
        "print(f\"DataFrame has been successfully written to '{file_path}'.\")"
      ],
      "metadata": {
        "id": "jdCca0z9dYK-",
        "outputId": "09a9ff6c-8fdb-40a1-be84-61147874d0d6",
        "colab": {
          "base_uri": "https://localhost:8080/"
        }
      },
      "execution_count": 119,
      "outputs": [
        {
          "output_type": "stream",
          "name": "stdout",
          "text": [
            "DataFrame has been successfully written to 'twitter_data.txt'.\n"
          ]
        }
      ]
    }
  ]
}