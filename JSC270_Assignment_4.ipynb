{
  "nbformat": 4,
  "nbformat_minor": 0,
  "metadata": {
    "colab": {
      "provenance": [],
      "include_colab_link": true
    },
    "kernelspec": {
      "name": "python3",
      "display_name": "Python 3"
    },
    "language_info": {
      "name": "python"
    }
  },
  "cells": [
    {
      "cell_type": "markdown",
      "metadata": {
        "id": "view-in-github",
        "colab_type": "text"
      },
      "source": [
        "<a href=\"https://colab.research.google.com/github/JanisJ2/jsc270-a4/blob/main/JSC270_Assignment_4.ipynb\" target=\"_parent\"><img src=\"https://colab.research.google.com/assets/colab-badge.svg\" alt=\"Open In Colab\"/></a>"
      ]
    },
    {
      "cell_type": "markdown",
      "source": [
        "Github link: https://github.com/JanisJ2/jsc270-a4 \\\n",
        "Group member:\n",
        "- Christoffer Tan (1008740445)\n",
        "- Janis Joplin (10097515051)\n"
      ],
      "metadata": {
        "id": "nOx_bQ-RmImT"
      }
    },
    {
      "cell_type": "code",
      "source": [
        "# Import necessary modules\n",
        "from google.colab import files\n",
        "import io\n",
        "import sys\n",
        "import re\n",
        "\n",
        "import numpy as np\n",
        "import pandas as pd\n",
        "\n",
        "import matplotlib.pyplot as plt\n",
        "from matplotlib.colors import ListedColormap\n",
        "\n",
        "from sklearn.datasets import make_blobs\n",
        "from sklearn.cluster import KMeans\n",
        "from sklearn.metrics import silhouette_score\n",
        "from sklearn.preprocessing import StandardScaler\n",
        "from sklearn.cluster import AgglomerativeClustering\n",
        "from sklearn.feature_extraction.text import TfidfTransformer\n",
        "from sklearn.feature_extraction.text import CountVectorizer\n",
        "from sklearn.model_selection import train_test_split\n",
        "from sklearn.naive_bayes import MultinomialNB\n",
        "from sklearn.metrics import accuracy_score, roc_curve\n",
        "\n",
        "from scipy.cluster.hierarchy import dendrogram, linkage\n",
        "\n",
        "import seaborn as sns\n",
        "\n",
        "import nltk\n",
        "nltk.download('punkt')  # Tokenizer\n",
        "from nltk.corpus import stopwords\n",
        "nltk.download('stopwords')\n",
        "from nltk.stem.porter import *\n",
        "from nltk.stem import WordNetLemmatizer\n",
        "nltk.download('wordnet')"
      ],
      "metadata": {
        "colab": {
          "base_uri": "https://localhost:8080/"
        },
        "id": "2eTJeDCkwpdC",
        "outputId": "36627c60-ba2e-4603-9219-9cd62191291f"
      },
      "execution_count": 1,
      "outputs": [
        {
          "output_type": "stream",
          "name": "stderr",
          "text": [
            "[nltk_data] Downloading package punkt to /root/nltk_data...\n",
            "[nltk_data]   Unzipping tokenizers/punkt.zip.\n",
            "[nltk_data] Downloading package stopwords to /root/nltk_data...\n",
            "[nltk_data]   Unzipping corpora/stopwords.zip.\n",
            "[nltk_data] Downloading package wordnet to /root/nltk_data...\n"
          ]
        },
        {
          "output_type": "execute_result",
          "data": {
            "text/plain": [
              "True"
            ]
          },
          "metadata": {},
          "execution_count": 1
        }
      ]
    },
    {
      "cell_type": "code",
      "source": [
        "# Read the dataset from GitHub\n",
        "!wget \"https://raw.githubusercontent.com/JanisJ2/jsc270-a4/main/covid-tweets-train.csv\"\n",
        "!wget \"https://raw.githubusercontent.com/JanisJ2/jsc270-a4/main/covid-tweets-test.csv\""
      ],
      "metadata": {
        "colab": {
          "base_uri": "https://localhost:8080/"
        },
        "id": "3GbY3rOzxcej",
        "outputId": "172d153c-bc41-4c4d-b51b-69186fb79af8"
      },
      "execution_count": 2,
      "outputs": [
        {
          "output_type": "stream",
          "name": "stdout",
          "text": [
            "--2024-03-30 19:37:46--  https://raw.githubusercontent.com/JanisJ2/jsc270-a4/main/covid-tweets-train.csv\n",
            "Resolving raw.githubusercontent.com (raw.githubusercontent.com)... 185.199.108.133, 185.199.109.133, 185.199.110.133, ...\n",
            "Connecting to raw.githubusercontent.com (raw.githubusercontent.com)|185.199.108.133|:443... connected.\n",
            "HTTP request sent, awaiting response... 200 OK\n",
            "Length: 8991364 (8.6M) [text/plain]\n",
            "Saving to: ‘covid-tweets-train.csv’\n",
            "\n",
            "covid-tweets-train. 100%[===================>]   8.57M  52.6MB/s    in 0.2s    \n",
            "\n",
            "2024-03-30 19:37:46 (52.6 MB/s) - ‘covid-tweets-train.csv’ saved [8991364/8991364]\n",
            "\n",
            "--2024-03-30 19:37:46--  https://raw.githubusercontent.com/JanisJ2/jsc270-a4/main/covid-tweets-test.csv\n",
            "Resolving raw.githubusercontent.com (raw.githubusercontent.com)... 185.199.108.133, 185.199.109.133, 185.199.110.133, ...\n",
            "Connecting to raw.githubusercontent.com (raw.githubusercontent.com)|185.199.108.133|:443... connected.\n",
            "HTTP request sent, awaiting response... 200 OK\n",
            "Length: 866735 (846K) [text/plain]\n",
            "Saving to: ‘covid-tweets-test.csv’\n",
            "\n",
            "covid-tweets-test.c 100%[===================>] 846.42K  --.-KB/s    in 0.05s   \n",
            "\n",
            "2024-03-30 19:37:47 (16.0 MB/s) - ‘covid-tweets-test.csv’ saved [866735/866735]\n",
            "\n"
          ]
        }
      ]
    },
    {
      "cell_type": "code",
      "source": [
        "# Read the train data from CSV file\n",
        "train_data = pd.read_csv('covid-tweets-train.csv')\n",
        "train_data.columns = ['Label', 'Message', 'Sentiment']\n",
        "train_data.head()"
      ],
      "metadata": {
        "colab": {
          "base_uri": "https://localhost:8080/",
          "height": 206
        },
        "id": "7ltXkzDaxl2K",
        "outputId": "46e89cad-4d9d-4f49-d9d5-56d708a418f6"
      },
      "execution_count": 3,
      "outputs": [
        {
          "output_type": "execute_result",
          "data": {
            "text/plain": [
              "   Label                                            Message Sentiment\n",
              "0      0  @MeNyrbie @Phil_Gahan @Chrisitv https://t.co/i...         1\n",
              "1      1  advice Talk to your neighbours family to excha...         2\n",
              "2      2  Coronavirus Australia: Woolworths to give elde...         2\n",
              "3      3  My food stock is not the only one which is emp...         2\n",
              "4      4  Me, ready to go at supermarket during the #COV...         0"
            ],
            "text/html": [
              "\n",
              "  <div id=\"df-2f94d86f-1d74-4bb3-b891-ae61b3bec436\" class=\"colab-df-container\">\n",
              "    <div>\n",
              "<style scoped>\n",
              "    .dataframe tbody tr th:only-of-type {\n",
              "        vertical-align: middle;\n",
              "    }\n",
              "\n",
              "    .dataframe tbody tr th {\n",
              "        vertical-align: top;\n",
              "    }\n",
              "\n",
              "    .dataframe thead th {\n",
              "        text-align: right;\n",
              "    }\n",
              "</style>\n",
              "<table border=\"1\" class=\"dataframe\">\n",
              "  <thead>\n",
              "    <tr style=\"text-align: right;\">\n",
              "      <th></th>\n",
              "      <th>Label</th>\n",
              "      <th>Message</th>\n",
              "      <th>Sentiment</th>\n",
              "    </tr>\n",
              "  </thead>\n",
              "  <tbody>\n",
              "    <tr>\n",
              "      <th>0</th>\n",
              "      <td>0</td>\n",
              "      <td>@MeNyrbie @Phil_Gahan @Chrisitv https://t.co/i...</td>\n",
              "      <td>1</td>\n",
              "    </tr>\n",
              "    <tr>\n",
              "      <th>1</th>\n",
              "      <td>1</td>\n",
              "      <td>advice Talk to your neighbours family to excha...</td>\n",
              "      <td>2</td>\n",
              "    </tr>\n",
              "    <tr>\n",
              "      <th>2</th>\n",
              "      <td>2</td>\n",
              "      <td>Coronavirus Australia: Woolworths to give elde...</td>\n",
              "      <td>2</td>\n",
              "    </tr>\n",
              "    <tr>\n",
              "      <th>3</th>\n",
              "      <td>3</td>\n",
              "      <td>My food stock is not the only one which is emp...</td>\n",
              "      <td>2</td>\n",
              "    </tr>\n",
              "    <tr>\n",
              "      <th>4</th>\n",
              "      <td>4</td>\n",
              "      <td>Me, ready to go at supermarket during the #COV...</td>\n",
              "      <td>0</td>\n",
              "    </tr>\n",
              "  </tbody>\n",
              "</table>\n",
              "</div>\n",
              "    <div class=\"colab-df-buttons\">\n",
              "\n",
              "  <div class=\"colab-df-container\">\n",
              "    <button class=\"colab-df-convert\" onclick=\"convertToInteractive('df-2f94d86f-1d74-4bb3-b891-ae61b3bec436')\"\n",
              "            title=\"Convert this dataframe to an interactive table.\"\n",
              "            style=\"display:none;\">\n",
              "\n",
              "  <svg xmlns=\"http://www.w3.org/2000/svg\" height=\"24px\" viewBox=\"0 -960 960 960\">\n",
              "    <path d=\"M120-120v-720h720v720H120Zm60-500h600v-160H180v160Zm220 220h160v-160H400v160Zm0 220h160v-160H400v160ZM180-400h160v-160H180v160Zm440 0h160v-160H620v160ZM180-180h160v-160H180v160Zm440 0h160v-160H620v160Z\"/>\n",
              "  </svg>\n",
              "    </button>\n",
              "\n",
              "  <style>\n",
              "    .colab-df-container {\n",
              "      display:flex;\n",
              "      gap: 12px;\n",
              "    }\n",
              "\n",
              "    .colab-df-convert {\n",
              "      background-color: #E8F0FE;\n",
              "      border: none;\n",
              "      border-radius: 50%;\n",
              "      cursor: pointer;\n",
              "      display: none;\n",
              "      fill: #1967D2;\n",
              "      height: 32px;\n",
              "      padding: 0 0 0 0;\n",
              "      width: 32px;\n",
              "    }\n",
              "\n",
              "    .colab-df-convert:hover {\n",
              "      background-color: #E2EBFA;\n",
              "      box-shadow: 0px 1px 2px rgba(60, 64, 67, 0.3), 0px 1px 3px 1px rgba(60, 64, 67, 0.15);\n",
              "      fill: #174EA6;\n",
              "    }\n",
              "\n",
              "    .colab-df-buttons div {\n",
              "      margin-bottom: 4px;\n",
              "    }\n",
              "\n",
              "    [theme=dark] .colab-df-convert {\n",
              "      background-color: #3B4455;\n",
              "      fill: #D2E3FC;\n",
              "    }\n",
              "\n",
              "    [theme=dark] .colab-df-convert:hover {\n",
              "      background-color: #434B5C;\n",
              "      box-shadow: 0px 1px 3px 1px rgba(0, 0, 0, 0.15);\n",
              "      filter: drop-shadow(0px 1px 2px rgba(0, 0, 0, 0.3));\n",
              "      fill: #FFFFFF;\n",
              "    }\n",
              "  </style>\n",
              "\n",
              "    <script>\n",
              "      const buttonEl =\n",
              "        document.querySelector('#df-2f94d86f-1d74-4bb3-b891-ae61b3bec436 button.colab-df-convert');\n",
              "      buttonEl.style.display =\n",
              "        google.colab.kernel.accessAllowed ? 'block' : 'none';\n",
              "\n",
              "      async function convertToInteractive(key) {\n",
              "        const element = document.querySelector('#df-2f94d86f-1d74-4bb3-b891-ae61b3bec436');\n",
              "        const dataTable =\n",
              "          await google.colab.kernel.invokeFunction('convertToInteractive',\n",
              "                                                    [key], {});\n",
              "        if (!dataTable) return;\n",
              "\n",
              "        const docLinkHtml = 'Like what you see? Visit the ' +\n",
              "          '<a target=\"_blank\" href=https://colab.research.google.com/notebooks/data_table.ipynb>data table notebook</a>'\n",
              "          + ' to learn more about interactive tables.';\n",
              "        element.innerHTML = '';\n",
              "        dataTable['output_type'] = 'display_data';\n",
              "        await google.colab.output.renderOutput(dataTable, element);\n",
              "        const docLink = document.createElement('div');\n",
              "        docLink.innerHTML = docLinkHtml;\n",
              "        element.appendChild(docLink);\n",
              "      }\n",
              "    </script>\n",
              "  </div>\n",
              "\n",
              "\n",
              "<div id=\"df-0b5725bd-fc53-44bf-9831-0b0fd47300d5\">\n",
              "  <button class=\"colab-df-quickchart\" onclick=\"quickchart('df-0b5725bd-fc53-44bf-9831-0b0fd47300d5')\"\n",
              "            title=\"Suggest charts\"\n",
              "            style=\"display:none;\">\n",
              "\n",
              "<svg xmlns=\"http://www.w3.org/2000/svg\" height=\"24px\"viewBox=\"0 0 24 24\"\n",
              "     width=\"24px\">\n",
              "    <g>\n",
              "        <path d=\"M19 3H5c-1.1 0-2 .9-2 2v14c0 1.1.9 2 2 2h14c1.1 0 2-.9 2-2V5c0-1.1-.9-2-2-2zM9 17H7v-7h2v7zm4 0h-2V7h2v10zm4 0h-2v-4h2v4z\"/>\n",
              "    </g>\n",
              "</svg>\n",
              "  </button>\n",
              "\n",
              "<style>\n",
              "  .colab-df-quickchart {\n",
              "      --bg-color: #E8F0FE;\n",
              "      --fill-color: #1967D2;\n",
              "      --hover-bg-color: #E2EBFA;\n",
              "      --hover-fill-color: #174EA6;\n",
              "      --disabled-fill-color: #AAA;\n",
              "      --disabled-bg-color: #DDD;\n",
              "  }\n",
              "\n",
              "  [theme=dark] .colab-df-quickchart {\n",
              "      --bg-color: #3B4455;\n",
              "      --fill-color: #D2E3FC;\n",
              "      --hover-bg-color: #434B5C;\n",
              "      --hover-fill-color: #FFFFFF;\n",
              "      --disabled-bg-color: #3B4455;\n",
              "      --disabled-fill-color: #666;\n",
              "  }\n",
              "\n",
              "  .colab-df-quickchart {\n",
              "    background-color: var(--bg-color);\n",
              "    border: none;\n",
              "    border-radius: 50%;\n",
              "    cursor: pointer;\n",
              "    display: none;\n",
              "    fill: var(--fill-color);\n",
              "    height: 32px;\n",
              "    padding: 0;\n",
              "    width: 32px;\n",
              "  }\n",
              "\n",
              "  .colab-df-quickchart:hover {\n",
              "    background-color: var(--hover-bg-color);\n",
              "    box-shadow: 0 1px 2px rgba(60, 64, 67, 0.3), 0 1px 3px 1px rgba(60, 64, 67, 0.15);\n",
              "    fill: var(--button-hover-fill-color);\n",
              "  }\n",
              "\n",
              "  .colab-df-quickchart-complete:disabled,\n",
              "  .colab-df-quickchart-complete:disabled:hover {\n",
              "    background-color: var(--disabled-bg-color);\n",
              "    fill: var(--disabled-fill-color);\n",
              "    box-shadow: none;\n",
              "  }\n",
              "\n",
              "  .colab-df-spinner {\n",
              "    border: 2px solid var(--fill-color);\n",
              "    border-color: transparent;\n",
              "    border-bottom-color: var(--fill-color);\n",
              "    animation:\n",
              "      spin 1s steps(1) infinite;\n",
              "  }\n",
              "\n",
              "  @keyframes spin {\n",
              "    0% {\n",
              "      border-color: transparent;\n",
              "      border-bottom-color: var(--fill-color);\n",
              "      border-left-color: var(--fill-color);\n",
              "    }\n",
              "    20% {\n",
              "      border-color: transparent;\n",
              "      border-left-color: var(--fill-color);\n",
              "      border-top-color: var(--fill-color);\n",
              "    }\n",
              "    30% {\n",
              "      border-color: transparent;\n",
              "      border-left-color: var(--fill-color);\n",
              "      border-top-color: var(--fill-color);\n",
              "      border-right-color: var(--fill-color);\n",
              "    }\n",
              "    40% {\n",
              "      border-color: transparent;\n",
              "      border-right-color: var(--fill-color);\n",
              "      border-top-color: var(--fill-color);\n",
              "    }\n",
              "    60% {\n",
              "      border-color: transparent;\n",
              "      border-right-color: var(--fill-color);\n",
              "    }\n",
              "    80% {\n",
              "      border-color: transparent;\n",
              "      border-right-color: var(--fill-color);\n",
              "      border-bottom-color: var(--fill-color);\n",
              "    }\n",
              "    90% {\n",
              "      border-color: transparent;\n",
              "      border-bottom-color: var(--fill-color);\n",
              "    }\n",
              "  }\n",
              "</style>\n",
              "\n",
              "  <script>\n",
              "    async function quickchart(key) {\n",
              "      const quickchartButtonEl =\n",
              "        document.querySelector('#' + key + ' button');\n",
              "      quickchartButtonEl.disabled = true;  // To prevent multiple clicks.\n",
              "      quickchartButtonEl.classList.add('colab-df-spinner');\n",
              "      try {\n",
              "        const charts = await google.colab.kernel.invokeFunction(\n",
              "            'suggestCharts', [key], {});\n",
              "      } catch (error) {\n",
              "        console.error('Error during call to suggestCharts:', error);\n",
              "      }\n",
              "      quickchartButtonEl.classList.remove('colab-df-spinner');\n",
              "      quickchartButtonEl.classList.add('colab-df-quickchart-complete');\n",
              "    }\n",
              "    (() => {\n",
              "      let quickchartButtonEl =\n",
              "        document.querySelector('#df-0b5725bd-fc53-44bf-9831-0b0fd47300d5 button');\n",
              "      quickchartButtonEl.style.display =\n",
              "        google.colab.kernel.accessAllowed ? 'block' : 'none';\n",
              "    })();\n",
              "  </script>\n",
              "</div>\n",
              "\n",
              "    </div>\n",
              "  </div>\n"
            ],
            "application/vnd.google.colaboratory.intrinsic+json": {
              "type": "dataframe",
              "variable_name": "train_data",
              "summary": "{\n  \"name\": \"train_data\",\n  \"rows\": 41155,\n  \"fields\": [\n    {\n      \"column\": \"Label\",\n      \"properties\": {\n        \"dtype\": \"number\",\n        \"std\": 11880,\n        \"min\": 0,\n        \"max\": 41154,\n        \"num_unique_values\": 41155,\n        \"samples\": [\n          14623,\n          23458,\n          8170\n        ],\n        \"semantic_type\": \"\",\n        \"description\": \"\"\n      }\n    },\n    {\n      \"column\": \"Message\",\n      \"properties\": {\n        \"dtype\": \"string\",\n        \"num_unique_values\": 41155,\n        \"samples\": [\n          \"So panic buying of soaps and toilet roll was bad enough, now the idiots are stockpiling alcohol ? whats wrong with people #CoronaVirus #StopPanicBuying #Covid_19\",\n          \"Talked to the excellent about about transmission risk at the supermarket As usual good hand hygiene avoid crowds and physical distancing are the way to go\",\n          \"\\\"Saudi Arabia is bracing for an economic downturn as oil prices plummet due to the #coronavirus pandemic\\\" https://t.co/PQ3eRX9euZ\"\n        ],\n        \"semantic_type\": \"\",\n        \"description\": \"\"\n      }\n    },\n    {\n      \"column\": \"Sentiment\",\n      \"properties\": {\n        \"dtype\": \"category\",\n        \"num_unique_values\": 5,\n        \"samples\": [\n          \"2\",\n          \" England\\\"\",\n          \"0\"\n        ],\n        \"semantic_type\": \"\",\n        \"description\": \"\"\n      }\n    }\n  ]\n}"
            }
          },
          "metadata": {},
          "execution_count": 3
        }
      ]
    },
    {
      "cell_type": "code",
      "source": [
        "def filter_missing_values(data):\n",
        "    data.dropna(inplace=True)"
      ],
      "metadata": {
        "id": "Qx1qire1nYTL"
      },
      "execution_count": 4,
      "outputs": []
    },
    {
      "cell_type": "code",
      "source": [
        "# Clean missing values from train_data\n",
        "filter_missing_values(train_data)\n",
        "# Take only rows with sentiments either 0, 1, or 2\n",
        "train_data = train_data[train_data['Sentiment'].isin(['0', '1', '2'])]"
      ],
      "metadata": {
        "id": "OfuQcylhs47B"
      },
      "execution_count": 5,
      "outputs": []
    },
    {
      "cell_type": "markdown",
      "source": [
        "# Part I"
      ],
      "metadata": {
        "id": "4cDujdn7m_6M"
      }
    },
    {
      "cell_type": "markdown",
      "source": [
        "## a)"
      ],
      "metadata": {
        "id": "px6QeKNAxsWI"
      }
    },
    {
      "cell_type": "code",
      "source": [
        "# Given the a data set, it will return the proportion of the observations belong the a sentiment type\n",
        "def proportion_of_sentiment(data, sentiment_type):\n",
        "    return (data['Sentiment'] == sentiment_type).sum() / len(data['Sentiment'])"
      ],
      "metadata": {
        "id": "P7glpGdjxtay"
      },
      "execution_count": 6,
      "outputs": []
    },
    {
      "cell_type": "code",
      "source": [
        "for i in range(3):\n",
        "    print(f\"The proportion of the train observations belonging to sentiment type {i}: {proportion_of_sentiment(train_data, str(i))}\")"
      ],
      "metadata": {
        "id": "JEahDK0ps8WU",
        "outputId": "9ca0d907-1686-445a-b9c8-752bf206852d",
        "colab": {
          "base_uri": "https://localhost:8080/"
        }
      },
      "execution_count": 7,
      "outputs": [
        {
          "output_type": "stream",
          "name": "stdout",
          "text": [
            "The proportion of the train observations belonging to sentiment type 0: 0.37415858666861074\n",
            "The proportion of the train observations belonging to sentiment type 1: 0.18740735340574954\n",
            "The proportion of the train observations belonging to sentiment type 2: 0.4384340599256397\n"
          ]
        }
      ]
    },
    {
      "cell_type": "markdown",
      "source": [
        "## b)"
      ],
      "metadata": {
        "id": "44JVVuDywCOR"
      }
    },
    {
      "cell_type": "code",
      "execution_count": 8,
      "metadata": {
        "id": "yoXSDjI6kcsb"
      },
      "outputs": [],
      "source": [
        "def tokenize(data):\n",
        "    data['Tokens'] = data['Message'].apply(nltk.word_tokenize)"
      ]
    },
    {
      "cell_type": "code",
      "source": [
        "tokenize(train_data)\n",
        "train_data['Tokens'].head()"
      ],
      "metadata": {
        "id": "nclSR-_Ds_96",
        "outputId": "8e997d65-2238-433f-a03c-ab1ea41a779b",
        "colab": {
          "base_uri": "https://localhost:8080/"
        }
      },
      "execution_count": 9,
      "outputs": [
        {
          "output_type": "execute_result",
          "data": {
            "text/plain": [
              "0    [@, MeNyrbie, @, Phil_Gahan, @, Chrisitv, http...\n",
              "1    [advice, Talk, to, your, neighbours, family, t...\n",
              "2    [Coronavirus, Australia, :, Woolworths, to, gi...\n",
              "3    [My, food, stock, is, not, the, only, one, whi...\n",
              "4    [Me, ,, ready, to, go, at, supermarket, during...\n",
              "Name: Tokens, dtype: object"
            ]
          },
          "metadata": {},
          "execution_count": 9
        }
      ]
    },
    {
      "cell_type": "markdown",
      "source": [
        "## c)"
      ],
      "metadata": {
        "id": "TWccBIH4HjGb"
      }
    },
    {
      "cell_type": "code",
      "source": [
        "def remove_url(data):\n",
        "    tokens_no_url = []\n",
        "\n",
        "    # for the tokens of each row, remove all occurences of url\n",
        "    for row in data['Tokens']:\n",
        "        tokens_no_url.append([re.sub('^http', '', t) for t in row])\n",
        "\n",
        "    # Replace our tokens with the url-removed version\n",
        "    data['Tokens'] = tokens_no_url"
      ],
      "metadata": {
        "id": "LjNabPjNHhj9"
      },
      "execution_count": 10,
      "outputs": []
    },
    {
      "cell_type": "code",
      "source": [
        "remove_url(train_data)\n",
        "train_data['Tokens'].head()"
      ],
      "metadata": {
        "id": "WXD7m3fZtB-W",
        "outputId": "ba9a2c25-b63a-4f6b-c1c3-7038a2ddfd37",
        "colab": {
          "base_uri": "https://localhost:8080/"
        }
      },
      "execution_count": 11,
      "outputs": [
        {
          "output_type": "execute_result",
          "data": {
            "text/plain": [
              "0    [@, MeNyrbie, @, Phil_Gahan, @, Chrisitv, s, :...\n",
              "1    [advice, Talk, to, your, neighbours, family, t...\n",
              "2    [Coronavirus, Australia, :, Woolworths, to, gi...\n",
              "3    [My, food, stock, is, not, the, only, one, whi...\n",
              "4    [Me, ,, ready, to, go, at, supermarket, during...\n",
              "Name: Tokens, dtype: object"
            ]
          },
          "metadata": {},
          "execution_count": 11
        }
      ]
    },
    {
      "cell_type": "markdown",
      "source": [
        "## d)"
      ],
      "metadata": {
        "id": "sWM2Bhwq_Hxc"
      }
    },
    {
      "cell_type": "code",
      "source": [
        "def remove_punctuation(data):\n",
        "    tokens_no_punct = []\n",
        "    # For the tokens of each row, remove all occurrences of punctuations (i.e. non-alphanumeric and non-whitespace)\n",
        "    for row in data['Tokens']:\n",
        "        tokens_no_punct.append([re.sub('[^\\w\\s]', '', t) for t in row])\n",
        "    # Replace our tokens with the punctuation-removed version\n",
        "    data['Tokens'] = tokens_no_punct\n",
        "\n",
        "def convert_to_lowercase(data):\n",
        "    lowercase_tokens = []\n",
        "    # For the tokens of each row, convert all strings to lowercase\n",
        "    for row in data['Tokens']:\n",
        "        lowercase_tokens.append([t.lower() for t in row])\n",
        "    # Replace our tokens with the lowercase version\n",
        "    data['Tokens'] = lowercase_tokens"
      ],
      "metadata": {
        "id": "0XIsIT2b_KI3"
      },
      "execution_count": 12,
      "outputs": []
    },
    {
      "cell_type": "code",
      "source": [
        "remove_punctuation(train_data)\n",
        "convert_to_lowercase(train_data)\n",
        "train_data['Tokens'].head()"
      ],
      "metadata": {
        "id": "WxcrjJdutYNM",
        "outputId": "ecd5925c-9398-4a30-d6f6-f01110137cac",
        "colab": {
          "base_uri": "https://localhost:8080/"
        }
      },
      "execution_count": 13,
      "outputs": [
        {
          "output_type": "execute_result",
          "data": {
            "text/plain": [
              "0    [, menyrbie, , phil_gahan, , chrisitv, s, , tc...\n",
              "1    [advice, talk, to, your, neighbours, family, t...\n",
              "2    [coronavirus, australia, , woolworths, to, giv...\n",
              "3    [my, food, stock, is, not, the, only, one, whi...\n",
              "4    [me, , ready, to, go, at, supermarket, during,...\n",
              "Name: Tokens, dtype: object"
            ]
          },
          "metadata": {},
          "execution_count": 13
        }
      ]
    },
    {
      "cell_type": "markdown",
      "source": [
        "## e)"
      ],
      "metadata": {
        "id": "6J18_NrxIiDH"
      }
    },
    {
      "cell_type": "code",
      "source": [
        "def stemming_tokens(data):\n",
        "    ### Stemming our dataset using PorterStemmer\n",
        "    stemmer = PorterStemmer()\n",
        "\n",
        "    stemmed_tokens = []\n",
        "    for row in data['Tokens']:\n",
        "      stemmed_tokens.append([stemmer.stem(t) for t in row])\n",
        "\n",
        "    data['stemmed_tokens'] = stemmed_tokens"
      ],
      "metadata": {
        "id": "WQj0e2CBK5TP"
      },
      "execution_count": 14,
      "outputs": []
    },
    {
      "cell_type": "code",
      "source": [
        "stemming_tokens(train_data)\n",
        "train_data['stemmed_tokens'].head()"
      ],
      "metadata": {
        "id": "4MiS4d5UtZjD",
        "outputId": "b154e9b1-da61-4033-8860-132be0c4ed52",
        "colab": {
          "base_uri": "https://localhost:8080/"
        }
      },
      "execution_count": 15,
      "outputs": [
        {
          "output_type": "execute_result",
          "data": {
            "text/plain": [
              "0    [, menyrbi, , phil_gahan, , chrisitv, s, , tco...\n",
              "1    [advic, talk, to, your, neighbour, famili, to,...\n",
              "2    [coronaviru, australia, , woolworth, to, give,...\n",
              "3    [my, food, stock, is, not, the, onli, one, whi...\n",
              "4    [me, , readi, to, go, at, supermarket, dure, t...\n",
              "Name: stemmed_tokens, dtype: object"
            ]
          },
          "metadata": {},
          "execution_count": 15
        }
      ]
    },
    {
      "cell_type": "markdown",
      "source": [
        "## f)"
      ],
      "metadata": {
        "id": "Gu3KjZjPIj7J"
      }
    },
    {
      "cell_type": "code",
      "source": [
        "def remove_stopwords(data, col):\n",
        "    sw = stopwords.words('english')[:100]\n",
        "    tokens_no_sw = []\n",
        "    # For the tokens of each row, remove all occurrences of stopwords\n",
        "    for row in data[col]:\n",
        "        tokens_no_sw.append([w for w in row if w not in sw])\n",
        "    # Replace our tokens with the stopwords-removed version\n",
        "    data[col] = tokens_no_sw"
      ],
      "metadata": {
        "id": "9CbMFoGFIlL1"
      },
      "execution_count": 16,
      "outputs": []
    },
    {
      "cell_type": "code",
      "source": [
        "remove_stopwords(train_data, 'stemmed_tokens')\n",
        "train_data['Tokens'].head()"
      ],
      "metadata": {
        "id": "PhPjg6fztbDM",
        "outputId": "e6d71032-4b4c-4569-ceaa-1aa8d7c68f4f",
        "colab": {
          "base_uri": "https://localhost:8080/"
        }
      },
      "execution_count": 17,
      "outputs": [
        {
          "output_type": "execute_result",
          "data": {
            "text/plain": [
              "0    [, menyrbie, , phil_gahan, , chrisitv, s, , tc...\n",
              "1    [advice, talk, to, your, neighbours, family, t...\n",
              "2    [coronavirus, australia, , woolworths, to, giv...\n",
              "3    [my, food, stock, is, not, the, only, one, whi...\n",
              "4    [me, , ready, to, go, at, supermarket, during,...\n",
              "Name: Tokens, dtype: object"
            ]
          },
          "metadata": {},
          "execution_count": 17
        }
      ]
    },
    {
      "cell_type": "code",
      "source": [
        "# Remove empty strings\n",
        "def remove_empty_strings(data, col):\n",
        "    data[col] = [[x for x in lst if x != ''] for lst in data[col]]"
      ],
      "metadata": {
        "id": "LkT6uH-tTz7J"
      },
      "execution_count": 18,
      "outputs": []
    },
    {
      "cell_type": "code",
      "source": [
        "remove_empty_strings(train_data, 'stemmed_tokens')"
      ],
      "metadata": {
        "id": "vnAbXLTTUk4j"
      },
      "execution_count": 19,
      "outputs": []
    },
    {
      "cell_type": "markdown",
      "source": [
        "## g)"
      ],
      "metadata": {
        "id": "XGXU1SuPLagm"
      }
    },
    {
      "cell_type": "code",
      "source": [
        "def override_fcn(doc):\n",
        "  # We expect a list of tokens as input\n",
        "  return doc\n",
        "\n",
        "# Count Vectorizer for training data\n",
        "count_vec_train = CountVectorizer(\n",
        "    analyzer='word',\n",
        "    tokenizer= override_fcn,\n",
        "    preprocessor= override_fcn,\n",
        "    token_pattern= None,\n",
        "    # max_features= 2000\n",
        "    )"
      ],
      "metadata": {
        "id": "qWsGby1_0Rhl"
      },
      "execution_count": 20,
      "outputs": []
    },
    {
      "cell_type": "code",
      "source": [
        "def split_tokens_and_label(data, col):\n",
        "    return data[col].to_numpy(), data['Sentiment'].to_numpy()\n",
        "\n",
        "def convert_to_vector_fit(X):\n",
        "    # Remember this output is a Scipy Sparse Array\n",
        "    counts = count_vec_train.fit_transform(X)\n",
        "    # print(counts.toarray())\n",
        "\n",
        "    # # Print this mapping as dictionary\n",
        "    # print(count_vec_train.vocabulary_)\n",
        "\n",
        "    # Print the length of the vocabulary\n",
        "    print(f'The length of the vocabulary is {len(count_vec_train.vocabulary_)}')\n",
        "    return counts\n",
        "\n",
        "def convert_to_vector_transform(X):\n",
        "    # Remember this output is a Scipy Sparse Array\n",
        "    counts = count_vec_train.transform(X)\n",
        "    # print(counts.toarray())\n",
        "\n",
        "    # # Print this mapping as dictionary\n",
        "    # print(count_vec_train.vocabulary_)\n",
        "\n",
        "    # Print the length of the vocabulary\n",
        "    print(f'The length of the vocabulary is {len(count_vec_train.vocabulary_)}')\n",
        "    return counts"
      ],
      "metadata": {
        "id": "VZxgHg0cUjH9"
      },
      "execution_count": 21,
      "outputs": []
    },
    {
      "cell_type": "code",
      "source": [
        "X_train, y_train = split_tokens_and_label(train_data, 'stemmed_tokens')\n",
        "counts = convert_to_vector_fit(X_train)\n",
        "X_train = counts"
      ],
      "metadata": {
        "id": "6XFQvONltcdd",
        "outputId": "03b1a13c-cd71-48ed-8855-730071089395",
        "colab": {
          "base_uri": "https://localhost:8080/"
        }
      },
      "execution_count": 22,
      "outputs": [
        {
          "output_type": "stream",
          "name": "stdout",
          "text": [
            "The length of the vocabulary is 74221\n"
          ]
        }
      ]
    },
    {
      "cell_type": "markdown",
      "source": [
        "## h) `train_data`\n"
      ],
      "metadata": {
        "id": "Jzp_9vc7Lb9T"
      }
    },
    {
      "cell_type": "code",
      "source": [
        "def fit_naive_bayes_model(X_data, y_data):\n",
        "    nb = MultinomialNB()\n",
        "    # Fit model to the data\n",
        "    nb.fit(X_data, y_data)\n",
        "    return nb"
      ],
      "metadata": {
        "id": "_JtAWJRfLdks"
      },
      "execution_count": 23,
      "outputs": []
    },
    {
      "cell_type": "code",
      "source": [
        "nb_train = fit_naive_bayes_model(X_train, y_train)\n",
        "y_train_preds = nb_train.predict(X_train)\n",
        "print(f'Test accuracy with simple Naive Bayes on training data:', accuracy_score(y_train, y_train_preds))\n",
        "# predict(X_train, y_train, 'training')"
      ],
      "metadata": {
        "id": "zi-_JQqFtf1a",
        "outputId": "e896bb64-ddf8-4b1e-93fb-64b60730b1a6",
        "colab": {
          "base_uri": "https://localhost:8080/"
        }
      },
      "execution_count": 24,
      "outputs": [
        {
          "output_type": "stream",
          "name": "stdout",
          "text": [
            "Test accuracy with simple Naive Bayes on training data: 0.8200529756263517\n"
          ]
        }
      ]
    },
    {
      "cell_type": "code",
      "source": [
        "# Report the 5 most probable words in each class, along with their counts.\n",
        "num_top_words = 5\n",
        "# Get the probabilities of each word given each class\n",
        "word_probs = nb_train.feature_log_prob_  # Log probabilities of features given a class\n",
        "\n",
        "# Reverse the mapping from feature indices to words\n",
        "feature_names = count_vec_train.get_feature_names_out()\n",
        "\n",
        "# Get the top 5 most probable words for each class\n",
        "sentiments = ['Negative', 'Neutral', 'Positive']\n",
        "num_top_words = 5\n",
        "for i, class_probs in enumerate(word_probs):\n",
        "    print(f\"Class {i} ({sentiments[i]}):\")\n",
        "    top_word_indices = class_probs.argsort()[-num_top_words:][::-1]  # Indices of top words\n",
        "    for idx in top_word_indices:\n",
        "        word = feature_names[idx]\n",
        "        count = count_vec_train.vocabulary_[word]  # Convert log probability back to count\n",
        "        print(f\"   {word}: {count}\")"
      ],
      "metadata": {
        "id": "BD2fFFNz4_HP",
        "outputId": "c7386e6e-b1f6-45e3-d55e-a5922c405319",
        "colab": {
          "base_uri": "https://localhost:8080/"
        }
      },
      "execution_count": 25,
      "outputs": [
        {
          "output_type": "stream",
          "name": "stdout",
          "text": [
            "Class 0 (Negative):\n",
            "   s: 38119\n",
            "   coronaviru: 11219\n",
            "   covid19: 11686\n",
            "   price: 35084\n",
            "   food: 17726\n",
            "Class 1 (Neutral):\n",
            "   s: 38119\n",
            "   coronaviru: 11219\n",
            "   covid19: 11686\n",
            "   store: 42147\n",
            "   supermarket: 42621\n",
            "Class 2 (Positive):\n",
            "   s: 38119\n",
            "   coronaviru: 11219\n",
            "   covid19: 11686\n",
            "   store: 42147\n",
            "   thi: 67860\n"
          ]
        }
      ]
    },
    {
      "cell_type": "markdown",
      "source": [
        "## h) `test_data`"
      ],
      "metadata": {
        "id": "-t08tf52SKkT"
      }
    },
    {
      "cell_type": "code",
      "source": [
        "# Read the test data from CSV file\n",
        "test_data = pd.read_csv('covid-tweets-test.csv')\n",
        "test_data.columns = ['Label', 'Message', 'Sentiment']\n",
        "test_data[\"Sentiment\"] = test_data[\"Sentiment\"].astype(str)\n",
        "# Test our model by doing the same analysis to test_data\n",
        "filter_missing_values(test_data)\n",
        "tokenize(test_data)\n",
        "remove_url(test_data)\n",
        "remove_punctuation(test_data)\n",
        "convert_to_lowercase(test_data)\n",
        "stemming_tokens(test_data)\n",
        "remove_stopwords(test_data, 'stemmed_tokens')\n",
        "remove_empty_strings(test_data, 'stemmed_tokens')\n",
        "X_test, y_test = split_tokens_and_label(test_data, 'stemmed_tokens')\n",
        "X_test = convert_to_vector_transform(X_test)\n",
        "# predict(X_test, y_test, 'test')\n",
        "# nb_test = fit_naive_bayes_model(X_test, y_test)\n",
        "y_test_preds = nb_train.predict(X_test)\n",
        "print(f'Test accuracy with simple Naive Bayes on test data:', accuracy_score(y_test, y_test_preds))"
      ],
      "metadata": {
        "id": "ylgrKsxouCyr",
        "outputId": "1f1b0a83-7027-45de-ee7f-0c7d68b31750",
        "colab": {
          "base_uri": "https://localhost:8080/"
        }
      },
      "execution_count": 26,
      "outputs": [
        {
          "output_type": "stream",
          "name": "stdout",
          "text": [
            "The length of the vocabulary is 74221\n",
            "Test accuracy with simple Naive Bayes on test data: 0.6695629278567667\n"
          ]
        }
      ]
    },
    {
      "cell_type": "markdown",
      "source": [
        "# j)"
      ],
      "metadata": {
        "id": "5eLk289CRFMN"
      }
    },
    {
      "cell_type": "code",
      "source": [
        "def tfidf_transformer(X):\n",
        "    tfidf = TfidfTransformer()\n",
        "\n",
        "    tfs = tfidf.fit_transform(X);\n",
        "\n",
        "    return tfs.toarray()"
      ],
      "metadata": {
        "id": "yjObhdWPRM9S"
      },
      "execution_count": 27,
      "outputs": []
    },
    {
      "cell_type": "code",
      "source": [
        "### Build the model based on train data ###\n",
        "X_train = tfidf_transformer(counts)\n",
        "\n",
        "nb_train = fit_naive_bayes_model(X_train, y_train)\n",
        "y_train_preds = nb_train.predict(X_train)\n",
        "print(f'Test accuracy with simple Naive Bayes on training data:', accuracy_score(y_train, y_train_preds))"
      ],
      "metadata": {
        "id": "xMBOfeHkRV7q",
        "outputId": "70f92436-cb04-473e-be19-0f69946068ce",
        "colab": {
          "base_uri": "https://localhost:8080/"
        }
      },
      "execution_count": 28,
      "outputs": [
        {
          "output_type": "stream",
          "name": "stdout",
          "text": [
            "Test accuracy with simple Naive Bayes on training data: 0.7245510437170422\n"
          ]
        }
      ]
    },
    {
      "cell_type": "code",
      "source": [
        "### Train data ###\n",
        "y_test_preds = nb_train.predict(X_test)\n",
        "print(f'Test accuracy with simple Naive Bayes on test data:', accuracy_score(y_test, y_test_preds))"
      ],
      "metadata": {
        "id": "og7e_6BqUAdi",
        "outputId": "a0958ff2-0427-48d1-e9e1-19a14f83c0be",
        "colab": {
          "base_uri": "https://localhost:8080/"
        }
      },
      "execution_count": 29,
      "outputs": [
        {
          "output_type": "stream",
          "name": "stdout",
          "text": [
            "Test accuracy with simple Naive Bayes on test data: 0.6332280147446024\n"
          ]
        }
      ]
    },
    {
      "cell_type": "markdown",
      "source": [
        "# k)"
      ],
      "metadata": {
        "id": "cmw5PAb9UMk6"
      }
    },
    {
      "cell_type": "code",
      "source": [
        "def lemmatize_tokens(data):\n",
        "    lemmatizer = WordNetLemmatizer()\n",
        "    lemmatized_tokens = []\n",
        "    for row in data['Tokens']:\n",
        "        lemmatized_tokens.append([lemmatizer.lemmatize(t) for t in row])\n",
        "\n",
        "    data['lemmatized_tokens'] = lemmatized_tokens"
      ],
      "metadata": {
        "id": "bsK6kA8IUOPP"
      },
      "execution_count": 30,
      "outputs": []
    },
    {
      "cell_type": "code",
      "source": [
        "### Train data ###\n",
        "lemmatize_tokens(train_data)\n",
        "remove_stopwords(train_data, 'lemmatized_tokens')\n",
        "remove_empty_strings(train_data, 'lemmatized_tokens')\n",
        "X_train, y_train = split_tokens_and_label(train_data, 'lemmatized_tokens')\n",
        "counts = convert_to_vector_fit(X_train)\n",
        "X_train = counts\n",
        "\n",
        "nb_train = fit_naive_bayes_model(X_train, y_train)\n",
        "y_train_preds = nb_train.predict(X_train)\n",
        "print(f'Test accuracy with simple Naive Bayes on training data:', accuracy_score(y_train, y_train_preds))"
      ],
      "metadata": {
        "id": "wXYPRfD3UQii",
        "outputId": "eff79b55-7ece-4a8b-c7cc-7d4971892e36",
        "colab": {
          "base_uri": "https://localhost:8080/"
        }
      },
      "execution_count": 31,
      "outputs": [
        {
          "output_type": "stream",
          "name": "stdout",
          "text": [
            "The length of the vocabulary is 80978\n",
            "Test accuracy with simple Naive Bayes on training data: 0.8345848217540278\n"
          ]
        }
      ]
    },
    {
      "cell_type": "code",
      "source": [
        "### Test data ###\n",
        "lemmatize_tokens(test_data)\n",
        "remove_stopwords(test_data, 'lemmatized_tokens')\n",
        "remove_empty_strings(test_data, 'lemmatized_tokens')\n",
        "X_test, y_test = split_tokens_and_label(test_data, 'lemmatized_tokens')\n",
        "X_test = convert_to_vector_transform(X_test)\n",
        "\n",
        "y_test_preds = nb_train.predict(X_test)\n",
        "print(f'Test accuracy with simple Naive Bayes on test data:', accuracy_score(y_test, y_test_preds))"
      ],
      "metadata": {
        "id": "HLLKmI14VXbk",
        "outputId": "c2c1eb1c-8add-4710-9a4e-6e7d4e8493dc",
        "colab": {
          "base_uri": "https://localhost:8080/"
        }
      },
      "execution_count": 32,
      "outputs": [
        {
          "output_type": "stream",
          "name": "stdout",
          "text": [
            "The length of the vocabulary is 80978\n",
            "Test accuracy with simple Naive Bayes on test data: 0.6727224855186941\n"
          ]
        }
      ]
    },
    {
      "cell_type": "code",
      "source": [
        "# Report the 5 most probable words in each class, along with their counts.\n",
        "num_top_words = 5\n",
        "# Get the probabilities of each word given each class\n",
        "word_probs = nb_train.feature_log_prob_  # Log probabilities of features given a class\n",
        "\n",
        "# Reverse the mapping from feature indices to words\n",
        "feature_names = count_vec_train.get_feature_names_out()\n",
        "\n",
        "# Get the top 5 most probable words for each class\n",
        "sentiments = ['Negative', 'Neutral', 'Positive']\n",
        "num_top_words = 5\n",
        "for i, class_probs in enumerate(word_probs):\n",
        "    print(f\"Class {i} ({sentiments[i]}):\")\n",
        "    top_word_indices = class_probs.argsort()[-num_top_words:][::-1]  # Indices of top words\n",
        "    for idx in top_word_indices:\n",
        "        word = feature_names[idx]\n",
        "        count = count_vec_train.vocabulary_[word]  # Convert log probability back to count\n",
        "        print(f\"   {word}: {count}\")"
      ],
      "metadata": {
        "id": "4ocPwb1l3cWR",
        "outputId": "d3ef2414-5f5a-48b9-b266-c7bf165000bd",
        "colab": {
          "base_uri": "https://localhost:8080/"
        }
      },
      "execution_count": 33,
      "outputs": [
        {
          "output_type": "stream",
          "name": "stdout",
          "text": [
            "Class 0 (Negative):\n",
            "   s: 43440\n",
            "   coronavirus: 12545\n",
            "   covid19: 13065\n",
            "   price: 39670\n",
            "   food: 20290\n",
            "Class 1 (Neutral):\n",
            "   s: 43440\n",
            "   coronavirus: 12545\n",
            "   covid19: 13065\n",
            "   store: 48023\n",
            "   supermarket: 48602\n",
            "Class 2 (Positive):\n",
            "   s: 43440\n",
            "   coronavirus: 12545\n",
            "   covid19: 13065\n",
            "   store: 48023\n",
            "   supermarket: 48602\n"
          ]
        }
      ]
    },
    {
      "cell_type": "markdown",
      "source": [
        "# Part II"
      ],
      "metadata": {
        "id": "WNdrjeuYbgIY"
      }
    },
    {
      "cell_type": "markdown",
      "source": [
        "## Preparing Data"
      ],
      "metadata": {
        "id": "vRn-s48B5Om_"
      }
    },
    {
      "cell_type": "code",
      "source": [
        "!wget \"https://raw.githubusercontent.com/JanisJ2/jsc270-a4/main/tweets.csv\""
      ],
      "metadata": {
        "colab": {
          "base_uri": "https://localhost:8080/"
        },
        "id": "YJTT0hEGZupY",
        "outputId": "68c96b24-94d9-4101-f4ba-6e2db41cd544"
      },
      "execution_count": 34,
      "outputs": [
        {
          "output_type": "stream",
          "name": "stdout",
          "text": [
            "--2024-03-30 19:39:41--  https://raw.githubusercontent.com/JanisJ2/jsc270-a4/main/tweets.csv\n",
            "Resolving raw.githubusercontent.com (raw.githubusercontent.com)... 185.199.111.133, 185.199.109.133, 185.199.110.133, ...\n",
            "Connecting to raw.githubusercontent.com (raw.githubusercontent.com)|185.199.111.133|:443... connected.\n",
            "HTTP request sent, awaiting response... 200 OK\n",
            "Length: 1912231 (1.8M) [text/plain]\n",
            "Saving to: ‘tweets.csv’\n",
            "\n",
            "tweets.csv          100%[===================>]   1.82M  --.-KB/s    in 0.06s   \n",
            "\n",
            "2024-03-30 19:39:41 (30.9 MB/s) - ‘tweets.csv’ saved [1912231/1912231]\n",
            "\n"
          ]
        }
      ]
    },
    {
      "cell_type": "code",
      "source": [
        "# Read the data form CSV file\n",
        "df = pd.read_csv('tweets.csv', index_col = 0)"
      ],
      "metadata": {
        "id": "7xJASLqZbHyQ"
      },
      "execution_count": 35,
      "outputs": []
    },
    {
      "cell_type": "code",
      "source": [
        "df.head()"
      ],
      "metadata": {
        "id": "8zKVtmFubaqy",
        "outputId": "dde15ebd-6544-4e1f-c879-f7ef3b88ff14",
        "colab": {
          "base_uri": "https://localhost:8080/",
          "height": 504
        }
      },
      "execution_count": 36,
      "outputs": [
        {
          "output_type": "execute_result",
          "data": {
            "text/plain": [
              "                                          tweet_text  tweet_favourite_count  \\\n",
              "0  The priority for the city should be on providi...                      0   \n",
              "1  Like it or not, this kind of clip is the sort ...                      0   \n",
              "2  On a scale of moderately conservative (1) to r...                      0   \n",
              "3  Keep up with the latest politics with The Dail...                      0   \n",
              "4  So much resemblance to NAZI Germany leading up...                      0   \n",
              "\n",
              "            tweet_created_at  tweet_retweet_count  user_statuses_count  \\\n",
              "0  2023-03-27 21:01:36+00:00                    0                10194   \n",
              "1  2023-03-27 21:01:26+00:00                    0                 2843   \n",
              "2  2023-03-27 21:01:16+00:00                    0                13608   \n",
              "3  2023-03-27 21:01:06+00:00                    0                 3610   \n",
              "4  2023-03-27 21:01:05+00:00                    0               108226   \n",
              "\n",
              "  user_screen_name  user_followers_count  \n",
              "0   EmergencyAgent                  1145  \n",
              "1         EDenhoff                  4630  \n",
              "2     dzoolander85                 11234  \n",
              "3  VassKapelosShow                  4901  \n",
              "4     marshiehilgs                   515  "
            ],
            "text/html": [
              "\n",
              "  <div id=\"df-80169dfe-73c7-45d3-91f3-19187ed07129\" class=\"colab-df-container\">\n",
              "    <div>\n",
              "<style scoped>\n",
              "    .dataframe tbody tr th:only-of-type {\n",
              "        vertical-align: middle;\n",
              "    }\n",
              "\n",
              "    .dataframe tbody tr th {\n",
              "        vertical-align: top;\n",
              "    }\n",
              "\n",
              "    .dataframe thead th {\n",
              "        text-align: right;\n",
              "    }\n",
              "</style>\n",
              "<table border=\"1\" class=\"dataframe\">\n",
              "  <thead>\n",
              "    <tr style=\"text-align: right;\">\n",
              "      <th></th>\n",
              "      <th>tweet_text</th>\n",
              "      <th>tweet_favourite_count</th>\n",
              "      <th>tweet_created_at</th>\n",
              "      <th>tweet_retweet_count</th>\n",
              "      <th>user_statuses_count</th>\n",
              "      <th>user_screen_name</th>\n",
              "      <th>user_followers_count</th>\n",
              "    </tr>\n",
              "  </thead>\n",
              "  <tbody>\n",
              "    <tr>\n",
              "      <th>0</th>\n",
              "      <td>The priority for the city should be on providi...</td>\n",
              "      <td>0</td>\n",
              "      <td>2023-03-27 21:01:36+00:00</td>\n",
              "      <td>0</td>\n",
              "      <td>10194</td>\n",
              "      <td>EmergencyAgent</td>\n",
              "      <td>1145</td>\n",
              "    </tr>\n",
              "    <tr>\n",
              "      <th>1</th>\n",
              "      <td>Like it or not, this kind of clip is the sort ...</td>\n",
              "      <td>0</td>\n",
              "      <td>2023-03-27 21:01:26+00:00</td>\n",
              "      <td>0</td>\n",
              "      <td>2843</td>\n",
              "      <td>EDenhoff</td>\n",
              "      <td>4630</td>\n",
              "    </tr>\n",
              "    <tr>\n",
              "      <th>2</th>\n",
              "      <td>On a scale of moderately conservative (1) to r...</td>\n",
              "      <td>0</td>\n",
              "      <td>2023-03-27 21:01:16+00:00</td>\n",
              "      <td>0</td>\n",
              "      <td>13608</td>\n",
              "      <td>dzoolander85</td>\n",
              "      <td>11234</td>\n",
              "    </tr>\n",
              "    <tr>\n",
              "      <th>3</th>\n",
              "      <td>Keep up with the latest politics with The Dail...</td>\n",
              "      <td>0</td>\n",
              "      <td>2023-03-27 21:01:06+00:00</td>\n",
              "      <td>0</td>\n",
              "      <td>3610</td>\n",
              "      <td>VassKapelosShow</td>\n",
              "      <td>4901</td>\n",
              "    </tr>\n",
              "    <tr>\n",
              "      <th>4</th>\n",
              "      <td>So much resemblance to NAZI Germany leading up...</td>\n",
              "      <td>0</td>\n",
              "      <td>2023-03-27 21:01:05+00:00</td>\n",
              "      <td>0</td>\n",
              "      <td>108226</td>\n",
              "      <td>marshiehilgs</td>\n",
              "      <td>515</td>\n",
              "    </tr>\n",
              "  </tbody>\n",
              "</table>\n",
              "</div>\n",
              "    <div class=\"colab-df-buttons\">\n",
              "\n",
              "  <div class=\"colab-df-container\">\n",
              "    <button class=\"colab-df-convert\" onclick=\"convertToInteractive('df-80169dfe-73c7-45d3-91f3-19187ed07129')\"\n",
              "            title=\"Convert this dataframe to an interactive table.\"\n",
              "            style=\"display:none;\">\n",
              "\n",
              "  <svg xmlns=\"http://www.w3.org/2000/svg\" height=\"24px\" viewBox=\"0 -960 960 960\">\n",
              "    <path d=\"M120-120v-720h720v720H120Zm60-500h600v-160H180v160Zm220 220h160v-160H400v160Zm0 220h160v-160H400v160ZM180-400h160v-160H180v160Zm440 0h160v-160H620v160ZM180-180h160v-160H180v160Zm440 0h160v-160H620v160Z\"/>\n",
              "  </svg>\n",
              "    </button>\n",
              "\n",
              "  <style>\n",
              "    .colab-df-container {\n",
              "      display:flex;\n",
              "      gap: 12px;\n",
              "    }\n",
              "\n",
              "    .colab-df-convert {\n",
              "      background-color: #E8F0FE;\n",
              "      border: none;\n",
              "      border-radius: 50%;\n",
              "      cursor: pointer;\n",
              "      display: none;\n",
              "      fill: #1967D2;\n",
              "      height: 32px;\n",
              "      padding: 0 0 0 0;\n",
              "      width: 32px;\n",
              "    }\n",
              "\n",
              "    .colab-df-convert:hover {\n",
              "      background-color: #E2EBFA;\n",
              "      box-shadow: 0px 1px 2px rgba(60, 64, 67, 0.3), 0px 1px 3px 1px rgba(60, 64, 67, 0.15);\n",
              "      fill: #174EA6;\n",
              "    }\n",
              "\n",
              "    .colab-df-buttons div {\n",
              "      margin-bottom: 4px;\n",
              "    }\n",
              "\n",
              "    [theme=dark] .colab-df-convert {\n",
              "      background-color: #3B4455;\n",
              "      fill: #D2E3FC;\n",
              "    }\n",
              "\n",
              "    [theme=dark] .colab-df-convert:hover {\n",
              "      background-color: #434B5C;\n",
              "      box-shadow: 0px 1px 3px 1px rgba(0, 0, 0, 0.15);\n",
              "      filter: drop-shadow(0px 1px 2px rgba(0, 0, 0, 0.3));\n",
              "      fill: #FFFFFF;\n",
              "    }\n",
              "  </style>\n",
              "\n",
              "    <script>\n",
              "      const buttonEl =\n",
              "        document.querySelector('#df-80169dfe-73c7-45d3-91f3-19187ed07129 button.colab-df-convert');\n",
              "      buttonEl.style.display =\n",
              "        google.colab.kernel.accessAllowed ? 'block' : 'none';\n",
              "\n",
              "      async function convertToInteractive(key) {\n",
              "        const element = document.querySelector('#df-80169dfe-73c7-45d3-91f3-19187ed07129');\n",
              "        const dataTable =\n",
              "          await google.colab.kernel.invokeFunction('convertToInteractive',\n",
              "                                                    [key], {});\n",
              "        if (!dataTable) return;\n",
              "\n",
              "        const docLinkHtml = 'Like what you see? Visit the ' +\n",
              "          '<a target=\"_blank\" href=https://colab.research.google.com/notebooks/data_table.ipynb>data table notebook</a>'\n",
              "          + ' to learn more about interactive tables.';\n",
              "        element.innerHTML = '';\n",
              "        dataTable['output_type'] = 'display_data';\n",
              "        await google.colab.output.renderOutput(dataTable, element);\n",
              "        const docLink = document.createElement('div');\n",
              "        docLink.innerHTML = docLinkHtml;\n",
              "        element.appendChild(docLink);\n",
              "      }\n",
              "    </script>\n",
              "  </div>\n",
              "\n",
              "\n",
              "<div id=\"df-31a5c089-b0c1-4394-932a-88e13801ddf3\">\n",
              "  <button class=\"colab-df-quickchart\" onclick=\"quickchart('df-31a5c089-b0c1-4394-932a-88e13801ddf3')\"\n",
              "            title=\"Suggest charts\"\n",
              "            style=\"display:none;\">\n",
              "\n",
              "<svg xmlns=\"http://www.w3.org/2000/svg\" height=\"24px\"viewBox=\"0 0 24 24\"\n",
              "     width=\"24px\">\n",
              "    <g>\n",
              "        <path d=\"M19 3H5c-1.1 0-2 .9-2 2v14c0 1.1.9 2 2 2h14c1.1 0 2-.9 2-2V5c0-1.1-.9-2-2-2zM9 17H7v-7h2v7zm4 0h-2V7h2v10zm4 0h-2v-4h2v4z\"/>\n",
              "    </g>\n",
              "</svg>\n",
              "  </button>\n",
              "\n",
              "<style>\n",
              "  .colab-df-quickchart {\n",
              "      --bg-color: #E8F0FE;\n",
              "      --fill-color: #1967D2;\n",
              "      --hover-bg-color: #E2EBFA;\n",
              "      --hover-fill-color: #174EA6;\n",
              "      --disabled-fill-color: #AAA;\n",
              "      --disabled-bg-color: #DDD;\n",
              "  }\n",
              "\n",
              "  [theme=dark] .colab-df-quickchart {\n",
              "      --bg-color: #3B4455;\n",
              "      --fill-color: #D2E3FC;\n",
              "      --hover-bg-color: #434B5C;\n",
              "      --hover-fill-color: #FFFFFF;\n",
              "      --disabled-bg-color: #3B4455;\n",
              "      --disabled-fill-color: #666;\n",
              "  }\n",
              "\n",
              "  .colab-df-quickchart {\n",
              "    background-color: var(--bg-color);\n",
              "    border: none;\n",
              "    border-radius: 50%;\n",
              "    cursor: pointer;\n",
              "    display: none;\n",
              "    fill: var(--fill-color);\n",
              "    height: 32px;\n",
              "    padding: 0;\n",
              "    width: 32px;\n",
              "  }\n",
              "\n",
              "  .colab-df-quickchart:hover {\n",
              "    background-color: var(--hover-bg-color);\n",
              "    box-shadow: 0 1px 2px rgba(60, 64, 67, 0.3), 0 1px 3px 1px rgba(60, 64, 67, 0.15);\n",
              "    fill: var(--button-hover-fill-color);\n",
              "  }\n",
              "\n",
              "  .colab-df-quickchart-complete:disabled,\n",
              "  .colab-df-quickchart-complete:disabled:hover {\n",
              "    background-color: var(--disabled-bg-color);\n",
              "    fill: var(--disabled-fill-color);\n",
              "    box-shadow: none;\n",
              "  }\n",
              "\n",
              "  .colab-df-spinner {\n",
              "    border: 2px solid var(--fill-color);\n",
              "    border-color: transparent;\n",
              "    border-bottom-color: var(--fill-color);\n",
              "    animation:\n",
              "      spin 1s steps(1) infinite;\n",
              "  }\n",
              "\n",
              "  @keyframes spin {\n",
              "    0% {\n",
              "      border-color: transparent;\n",
              "      border-bottom-color: var(--fill-color);\n",
              "      border-left-color: var(--fill-color);\n",
              "    }\n",
              "    20% {\n",
              "      border-color: transparent;\n",
              "      border-left-color: var(--fill-color);\n",
              "      border-top-color: var(--fill-color);\n",
              "    }\n",
              "    30% {\n",
              "      border-color: transparent;\n",
              "      border-left-color: var(--fill-color);\n",
              "      border-top-color: var(--fill-color);\n",
              "      border-right-color: var(--fill-color);\n",
              "    }\n",
              "    40% {\n",
              "      border-color: transparent;\n",
              "      border-right-color: var(--fill-color);\n",
              "      border-top-color: var(--fill-color);\n",
              "    }\n",
              "    60% {\n",
              "      border-color: transparent;\n",
              "      border-right-color: var(--fill-color);\n",
              "    }\n",
              "    80% {\n",
              "      border-color: transparent;\n",
              "      border-right-color: var(--fill-color);\n",
              "      border-bottom-color: var(--fill-color);\n",
              "    }\n",
              "    90% {\n",
              "      border-color: transparent;\n",
              "      border-bottom-color: var(--fill-color);\n",
              "    }\n",
              "  }\n",
              "</style>\n",
              "\n",
              "  <script>\n",
              "    async function quickchart(key) {\n",
              "      const quickchartButtonEl =\n",
              "        document.querySelector('#' + key + ' button');\n",
              "      quickchartButtonEl.disabled = true;  // To prevent multiple clicks.\n",
              "      quickchartButtonEl.classList.add('colab-df-spinner');\n",
              "      try {\n",
              "        const charts = await google.colab.kernel.invokeFunction(\n",
              "            'suggestCharts', [key], {});\n",
              "      } catch (error) {\n",
              "        console.error('Error during call to suggestCharts:', error);\n",
              "      }\n",
              "      quickchartButtonEl.classList.remove('colab-df-spinner');\n",
              "      quickchartButtonEl.classList.add('colab-df-quickchart-complete');\n",
              "    }\n",
              "    (() => {\n",
              "      let quickchartButtonEl =\n",
              "        document.querySelector('#df-31a5c089-b0c1-4394-932a-88e13801ddf3 button');\n",
              "      quickchartButtonEl.style.display =\n",
              "        google.colab.kernel.accessAllowed ? 'block' : 'none';\n",
              "    })();\n",
              "  </script>\n",
              "</div>\n",
              "\n",
              "    </div>\n",
              "  </div>\n"
            ],
            "application/vnd.google.colaboratory.intrinsic+json": {
              "type": "dataframe",
              "variable_name": "df",
              "summary": "{\n  \"name\": \"df\",\n  \"rows\": 10000,\n  \"fields\": [\n    {\n      \"column\": \"tweet_text\",\n      \"properties\": {\n        \"dtype\": \"string\",\n        \"num_unique_values\": 9998,\n        \"samples\": [\n          \"Says a lot about the media\\u2019s hypocrisy and hate for conservatives when they think that video is more damaging than\\u2026 https://t.co/wVijB6o5Mm\",\n          \"@brianlilley @POTUS shamed the @CPC_HQ didn\\u2019t he !!!\\ud83e\\udd21\\ud83e\\udd21\\ud83e\\udd21\\ud83e\\udd21\\ud83e\\udd21\\ud83e\\udd21\\ud83e\\udd21\\ud83e\\udd21\\ud83e\\udd21#cdnpoli\",\n          \"Imagine being this overly partisan and not being able to just chill and acknowledge others\\u2019 cool shit without being\\u2026 https://t.co/oV2o27nmQi\"\n        ],\n        \"semantic_type\": \"\",\n        \"description\": \"\"\n      }\n    },\n    {\n      \"column\": \"tweet_favourite_count\",\n      \"properties\": {\n        \"dtype\": \"number\",\n        \"std\": 163,\n        \"min\": 0,\n        \"max\": 4889,\n        \"num_unique_values\": 390,\n        \"samples\": [\n          13,\n          40,\n          21\n        ],\n        \"semantic_type\": \"\",\n        \"description\": \"\"\n      }\n    },\n    {\n      \"column\": \"tweet_created_at\",\n      \"properties\": {\n        \"dtype\": \"object\",\n        \"num_unique_values\": 9745,\n        \"samples\": [\n          \"2023-03-24 20:39:49+00:00\",\n          \"2023-03-27 13:58:28+00:00\",\n          \"2023-03-23 22:28:49+00:00\"\n        ],\n        \"semantic_type\": \"\",\n        \"description\": \"\"\n      }\n    },\n    {\n      \"column\": \"tweet_retweet_count\",\n      \"properties\": {\n        \"dtype\": \"number\",\n        \"std\": 46,\n        \"min\": 0,\n        \"max\": 1562,\n        \"num_unique_values\": 221,\n        \"samples\": [\n          44,\n          61,\n          90\n        ],\n        \"semantic_type\": \"\",\n        \"description\": \"\"\n      }\n    },\n    {\n      \"column\": \"user_statuses_count\",\n      \"properties\": {\n        \"dtype\": \"number\",\n        \"std\": 136439,\n        \"min\": 1,\n        \"max\": 1041619,\n        \"num_unique_values\": 2737,\n        \"samples\": [\n          22216,\n          4501,\n          105432\n        ],\n        \"semantic_type\": \"\",\n        \"description\": \"\"\n      }\n    },\n    {\n      \"column\": \"user_screen_name\",\n      \"properties\": {\n        \"dtype\": \"category\",\n        \"num_unique_values\": 2431,\n        \"samples\": [\n          \"barridoc\",\n          \"jamferg57\",\n          \"SummaStrategies\"\n        ],\n        \"semantic_type\": \"\",\n        \"description\": \"\"\n      }\n    },\n    {\n      \"column\": \"user_followers_count\",\n      \"properties\": {\n        \"dtype\": \"number\",\n        \"std\": 27802,\n        \"min\": 0,\n        \"max\": 755203,\n        \"num_unique_values\": 1887,\n        \"samples\": [\n          1684,\n          1264,\n          36174\n        ],\n        \"semantic_type\": \"\",\n        \"description\": \"\"\n      }\n    }\n  ]\n}"
            }
          },
          "metadata": {},
          "execution_count": 36
        }
      ]
    },
    {
      "cell_type": "code",
      "source": [
        "df.info()"
      ],
      "metadata": {
        "id": "zZ7MLGYGbn2H",
        "outputId": "bcac8123-0d90-4da6-e7cf-514ba4367f1b",
        "colab": {
          "base_uri": "https://localhost:8080/"
        }
      },
      "execution_count": 37,
      "outputs": [
        {
          "output_type": "stream",
          "name": "stdout",
          "text": [
            "<class 'pandas.core.frame.DataFrame'>\n",
            "Int64Index: 10000 entries, 0 to 9999\n",
            "Data columns (total 7 columns):\n",
            " #   Column                 Non-Null Count  Dtype \n",
            "---  ------                 --------------  ----- \n",
            " 0   tweet_text             10000 non-null  object\n",
            " 1   tweet_favourite_count  10000 non-null  int64 \n",
            " 2   tweet_created_at       10000 non-null  object\n",
            " 3   tweet_retweet_count    10000 non-null  int64 \n",
            " 4   user_statuses_count    10000 non-null  int64 \n",
            " 5   user_screen_name       10000 non-null  object\n",
            " 6   user_followers_count   10000 non-null  int64 \n",
            "dtypes: int64(4), object(3)\n",
            "memory usage: 883.0+ KB\n"
          ]
        }
      ]
    },
    {
      "cell_type": "markdown",
      "source": [
        "## Data Cleaning"
      ],
      "metadata": {
        "id": "k6G40l334UOv"
      }
    },
    {
      "cell_type": "code",
      "source": [
        "# Check if there are any negative values in numeric columns\n",
        "has_negative = (df['tweet_favourite_count'] < 0).any() and (df['tweet_retweet_count'] < 0).any() and \\\n",
        " (df['user_statuses_count'] < 0).any() and(df['user_followers_count'] < 0).any()\n",
        "\n",
        "if (has_negative): print(\"There's at least one negative value in the dataset.\")\n",
        "else: print(\"There's no negative value in the dataset.\")"
      ],
      "metadata": {
        "id": "o04hHdb_byP3",
        "outputId": "ab0f72b6-9885-40d4-c777-3b73d4d272de",
        "colab": {
          "base_uri": "https://localhost:8080/"
        }
      },
      "execution_count": 38,
      "outputs": [
        {
          "output_type": "stream",
          "name": "stdout",
          "text": [
            "There's no negative value in the dataset.\n"
          ]
        }
      ]
    },
    {
      "cell_type": "markdown",
      "source": [
        "## Text Pre-Processing 1"
      ],
      "metadata": {
        "id": "ENf1RZbs4TV_"
      }
    },
    {
      "cell_type": "markdown",
      "source": [
        "1. Tokenize, punctutation, lowercase\n",
        "2. Remove stop words\n",
        "3. Bigrams"
      ],
      "metadata": {
        "id": "wOIpZMN65oOQ"
      }
    },
    {
      "cell_type": "code",
      "source": [],
      "metadata": {
        "id": "FBce3DC34m0k"
      },
      "execution_count": null,
      "outputs": []
    },
    {
      "cell_type": "markdown",
      "source": [
        "## Exploratory Data Analysis (EDA)"
      ],
      "metadata": {
        "id": "RpNd2Xl87CSl"
      }
    },
    {
      "cell_type": "markdown",
      "source": [
        "1. Word cloud\n",
        "2. Print the 10 most frequent words"
      ],
      "metadata": {
        "id": "5X7o9LD47Riy"
      }
    },
    {
      "cell_type": "markdown",
      "source": [
        "## Text Pre-Processing 2"
      ],
      "metadata": {
        "id": "Mb_ONrmV7WQp"
      }
    },
    {
      "cell_type": "markdown",
      "source": [
        "1. Lemmatize tokens\n",
        "6. Create dictionary, corpus, and term document frequency list"
      ],
      "metadata": {
        "id": "6FKnxZMS7ZFZ"
      }
    },
    {
      "cell_type": "markdown",
      "source": [
        "## Language Dirichlet Allocation (LDA)"
      ],
      "metadata": {
        "id": "ClvklNWM7b86"
      }
    },
    {
      "cell_type": "markdown",
      "source": [
        "1. Tuning hyperparameters (search for the best number of topics): use validation data set\n",
        "2. LDA setup (using training set)\n",
        "3. Visualizing topics (pyLDAvis)"
      ],
      "metadata": {
        "id": "345iev_Q7hYn"
      }
    },
    {
      "cell_type": "markdown",
      "source": [
        "### Performance Evaluation"
      ],
      "metadata": {
        "id": "3Jhyex8v8mEf"
      }
    },
    {
      "cell_type": "markdown",
      "source": [
        "1. Eyeball\n",
        "2. Weird technique"
      ],
      "metadata": {
        "id": "vg3yXG9W82oJ"
      }
    },
    {
      "cell_type": "markdown",
      "source": [
        "## Playground"
      ],
      "metadata": {
        "id": "OffAIo5b1q45"
      }
    },
    {
      "cell_type": "code",
      "source": [
        "import spacy\n",
        "\n",
        "# Load the English language model\n",
        "nlp = spacy.load(\"en_core_web_sm\")\n",
        "\n",
        "def compute_relevance(word, sentence):\n",
        "    # Process the sentence\n",
        "    doc = nlp(sentence)\n",
        "    return doc.similarity(nlp(word))\n",
        "    # Compute relevance score for each token in the sentence\n",
        "    # relevance_scores = []\n",
        "    # for token in doc:\n",
        "    #     relevance_score = token.similarity(nlp(word))\n",
        "    #     relevance_scores.append(relevance_score)\n",
        "\n",
        "    # # Calculate the average relevance score\n",
        "    # average_relevance_score = sum(relevance_scores) / len(relevance_scores)\n",
        "\n",
        "    # return average_relevance_score\n",
        "\n",
        "sentence = \"Okay. Hello, this is X insurance calling regarding a liability decision as well as to verify if there were any injuries in your insurance vehicle. And to confirm if the policy is active on the date of loss for the claim number XXXXXXXX. The claim number is XXXXXXXX. The adjuster could be reached at XXX XXX XXXX. Thank you. And have a nice day\"\n",
        "word = \"Other insurance companies\"\n",
        "relevance_score = compute_relevance(word, sentence)\n",
        "print(relevance_score)"
      ],
      "metadata": {
        "id": "SXRtmiU_sf5_",
        "outputId": "51705c85-4709-492e-8d22-b49172158d9a",
        "colab": {
          "base_uri": "https://localhost:8080/"
        }
      },
      "execution_count": 39,
      "outputs": [
        {
          "output_type": "stream",
          "name": "stdout",
          "text": [
            "0.2907108899342669\n"
          ]
        },
        {
          "output_type": "stream",
          "name": "stderr",
          "text": [
            "<ipython-input-39-f78fc5be58c9>:9: UserWarning: [W007] The model you're using has no word vectors loaded, so the result of the Doc.similarity method will be based on the tagger, parser and NER, which may not give useful similarity judgements. This may happen if you're using one of the small models, e.g. `en_core_web_sm`, which don't ship with word vectors and only use context-sensitive tensors. You can always add your own word vectors, or use one of the larger models instead if available.\n",
            "  return doc.similarity(nlp(word))\n"
          ]
        }
      ]
    },
    {
      "cell_type": "markdown",
      "source": [
        "# Back-up"
      ],
      "metadata": {
        "id": "ocdXbJ2ubBZ7"
      }
    },
    {
      "cell_type": "code",
      "source": [
        "# bearer_token=\"AAAAAAAAAAAAAAAAAAAAABjFsgEAAAAAlpTaLAR1wJ2sut2HNk8oY2r9u28%3DRWpfy37hyg15PEYEQJAQwhjS9S3RasSkc1WV35KH1FhBPfAgjF\"\n",
        "\n",
        "\n",
        "# import tweepy as tw\n",
        "\n",
        "# client = tw.Client(bearer_token=bearer_token)\n",
        "\n",
        "\n",
        "# # ONLY RUN THIS CELL ONCE IN LAB SO AVOID GOING OVER THE RATE LIMIT FOR THIS ACCOUNT!\n",
        "\n",
        "# #Collect tweets (here, I get only 20)\n",
        "# search_words = '#toronto'\n",
        "\n",
        "# response = client.search_recent_tweets(search_words, max_results=100)\n",
        "# tweets = response.data\n",
        "\n",
        "\n",
        "# print(f'Number of tweets: {len(tweets)}')\n",
        "\n",
        "# # The result is an iterable\n",
        "# for tweet in tweets:\n",
        "#   print(tweet.text)\n",
        "\n",
        "# # Could also use a list comprehension\n",
        "\n",
        "\n",
        "# tweet_list = [tweet.text for tweet in tweets]\n",
        "# tweet_text = pd.DataFrame(tweet_list, columns = ['tweet'])\n",
        "\n",
        "# print(tweet_text.head(5))\n",
        "\n",
        "\n",
        "# # Extract handles\n",
        "# handle_regex = '@[A-Za-z|0-9]+'\n",
        "\n",
        "# tweet_text['handles'] = tweet_text['tweet'].str.findall(handle_regex)\n",
        "# print(tweet_text.head(10))\n",
        "\n",
        "\n",
        "# # Define the file path to save the DataFrame\n",
        "# file_path = 'twitter_data.txt'\n",
        "\n",
        "# # Write the DataFrame to a text file\n",
        "# tweet_text.to_csv(file_path, sep='\\t', index=False)\n",
        "\n",
        "# print(f\"DataFrame has been successfully written to '{file_path}'.\")"
      ],
      "metadata": {
        "id": "4GhWZV5PbhXX"
      },
      "execution_count": 40,
      "outputs": []
    }
  ]
}