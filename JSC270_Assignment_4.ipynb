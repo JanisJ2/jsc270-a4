{
  "nbformat": 4,
  "nbformat_minor": 0,
  "metadata": {
    "colab": {
      "provenance": [],
      "include_colab_link": true
    },
    "kernelspec": {
      "name": "python3",
      "display_name": "Python 3"
    },
    "language_info": {
      "name": "python"
    }
  },
  "cells": [
    {
      "cell_type": "markdown",
      "metadata": {
        "id": "view-in-github",
        "colab_type": "text"
      },
      "source": [
        "<a href=\"https://colab.research.google.com/github/JanisJ2/jsc270-a4/blob/main/JSC270_Assignment_4.ipynb\" target=\"_parent\"><img src=\"https://colab.research.google.com/assets/colab-badge.svg\" alt=\"Open In Colab\"/></a>"
      ]
    },
    {
      "cell_type": "markdown",
      "source": [
        "Github link: https://github.com/JanisJ2/jsc270-a4 \\\n",
        "Group member:\n",
        "- Christoffer Tan (1008740445)\n",
        "- Janis Joplin (10097515051)\n"
      ],
      "metadata": {
        "id": "nOx_bQ-RmImT"
      }
    },
    {
      "cell_type": "markdown",
      "source": [
        "# Preparation"
      ],
      "metadata": {
        "id": "wkWFokQMmnWp"
      }
    },
    {
      "cell_type": "code",
      "source": [
        "# Import necessary modules\n",
        "from google.colab import files\n",
        "import io\n",
        "import sys\n",
        "import re\n",
        "\n",
        "import numpy as np\n",
        "import pandas as pd\n",
        "\n",
        "import matplotlib.pyplot as plt\n",
        "from matplotlib.colors import ListedColormap\n",
        "\n",
        "from sklearn.datasets import make_blobs\n",
        "from sklearn.cluster import KMeans\n",
        "from sklearn.metrics import silhouette_score\n",
        "from sklearn.preprocessing import StandardScaler\n",
        "from sklearn.cluster import AgglomerativeClustering\n",
        "from sklearn.feature_extraction.text import TfidfTransformer\n",
        "from sklearn.feature_extraction.text import CountVectorizer\n",
        "from sklearn.model_selection import train_test_split\n",
        "from sklearn.naive_bayes import MultinomialNB\n",
        "from sklearn.metrics import accuracy_score, roc_curve\n",
        "\n",
        "from scipy.cluster.hierarchy import dendrogram, linkage\n",
        "\n",
        "import seaborn as sns\n",
        "\n",
        "import nltk\n",
        "nltk.download('punkt')  # Tokenizer\n",
        "from nltk.corpus import stopwords\n",
        "nltk.download('stopwords')\n",
        "from nltk.stem.porter import *\n",
        "from nltk.stem import WordNetLemmatizer\n",
        "nltk.download('wordnet')\n",
        "from nltk.tokenize import RegexpTokenizer, TweetTokenizer\n",
        "\n",
        "!pip install contractions\n",
        "\n",
        "from wordcloud import WordCloud\n",
        "\n",
        "import gensim.corpora as corpora\n",
        "from gensim.models import CoherenceModel\n",
        "from gensim.models.ldamodel import LdaModel\n",
        "\n",
        "import contractions"
      ],
      "metadata": {
        "colab": {
          "base_uri": "https://localhost:8080/"
        },
        "id": "2eTJeDCkwpdC",
        "outputId": "1283242e-bea1-4668-e1b0-9fdf6d3fc282"
      },
      "execution_count": 4,
      "outputs": [
        {
          "output_type": "stream",
          "name": "stderr",
          "text": [
            "[nltk_data] Downloading package punkt to /root/nltk_data...\n",
            "[nltk_data]   Package punkt is already up-to-date!\n",
            "[nltk_data] Downloading package stopwords to /root/nltk_data...\n",
            "[nltk_data]   Package stopwords is already up-to-date!\n",
            "[nltk_data] Downloading package wordnet to /root/nltk_data...\n",
            "[nltk_data]   Package wordnet is already up-to-date!\n"
          ]
        },
        {
          "output_type": "stream",
          "name": "stdout",
          "text": [
            "Requirement already satisfied: contractions in /usr/local/lib/python3.10/dist-packages (0.1.73)\n",
            "Requirement already satisfied: textsearch>=0.0.21 in /usr/local/lib/python3.10/dist-packages (from contractions) (0.0.24)\n",
            "Requirement already satisfied: anyascii in /usr/local/lib/python3.10/dist-packages (from textsearch>=0.0.21->contractions) (0.3.2)\n",
            "Requirement already satisfied: pyahocorasick in /usr/local/lib/python3.10/dist-packages (from textsearch>=0.0.21->contractions) (2.1.0)\n"
          ]
        }
      ]
    },
    {
      "cell_type": "code",
      "source": [
        "# Read the dataset from GitHub\n",
        "!wget \"https://raw.githubusercontent.com/JanisJ2/jsc270-a4/main/covid-tweets-train.csv\"\n",
        "!wget \"https://raw.githubusercontent.com/JanisJ2/jsc270-a4/main/covid-tweets-test.csv\""
      ],
      "metadata": {
        "colab": {
          "base_uri": "https://localhost:8080/"
        },
        "id": "3GbY3rOzxcej",
        "outputId": "eb27bfba-f99f-4ecb-b595-073d889cdfc0"
      },
      "execution_count": 5,
      "outputs": [
        {
          "output_type": "stream",
          "name": "stdout",
          "text": [
            "--2024-04-05 02:18:44--  https://raw.githubusercontent.com/JanisJ2/jsc270-a4/main/covid-tweets-train.csv\n",
            "Resolving raw.githubusercontent.com (raw.githubusercontent.com)... 185.199.111.133, 185.199.110.133, 185.199.109.133, ...\n",
            "Connecting to raw.githubusercontent.com (raw.githubusercontent.com)|185.199.111.133|:443... connected.\n",
            "HTTP request sent, awaiting response... 200 OK\n",
            "Length: 8991364 (8.6M) [text/plain]\n",
            "Saving to: ‘covid-tweets-train.csv’\n",
            "\n",
            "covid-tweets-train. 100%[===================>]   8.57M  --.-KB/s    in 0.1s    \n",
            "\n",
            "2024-04-05 02:18:44 (65.5 MB/s) - ‘covid-tweets-train.csv’ saved [8991364/8991364]\n",
            "\n",
            "--2024-04-05 02:18:44--  https://raw.githubusercontent.com/JanisJ2/jsc270-a4/main/covid-tweets-test.csv\n",
            "Resolving raw.githubusercontent.com (raw.githubusercontent.com)... 185.199.108.133, 185.199.109.133, 185.199.110.133, ...\n",
            "Connecting to raw.githubusercontent.com (raw.githubusercontent.com)|185.199.108.133|:443... connected.\n",
            "HTTP request sent, awaiting response... 200 OK\n",
            "Length: 866735 (846K) [text/plain]\n",
            "Saving to: ‘covid-tweets-test.csv’\n",
            "\n",
            "covid-tweets-test.c 100%[===================>] 846.42K  --.-KB/s    in 0.05s   \n",
            "\n",
            "2024-04-05 02:18:44 (17.9 MB/s) - ‘covid-tweets-test.csv’ saved [866735/866735]\n",
            "\n"
          ]
        }
      ]
    },
    {
      "cell_type": "code",
      "source": [
        "# Read the train data from CSV file\n",
        "train_data = pd.read_csv('covid-tweets-train.csv')\n",
        "train_data.columns = ['Label', 'Message', 'Sentiment']\n",
        "train_data.head()"
      ],
      "metadata": {
        "colab": {
          "base_uri": "https://localhost:8080/",
          "height": 521
        },
        "id": "7ltXkzDaxl2K",
        "outputId": "192b1dca-1d41-479f-a9d6-e2ad8a449d9f"
      },
      "execution_count": 6,
      "outputs": [
        {
          "output_type": "execute_result",
          "data": {
            "text/plain": [
              "   Label                                            Message Sentiment\n",
              "0      0  @MeNyrbie @Phil_Gahan @Chrisitv https://t.co/i...         1\n",
              "1      1  advice Talk to your neighbours family to excha...         2\n",
              "2      2  Coronavirus Australia: Woolworths to give elde...         2\n",
              "3      3  My food stock is not the only one which is emp...         2\n",
              "4      4  Me, ready to go at supermarket during the #COV...         0"
            ],
            "text/html": [
              "\n",
              "  <div id=\"df-e046bbf4-69f2-4fe5-91d0-e29c2ec9e1d8\" class=\"colab-df-container\">\n",
              "    <div>\n",
              "<style scoped>\n",
              "    .dataframe tbody tr th:only-of-type {\n",
              "        vertical-align: middle;\n",
              "    }\n",
              "\n",
              "    .dataframe tbody tr th {\n",
              "        vertical-align: top;\n",
              "    }\n",
              "\n",
              "    .dataframe thead th {\n",
              "        text-align: right;\n",
              "    }\n",
              "</style>\n",
              "<table border=\"1\" class=\"dataframe\">\n",
              "  <thead>\n",
              "    <tr style=\"text-align: right;\">\n",
              "      <th></th>\n",
              "      <th>Label</th>\n",
              "      <th>Message</th>\n",
              "      <th>Sentiment</th>\n",
              "    </tr>\n",
              "  </thead>\n",
              "  <tbody>\n",
              "    <tr>\n",
              "      <th>0</th>\n",
              "      <td>0</td>\n",
              "      <td>@MeNyrbie @Phil_Gahan @Chrisitv https://t.co/i...</td>\n",
              "      <td>1</td>\n",
              "    </tr>\n",
              "    <tr>\n",
              "      <th>1</th>\n",
              "      <td>1</td>\n",
              "      <td>advice Talk to your neighbours family to excha...</td>\n",
              "      <td>2</td>\n",
              "    </tr>\n",
              "    <tr>\n",
              "      <th>2</th>\n",
              "      <td>2</td>\n",
              "      <td>Coronavirus Australia: Woolworths to give elde...</td>\n",
              "      <td>2</td>\n",
              "    </tr>\n",
              "    <tr>\n",
              "      <th>3</th>\n",
              "      <td>3</td>\n",
              "      <td>My food stock is not the only one which is emp...</td>\n",
              "      <td>2</td>\n",
              "    </tr>\n",
              "    <tr>\n",
              "      <th>4</th>\n",
              "      <td>4</td>\n",
              "      <td>Me, ready to go at supermarket during the #COV...</td>\n",
              "      <td>0</td>\n",
              "    </tr>\n",
              "  </tbody>\n",
              "</table>\n",
              "</div>\n",
              "    <div class=\"colab-df-buttons\">\n",
              "\n",
              "  <div class=\"colab-df-container\">\n",
              "    <button class=\"colab-df-convert\" onclick=\"convertToInteractive('df-e046bbf4-69f2-4fe5-91d0-e29c2ec9e1d8')\"\n",
              "            title=\"Convert this dataframe to an interactive table.\"\n",
              "            style=\"display:none;\">\n",
              "\n",
              "  <svg xmlns=\"http://www.w3.org/2000/svg\" height=\"24px\" viewBox=\"0 -960 960 960\">\n",
              "    <path d=\"M120-120v-720h720v720H120Zm60-500h600v-160H180v160Zm220 220h160v-160H400v160Zm0 220h160v-160H400v160ZM180-400h160v-160H180v160Zm440 0h160v-160H620v160ZM180-180h160v-160H180v160Zm440 0h160v-160H620v160Z\"/>\n",
              "  </svg>\n",
              "    </button>\n",
              "\n",
              "  <style>\n",
              "    .colab-df-container {\n",
              "      display:flex;\n",
              "      gap: 12px;\n",
              "    }\n",
              "\n",
              "    .colab-df-convert {\n",
              "      background-color: #E8F0FE;\n",
              "      border: none;\n",
              "      border-radius: 50%;\n",
              "      cursor: pointer;\n",
              "      display: none;\n",
              "      fill: #1967D2;\n",
              "      height: 32px;\n",
              "      padding: 0 0 0 0;\n",
              "      width: 32px;\n",
              "    }\n",
              "\n",
              "    .colab-df-convert:hover {\n",
              "      background-color: #E2EBFA;\n",
              "      box-shadow: 0px 1px 2px rgba(60, 64, 67, 0.3), 0px 1px 3px 1px rgba(60, 64, 67, 0.15);\n",
              "      fill: #174EA6;\n",
              "    }\n",
              "\n",
              "    .colab-df-buttons div {\n",
              "      margin-bottom: 4px;\n",
              "    }\n",
              "\n",
              "    [theme=dark] .colab-df-convert {\n",
              "      background-color: #3B4455;\n",
              "      fill: #D2E3FC;\n",
              "    }\n",
              "\n",
              "    [theme=dark] .colab-df-convert:hover {\n",
              "      background-color: #434B5C;\n",
              "      box-shadow: 0px 1px 3px 1px rgba(0, 0, 0, 0.15);\n",
              "      filter: drop-shadow(0px 1px 2px rgba(0, 0, 0, 0.3));\n",
              "      fill: #FFFFFF;\n",
              "    }\n",
              "  </style>\n",
              "\n",
              "    <script>\n",
              "      const buttonEl =\n",
              "        document.querySelector('#df-e046bbf4-69f2-4fe5-91d0-e29c2ec9e1d8 button.colab-df-convert');\n",
              "      buttonEl.style.display =\n",
              "        google.colab.kernel.accessAllowed ? 'block' : 'none';\n",
              "\n",
              "      async function convertToInteractive(key) {\n",
              "        const element = document.querySelector('#df-e046bbf4-69f2-4fe5-91d0-e29c2ec9e1d8');\n",
              "        const dataTable =\n",
              "          await google.colab.kernel.invokeFunction('convertToInteractive',\n",
              "                                                    [key], {});\n",
              "        if (!dataTable) return;\n",
              "\n",
              "        const docLinkHtml = 'Like what you see? Visit the ' +\n",
              "          '<a target=\"_blank\" href=https://colab.research.google.com/notebooks/data_table.ipynb>data table notebook</a>'\n",
              "          + ' to learn more about interactive tables.';\n",
              "        element.innerHTML = '';\n",
              "        dataTable['output_type'] = 'display_data';\n",
              "        await google.colab.output.renderOutput(dataTable, element);\n",
              "        const docLink = document.createElement('div');\n",
              "        docLink.innerHTML = docLinkHtml;\n",
              "        element.appendChild(docLink);\n",
              "      }\n",
              "    </script>\n",
              "  </div>\n",
              "\n",
              "\n",
              "<div id=\"df-0d52cba8-992a-45bb-a8c6-5c486ea4332c\">\n",
              "  <button class=\"colab-df-quickchart\" onclick=\"quickchart('df-0d52cba8-992a-45bb-a8c6-5c486ea4332c')\"\n",
              "            title=\"Suggest charts\"\n",
              "            style=\"display:none;\">\n",
              "\n",
              "<svg xmlns=\"http://www.w3.org/2000/svg\" height=\"24px\"viewBox=\"0 0 24 24\"\n",
              "     width=\"24px\">\n",
              "    <g>\n",
              "        <path d=\"M19 3H5c-1.1 0-2 .9-2 2v14c0 1.1.9 2 2 2h14c1.1 0 2-.9 2-2V5c0-1.1-.9-2-2-2zM9 17H7v-7h2v7zm4 0h-2V7h2v10zm4 0h-2v-4h2v4z\"/>\n",
              "    </g>\n",
              "</svg>\n",
              "  </button>\n",
              "\n",
              "<style>\n",
              "  .colab-df-quickchart {\n",
              "      --bg-color: #E8F0FE;\n",
              "      --fill-color: #1967D2;\n",
              "      --hover-bg-color: #E2EBFA;\n",
              "      --hover-fill-color: #174EA6;\n",
              "      --disabled-fill-color: #AAA;\n",
              "      --disabled-bg-color: #DDD;\n",
              "  }\n",
              "\n",
              "  [theme=dark] .colab-df-quickchart {\n",
              "      --bg-color: #3B4455;\n",
              "      --fill-color: #D2E3FC;\n",
              "      --hover-bg-color: #434B5C;\n",
              "      --hover-fill-color: #FFFFFF;\n",
              "      --disabled-bg-color: #3B4455;\n",
              "      --disabled-fill-color: #666;\n",
              "  }\n",
              "\n",
              "  .colab-df-quickchart {\n",
              "    background-color: var(--bg-color);\n",
              "    border: none;\n",
              "    border-radius: 50%;\n",
              "    cursor: pointer;\n",
              "    display: none;\n",
              "    fill: var(--fill-color);\n",
              "    height: 32px;\n",
              "    padding: 0;\n",
              "    width: 32px;\n",
              "  }\n",
              "\n",
              "  .colab-df-quickchart:hover {\n",
              "    background-color: var(--hover-bg-color);\n",
              "    box-shadow: 0 1px 2px rgba(60, 64, 67, 0.3), 0 1px 3px 1px rgba(60, 64, 67, 0.15);\n",
              "    fill: var(--button-hover-fill-color);\n",
              "  }\n",
              "\n",
              "  .colab-df-quickchart-complete:disabled,\n",
              "  .colab-df-quickchart-complete:disabled:hover {\n",
              "    background-color: var(--disabled-bg-color);\n",
              "    fill: var(--disabled-fill-color);\n",
              "    box-shadow: none;\n",
              "  }\n",
              "\n",
              "  .colab-df-spinner {\n",
              "    border: 2px solid var(--fill-color);\n",
              "    border-color: transparent;\n",
              "    border-bottom-color: var(--fill-color);\n",
              "    animation:\n",
              "      spin 1s steps(1) infinite;\n",
              "  }\n",
              "\n",
              "  @keyframes spin {\n",
              "    0% {\n",
              "      border-color: transparent;\n",
              "      border-bottom-color: var(--fill-color);\n",
              "      border-left-color: var(--fill-color);\n",
              "    }\n",
              "    20% {\n",
              "      border-color: transparent;\n",
              "      border-left-color: var(--fill-color);\n",
              "      border-top-color: var(--fill-color);\n",
              "    }\n",
              "    30% {\n",
              "      border-color: transparent;\n",
              "      border-left-color: var(--fill-color);\n",
              "      border-top-color: var(--fill-color);\n",
              "      border-right-color: var(--fill-color);\n",
              "    }\n",
              "    40% {\n",
              "      border-color: transparent;\n",
              "      border-right-color: var(--fill-color);\n",
              "      border-top-color: var(--fill-color);\n",
              "    }\n",
              "    60% {\n",
              "      border-color: transparent;\n",
              "      border-right-color: var(--fill-color);\n",
              "    }\n",
              "    80% {\n",
              "      border-color: transparent;\n",
              "      border-right-color: var(--fill-color);\n",
              "      border-bottom-color: var(--fill-color);\n",
              "    }\n",
              "    90% {\n",
              "      border-color: transparent;\n",
              "      border-bottom-color: var(--fill-color);\n",
              "    }\n",
              "  }\n",
              "</style>\n",
              "\n",
              "  <script>\n",
              "    async function quickchart(key) {\n",
              "      const quickchartButtonEl =\n",
              "        document.querySelector('#' + key + ' button');\n",
              "      quickchartButtonEl.disabled = true;  // To prevent multiple clicks.\n",
              "      quickchartButtonEl.classList.add('colab-df-spinner');\n",
              "      try {\n",
              "        const charts = await google.colab.kernel.invokeFunction(\n",
              "            'suggestCharts', [key], {});\n",
              "      } catch (error) {\n",
              "        console.error('Error during call to suggestCharts:', error);\n",
              "      }\n",
              "      quickchartButtonEl.classList.remove('colab-df-spinner');\n",
              "      quickchartButtonEl.classList.add('colab-df-quickchart-complete');\n",
              "    }\n",
              "    (() => {\n",
              "      let quickchartButtonEl =\n",
              "        document.querySelector('#df-0d52cba8-992a-45bb-a8c6-5c486ea4332c button');\n",
              "      quickchartButtonEl.style.display =\n",
              "        google.colab.kernel.accessAllowed ? 'block' : 'none';\n",
              "    })();\n",
              "  </script>\n",
              "</div>\n",
              "\n",
              "    </div>\n",
              "  </div>\n"
            ],
            "application/vnd.google.colaboratory.intrinsic+json": {
              "type": "dataframe",
              "variable_name": "train_data",
              "summary": "{\n  \"name\": \"train_data\",\n  \"rows\": 41155,\n  \"fields\": [\n    {\n      \"column\": \"Label\",\n      \"properties\": {\n        \"dtype\": \"number\",\n        \"std\": 11880,\n        \"min\": 0,\n        \"max\": 41154,\n        \"num_unique_values\": 41155,\n        \"samples\": [\n          14623,\n          23458,\n          8170\n        ],\n        \"semantic_type\": \"\",\n        \"description\": \"\"\n      }\n    },\n    {\n      \"column\": \"Message\",\n      \"properties\": {\n        \"dtype\": \"string\",\n        \"num_unique_values\": 41155,\n        \"samples\": [\n          \"So panic buying of soaps and toilet roll was bad enough, now the idiots are stockpiling alcohol ? whats wrong with people #CoronaVirus #StopPanicBuying #Covid_19\",\n          \"Talked to the excellent about about transmission risk at the supermarket As usual good hand hygiene avoid crowds and physical distancing are the way to go\",\n          \"\\\"Saudi Arabia is bracing for an economic downturn as oil prices plummet due to the #coronavirus pandemic\\\" https://t.co/PQ3eRX9euZ\"\n        ],\n        \"semantic_type\": \"\",\n        \"description\": \"\"\n      }\n    },\n    {\n      \"column\": \"Sentiment\",\n      \"properties\": {\n        \"dtype\": \"category\",\n        \"num_unique_values\": 5,\n        \"samples\": [\n          \"2\",\n          \" England\\\"\",\n          \"0\"\n        ],\n        \"semantic_type\": \"\",\n        \"description\": \"\"\n      }\n    }\n  ]\n}"
            }
          },
          "metadata": {},
          "execution_count": 6
        }
      ]
    },
    {
      "cell_type": "code",
      "source": [
        "def filter_missing_values(data):\n",
        "    data.dropna(inplace=True)"
      ],
      "metadata": {
        "id": "Qx1qire1nYTL"
      },
      "execution_count": 7,
      "outputs": []
    },
    {
      "cell_type": "code",
      "source": [
        "# Clean missing values from train_data\n",
        "filter_missing_values(train_data)\n",
        "# Take only rows with sentiments either 0, 1, or 2\n",
        "train_data = train_data[train_data['Sentiment'].isin(['0', '1', '2'])]"
      ],
      "metadata": {
        "id": "OfuQcylhs47B"
      },
      "execution_count": 8,
      "outputs": []
    },
    {
      "cell_type": "markdown",
      "source": [
        "# Part I"
      ],
      "metadata": {
        "id": "4cDujdn7m_6M"
      }
    },
    {
      "cell_type": "markdown",
      "source": [
        "## a)"
      ],
      "metadata": {
        "id": "px6QeKNAxsWI"
      }
    },
    {
      "cell_type": "code",
      "source": [
        "# Given the a data set, it will return the proportion of the observations belong the a sentiment type\n",
        "def proportion_of_sentiment(data, sentiment_type):\n",
        "    return (data['Sentiment'] == sentiment_type).sum() / len(data['Sentiment'])"
      ],
      "metadata": {
        "id": "P7glpGdjxtay"
      },
      "execution_count": 9,
      "outputs": []
    },
    {
      "cell_type": "code",
      "source": [
        "for i in range(3):\n",
        "    print(f\"The proportion of the train observations belonging to sentiment type {i}: {proportion_of_sentiment(train_data, str(i))}\")"
      ],
      "metadata": {
        "id": "JEahDK0ps8WU",
        "outputId": "37c77caf-ad3b-4ef3-cb80-43d5793f6d03",
        "colab": {
          "base_uri": "https://localhost:8080/"
        }
      },
      "execution_count": 10,
      "outputs": [
        {
          "output_type": "stream",
          "name": "stdout",
          "text": [
            "The proportion of the train observations belonging to sentiment type 0: 0.37415858666861074\n",
            "The proportion of the train observations belonging to sentiment type 1: 0.18740735340574954\n",
            "The proportion of the train observations belonging to sentiment type 2: 0.4384340599256397\n"
          ]
        }
      ]
    },
    {
      "cell_type": "markdown",
      "source": [
        "## b)"
      ],
      "metadata": {
        "id": "44JVVuDywCOR"
      }
    },
    {
      "cell_type": "code",
      "execution_count": 11,
      "metadata": {
        "id": "yoXSDjI6kcsb"
      },
      "outputs": [],
      "source": [
        "# Custom tokenizer function\n",
        "def whitespace_tokenizer(text):\n",
        "    return text.split()\n",
        "\n",
        "def tokenize(data):\n",
        "    nltk.tokenize.word_tokenize = whitespace_tokenizer\n",
        "    data['Tokens'] = data['Message'].apply(nltk.word_tokenize)"
      ]
    },
    {
      "cell_type": "code",
      "source": [
        "tokenize(train_data)\n",
        "train_data['Tokens'].head()"
      ],
      "metadata": {
        "id": "nclSR-_Ds_96",
        "outputId": "ebd620b3-3cc6-4da1-d771-cd2767b4c582",
        "colab": {
          "base_uri": "https://localhost:8080/"
        }
      },
      "execution_count": 12,
      "outputs": [
        {
          "output_type": "execute_result",
          "data": {
            "text/plain": [
              "0    [@, MeNyrbie, @, Phil_Gahan, @, Chrisitv, http...\n",
              "1    [advice, Talk, to, your, neighbours, family, t...\n",
              "2    [Coronavirus, Australia, :, Woolworths, to, gi...\n",
              "3    [My, food, stock, is, not, the, only, one, whi...\n",
              "4    [Me, ,, ready, to, go, at, supermarket, during...\n",
              "Name: Tokens, dtype: object"
            ]
          },
          "metadata": {},
          "execution_count": 12
        }
      ]
    },
    {
      "cell_type": "markdown",
      "source": [
        "## c)"
      ],
      "metadata": {
        "id": "TWccBIH4HjGb"
      }
    },
    {
      "cell_type": "code",
      "source": [
        "def remove_url(data):\n",
        "    tokens_no_url = []\n",
        "\n",
        "    # for the tokens of each row, remove all occurences of url\n",
        "    for row in data['Tokens']:\n",
        "        tokens_no_url.append([re.sub('^http.*', '', t) for t in row])\n",
        "\n",
        "    # Replace our tokens with the url-removed version\n",
        "    data['Tokens'] = tokens_no_url"
      ],
      "metadata": {
        "id": "LjNabPjNHhj9"
      },
      "execution_count": 13,
      "outputs": []
    },
    {
      "cell_type": "code",
      "source": [
        "remove_url(train_data)\n",
        "train_data['Tokens'].head()"
      ],
      "metadata": {
        "id": "WXD7m3fZtB-W",
        "outputId": "afd8bf03-cca8-4dc0-8de4-eb5588f0dc2a",
        "colab": {
          "base_uri": "https://localhost:8080/"
        }
      },
      "execution_count": 14,
      "outputs": [
        {
          "output_type": "execute_result",
          "data": {
            "text/plain": [
              "0    [@, MeNyrbie, @, Phil_Gahan, @, Chrisitv, , :,...\n",
              "1    [advice, Talk, to, your, neighbours, family, t...\n",
              "2    [Coronavirus, Australia, :, Woolworths, to, gi...\n",
              "3    [My, food, stock, is, not, the, only, one, whi...\n",
              "4    [Me, ,, ready, to, go, at, supermarket, during...\n",
              "Name: Tokens, dtype: object"
            ]
          },
          "metadata": {},
          "execution_count": 14
        }
      ]
    },
    {
      "cell_type": "markdown",
      "source": [
        "## d)"
      ],
      "metadata": {
        "id": "sWM2Bhwq_Hxc"
      }
    },
    {
      "cell_type": "code",
      "source": [
        "def remove_punctuation(data):\n",
        "    tokens_no_punct = []\n",
        "    # For the tokens of each row, remove all occurrences of punctuations (i.e. non-alphanumeric and non-whitespace)\n",
        "    for row in data['Tokens']:\n",
        "        tokens_no_punct.append([re.sub('[^\\w\\s]', '', t) for t in row])\n",
        "    # Replace our tokens with the punctuation-removed version\n",
        "    data['Tokens'] = tokens_no_punct\n",
        "\n",
        "def convert_to_lowercase(data):\n",
        "    lowercase_tokens = []\n",
        "    # For the tokens of each row, convert all strings to lowercase\n",
        "    for row in data['Tokens']:\n",
        "        lowercase_tokens.append([t.lower() for t in row])\n",
        "    # Replace our tokens with the lowercase version\n",
        "    data['Tokens'] = lowercase_tokens"
      ],
      "metadata": {
        "id": "0XIsIT2b_KI3"
      },
      "execution_count": 15,
      "outputs": []
    },
    {
      "cell_type": "code",
      "source": [
        "remove_punctuation(train_data)\n",
        "convert_to_lowercase(train_data)\n",
        "train_data['Tokens'].head()"
      ],
      "metadata": {
        "id": "WxcrjJdutYNM",
        "outputId": "20a53963-b37b-4225-943c-fe2ff3830f7f",
        "colab": {
          "base_uri": "https://localhost:8080/"
        }
      },
      "execution_count": 16,
      "outputs": [
        {
          "output_type": "execute_result",
          "data": {
            "text/plain": [
              "0    [, menyrbie, , phil_gahan, , chrisitv, , , tco...\n",
              "1    [advice, talk, to, your, neighbours, family, t...\n",
              "2    [coronavirus, australia, , woolworths, to, giv...\n",
              "3    [my, food, stock, is, not, the, only, one, whi...\n",
              "4    [me, , ready, to, go, at, supermarket, during,...\n",
              "Name: Tokens, dtype: object"
            ]
          },
          "metadata": {},
          "execution_count": 16
        }
      ]
    },
    {
      "cell_type": "markdown",
      "source": [
        "## e)"
      ],
      "metadata": {
        "id": "6J18_NrxIiDH"
      }
    },
    {
      "cell_type": "code",
      "source": [
        "def stemming_tokens(data):\n",
        "    ### Stemming our dataset using PorterStemmer\n",
        "    stemmer = PorterStemmer()\n",
        "\n",
        "    stemmed_tokens = []\n",
        "    for row in data['Tokens']:\n",
        "      stemmed_tokens.append([stemmer.stem(t) for t in row])\n",
        "\n",
        "    data['stemmed_tokens'] = stemmed_tokens"
      ],
      "metadata": {
        "id": "WQj0e2CBK5TP"
      },
      "execution_count": 17,
      "outputs": []
    },
    {
      "cell_type": "code",
      "source": [
        "stemming_tokens(train_data)\n",
        "train_data['stemmed_tokens'].head()"
      ],
      "metadata": {
        "id": "4MiS4d5UtZjD",
        "outputId": "0fb827f8-5ef7-4187-a020-065c444be6ba",
        "colab": {
          "base_uri": "https://localhost:8080/"
        }
      },
      "execution_count": 18,
      "outputs": [
        {
          "output_type": "execute_result",
          "data": {
            "text/plain": [
              "0    [, menyrbi, , phil_gahan, , chrisitv, , , tcoi...\n",
              "1    [advic, talk, to, your, neighbour, famili, to,...\n",
              "2    [coronaviru, australia, , woolworth, to, give,...\n",
              "3    [my, food, stock, is, not, the, onli, one, whi...\n",
              "4    [me, , readi, to, go, at, supermarket, dure, t...\n",
              "Name: stemmed_tokens, dtype: object"
            ]
          },
          "metadata": {},
          "execution_count": 18
        }
      ]
    },
    {
      "cell_type": "markdown",
      "source": [
        "## f)"
      ],
      "metadata": {
        "id": "Gu3KjZjPIj7J"
      }
    },
    {
      "cell_type": "code",
      "source": [
        "def remove_stopwords(data, col):\n",
        "    sw = stopwords.words('english')[:100]\n",
        "    sw.extend(['amp'])\n",
        "    tokens_no_sw = []\n",
        "    # For the tokens of each row, remove all occurrences of stopwords\n",
        "    for row in data[col]:\n",
        "        tokens_no_sw.append([w for w in row if w not in sw])\n",
        "    # Replace our tokens with the stopwords-removed version\n",
        "    data[col] = tokens_no_sw"
      ],
      "metadata": {
        "id": "9CbMFoGFIlL1"
      },
      "execution_count": 19,
      "outputs": []
    },
    {
      "cell_type": "code",
      "source": [
        "remove_stopwords(train_data, 'stemmed_tokens')\n",
        "train_data['Tokens'].head()"
      ],
      "metadata": {
        "id": "PhPjg6fztbDM",
        "outputId": "6795dd5c-8364-4e4e-da02-15635df00865",
        "colab": {
          "base_uri": "https://localhost:8080/"
        }
      },
      "execution_count": 20,
      "outputs": [
        {
          "output_type": "execute_result",
          "data": {
            "text/plain": [
              "0    [, menyrbie, , phil_gahan, , chrisitv, , , tco...\n",
              "1    [advice, talk, to, your, neighbours, family, t...\n",
              "2    [coronavirus, australia, , woolworths, to, giv...\n",
              "3    [my, food, stock, is, not, the, only, one, whi...\n",
              "4    [me, , ready, to, go, at, supermarket, during,...\n",
              "Name: Tokens, dtype: object"
            ]
          },
          "metadata": {},
          "execution_count": 20
        }
      ]
    },
    {
      "cell_type": "code",
      "source": [
        "# Remove empty strings\n",
        "def remove_empty_strings(data, col):\n",
        "    data[col] = [[x for x in lst if x != ''] for lst in data[col]]"
      ],
      "metadata": {
        "id": "LkT6uH-tTz7J"
      },
      "execution_count": 21,
      "outputs": []
    },
    {
      "cell_type": "code",
      "source": [
        "remove_empty_strings(train_data, 'stemmed_tokens')"
      ],
      "metadata": {
        "id": "vnAbXLTTUk4j"
      },
      "execution_count": 22,
      "outputs": []
    },
    {
      "cell_type": "markdown",
      "source": [
        "## g)"
      ],
      "metadata": {
        "id": "XGXU1SuPLagm"
      }
    },
    {
      "cell_type": "code",
      "source": [
        "def override_fcn(doc):\n",
        "  # We expect a list of tokens as input\n",
        "  return doc\n",
        "\n",
        "# Count Vectorizer for training data\n",
        "count_vec_train = CountVectorizer(\n",
        "    analyzer='word',\n",
        "    tokenizer= override_fcn,\n",
        "    preprocessor= override_fcn,\n",
        "    token_pattern= None,\n",
        "    # max_features= 2000\n",
        "    )"
      ],
      "metadata": {
        "id": "qWsGby1_0Rhl"
      },
      "execution_count": 23,
      "outputs": []
    },
    {
      "cell_type": "code",
      "source": [
        "def split_tokens_and_label(data, col):\n",
        "    return data[col].to_numpy(), data['Sentiment'].to_numpy()\n",
        "\n",
        "def convert_to_vector_fit(X):\n",
        "    # Remember this output is a Scipy Sparse Array\n",
        "    counts = count_vec_train.fit_transform(X)\n",
        "    # print(counts.toarray())\n",
        "\n",
        "    # # Print this mapping as dictionary\n",
        "    # print(count_vec_train.vocabulary_)\n",
        "\n",
        "    # Print the length of the vocabulary\n",
        "    print(f'The length of the vocabulary is {len(count_vec_train.vocabulary_)}')\n",
        "    return counts\n",
        "\n",
        "def convert_to_vector_transform(X):\n",
        "    # Remember this output is a Scipy Sparse Array\n",
        "    counts = count_vec_train.transform(X)\n",
        "    # print(counts.toarray())\n",
        "\n",
        "    # # Print this mapping as dictionary\n",
        "    # print(count_vec_train.vocabulary_)\n",
        "\n",
        "    # Print the length of the vocabulary\n",
        "    print(f'The length of the vocabulary is {len(count_vec_train.vocabulary_)}')\n",
        "    return counts"
      ],
      "metadata": {
        "id": "VZxgHg0cUjH9"
      },
      "execution_count": 24,
      "outputs": []
    },
    {
      "cell_type": "code",
      "source": [
        "X_train, y_train = split_tokens_and_label(train_data, 'stemmed_tokens')\n",
        "counts = convert_to_vector_fit(X_train)\n",
        "X_train = counts"
      ],
      "metadata": {
        "id": "6XFQvONltcdd",
        "outputId": "d997289c-3591-4922-9582-bd9b266c75f5",
        "colab": {
          "base_uri": "https://localhost:8080/"
        }
      },
      "execution_count": 25,
      "outputs": [
        {
          "output_type": "stream",
          "name": "stdout",
          "text": [
            "The length of the vocabulary is 74220\n"
          ]
        }
      ]
    },
    {
      "cell_type": "markdown",
      "source": [
        "## h) `train_data`\n"
      ],
      "metadata": {
        "id": "Jzp_9vc7Lb9T"
      }
    },
    {
      "cell_type": "code",
      "source": [
        "def fit_naive_bayes_model(X_data, y_data):\n",
        "    nb = MultinomialNB()\n",
        "    # Fit model to the data\n",
        "    nb.fit(X_data, y_data)\n",
        "    return nb"
      ],
      "metadata": {
        "id": "_JtAWJRfLdks"
      },
      "execution_count": 26,
      "outputs": []
    },
    {
      "cell_type": "code",
      "source": [
        "nb_train = fit_naive_bayes_model(X_train, y_train)\n",
        "y_train_preds = nb_train.predict(X_train)\n",
        "print(f'Test accuracy with simple Naive Bayes on training data:', accuracy_score(y_train, y_train_preds))\n",
        "# predict(X_train, y_train, 'training')"
      ],
      "metadata": {
        "id": "zi-_JQqFtf1a",
        "outputId": "c40e2c21-1190-40be-f3fe-8d0e5e56583d",
        "colab": {
          "base_uri": "https://localhost:8080/"
        }
      },
      "execution_count": 27,
      "outputs": [
        {
          "output_type": "stream",
          "name": "stdout",
          "text": [
            "Test accuracy with simple Naive Bayes on training data: 0.8195183592136278\n"
          ]
        }
      ]
    },
    {
      "cell_type": "code",
      "source": [
        "# Report the 5 most probable words in each class, along with their counts.\n",
        "num_top_words = 5\n",
        "# Get the probabilities of each word given each class\n",
        "word_probs = nb_train.feature_log_prob_  # Log probabilities of features given a class\n",
        "\n",
        "# Reverse the mapping from feature indices to words\n",
        "feature_names = count_vec_train.get_feature_names_out()\n",
        "\n",
        "# Get the top 5 most probable words for each class\n",
        "sentiments = ['Negative', 'Neutral', 'Positive']\n",
        "num_top_words = 5\n",
        "for i, class_probs in enumerate(word_probs):\n",
        "    print(f\"Class {i} ({sentiments[i]}):\")\n",
        "    top_word_indices = class_probs.argsort()[-num_top_words:][::-1]  # Indices of top words\n",
        "    for idx in top_word_indices:\n",
        "        word = feature_names[idx]\n",
        "        count = count_vec_train.vocabulary_[word]  # Convert log probability back to count\n",
        "        print(f\"   {word}: {count}\")"
      ],
      "metadata": {
        "id": "BD2fFFNz4_HP",
        "outputId": "308aa888-433a-4be3-ba5f-38af9a718965",
        "colab": {
          "base_uri": "https://localhost:8080/"
        }
      },
      "execution_count": 28,
      "outputs": [
        {
          "output_type": "stream",
          "name": "stdout",
          "text": [
            "Class 0 (Negative):\n",
            "   coronaviru: 11218\n",
            "   covid19: 11685\n",
            "   price: 35083\n",
            "   food: 17725\n",
            "   thi: 67859\n",
            "Class 1 (Neutral):\n",
            "   coronaviru: 11218\n",
            "   covid19: 11685\n",
            "   store: 42146\n",
            "   supermarket: 42620\n",
            "   price: 35083\n",
            "Class 2 (Positive):\n",
            "   coronaviru: 11218\n",
            "   covid19: 11685\n",
            "   store: 42146\n",
            "   thi: 67859\n",
            "   price: 35083\n"
          ]
        }
      ]
    },
    {
      "cell_type": "markdown",
      "source": [
        "## h) `test_data`"
      ],
      "metadata": {
        "id": "-t08tf52SKkT"
      }
    },
    {
      "cell_type": "code",
      "source": [
        "# Read the test data from CSV file\n",
        "test_data = pd.read_csv('covid-tweets-test.csv')\n",
        "test_data.columns = ['Label', 'Message', 'Sentiment']\n",
        "test_data[\"Sentiment\"] = test_data[\"Sentiment\"].astype(str)\n",
        "# Test our model by doing the same analysis to test_data\n",
        "filter_missing_values(test_data)\n",
        "tokenize(test_data)\n",
        "remove_url(test_data)\n",
        "remove_punctuation(test_data)\n",
        "convert_to_lowercase(test_data)\n",
        "stemming_tokens(test_data)\n",
        "remove_stopwords(test_data, 'stemmed_tokens')\n",
        "remove_empty_strings(test_data, 'stemmed_tokens')\n",
        "X_test, y_test = split_tokens_and_label(test_data, 'stemmed_tokens')\n",
        "X_test = convert_to_vector_transform(X_test)\n",
        "# predict(X_test, y_test, 'test')\n",
        "# nb_test = fit_naive_bayes_model(X_test, y_test)\n",
        "y_test_preds = nb_train.predict(X_test)\n",
        "print(f'Test accuracy with simple Naive Bayes on test data:', accuracy_score(y_test, y_test_preds))"
      ],
      "metadata": {
        "id": "ylgrKsxouCyr",
        "outputId": "815f9afa-1351-447e-dfad-1c8ce0eaaf05",
        "colab": {
          "base_uri": "https://localhost:8080/"
        }
      },
      "execution_count": 29,
      "outputs": [
        {
          "output_type": "stream",
          "name": "stdout",
          "text": [
            "The length of the vocabulary is 74220\n",
            "Test accuracy with simple Naive Bayes on test data: 0.669826224328594\n"
          ]
        }
      ]
    },
    {
      "cell_type": "markdown",
      "source": [
        "## j)"
      ],
      "metadata": {
        "id": "5eLk289CRFMN"
      }
    },
    {
      "cell_type": "code",
      "source": [
        "def tfidf_transformer(X):\n",
        "    tfidf = TfidfTransformer()\n",
        "\n",
        "    tfs = tfidf.fit_transform(X);\n",
        "\n",
        "    return tfs.toarray()"
      ],
      "metadata": {
        "id": "yjObhdWPRM9S"
      },
      "execution_count": 30,
      "outputs": []
    },
    {
      "cell_type": "code",
      "source": [
        "### Build the model based on train data ###\n",
        "X_train = tfidf_transformer(counts)\n",
        "\n",
        "nb_train = fit_naive_bayes_model(X_train, y_train)\n",
        "y_train_preds = nb_train.predict(X_train)\n",
        "print(f'Test accuracy with simple Naive Bayes on training data:', accuracy_score(y_train, y_train_preds))"
      ],
      "metadata": {
        "id": "xMBOfeHkRV7q",
        "outputId": "9d7bd46b-5000-45f9-ca1f-a5eb93972ff2",
        "colab": {
          "base_uri": "https://localhost:8080/"
        }
      },
      "execution_count": 31,
      "outputs": [
        {
          "output_type": "stream",
          "name": "stdout",
          "text": [
            "Test accuracy with simple Naive Bayes on training data: 0.7255473743043911\n"
          ]
        }
      ]
    },
    {
      "cell_type": "code",
      "source": [
        "### Train data ###\n",
        "y_test_preds = nb_train.predict(X_test)\n",
        "print(f'Test accuracy with simple Naive Bayes on test data:', accuracy_score(y_test, y_test_preds))"
      ],
      "metadata": {
        "id": "og7e_6BqUAdi",
        "outputId": "d7110775-9a68-4b0d-ec79-094fff06aa55",
        "colab": {
          "base_uri": "https://localhost:8080/"
        }
      },
      "execution_count": 32,
      "outputs": [
        {
          "output_type": "stream",
          "name": "stdout",
          "text": [
            "Test accuracy with simple Naive Bayes on test data: 0.6374407582938388\n"
          ]
        }
      ]
    },
    {
      "cell_type": "markdown",
      "source": [
        "## k)"
      ],
      "metadata": {
        "id": "cmw5PAb9UMk6"
      }
    },
    {
      "cell_type": "code",
      "source": [
        "def lemmatize_tokens(data):\n",
        "    lemmatizer = WordNetLemmatizer()\n",
        "    lemmatized_tokens = []\n",
        "    for row in data['Tokens']:\n",
        "        lemmatized_tokens.append([lemmatizer.lemmatize(t) for t in row])\n",
        "\n",
        "    data['lemmatized_tokens'] = lemmatized_tokens"
      ],
      "metadata": {
        "id": "bsK6kA8IUOPP"
      },
      "execution_count": 33,
      "outputs": []
    },
    {
      "cell_type": "code",
      "source": [
        "### Train data ###\n",
        "lemmatize_tokens(train_data)\n",
        "remove_stopwords(train_data, 'lemmatized_tokens')\n",
        "remove_empty_strings(train_data, 'lemmatized_tokens')\n",
        "X_train, y_train = split_tokens_and_label(train_data, 'lemmatized_tokens')\n",
        "counts = convert_to_vector_fit(X_train)\n",
        "X_train = counts\n",
        "\n",
        "nb_train = fit_naive_bayes_model(X_train, y_train)\n",
        "y_train_preds = nb_train.predict(X_train)\n",
        "print(f'Test accuracy with simple Naive Bayes on training data:', accuracy_score(y_train, y_train_preds))"
      ],
      "metadata": {
        "id": "wXYPRfD3UQii",
        "outputId": "624072c0-ae8c-45d4-a29e-da26c26eadfb",
        "colab": {
          "base_uri": "https://localhost:8080/"
        }
      },
      "execution_count": 34,
      "outputs": [
        {
          "output_type": "stream",
          "name": "stdout",
          "text": [
            "The length of the vocabulary is 80977\n",
            "Test accuracy with simple Naive Bayes on training data: 0.833539889674613\n"
          ]
        }
      ]
    },
    {
      "cell_type": "code",
      "source": [
        "### Test data ###\n",
        "lemmatize_tokens(test_data)\n",
        "remove_stopwords(test_data, 'lemmatized_tokens')\n",
        "remove_empty_strings(test_data, 'lemmatized_tokens')\n",
        "X_test, y_test = split_tokens_and_label(test_data, 'lemmatized_tokens')\n",
        "X_test = convert_to_vector_transform(X_test)\n",
        "\n",
        "y_test_preds = nb_train.predict(X_test)\n",
        "print(f'Test accuracy with simple Naive Bayes on test data:', accuracy_score(y_test, y_test_preds))"
      ],
      "metadata": {
        "id": "HLLKmI14VXbk",
        "outputId": "7bf12c3c-02e4-4959-e79c-3a6f3cf460e9",
        "colab": {
          "base_uri": "https://localhost:8080/"
        }
      },
      "execution_count": 35,
      "outputs": [
        {
          "output_type": "stream",
          "name": "stdout",
          "text": [
            "The length of the vocabulary is 80977\n",
            "Test accuracy with simple Naive Bayes on test data: 0.6721958925750395\n"
          ]
        }
      ]
    },
    {
      "cell_type": "code",
      "source": [
        "# Report the 5 most probable words in each class, along with their counts.\n",
        "num_top_words = 5\n",
        "# Get the probabilities of each word given each class\n",
        "word_probs = nb_train.feature_log_prob_  # Log probabilities of features given a class\n",
        "\n",
        "# Reverse the mapping from feature indices to words\n",
        "feature_names = count_vec_train.get_feature_names_out()\n",
        "\n",
        "# Get the top 5 most probable words for each class\n",
        "sentiments = ['Negative', 'Neutral', 'Positive']\n",
        "num_top_words = 5\n",
        "for i, class_probs in enumerate(word_probs):\n",
        "    print(f\"Class {i} ({sentiments[i]}):\")\n",
        "    top_word_indices = class_probs.argsort()[-num_top_words:][::-1]  # Indices of top words\n",
        "    for idx in top_word_indices:\n",
        "        word = feature_names[idx]\n",
        "        count = count_vec_train.vocabulary_[word]  # Convert log probability back to count\n",
        "        print(f\"   {word}: {count}\")"
      ],
      "metadata": {
        "colab": {
          "base_uri": "https://localhost:8080/"
        },
        "id": "4ocPwb1l3cWR",
        "outputId": "ef67aa84-075d-4c4c-d2d7-7b879cc0a1da"
      },
      "execution_count": 36,
      "outputs": [
        {
          "output_type": "stream",
          "name": "stdout",
          "text": [
            "Class 0 (Negative):\n",
            "   coronavirus: 12544\n",
            "   covid19: 13064\n",
            "   price: 39669\n",
            "   food: 20289\n",
            "   supermarket: 48601\n",
            "Class 1 (Neutral):\n",
            "   coronavirus: 12544\n",
            "   covid19: 13064\n",
            "   store: 48022\n",
            "   supermarket: 48601\n",
            "   price: 39669\n",
            "Class 2 (Positive):\n",
            "   coronavirus: 12544\n",
            "   covid19: 13064\n",
            "   store: 48022\n",
            "   supermarket: 48601\n",
            "   price: 39669\n"
          ]
        }
      ]
    },
    {
      "cell_type": "markdown",
      "source": [
        "# Part II"
      ],
      "metadata": {
        "id": "WNdrjeuYbgIY"
      }
    },
    {
      "cell_type": "markdown",
      "source": [
        "## Preparing Data"
      ],
      "metadata": {
        "id": "vRn-s48B5Om_"
      }
    },
    {
      "cell_type": "code",
      "source": [
        "!wget \"https://raw.githubusercontent.com/JanisJ2/jsc270-a4/main/tweets.csv\""
      ],
      "metadata": {
        "colab": {
          "base_uri": "https://localhost:8080/"
        },
        "id": "YJTT0hEGZupY",
        "outputId": "e388d34a-ae8b-4a2a-fa71-5a3937724397"
      },
      "execution_count": 37,
      "outputs": [
        {
          "output_type": "stream",
          "name": "stdout",
          "text": [
            "--2024-04-05 02:20:38--  https://raw.githubusercontent.com/JanisJ2/jsc270-a4/main/tweets.csv\n",
            "Resolving raw.githubusercontent.com (raw.githubusercontent.com)... 185.199.108.133, 185.199.109.133, 185.199.110.133, ...\n",
            "Connecting to raw.githubusercontent.com (raw.githubusercontent.com)|185.199.108.133|:443... connected.\n",
            "HTTP request sent, awaiting response... 200 OK\n",
            "Length: 1912231 (1.8M) [text/plain]\n",
            "Saving to: ‘tweets.csv’\n",
            "\n",
            "tweets.csv          100%[===================>]   1.82M  --.-KB/s    in 0.06s   \n",
            "\n",
            "2024-04-05 02:20:39 (31.2 MB/s) - ‘tweets.csv’ saved [1912231/1912231]\n",
            "\n"
          ]
        }
      ]
    },
    {
      "cell_type": "code",
      "source": [
        "# Read the data form CSV file\n",
        "df = pd.read_csv('tweets.csv', index_col = 0)"
      ],
      "metadata": {
        "id": "7xJASLqZbHyQ"
      },
      "execution_count": 38,
      "outputs": []
    },
    {
      "cell_type": "markdown",
      "source": [
        "### Peek into the dataset"
      ],
      "metadata": {
        "id": "wSzD9Fj7OaBp"
      }
    },
    {
      "cell_type": "code",
      "source": [
        "df.head()"
      ],
      "metadata": {
        "id": "8zKVtmFubaqy",
        "outputId": "1c879f2d-574b-4d5b-ddf3-e1038236d13b",
        "colab": {
          "base_uri": "https://localhost:8080/",
          "height": 206
        }
      },
      "execution_count": 39,
      "outputs": [
        {
          "output_type": "execute_result",
          "data": {
            "text/plain": [
              "                                          tweet_text  tweet_favourite_count  \\\n",
              "0  The priority for the city should be on providi...                      0   \n",
              "1  Like it or not, this kind of clip is the sort ...                      0   \n",
              "2  On a scale of moderately conservative (1) to r...                      0   \n",
              "3  Keep up with the latest politics with The Dail...                      0   \n",
              "4  So much resemblance to NAZI Germany leading up...                      0   \n",
              "\n",
              "            tweet_created_at  tweet_retweet_count  user_statuses_count  \\\n",
              "0  2023-03-27 21:01:36+00:00                    0                10194   \n",
              "1  2023-03-27 21:01:26+00:00                    0                 2843   \n",
              "2  2023-03-27 21:01:16+00:00                    0                13608   \n",
              "3  2023-03-27 21:01:06+00:00                    0                 3610   \n",
              "4  2023-03-27 21:01:05+00:00                    0               108226   \n",
              "\n",
              "  user_screen_name  user_followers_count  \n",
              "0   EmergencyAgent                  1145  \n",
              "1         EDenhoff                  4630  \n",
              "2     dzoolander85                 11234  \n",
              "3  VassKapelosShow                  4901  \n",
              "4     marshiehilgs                   515  "
            ],
            "text/html": [
              "\n",
              "  <div id=\"df-ca649511-b46e-4904-bcab-7105ad289d2e\" class=\"colab-df-container\">\n",
              "    <div>\n",
              "<style scoped>\n",
              "    .dataframe tbody tr th:only-of-type {\n",
              "        vertical-align: middle;\n",
              "    }\n",
              "\n",
              "    .dataframe tbody tr th {\n",
              "        vertical-align: top;\n",
              "    }\n",
              "\n",
              "    .dataframe thead th {\n",
              "        text-align: right;\n",
              "    }\n",
              "</style>\n",
              "<table border=\"1\" class=\"dataframe\">\n",
              "  <thead>\n",
              "    <tr style=\"text-align: right;\">\n",
              "      <th></th>\n",
              "      <th>tweet_text</th>\n",
              "      <th>tweet_favourite_count</th>\n",
              "      <th>tweet_created_at</th>\n",
              "      <th>tweet_retweet_count</th>\n",
              "      <th>user_statuses_count</th>\n",
              "      <th>user_screen_name</th>\n",
              "      <th>user_followers_count</th>\n",
              "    </tr>\n",
              "  </thead>\n",
              "  <tbody>\n",
              "    <tr>\n",
              "      <th>0</th>\n",
              "      <td>The priority for the city should be on providi...</td>\n",
              "      <td>0</td>\n",
              "      <td>2023-03-27 21:01:36+00:00</td>\n",
              "      <td>0</td>\n",
              "      <td>10194</td>\n",
              "      <td>EmergencyAgent</td>\n",
              "      <td>1145</td>\n",
              "    </tr>\n",
              "    <tr>\n",
              "      <th>1</th>\n",
              "      <td>Like it or not, this kind of clip is the sort ...</td>\n",
              "      <td>0</td>\n",
              "      <td>2023-03-27 21:01:26+00:00</td>\n",
              "      <td>0</td>\n",
              "      <td>2843</td>\n",
              "      <td>EDenhoff</td>\n",
              "      <td>4630</td>\n",
              "    </tr>\n",
              "    <tr>\n",
              "      <th>2</th>\n",
              "      <td>On a scale of moderately conservative (1) to r...</td>\n",
              "      <td>0</td>\n",
              "      <td>2023-03-27 21:01:16+00:00</td>\n",
              "      <td>0</td>\n",
              "      <td>13608</td>\n",
              "      <td>dzoolander85</td>\n",
              "      <td>11234</td>\n",
              "    </tr>\n",
              "    <tr>\n",
              "      <th>3</th>\n",
              "      <td>Keep up with the latest politics with The Dail...</td>\n",
              "      <td>0</td>\n",
              "      <td>2023-03-27 21:01:06+00:00</td>\n",
              "      <td>0</td>\n",
              "      <td>3610</td>\n",
              "      <td>VassKapelosShow</td>\n",
              "      <td>4901</td>\n",
              "    </tr>\n",
              "    <tr>\n",
              "      <th>4</th>\n",
              "      <td>So much resemblance to NAZI Germany leading up...</td>\n",
              "      <td>0</td>\n",
              "      <td>2023-03-27 21:01:05+00:00</td>\n",
              "      <td>0</td>\n",
              "      <td>108226</td>\n",
              "      <td>marshiehilgs</td>\n",
              "      <td>515</td>\n",
              "    </tr>\n",
              "  </tbody>\n",
              "</table>\n",
              "</div>\n",
              "    <div class=\"colab-df-buttons\">\n",
              "\n",
              "  <div class=\"colab-df-container\">\n",
              "    <button class=\"colab-df-convert\" onclick=\"convertToInteractive('df-ca649511-b46e-4904-bcab-7105ad289d2e')\"\n",
              "            title=\"Convert this dataframe to an interactive table.\"\n",
              "            style=\"display:none;\">\n",
              "\n",
              "  <svg xmlns=\"http://www.w3.org/2000/svg\" height=\"24px\" viewBox=\"0 -960 960 960\">\n",
              "    <path d=\"M120-120v-720h720v720H120Zm60-500h600v-160H180v160Zm220 220h160v-160H400v160Zm0 220h160v-160H400v160ZM180-400h160v-160H180v160Zm440 0h160v-160H620v160ZM180-180h160v-160H180v160Zm440 0h160v-160H620v160Z\"/>\n",
              "  </svg>\n",
              "    </button>\n",
              "\n",
              "  <style>\n",
              "    .colab-df-container {\n",
              "      display:flex;\n",
              "      gap: 12px;\n",
              "    }\n",
              "\n",
              "    .colab-df-convert {\n",
              "      background-color: #E8F0FE;\n",
              "      border: none;\n",
              "      border-radius: 50%;\n",
              "      cursor: pointer;\n",
              "      display: none;\n",
              "      fill: #1967D2;\n",
              "      height: 32px;\n",
              "      padding: 0 0 0 0;\n",
              "      width: 32px;\n",
              "    }\n",
              "\n",
              "    .colab-df-convert:hover {\n",
              "      background-color: #E2EBFA;\n",
              "      box-shadow: 0px 1px 2px rgba(60, 64, 67, 0.3), 0px 1px 3px 1px rgba(60, 64, 67, 0.15);\n",
              "      fill: #174EA6;\n",
              "    }\n",
              "\n",
              "    .colab-df-buttons div {\n",
              "      margin-bottom: 4px;\n",
              "    }\n",
              "\n",
              "    [theme=dark] .colab-df-convert {\n",
              "      background-color: #3B4455;\n",
              "      fill: #D2E3FC;\n",
              "    }\n",
              "\n",
              "    [theme=dark] .colab-df-convert:hover {\n",
              "      background-color: #434B5C;\n",
              "      box-shadow: 0px 1px 3px 1px rgba(0, 0, 0, 0.15);\n",
              "      filter: drop-shadow(0px 1px 2px rgba(0, 0, 0, 0.3));\n",
              "      fill: #FFFFFF;\n",
              "    }\n",
              "  </style>\n",
              "\n",
              "    <script>\n",
              "      const buttonEl =\n",
              "        document.querySelector('#df-ca649511-b46e-4904-bcab-7105ad289d2e button.colab-df-convert');\n",
              "      buttonEl.style.display =\n",
              "        google.colab.kernel.accessAllowed ? 'block' : 'none';\n",
              "\n",
              "      async function convertToInteractive(key) {\n",
              "        const element = document.querySelector('#df-ca649511-b46e-4904-bcab-7105ad289d2e');\n",
              "        const dataTable =\n",
              "          await google.colab.kernel.invokeFunction('convertToInteractive',\n",
              "                                                    [key], {});\n",
              "        if (!dataTable) return;\n",
              "\n",
              "        const docLinkHtml = 'Like what you see? Visit the ' +\n",
              "          '<a target=\"_blank\" href=https://colab.research.google.com/notebooks/data_table.ipynb>data table notebook</a>'\n",
              "          + ' to learn more about interactive tables.';\n",
              "        element.innerHTML = '';\n",
              "        dataTable['output_type'] = 'display_data';\n",
              "        await google.colab.output.renderOutput(dataTable, element);\n",
              "        const docLink = document.createElement('div');\n",
              "        docLink.innerHTML = docLinkHtml;\n",
              "        element.appendChild(docLink);\n",
              "      }\n",
              "    </script>\n",
              "  </div>\n",
              "\n",
              "\n",
              "<div id=\"df-90d58b2e-53c3-444f-9463-530d68afcfd0\">\n",
              "  <button class=\"colab-df-quickchart\" onclick=\"quickchart('df-90d58b2e-53c3-444f-9463-530d68afcfd0')\"\n",
              "            title=\"Suggest charts\"\n",
              "            style=\"display:none;\">\n",
              "\n",
              "<svg xmlns=\"http://www.w3.org/2000/svg\" height=\"24px\"viewBox=\"0 0 24 24\"\n",
              "     width=\"24px\">\n",
              "    <g>\n",
              "        <path d=\"M19 3H5c-1.1 0-2 .9-2 2v14c0 1.1.9 2 2 2h14c1.1 0 2-.9 2-2V5c0-1.1-.9-2-2-2zM9 17H7v-7h2v7zm4 0h-2V7h2v10zm4 0h-2v-4h2v4z\"/>\n",
              "    </g>\n",
              "</svg>\n",
              "  </button>\n",
              "\n",
              "<style>\n",
              "  .colab-df-quickchart {\n",
              "      --bg-color: #E8F0FE;\n",
              "      --fill-color: #1967D2;\n",
              "      --hover-bg-color: #E2EBFA;\n",
              "      --hover-fill-color: #174EA6;\n",
              "      --disabled-fill-color: #AAA;\n",
              "      --disabled-bg-color: #DDD;\n",
              "  }\n",
              "\n",
              "  [theme=dark] .colab-df-quickchart {\n",
              "      --bg-color: #3B4455;\n",
              "      --fill-color: #D2E3FC;\n",
              "      --hover-bg-color: #434B5C;\n",
              "      --hover-fill-color: #FFFFFF;\n",
              "      --disabled-bg-color: #3B4455;\n",
              "      --disabled-fill-color: #666;\n",
              "  }\n",
              "\n",
              "  .colab-df-quickchart {\n",
              "    background-color: var(--bg-color);\n",
              "    border: none;\n",
              "    border-radius: 50%;\n",
              "    cursor: pointer;\n",
              "    display: none;\n",
              "    fill: var(--fill-color);\n",
              "    height: 32px;\n",
              "    padding: 0;\n",
              "    width: 32px;\n",
              "  }\n",
              "\n",
              "  .colab-df-quickchart:hover {\n",
              "    background-color: var(--hover-bg-color);\n",
              "    box-shadow: 0 1px 2px rgba(60, 64, 67, 0.3), 0 1px 3px 1px rgba(60, 64, 67, 0.15);\n",
              "    fill: var(--button-hover-fill-color);\n",
              "  }\n",
              "\n",
              "  .colab-df-quickchart-complete:disabled,\n",
              "  .colab-df-quickchart-complete:disabled:hover {\n",
              "    background-color: var(--disabled-bg-color);\n",
              "    fill: var(--disabled-fill-color);\n",
              "    box-shadow: none;\n",
              "  }\n",
              "\n",
              "  .colab-df-spinner {\n",
              "    border: 2px solid var(--fill-color);\n",
              "    border-color: transparent;\n",
              "    border-bottom-color: var(--fill-color);\n",
              "    animation:\n",
              "      spin 1s steps(1) infinite;\n",
              "  }\n",
              "\n",
              "  @keyframes spin {\n",
              "    0% {\n",
              "      border-color: transparent;\n",
              "      border-bottom-color: var(--fill-color);\n",
              "      border-left-color: var(--fill-color);\n",
              "    }\n",
              "    20% {\n",
              "      border-color: transparent;\n",
              "      border-left-color: var(--fill-color);\n",
              "      border-top-color: var(--fill-color);\n",
              "    }\n",
              "    30% {\n",
              "      border-color: transparent;\n",
              "      border-left-color: var(--fill-color);\n",
              "      border-top-color: var(--fill-color);\n",
              "      border-right-color: var(--fill-color);\n",
              "    }\n",
              "    40% {\n",
              "      border-color: transparent;\n",
              "      border-right-color: var(--fill-color);\n",
              "      border-top-color: var(--fill-color);\n",
              "    }\n",
              "    60% {\n",
              "      border-color: transparent;\n",
              "      border-right-color: var(--fill-color);\n",
              "    }\n",
              "    80% {\n",
              "      border-color: transparent;\n",
              "      border-right-color: var(--fill-color);\n",
              "      border-bottom-color: var(--fill-color);\n",
              "    }\n",
              "    90% {\n",
              "      border-color: transparent;\n",
              "      border-bottom-color: var(--fill-color);\n",
              "    }\n",
              "  }\n",
              "</style>\n",
              "\n",
              "  <script>\n",
              "    async function quickchart(key) {\n",
              "      const quickchartButtonEl =\n",
              "        document.querySelector('#' + key + ' button');\n",
              "      quickchartButtonEl.disabled = true;  // To prevent multiple clicks.\n",
              "      quickchartButtonEl.classList.add('colab-df-spinner');\n",
              "      try {\n",
              "        const charts = await google.colab.kernel.invokeFunction(\n",
              "            'suggestCharts', [key], {});\n",
              "      } catch (error) {\n",
              "        console.error('Error during call to suggestCharts:', error);\n",
              "      }\n",
              "      quickchartButtonEl.classList.remove('colab-df-spinner');\n",
              "      quickchartButtonEl.classList.add('colab-df-quickchart-complete');\n",
              "    }\n",
              "    (() => {\n",
              "      let quickchartButtonEl =\n",
              "        document.querySelector('#df-90d58b2e-53c3-444f-9463-530d68afcfd0 button');\n",
              "      quickchartButtonEl.style.display =\n",
              "        google.colab.kernel.accessAllowed ? 'block' : 'none';\n",
              "    })();\n",
              "  </script>\n",
              "</div>\n",
              "\n",
              "    </div>\n",
              "  </div>\n"
            ],
            "application/vnd.google.colaboratory.intrinsic+json": {
              "type": "dataframe",
              "variable_name": "df",
              "summary": "{\n  \"name\": \"df\",\n  \"rows\": 10000,\n  \"fields\": [\n    {\n      \"column\": \"tweet_text\",\n      \"properties\": {\n        \"dtype\": \"string\",\n        \"num_unique_values\": 9998,\n        \"samples\": [\n          \"Says a lot about the media\\u2019s hypocrisy and hate for conservatives when they think that video is more damaging than\\u2026 https://t.co/wVijB6o5Mm\",\n          \"@brianlilley @POTUS shamed the @CPC_HQ didn\\u2019t he !!!\\ud83e\\udd21\\ud83e\\udd21\\ud83e\\udd21\\ud83e\\udd21\\ud83e\\udd21\\ud83e\\udd21\\ud83e\\udd21\\ud83e\\udd21\\ud83e\\udd21#cdnpoli\",\n          \"Imagine being this overly partisan and not being able to just chill and acknowledge others\\u2019 cool shit without being\\u2026 https://t.co/oV2o27nmQi\"\n        ],\n        \"semantic_type\": \"\",\n        \"description\": \"\"\n      }\n    },\n    {\n      \"column\": \"tweet_favourite_count\",\n      \"properties\": {\n        \"dtype\": \"number\",\n        \"std\": 163,\n        \"min\": 0,\n        \"max\": 4889,\n        \"num_unique_values\": 390,\n        \"samples\": [\n          13,\n          40,\n          21\n        ],\n        \"semantic_type\": \"\",\n        \"description\": \"\"\n      }\n    },\n    {\n      \"column\": \"tweet_created_at\",\n      \"properties\": {\n        \"dtype\": \"object\",\n        \"num_unique_values\": 9745,\n        \"samples\": [\n          \"2023-03-24 20:39:49+00:00\",\n          \"2023-03-27 13:58:28+00:00\",\n          \"2023-03-23 22:28:49+00:00\"\n        ],\n        \"semantic_type\": \"\",\n        \"description\": \"\"\n      }\n    },\n    {\n      \"column\": \"tweet_retweet_count\",\n      \"properties\": {\n        \"dtype\": \"number\",\n        \"std\": 46,\n        \"min\": 0,\n        \"max\": 1562,\n        \"num_unique_values\": 221,\n        \"samples\": [\n          44,\n          61,\n          90\n        ],\n        \"semantic_type\": \"\",\n        \"description\": \"\"\n      }\n    },\n    {\n      \"column\": \"user_statuses_count\",\n      \"properties\": {\n        \"dtype\": \"number\",\n        \"std\": 136439,\n        \"min\": 1,\n        \"max\": 1041619,\n        \"num_unique_values\": 2737,\n        \"samples\": [\n          22216,\n          4501,\n          105432\n        ],\n        \"semantic_type\": \"\",\n        \"description\": \"\"\n      }\n    },\n    {\n      \"column\": \"user_screen_name\",\n      \"properties\": {\n        \"dtype\": \"category\",\n        \"num_unique_values\": 2431,\n        \"samples\": [\n          \"barridoc\",\n          \"jamferg57\",\n          \"SummaStrategies\"\n        ],\n        \"semantic_type\": \"\",\n        \"description\": \"\"\n      }\n    },\n    {\n      \"column\": \"user_followers_count\",\n      \"properties\": {\n        \"dtype\": \"number\",\n        \"std\": 27802,\n        \"min\": 0,\n        \"max\": 755203,\n        \"num_unique_values\": 1887,\n        \"samples\": [\n          1684,\n          1264,\n          36174\n        ],\n        \"semantic_type\": \"\",\n        \"description\": \"\"\n      }\n    }\n  ]\n}"
            }
          },
          "metadata": {},
          "execution_count": 39
        }
      ]
    },
    {
      "cell_type": "code",
      "source": [
        "df.info()"
      ],
      "metadata": {
        "id": "zZ7MLGYGbn2H",
        "outputId": "4ec8a2e1-32a6-4faa-abf5-85eb9c8adde1",
        "colab": {
          "base_uri": "https://localhost:8080/"
        }
      },
      "execution_count": 40,
      "outputs": [
        {
          "output_type": "stream",
          "name": "stdout",
          "text": [
            "<class 'pandas.core.frame.DataFrame'>\n",
            "Index: 10000 entries, 0 to 9999\n",
            "Data columns (total 7 columns):\n",
            " #   Column                 Non-Null Count  Dtype \n",
            "---  ------                 --------------  ----- \n",
            " 0   tweet_text             10000 non-null  object\n",
            " 1   tweet_favourite_count  10000 non-null  int64 \n",
            " 2   tweet_created_at       10000 non-null  object\n",
            " 3   tweet_retweet_count    10000 non-null  int64 \n",
            " 4   user_statuses_count    10000 non-null  int64 \n",
            " 5   user_screen_name       10000 non-null  object\n",
            " 6   user_followers_count   10000 non-null  int64 \n",
            "dtypes: int64(4), object(3)\n",
            "memory usage: 883.0+ KB\n"
          ]
        }
      ]
    },
    {
      "cell_type": "markdown",
      "source": [
        "## Data Cleaning"
      ],
      "metadata": {
        "id": "k6G40l334UOv"
      }
    },
    {
      "cell_type": "code",
      "source": [
        "# Check if there are any negative values in numeric columns\n",
        "has_negative = (df['tweet_favourite_count'] < 0).any() and (df['tweet_retweet_count'] < 0).any() and \\\n",
        " (df['user_statuses_count'] < 0).any() and(df['user_followers_count'] < 0).any()\n",
        "\n",
        "if (has_negative): print(\"There's at least one negative value in the dataset.\")\n",
        "else: print(\"There's no negative value in the dataset.\")"
      ],
      "metadata": {
        "id": "o04hHdb_byP3",
        "outputId": "1d4ec885-0196-4b14-d087-a018d5f2292e",
        "colab": {
          "base_uri": "https://localhost:8080/"
        }
      },
      "execution_count": 41,
      "outputs": [
        {
          "output_type": "stream",
          "name": "stdout",
          "text": [
            "There's no negative value in the dataset.\n"
          ]
        }
      ]
    },
    {
      "cell_type": "markdown",
      "source": [
        "## Text Pre-Processing 1"
      ],
      "metadata": {
        "id": "ENf1RZbs4TV_"
      }
    },
    {
      "cell_type": "markdown",
      "source": [
        "1. Tokenize, remove url, punctutation, lowercase\n",
        "2. Remove stop words"
      ],
      "metadata": {
        "id": "wOIpZMN65oOQ"
      }
    },
    {
      "cell_type": "code",
      "source": [
        "# rename the \"tweet_text\" column as \"Messages\"\n",
        "df = df.rename(columns={'tweet_text': 'Message'})\n",
        "\n",
        "# select only the column needed (in this case, we only need 'Messages')\n",
        "df = df[['Message']]\n",
        "\n",
        "df.head()"
      ],
      "metadata": {
        "id": "sJLjjICZ9nBd",
        "colab": {
          "base_uri": "https://localhost:8080/",
          "height": 206
        },
        "outputId": "1c03d3bd-3462-43da-dfb4-eef73980d17c"
      },
      "execution_count": 42,
      "outputs": [
        {
          "output_type": "execute_result",
          "data": {
            "text/plain": [
              "                                             Message\n",
              "0  The priority for the city should be on providi...\n",
              "1  Like it or not, this kind of clip is the sort ...\n",
              "2  On a scale of moderately conservative (1) to r...\n",
              "3  Keep up with the latest politics with The Dail...\n",
              "4  So much resemblance to NAZI Germany leading up..."
            ],
            "text/html": [
              "\n",
              "  <div id=\"df-8f755df9-66ae-48ca-b164-9dd61ae49ba0\" class=\"colab-df-container\">\n",
              "    <div>\n",
              "<style scoped>\n",
              "    .dataframe tbody tr th:only-of-type {\n",
              "        vertical-align: middle;\n",
              "    }\n",
              "\n",
              "    .dataframe tbody tr th {\n",
              "        vertical-align: top;\n",
              "    }\n",
              "\n",
              "    .dataframe thead th {\n",
              "        text-align: right;\n",
              "    }\n",
              "</style>\n",
              "<table border=\"1\" class=\"dataframe\">\n",
              "  <thead>\n",
              "    <tr style=\"text-align: right;\">\n",
              "      <th></th>\n",
              "      <th>Message</th>\n",
              "    </tr>\n",
              "  </thead>\n",
              "  <tbody>\n",
              "    <tr>\n",
              "      <th>0</th>\n",
              "      <td>The priority for the city should be on providi...</td>\n",
              "    </tr>\n",
              "    <tr>\n",
              "      <th>1</th>\n",
              "      <td>Like it or not, this kind of clip is the sort ...</td>\n",
              "    </tr>\n",
              "    <tr>\n",
              "      <th>2</th>\n",
              "      <td>On a scale of moderately conservative (1) to r...</td>\n",
              "    </tr>\n",
              "    <tr>\n",
              "      <th>3</th>\n",
              "      <td>Keep up with the latest politics with The Dail...</td>\n",
              "    </tr>\n",
              "    <tr>\n",
              "      <th>4</th>\n",
              "      <td>So much resemblance to NAZI Germany leading up...</td>\n",
              "    </tr>\n",
              "  </tbody>\n",
              "</table>\n",
              "</div>\n",
              "    <div class=\"colab-df-buttons\">\n",
              "\n",
              "  <div class=\"colab-df-container\">\n",
              "    <button class=\"colab-df-convert\" onclick=\"convertToInteractive('df-8f755df9-66ae-48ca-b164-9dd61ae49ba0')\"\n",
              "            title=\"Convert this dataframe to an interactive table.\"\n",
              "            style=\"display:none;\">\n",
              "\n",
              "  <svg xmlns=\"http://www.w3.org/2000/svg\" height=\"24px\" viewBox=\"0 -960 960 960\">\n",
              "    <path d=\"M120-120v-720h720v720H120Zm60-500h600v-160H180v160Zm220 220h160v-160H400v160Zm0 220h160v-160H400v160ZM180-400h160v-160H180v160Zm440 0h160v-160H620v160ZM180-180h160v-160H180v160Zm440 0h160v-160H620v160Z\"/>\n",
              "  </svg>\n",
              "    </button>\n",
              "\n",
              "  <style>\n",
              "    .colab-df-container {\n",
              "      display:flex;\n",
              "      gap: 12px;\n",
              "    }\n",
              "\n",
              "    .colab-df-convert {\n",
              "      background-color: #E8F0FE;\n",
              "      border: none;\n",
              "      border-radius: 50%;\n",
              "      cursor: pointer;\n",
              "      display: none;\n",
              "      fill: #1967D2;\n",
              "      height: 32px;\n",
              "      padding: 0 0 0 0;\n",
              "      width: 32px;\n",
              "    }\n",
              "\n",
              "    .colab-df-convert:hover {\n",
              "      background-color: #E2EBFA;\n",
              "      box-shadow: 0px 1px 2px rgba(60, 64, 67, 0.3), 0px 1px 3px 1px rgba(60, 64, 67, 0.15);\n",
              "      fill: #174EA6;\n",
              "    }\n",
              "\n",
              "    .colab-df-buttons div {\n",
              "      margin-bottom: 4px;\n",
              "    }\n",
              "\n",
              "    [theme=dark] .colab-df-convert {\n",
              "      background-color: #3B4455;\n",
              "      fill: #D2E3FC;\n",
              "    }\n",
              "\n",
              "    [theme=dark] .colab-df-convert:hover {\n",
              "      background-color: #434B5C;\n",
              "      box-shadow: 0px 1px 3px 1px rgba(0, 0, 0, 0.15);\n",
              "      filter: drop-shadow(0px 1px 2px rgba(0, 0, 0, 0.3));\n",
              "      fill: #FFFFFF;\n",
              "    }\n",
              "  </style>\n",
              "\n",
              "    <script>\n",
              "      const buttonEl =\n",
              "        document.querySelector('#df-8f755df9-66ae-48ca-b164-9dd61ae49ba0 button.colab-df-convert');\n",
              "      buttonEl.style.display =\n",
              "        google.colab.kernel.accessAllowed ? 'block' : 'none';\n",
              "\n",
              "      async function convertToInteractive(key) {\n",
              "        const element = document.querySelector('#df-8f755df9-66ae-48ca-b164-9dd61ae49ba0');\n",
              "        const dataTable =\n",
              "          await google.colab.kernel.invokeFunction('convertToInteractive',\n",
              "                                                    [key], {});\n",
              "        if (!dataTable) return;\n",
              "\n",
              "        const docLinkHtml = 'Like what you see? Visit the ' +\n",
              "          '<a target=\"_blank\" href=https://colab.research.google.com/notebooks/data_table.ipynb>data table notebook</a>'\n",
              "          + ' to learn more about interactive tables.';\n",
              "        element.innerHTML = '';\n",
              "        dataTable['output_type'] = 'display_data';\n",
              "        await google.colab.output.renderOutput(dataTable, element);\n",
              "        const docLink = document.createElement('div');\n",
              "        docLink.innerHTML = docLinkHtml;\n",
              "        element.appendChild(docLink);\n",
              "      }\n",
              "    </script>\n",
              "  </div>\n",
              "\n",
              "\n",
              "<div id=\"df-763e2e39-6c12-40d0-8ad2-2e4be9c8e245\">\n",
              "  <button class=\"colab-df-quickchart\" onclick=\"quickchart('df-763e2e39-6c12-40d0-8ad2-2e4be9c8e245')\"\n",
              "            title=\"Suggest charts\"\n",
              "            style=\"display:none;\">\n",
              "\n",
              "<svg xmlns=\"http://www.w3.org/2000/svg\" height=\"24px\"viewBox=\"0 0 24 24\"\n",
              "     width=\"24px\">\n",
              "    <g>\n",
              "        <path d=\"M19 3H5c-1.1 0-2 .9-2 2v14c0 1.1.9 2 2 2h14c1.1 0 2-.9 2-2V5c0-1.1-.9-2-2-2zM9 17H7v-7h2v7zm4 0h-2V7h2v10zm4 0h-2v-4h2v4z\"/>\n",
              "    </g>\n",
              "</svg>\n",
              "  </button>\n",
              "\n",
              "<style>\n",
              "  .colab-df-quickchart {\n",
              "      --bg-color: #E8F0FE;\n",
              "      --fill-color: #1967D2;\n",
              "      --hover-bg-color: #E2EBFA;\n",
              "      --hover-fill-color: #174EA6;\n",
              "      --disabled-fill-color: #AAA;\n",
              "      --disabled-bg-color: #DDD;\n",
              "  }\n",
              "\n",
              "  [theme=dark] .colab-df-quickchart {\n",
              "      --bg-color: #3B4455;\n",
              "      --fill-color: #D2E3FC;\n",
              "      --hover-bg-color: #434B5C;\n",
              "      --hover-fill-color: #FFFFFF;\n",
              "      --disabled-bg-color: #3B4455;\n",
              "      --disabled-fill-color: #666;\n",
              "  }\n",
              "\n",
              "  .colab-df-quickchart {\n",
              "    background-color: var(--bg-color);\n",
              "    border: none;\n",
              "    border-radius: 50%;\n",
              "    cursor: pointer;\n",
              "    display: none;\n",
              "    fill: var(--fill-color);\n",
              "    height: 32px;\n",
              "    padding: 0;\n",
              "    width: 32px;\n",
              "  }\n",
              "\n",
              "  .colab-df-quickchart:hover {\n",
              "    background-color: var(--hover-bg-color);\n",
              "    box-shadow: 0 1px 2px rgba(60, 64, 67, 0.3), 0 1px 3px 1px rgba(60, 64, 67, 0.15);\n",
              "    fill: var(--button-hover-fill-color);\n",
              "  }\n",
              "\n",
              "  .colab-df-quickchart-complete:disabled,\n",
              "  .colab-df-quickchart-complete:disabled:hover {\n",
              "    background-color: var(--disabled-bg-color);\n",
              "    fill: var(--disabled-fill-color);\n",
              "    box-shadow: none;\n",
              "  }\n",
              "\n",
              "  .colab-df-spinner {\n",
              "    border: 2px solid var(--fill-color);\n",
              "    border-color: transparent;\n",
              "    border-bottom-color: var(--fill-color);\n",
              "    animation:\n",
              "      spin 1s steps(1) infinite;\n",
              "  }\n",
              "\n",
              "  @keyframes spin {\n",
              "    0% {\n",
              "      border-color: transparent;\n",
              "      border-bottom-color: var(--fill-color);\n",
              "      border-left-color: var(--fill-color);\n",
              "    }\n",
              "    20% {\n",
              "      border-color: transparent;\n",
              "      border-left-color: var(--fill-color);\n",
              "      border-top-color: var(--fill-color);\n",
              "    }\n",
              "    30% {\n",
              "      border-color: transparent;\n",
              "      border-left-color: var(--fill-color);\n",
              "      border-top-color: var(--fill-color);\n",
              "      border-right-color: var(--fill-color);\n",
              "    }\n",
              "    40% {\n",
              "      border-color: transparent;\n",
              "      border-right-color: var(--fill-color);\n",
              "      border-top-color: var(--fill-color);\n",
              "    }\n",
              "    60% {\n",
              "      border-color: transparent;\n",
              "      border-right-color: var(--fill-color);\n",
              "    }\n",
              "    80% {\n",
              "      border-color: transparent;\n",
              "      border-right-color: var(--fill-color);\n",
              "      border-bottom-color: var(--fill-color);\n",
              "    }\n",
              "    90% {\n",
              "      border-color: transparent;\n",
              "      border-bottom-color: var(--fill-color);\n",
              "    }\n",
              "  }\n",
              "</style>\n",
              "\n",
              "  <script>\n",
              "    async function quickchart(key) {\n",
              "      const quickchartButtonEl =\n",
              "        document.querySelector('#' + key + ' button');\n",
              "      quickchartButtonEl.disabled = true;  // To prevent multiple clicks.\n",
              "      quickchartButtonEl.classList.add('colab-df-spinner');\n",
              "      try {\n",
              "        const charts = await google.colab.kernel.invokeFunction(\n",
              "            'suggestCharts', [key], {});\n",
              "      } catch (error) {\n",
              "        console.error('Error during call to suggestCharts:', error);\n",
              "      }\n",
              "      quickchartButtonEl.classList.remove('colab-df-spinner');\n",
              "      quickchartButtonEl.classList.add('colab-df-quickchart-complete');\n",
              "    }\n",
              "    (() => {\n",
              "      let quickchartButtonEl =\n",
              "        document.querySelector('#df-763e2e39-6c12-40d0-8ad2-2e4be9c8e245 button');\n",
              "      quickchartButtonEl.style.display =\n",
              "        google.colab.kernel.accessAllowed ? 'block' : 'none';\n",
              "    })();\n",
              "  </script>\n",
              "</div>\n",
              "\n",
              "    </div>\n",
              "  </div>\n"
            ],
            "application/vnd.google.colaboratory.intrinsic+json": {
              "type": "dataframe",
              "variable_name": "df",
              "summary": "{\n  \"name\": \"df\",\n  \"rows\": 10000,\n  \"fields\": [\n    {\n      \"column\": \"Message\",\n      \"properties\": {\n        \"dtype\": \"string\",\n        \"num_unique_values\": 9998,\n        \"samples\": [\n          \"Says a lot about the media\\u2019s hypocrisy and hate for conservatives when they think that video is more damaging than\\u2026 https://t.co/wVijB6o5Mm\",\n          \"@brianlilley @POTUS shamed the @CPC_HQ didn\\u2019t he !!!\\ud83e\\udd21\\ud83e\\udd21\\ud83e\\udd21\\ud83e\\udd21\\ud83e\\udd21\\ud83e\\udd21\\ud83e\\udd21\\ud83e\\udd21\\ud83e\\udd21#cdnpoli\",\n          \"Imagine being this overly partisan and not being able to just chill and acknowledge others\\u2019 cool shit without being\\u2026 https://t.co/oV2o27nmQi\"\n        ],\n        \"semantic_type\": \"\",\n        \"description\": \"\"\n      }\n    }\n  ]\n}"
            }
          },
          "metadata": {},
          "execution_count": 42
        }
      ]
    },
    {
      "cell_type": "code",
      "source": [
        "def tweet_tokenize(data):\n",
        "    tokenizer = TweetTokenizer()\n",
        "    tokens = []\n",
        "    for row in data['Message']:\n",
        "        tokens.append(row.split())\n",
        "\n",
        "    data['Tokens'] = tokens\n",
        "\n",
        "def remove_username(data):\n",
        "    tokens_no_username = []\n",
        "\n",
        "    # for the tokens of each row, remove all occurences of username\n",
        "    for row in data['Tokens']:\n",
        "        tokens_no_username.append([re.sub('^@.*', '', t) for t in row])\n",
        "\n",
        "    # Replace our tokens with the username-removed version\n",
        "    data['Tokens'] = tokens_no_username\n",
        "\n",
        "def remove_hastag(data):\n",
        "    tokens_no_hastag = []\n",
        "\n",
        "    # for the tokens of each row, remove all occurences of hastag\n",
        "    for row in data['Tokens']:\n",
        "        tokens_no_hastag.append([re.sub('#\\w*', '', t) for t in row])\n",
        "\n",
        "    # Replace our tokens with the hastag-removed version\n",
        "    data['Tokens'] = tokens_no_hastag\n",
        "\n",
        "def to_lowercase(data):\n",
        "    lowercase_tweets = []\n",
        "    for row in data['Message']:\n",
        "        lowercase_tweets.append(row.lower())\n",
        "\n",
        "    data['Message'] = lowercase_tweets\n",
        "\n",
        "def remove_url_text(data):\n",
        "    tweets_no_url = []\n",
        "\n",
        "    # for the tokens of each row, remove all occurences of url\n",
        "    for row in data['Message']:\n",
        "        tweets_no_url.append(re.sub(r'https?:\\S*', '', row))\n",
        "\n",
        "    # Replace our tokens with the url-removed version\n",
        "    data['Message'] = tweets_no_url\n",
        "\n",
        "def expand_contractions_text(data):\n",
        "    tweets = []\n",
        "    for row in data['Message']:\n",
        "        expanded_words = []\n",
        "        for word in row.split():\n",
        "            expanded_words.append(contractions.fix(word))\n",
        "        tweets.append(' '.join(expanded_words))\n",
        "\n",
        "    data['Message'] = tweets\n",
        "\n",
        "def remove_mentions_and_tags_in_texts(data):\n",
        "    tweets = []\n",
        "    for row in data['Message']:\n",
        "        tweet = re.sub(r'@\\S*', '', row)\n",
        "        tweets.append(re.sub(r'#\\S*', '', tweet))\n",
        "\n",
        "    data['Message'] = tweets\n",
        "\n",
        "def keep_only_alphabet_in_text(data):\n",
        "    tweets = []\n",
        "    for row in data['Message']:\n",
        "        tweets.append(re.sub(r'[^a-z]', '', row))\n",
        "\n",
        "def remove_stopwords(data, col):\n",
        "    sw = stopwords.words('english')[:100]\n",
        "    sw.extend(['amp', 'not', 'no', 'will', 'all', 'how', 'why', 'would', 'when', 'us', 'just', 'more', 'there', 'one', 'can', 'so', 'should',])\n",
        "    tokens_no_sw = []\n",
        "    # For the tokens of each row, remove all occurrences of stopwords\n",
        "    for row in data[col]:\n",
        "        tokens_no_sw.append([w for w in row if w not in sw])\n",
        "    # Replace our tokens with the stopwords-removed version\n",
        "    data[col] = tokens_no_sw"
      ],
      "metadata": {
        "id": "8VhXzDy2y4zL"
      },
      "execution_count": 43,
      "outputs": []
    },
    {
      "cell_type": "code",
      "source": [
        "expand_contractions_text(df)\n",
        "remove_mentions_and_tags_in_texts(df)\n",
        "\n",
        "# tokenize each tweet\n",
        "tweet_tokenize(df)\n",
        "\n",
        "# remove url\n",
        "remove_url(df)\n",
        "\n",
        "# remove punctuation in the Tokens\n",
        "remove_punctuation(df)\n",
        "\n",
        "# convert each token to lowercase\n",
        "convert_to_lowercase(df)\n",
        "\n",
        "# remove empty strings\n",
        "remove_empty_strings(df, 'Tokens')\n",
        "\n",
        "df"
      ],
      "metadata": {
        "id": "zJqzKSBC_sp6",
        "outputId": "b3c45ae9-e3b7-477d-e6c2-999a67b1993f",
        "colab": {
          "base_uri": "https://localhost:8080/",
          "height": 423
        }
      },
      "execution_count": 44,
      "outputs": [
        {
          "output_type": "execute_result",
          "data": {
            "text/plain": [
              "                                                Message  \\\n",
              "0     The priority for the city should be on providi...   \n",
              "1     Like it or not, this kind of clip is the sort ...   \n",
              "2     On a scale of moderately conservative (1) to r...   \n",
              "3     Keep up with the latest politics with The Dail...   \n",
              "4     So much resemblance to NAZI Germany leading up...   \n",
              "...                                                 ...   \n",
              "9995  🇨🇦 and 🇺🇸 are working together 🤝 The Canada-US...   \n",
              "9996  Harper throws the  sh1theads over the side. Th...   \n",
              "9997   Good. I called my  MP to tell him to vote YES...   \n",
              "9998    This motion includes investigating ALL forei...   \n",
              "9999  Things are not getting any better for the Libe...   \n",
              "\n",
              "                                                 Tokens  \n",
              "0     [the, priority, for, the, city, should, be, on...  \n",
              "1     [like, it, or, not, this, kind, of, clip, is, ...  \n",
              "2     [on, a, scale, of, moderately, conservative, 1...  \n",
              "3     [keep, up, with, the, latest, politics, with, ...  \n",
              "4     [so, much, resemblance, to, nazi, germany, lea...  \n",
              "...                                                 ...  \n",
              "9995  [and, are, working, together, the, canadaus, j...  \n",
              "9996  [harper, throws, the, sh1theads, over, the, si...  \n",
              "9997  [good, i, called, my, mp, to, tell, him, to, v...  \n",
              "9998  [this, motion, includes, investigating, all, f...  \n",
              "9999  [things, are, not, getting, any, better, for, ...  \n",
              "\n",
              "[10000 rows x 2 columns]"
            ],
            "text/html": [
              "\n",
              "  <div id=\"df-b396717d-0744-4aef-a281-f02dbd28a264\" class=\"colab-df-container\">\n",
              "    <div>\n",
              "<style scoped>\n",
              "    .dataframe tbody tr th:only-of-type {\n",
              "        vertical-align: middle;\n",
              "    }\n",
              "\n",
              "    .dataframe tbody tr th {\n",
              "        vertical-align: top;\n",
              "    }\n",
              "\n",
              "    .dataframe thead th {\n",
              "        text-align: right;\n",
              "    }\n",
              "</style>\n",
              "<table border=\"1\" class=\"dataframe\">\n",
              "  <thead>\n",
              "    <tr style=\"text-align: right;\">\n",
              "      <th></th>\n",
              "      <th>Message</th>\n",
              "      <th>Tokens</th>\n",
              "    </tr>\n",
              "  </thead>\n",
              "  <tbody>\n",
              "    <tr>\n",
              "      <th>0</th>\n",
              "      <td>The priority for the city should be on providi...</td>\n",
              "      <td>[the, priority, for, the, city, should, be, on...</td>\n",
              "    </tr>\n",
              "    <tr>\n",
              "      <th>1</th>\n",
              "      <td>Like it or not, this kind of clip is the sort ...</td>\n",
              "      <td>[like, it, or, not, this, kind, of, clip, is, ...</td>\n",
              "    </tr>\n",
              "    <tr>\n",
              "      <th>2</th>\n",
              "      <td>On a scale of moderately conservative (1) to r...</td>\n",
              "      <td>[on, a, scale, of, moderately, conservative, 1...</td>\n",
              "    </tr>\n",
              "    <tr>\n",
              "      <th>3</th>\n",
              "      <td>Keep up with the latest politics with The Dail...</td>\n",
              "      <td>[keep, up, with, the, latest, politics, with, ...</td>\n",
              "    </tr>\n",
              "    <tr>\n",
              "      <th>4</th>\n",
              "      <td>So much resemblance to NAZI Germany leading up...</td>\n",
              "      <td>[so, much, resemblance, to, nazi, germany, lea...</td>\n",
              "    </tr>\n",
              "    <tr>\n",
              "      <th>...</th>\n",
              "      <td>...</td>\n",
              "      <td>...</td>\n",
              "    </tr>\n",
              "    <tr>\n",
              "      <th>9995</th>\n",
              "      <td>🇨🇦 and 🇺🇸 are working together 🤝 The Canada-US...</td>\n",
              "      <td>[and, are, working, together, the, canadaus, j...</td>\n",
              "    </tr>\n",
              "    <tr>\n",
              "      <th>9996</th>\n",
              "      <td>Harper throws the  sh1theads over the side. Th...</td>\n",
              "      <td>[harper, throws, the, sh1theads, over, the, si...</td>\n",
              "    </tr>\n",
              "    <tr>\n",
              "      <th>9997</th>\n",
              "      <td>Good. I called my  MP to tell him to vote YES...</td>\n",
              "      <td>[good, i, called, my, mp, to, tell, him, to, v...</td>\n",
              "    </tr>\n",
              "    <tr>\n",
              "      <th>9998</th>\n",
              "      <td>This motion includes investigating ALL forei...</td>\n",
              "      <td>[this, motion, includes, investigating, all, f...</td>\n",
              "    </tr>\n",
              "    <tr>\n",
              "      <th>9999</th>\n",
              "      <td>Things are not getting any better for the Libe...</td>\n",
              "      <td>[things, are, not, getting, any, better, for, ...</td>\n",
              "    </tr>\n",
              "  </tbody>\n",
              "</table>\n",
              "<p>10000 rows × 2 columns</p>\n",
              "</div>\n",
              "    <div class=\"colab-df-buttons\">\n",
              "\n",
              "  <div class=\"colab-df-container\">\n",
              "    <button class=\"colab-df-convert\" onclick=\"convertToInteractive('df-b396717d-0744-4aef-a281-f02dbd28a264')\"\n",
              "            title=\"Convert this dataframe to an interactive table.\"\n",
              "            style=\"display:none;\">\n",
              "\n",
              "  <svg xmlns=\"http://www.w3.org/2000/svg\" height=\"24px\" viewBox=\"0 -960 960 960\">\n",
              "    <path d=\"M120-120v-720h720v720H120Zm60-500h600v-160H180v160Zm220 220h160v-160H400v160Zm0 220h160v-160H400v160ZM180-400h160v-160H180v160Zm440 0h160v-160H620v160ZM180-180h160v-160H180v160Zm440 0h160v-160H620v160Z\"/>\n",
              "  </svg>\n",
              "    </button>\n",
              "\n",
              "  <style>\n",
              "    .colab-df-container {\n",
              "      display:flex;\n",
              "      gap: 12px;\n",
              "    }\n",
              "\n",
              "    .colab-df-convert {\n",
              "      background-color: #E8F0FE;\n",
              "      border: none;\n",
              "      border-radius: 50%;\n",
              "      cursor: pointer;\n",
              "      display: none;\n",
              "      fill: #1967D2;\n",
              "      height: 32px;\n",
              "      padding: 0 0 0 0;\n",
              "      width: 32px;\n",
              "    }\n",
              "\n",
              "    .colab-df-convert:hover {\n",
              "      background-color: #E2EBFA;\n",
              "      box-shadow: 0px 1px 2px rgba(60, 64, 67, 0.3), 0px 1px 3px 1px rgba(60, 64, 67, 0.15);\n",
              "      fill: #174EA6;\n",
              "    }\n",
              "\n",
              "    .colab-df-buttons div {\n",
              "      margin-bottom: 4px;\n",
              "    }\n",
              "\n",
              "    [theme=dark] .colab-df-convert {\n",
              "      background-color: #3B4455;\n",
              "      fill: #D2E3FC;\n",
              "    }\n",
              "\n",
              "    [theme=dark] .colab-df-convert:hover {\n",
              "      background-color: #434B5C;\n",
              "      box-shadow: 0px 1px 3px 1px rgba(0, 0, 0, 0.15);\n",
              "      filter: drop-shadow(0px 1px 2px rgba(0, 0, 0, 0.3));\n",
              "      fill: #FFFFFF;\n",
              "    }\n",
              "  </style>\n",
              "\n",
              "    <script>\n",
              "      const buttonEl =\n",
              "        document.querySelector('#df-b396717d-0744-4aef-a281-f02dbd28a264 button.colab-df-convert');\n",
              "      buttonEl.style.display =\n",
              "        google.colab.kernel.accessAllowed ? 'block' : 'none';\n",
              "\n",
              "      async function convertToInteractive(key) {\n",
              "        const element = document.querySelector('#df-b396717d-0744-4aef-a281-f02dbd28a264');\n",
              "        const dataTable =\n",
              "          await google.colab.kernel.invokeFunction('convertToInteractive',\n",
              "                                                    [key], {});\n",
              "        if (!dataTable) return;\n",
              "\n",
              "        const docLinkHtml = 'Like what you see? Visit the ' +\n",
              "          '<a target=\"_blank\" href=https://colab.research.google.com/notebooks/data_table.ipynb>data table notebook</a>'\n",
              "          + ' to learn more about interactive tables.';\n",
              "        element.innerHTML = '';\n",
              "        dataTable['output_type'] = 'display_data';\n",
              "        await google.colab.output.renderOutput(dataTable, element);\n",
              "        const docLink = document.createElement('div');\n",
              "        docLink.innerHTML = docLinkHtml;\n",
              "        element.appendChild(docLink);\n",
              "      }\n",
              "    </script>\n",
              "  </div>\n",
              "\n",
              "\n",
              "<div id=\"df-2a31c1af-fe0d-4383-8196-c622720312ec\">\n",
              "  <button class=\"colab-df-quickchart\" onclick=\"quickchart('df-2a31c1af-fe0d-4383-8196-c622720312ec')\"\n",
              "            title=\"Suggest charts\"\n",
              "            style=\"display:none;\">\n",
              "\n",
              "<svg xmlns=\"http://www.w3.org/2000/svg\" height=\"24px\"viewBox=\"0 0 24 24\"\n",
              "     width=\"24px\">\n",
              "    <g>\n",
              "        <path d=\"M19 3H5c-1.1 0-2 .9-2 2v14c0 1.1.9 2 2 2h14c1.1 0 2-.9 2-2V5c0-1.1-.9-2-2-2zM9 17H7v-7h2v7zm4 0h-2V7h2v10zm4 0h-2v-4h2v4z\"/>\n",
              "    </g>\n",
              "</svg>\n",
              "  </button>\n",
              "\n",
              "<style>\n",
              "  .colab-df-quickchart {\n",
              "      --bg-color: #E8F0FE;\n",
              "      --fill-color: #1967D2;\n",
              "      --hover-bg-color: #E2EBFA;\n",
              "      --hover-fill-color: #174EA6;\n",
              "      --disabled-fill-color: #AAA;\n",
              "      --disabled-bg-color: #DDD;\n",
              "  }\n",
              "\n",
              "  [theme=dark] .colab-df-quickchart {\n",
              "      --bg-color: #3B4455;\n",
              "      --fill-color: #D2E3FC;\n",
              "      --hover-bg-color: #434B5C;\n",
              "      --hover-fill-color: #FFFFFF;\n",
              "      --disabled-bg-color: #3B4455;\n",
              "      --disabled-fill-color: #666;\n",
              "  }\n",
              "\n",
              "  .colab-df-quickchart {\n",
              "    background-color: var(--bg-color);\n",
              "    border: none;\n",
              "    border-radius: 50%;\n",
              "    cursor: pointer;\n",
              "    display: none;\n",
              "    fill: var(--fill-color);\n",
              "    height: 32px;\n",
              "    padding: 0;\n",
              "    width: 32px;\n",
              "  }\n",
              "\n",
              "  .colab-df-quickchart:hover {\n",
              "    background-color: var(--hover-bg-color);\n",
              "    box-shadow: 0 1px 2px rgba(60, 64, 67, 0.3), 0 1px 3px 1px rgba(60, 64, 67, 0.15);\n",
              "    fill: var(--button-hover-fill-color);\n",
              "  }\n",
              "\n",
              "  .colab-df-quickchart-complete:disabled,\n",
              "  .colab-df-quickchart-complete:disabled:hover {\n",
              "    background-color: var(--disabled-bg-color);\n",
              "    fill: var(--disabled-fill-color);\n",
              "    box-shadow: none;\n",
              "  }\n",
              "\n",
              "  .colab-df-spinner {\n",
              "    border: 2px solid var(--fill-color);\n",
              "    border-color: transparent;\n",
              "    border-bottom-color: var(--fill-color);\n",
              "    animation:\n",
              "      spin 1s steps(1) infinite;\n",
              "  }\n",
              "\n",
              "  @keyframes spin {\n",
              "    0% {\n",
              "      border-color: transparent;\n",
              "      border-bottom-color: var(--fill-color);\n",
              "      border-left-color: var(--fill-color);\n",
              "    }\n",
              "    20% {\n",
              "      border-color: transparent;\n",
              "      border-left-color: var(--fill-color);\n",
              "      border-top-color: var(--fill-color);\n",
              "    }\n",
              "    30% {\n",
              "      border-color: transparent;\n",
              "      border-left-color: var(--fill-color);\n",
              "      border-top-color: var(--fill-color);\n",
              "      border-right-color: var(--fill-color);\n",
              "    }\n",
              "    40% {\n",
              "      border-color: transparent;\n",
              "      border-right-color: var(--fill-color);\n",
              "      border-top-color: var(--fill-color);\n",
              "    }\n",
              "    60% {\n",
              "      border-color: transparent;\n",
              "      border-right-color: var(--fill-color);\n",
              "    }\n",
              "    80% {\n",
              "      border-color: transparent;\n",
              "      border-right-color: var(--fill-color);\n",
              "      border-bottom-color: var(--fill-color);\n",
              "    }\n",
              "    90% {\n",
              "      border-color: transparent;\n",
              "      border-bottom-color: var(--fill-color);\n",
              "    }\n",
              "  }\n",
              "</style>\n",
              "\n",
              "  <script>\n",
              "    async function quickchart(key) {\n",
              "      const quickchartButtonEl =\n",
              "        document.querySelector('#' + key + ' button');\n",
              "      quickchartButtonEl.disabled = true;  // To prevent multiple clicks.\n",
              "      quickchartButtonEl.classList.add('colab-df-spinner');\n",
              "      try {\n",
              "        const charts = await google.colab.kernel.invokeFunction(\n",
              "            'suggestCharts', [key], {});\n",
              "      } catch (error) {\n",
              "        console.error('Error during call to suggestCharts:', error);\n",
              "      }\n",
              "      quickchartButtonEl.classList.remove('colab-df-spinner');\n",
              "      quickchartButtonEl.classList.add('colab-df-quickchart-complete');\n",
              "    }\n",
              "    (() => {\n",
              "      let quickchartButtonEl =\n",
              "        document.querySelector('#df-2a31c1af-fe0d-4383-8196-c622720312ec button');\n",
              "      quickchartButtonEl.style.display =\n",
              "        google.colab.kernel.accessAllowed ? 'block' : 'none';\n",
              "    })();\n",
              "  </script>\n",
              "</div>\n",
              "\n",
              "  <div id=\"id_73549c22-625b-45e0-ad44-6aec5a9d9902\">\n",
              "    <style>\n",
              "      .colab-df-generate {\n",
              "        background-color: #E8F0FE;\n",
              "        border: none;\n",
              "        border-radius: 50%;\n",
              "        cursor: pointer;\n",
              "        display: none;\n",
              "        fill: #1967D2;\n",
              "        height: 32px;\n",
              "        padding: 0 0 0 0;\n",
              "        width: 32px;\n",
              "      }\n",
              "\n",
              "      .colab-df-generate:hover {\n",
              "        background-color: #E2EBFA;\n",
              "        box-shadow: 0px 1px 2px rgba(60, 64, 67, 0.3), 0px 1px 3px 1px rgba(60, 64, 67, 0.15);\n",
              "        fill: #174EA6;\n",
              "      }\n",
              "\n",
              "      [theme=dark] .colab-df-generate {\n",
              "        background-color: #3B4455;\n",
              "        fill: #D2E3FC;\n",
              "      }\n",
              "\n",
              "      [theme=dark] .colab-df-generate:hover {\n",
              "        background-color: #434B5C;\n",
              "        box-shadow: 0px 1px 3px 1px rgba(0, 0, 0, 0.15);\n",
              "        filter: drop-shadow(0px 1px 2px rgba(0, 0, 0, 0.3));\n",
              "        fill: #FFFFFF;\n",
              "      }\n",
              "    </style>\n",
              "    <button class=\"colab-df-generate\" onclick=\"generateWithVariable('df')\"\n",
              "            title=\"Generate code using this dataframe.\"\n",
              "            style=\"display:none;\">\n",
              "\n",
              "  <svg xmlns=\"http://www.w3.org/2000/svg\" height=\"24px\"viewBox=\"0 0 24 24\"\n",
              "       width=\"24px\">\n",
              "    <path d=\"M7,19H8.4L18.45,9,17,7.55,7,17.6ZM5,21V16.75L18.45,3.32a2,2,0,0,1,2.83,0l1.4,1.43a1.91,1.91,0,0,1,.58,1.4,1.91,1.91,0,0,1-.58,1.4L9.25,21ZM18.45,9,17,7.55Zm-12,3A5.31,5.31,0,0,0,4.9,8.1,5.31,5.31,0,0,0,1,6.5,5.31,5.31,0,0,0,4.9,4.9,5.31,5.31,0,0,0,6.5,1,5.31,5.31,0,0,0,8.1,4.9,5.31,5.31,0,0,0,12,6.5,5.46,5.46,0,0,0,6.5,12Z\"/>\n",
              "  </svg>\n",
              "    </button>\n",
              "    <script>\n",
              "      (() => {\n",
              "      const buttonEl =\n",
              "        document.querySelector('#id_73549c22-625b-45e0-ad44-6aec5a9d9902 button.colab-df-generate');\n",
              "      buttonEl.style.display =\n",
              "        google.colab.kernel.accessAllowed ? 'block' : 'none';\n",
              "\n",
              "      buttonEl.onclick = () => {\n",
              "        google.colab.notebook.generateWithVariable('df');\n",
              "      }\n",
              "      })();\n",
              "    </script>\n",
              "  </div>\n",
              "\n",
              "    </div>\n",
              "  </div>\n"
            ],
            "application/vnd.google.colaboratory.intrinsic+json": {
              "type": "dataframe",
              "variable_name": "df",
              "summary": "{\n  \"name\": \"df\",\n  \"rows\": 10000,\n  \"fields\": [\n    {\n      \"column\": \"Message\",\n      \"properties\": {\n        \"dtype\": \"string\",\n        \"num_unique_values\": 9994,\n        \"samples\": [\n          \" Why does Trudeau's office look like a rec room in Scarborough? And he greets world leaders there?  \",\n          \"  Not much of a choice,  who supported an insurrection, let his MP's dine\\u2026 https://t.co/qSUEskhxw1\",\n          \"Crazy when the West is called out, trolled, for its hypocrisy by literal dictatorships..   https://t.co/IguJanaQgT\"\n        ],\n        \"semantic_type\": \"\",\n        \"description\": \"\"\n      }\n    },\n    {\n      \"column\": \"Tokens\",\n      \"properties\": {\n        \"dtype\": \"object\",\n        \"semantic_type\": \"\",\n        \"description\": \"\"\n      }\n    }\n  ]\n}"
            }
          },
          "metadata": {},
          "execution_count": 44
        }
      ]
    },
    {
      "cell_type": "code",
      "source": [
        "# remove stop words in the token\n",
        "remove_stopwords(df, 'Tokens')\n",
        "\n",
        "df.head()"
      ],
      "metadata": {
        "id": "9XsfZ7eWCJIU",
        "outputId": "dd8ed85b-dc36-4228-c421-b58934162b20",
        "colab": {
          "base_uri": "https://localhost:8080/",
          "height": 206
        }
      },
      "execution_count": 45,
      "outputs": [
        {
          "output_type": "execute_result",
          "data": {
            "text/plain": [
              "                                             Message  \\\n",
              "0  The priority for the city should be on providi...   \n",
              "1  Like it or not, this kind of clip is the sort ...   \n",
              "2  On a scale of moderately conservative (1) to r...   \n",
              "3  Keep up with the latest politics with The Dail...   \n",
              "4  So much resemblance to NAZI Germany leading up...   \n",
              "\n",
              "                                              Tokens  \n",
              "0  [priority, city, providing, affordable, housin...  \n",
              "1  [like, kind, clip, sort, thing, irreparable, h...  \n",
              "2  [scale, moderately, conservative, 1, rightwing...  \n",
              "3  [keep, latest, politics, daily, debrief, panel...  \n",
              "4  [much, resemblance, nazi, germany, leading, wo...  "
            ],
            "text/html": [
              "\n",
              "  <div id=\"df-231ad9a6-c63c-4f5f-b917-88c8f24e587a\" class=\"colab-df-container\">\n",
              "    <div>\n",
              "<style scoped>\n",
              "    .dataframe tbody tr th:only-of-type {\n",
              "        vertical-align: middle;\n",
              "    }\n",
              "\n",
              "    .dataframe tbody tr th {\n",
              "        vertical-align: top;\n",
              "    }\n",
              "\n",
              "    .dataframe thead th {\n",
              "        text-align: right;\n",
              "    }\n",
              "</style>\n",
              "<table border=\"1\" class=\"dataframe\">\n",
              "  <thead>\n",
              "    <tr style=\"text-align: right;\">\n",
              "      <th></th>\n",
              "      <th>Message</th>\n",
              "      <th>Tokens</th>\n",
              "    </tr>\n",
              "  </thead>\n",
              "  <tbody>\n",
              "    <tr>\n",
              "      <th>0</th>\n",
              "      <td>The priority for the city should be on providi...</td>\n",
              "      <td>[priority, city, providing, affordable, housin...</td>\n",
              "    </tr>\n",
              "    <tr>\n",
              "      <th>1</th>\n",
              "      <td>Like it or not, this kind of clip is the sort ...</td>\n",
              "      <td>[like, kind, clip, sort, thing, irreparable, h...</td>\n",
              "    </tr>\n",
              "    <tr>\n",
              "      <th>2</th>\n",
              "      <td>On a scale of moderately conservative (1) to r...</td>\n",
              "      <td>[scale, moderately, conservative, 1, rightwing...</td>\n",
              "    </tr>\n",
              "    <tr>\n",
              "      <th>3</th>\n",
              "      <td>Keep up with the latest politics with The Dail...</td>\n",
              "      <td>[keep, latest, politics, daily, debrief, panel...</td>\n",
              "    </tr>\n",
              "    <tr>\n",
              "      <th>4</th>\n",
              "      <td>So much resemblance to NAZI Germany leading up...</td>\n",
              "      <td>[much, resemblance, nazi, germany, leading, wo...</td>\n",
              "    </tr>\n",
              "  </tbody>\n",
              "</table>\n",
              "</div>\n",
              "    <div class=\"colab-df-buttons\">\n",
              "\n",
              "  <div class=\"colab-df-container\">\n",
              "    <button class=\"colab-df-convert\" onclick=\"convertToInteractive('df-231ad9a6-c63c-4f5f-b917-88c8f24e587a')\"\n",
              "            title=\"Convert this dataframe to an interactive table.\"\n",
              "            style=\"display:none;\">\n",
              "\n",
              "  <svg xmlns=\"http://www.w3.org/2000/svg\" height=\"24px\" viewBox=\"0 -960 960 960\">\n",
              "    <path d=\"M120-120v-720h720v720H120Zm60-500h600v-160H180v160Zm220 220h160v-160H400v160Zm0 220h160v-160H400v160ZM180-400h160v-160H180v160Zm440 0h160v-160H620v160ZM180-180h160v-160H180v160Zm440 0h160v-160H620v160Z\"/>\n",
              "  </svg>\n",
              "    </button>\n",
              "\n",
              "  <style>\n",
              "    .colab-df-container {\n",
              "      display:flex;\n",
              "      gap: 12px;\n",
              "    }\n",
              "\n",
              "    .colab-df-convert {\n",
              "      background-color: #E8F0FE;\n",
              "      border: none;\n",
              "      border-radius: 50%;\n",
              "      cursor: pointer;\n",
              "      display: none;\n",
              "      fill: #1967D2;\n",
              "      height: 32px;\n",
              "      padding: 0 0 0 0;\n",
              "      width: 32px;\n",
              "    }\n",
              "\n",
              "    .colab-df-convert:hover {\n",
              "      background-color: #E2EBFA;\n",
              "      box-shadow: 0px 1px 2px rgba(60, 64, 67, 0.3), 0px 1px 3px 1px rgba(60, 64, 67, 0.15);\n",
              "      fill: #174EA6;\n",
              "    }\n",
              "\n",
              "    .colab-df-buttons div {\n",
              "      margin-bottom: 4px;\n",
              "    }\n",
              "\n",
              "    [theme=dark] .colab-df-convert {\n",
              "      background-color: #3B4455;\n",
              "      fill: #D2E3FC;\n",
              "    }\n",
              "\n",
              "    [theme=dark] .colab-df-convert:hover {\n",
              "      background-color: #434B5C;\n",
              "      box-shadow: 0px 1px 3px 1px rgba(0, 0, 0, 0.15);\n",
              "      filter: drop-shadow(0px 1px 2px rgba(0, 0, 0, 0.3));\n",
              "      fill: #FFFFFF;\n",
              "    }\n",
              "  </style>\n",
              "\n",
              "    <script>\n",
              "      const buttonEl =\n",
              "        document.querySelector('#df-231ad9a6-c63c-4f5f-b917-88c8f24e587a button.colab-df-convert');\n",
              "      buttonEl.style.display =\n",
              "        google.colab.kernel.accessAllowed ? 'block' : 'none';\n",
              "\n",
              "      async function convertToInteractive(key) {\n",
              "        const element = document.querySelector('#df-231ad9a6-c63c-4f5f-b917-88c8f24e587a');\n",
              "        const dataTable =\n",
              "          await google.colab.kernel.invokeFunction('convertToInteractive',\n",
              "                                                    [key], {});\n",
              "        if (!dataTable) return;\n",
              "\n",
              "        const docLinkHtml = 'Like what you see? Visit the ' +\n",
              "          '<a target=\"_blank\" href=https://colab.research.google.com/notebooks/data_table.ipynb>data table notebook</a>'\n",
              "          + ' to learn more about interactive tables.';\n",
              "        element.innerHTML = '';\n",
              "        dataTable['output_type'] = 'display_data';\n",
              "        await google.colab.output.renderOutput(dataTable, element);\n",
              "        const docLink = document.createElement('div');\n",
              "        docLink.innerHTML = docLinkHtml;\n",
              "        element.appendChild(docLink);\n",
              "      }\n",
              "    </script>\n",
              "  </div>\n",
              "\n",
              "\n",
              "<div id=\"df-80e6d31a-fe52-4ed0-a140-849272c88619\">\n",
              "  <button class=\"colab-df-quickchart\" onclick=\"quickchart('df-80e6d31a-fe52-4ed0-a140-849272c88619')\"\n",
              "            title=\"Suggest charts\"\n",
              "            style=\"display:none;\">\n",
              "\n",
              "<svg xmlns=\"http://www.w3.org/2000/svg\" height=\"24px\"viewBox=\"0 0 24 24\"\n",
              "     width=\"24px\">\n",
              "    <g>\n",
              "        <path d=\"M19 3H5c-1.1 0-2 .9-2 2v14c0 1.1.9 2 2 2h14c1.1 0 2-.9 2-2V5c0-1.1-.9-2-2-2zM9 17H7v-7h2v7zm4 0h-2V7h2v10zm4 0h-2v-4h2v4z\"/>\n",
              "    </g>\n",
              "</svg>\n",
              "  </button>\n",
              "\n",
              "<style>\n",
              "  .colab-df-quickchart {\n",
              "      --bg-color: #E8F0FE;\n",
              "      --fill-color: #1967D2;\n",
              "      --hover-bg-color: #E2EBFA;\n",
              "      --hover-fill-color: #174EA6;\n",
              "      --disabled-fill-color: #AAA;\n",
              "      --disabled-bg-color: #DDD;\n",
              "  }\n",
              "\n",
              "  [theme=dark] .colab-df-quickchart {\n",
              "      --bg-color: #3B4455;\n",
              "      --fill-color: #D2E3FC;\n",
              "      --hover-bg-color: #434B5C;\n",
              "      --hover-fill-color: #FFFFFF;\n",
              "      --disabled-bg-color: #3B4455;\n",
              "      --disabled-fill-color: #666;\n",
              "  }\n",
              "\n",
              "  .colab-df-quickchart {\n",
              "    background-color: var(--bg-color);\n",
              "    border: none;\n",
              "    border-radius: 50%;\n",
              "    cursor: pointer;\n",
              "    display: none;\n",
              "    fill: var(--fill-color);\n",
              "    height: 32px;\n",
              "    padding: 0;\n",
              "    width: 32px;\n",
              "  }\n",
              "\n",
              "  .colab-df-quickchart:hover {\n",
              "    background-color: var(--hover-bg-color);\n",
              "    box-shadow: 0 1px 2px rgba(60, 64, 67, 0.3), 0 1px 3px 1px rgba(60, 64, 67, 0.15);\n",
              "    fill: var(--button-hover-fill-color);\n",
              "  }\n",
              "\n",
              "  .colab-df-quickchart-complete:disabled,\n",
              "  .colab-df-quickchart-complete:disabled:hover {\n",
              "    background-color: var(--disabled-bg-color);\n",
              "    fill: var(--disabled-fill-color);\n",
              "    box-shadow: none;\n",
              "  }\n",
              "\n",
              "  .colab-df-spinner {\n",
              "    border: 2px solid var(--fill-color);\n",
              "    border-color: transparent;\n",
              "    border-bottom-color: var(--fill-color);\n",
              "    animation:\n",
              "      spin 1s steps(1) infinite;\n",
              "  }\n",
              "\n",
              "  @keyframes spin {\n",
              "    0% {\n",
              "      border-color: transparent;\n",
              "      border-bottom-color: var(--fill-color);\n",
              "      border-left-color: var(--fill-color);\n",
              "    }\n",
              "    20% {\n",
              "      border-color: transparent;\n",
              "      border-left-color: var(--fill-color);\n",
              "      border-top-color: var(--fill-color);\n",
              "    }\n",
              "    30% {\n",
              "      border-color: transparent;\n",
              "      border-left-color: var(--fill-color);\n",
              "      border-top-color: var(--fill-color);\n",
              "      border-right-color: var(--fill-color);\n",
              "    }\n",
              "    40% {\n",
              "      border-color: transparent;\n",
              "      border-right-color: var(--fill-color);\n",
              "      border-top-color: var(--fill-color);\n",
              "    }\n",
              "    60% {\n",
              "      border-color: transparent;\n",
              "      border-right-color: var(--fill-color);\n",
              "    }\n",
              "    80% {\n",
              "      border-color: transparent;\n",
              "      border-right-color: var(--fill-color);\n",
              "      border-bottom-color: var(--fill-color);\n",
              "    }\n",
              "    90% {\n",
              "      border-color: transparent;\n",
              "      border-bottom-color: var(--fill-color);\n",
              "    }\n",
              "  }\n",
              "</style>\n",
              "\n",
              "  <script>\n",
              "    async function quickchart(key) {\n",
              "      const quickchartButtonEl =\n",
              "        document.querySelector('#' + key + ' button');\n",
              "      quickchartButtonEl.disabled = true;  // To prevent multiple clicks.\n",
              "      quickchartButtonEl.classList.add('colab-df-spinner');\n",
              "      try {\n",
              "        const charts = await google.colab.kernel.invokeFunction(\n",
              "            'suggestCharts', [key], {});\n",
              "      } catch (error) {\n",
              "        console.error('Error during call to suggestCharts:', error);\n",
              "      }\n",
              "      quickchartButtonEl.classList.remove('colab-df-spinner');\n",
              "      quickchartButtonEl.classList.add('colab-df-quickchart-complete');\n",
              "    }\n",
              "    (() => {\n",
              "      let quickchartButtonEl =\n",
              "        document.querySelector('#df-80e6d31a-fe52-4ed0-a140-849272c88619 button');\n",
              "      quickchartButtonEl.style.display =\n",
              "        google.colab.kernel.accessAllowed ? 'block' : 'none';\n",
              "    })();\n",
              "  </script>\n",
              "</div>\n",
              "\n",
              "    </div>\n",
              "  </div>\n"
            ],
            "application/vnd.google.colaboratory.intrinsic+json": {
              "type": "dataframe",
              "variable_name": "df",
              "summary": "{\n  \"name\": \"df\",\n  \"rows\": 10000,\n  \"fields\": [\n    {\n      \"column\": \"Message\",\n      \"properties\": {\n        \"dtype\": \"string\",\n        \"num_unique_values\": 9994,\n        \"samples\": [\n          \" Why does Trudeau's office look like a rec room in Scarborough? And he greets world leaders there?  \",\n          \"  Not much of a choice,  who supported an insurrection, let his MP's dine\\u2026 https://t.co/qSUEskhxw1\",\n          \"Crazy when the West is called out, trolled, for its hypocrisy by literal dictatorships..   https://t.co/IguJanaQgT\"\n        ],\n        \"semantic_type\": \"\",\n        \"description\": \"\"\n      }\n    },\n    {\n      \"column\": \"Tokens\",\n      \"properties\": {\n        \"dtype\": \"object\",\n        \"semantic_type\": \"\",\n        \"description\": \"\"\n      }\n    }\n  ]\n}"
            }
          },
          "metadata": {},
          "execution_count": 45
        }
      ]
    },
    {
      "cell_type": "markdown",
      "source": [
        "## Exploratory Data Analysis (EDA)"
      ],
      "metadata": {
        "id": "RpNd2Xl87CSl"
      }
    },
    {
      "cell_type": "markdown",
      "source": [
        "1. Word cloud\n",
        "2. Visualize the 20 most frequent words (filtered to exclude unmeaningful words)"
      ],
      "metadata": {
        "id": "5X7o9LD47Riy"
      }
    },
    {
      "cell_type": "code",
      "source": [
        "# Word cloud\n",
        "def list_of_lists_to_list(data, col):\n",
        "    res = []\n",
        "    for row in data['Tokens']:\n",
        "        for item in row:\n",
        "            if isinstance(item, str):\n",
        "                res.append(item)\n",
        "\n",
        "    return res\n",
        "\n",
        "def display_word_cloud(flatten_data):\n",
        "    # Join the different processed titles together.\n",
        "    long_string = ' '.join(flatten_data)\n",
        "    # Create a WordCloud object\n",
        "    wordcloud = WordCloud(background_color=\"white\", max_words=5000, contour_width=3, contour_color='steelblue')\n",
        "    # Generate a word cloud\n",
        "    wordcloud = wordcloud.generate(long_string)\n",
        "    # Visualize the word cloud\n",
        "    plt.imshow(wordcloud)\n",
        "    plt.axis(\"off\")\n",
        "    plt.show()"
      ],
      "metadata": {
        "id": "xv2BVNpwG5o5"
      },
      "execution_count": 46,
      "outputs": []
    },
    {
      "cell_type": "code",
      "source": [
        "flatten_df = list_of_lists_to_list(df, 'Tokens')\n",
        "display_word_cloud(flatten_df)"
      ],
      "metadata": {
        "id": "dWMKlPWjG9YJ",
        "outputId": "8470c6b9-abbd-4543-aa56-b81a0e72e102",
        "colab": {
          "base_uri": "https://localhost:8080/",
          "height": 285
        }
      },
      "execution_count": 47,
      "outputs": [
        {
          "output_type": "display_data",
          "data": {
            "text/plain": [
              "<Figure size 640x480 with 1 Axes>"
            ],
            "image/png": "[encoded data removed]"
          },
          "metadata": {}
        }
      ]
    },
    {
      "cell_type": "code",
      "source": [
        "# Visualize the 20 most frequent words before lemmatizing\n",
        "def visualize_20_most_frequent_words(flatten_data):\n",
        "    words, counts = np.unique(flatten_data, return_counts=True)\n",
        "    # Sort words and counts based on counts in descending order\n",
        "    sorted_indices = np.argsort(counts)[::-1]   # index of descending count\n",
        "    sorted_words = words[sorted_indices]\n",
        "    sorted_counts = counts[sorted_indices]\n",
        "\n",
        "    plt.figure(figsize=(9, 5))\n",
        "\n",
        "    # Visualize the 20 most frequent words\n",
        "    plt.bar(sorted_words[:20], sorted_counts[:20])\n",
        "    plt.xlabel('Words')\n",
        "    plt.ylabel('Frequency')\n",
        "    plt.title('Histogram of the 20 most frequent words (filtered)')\n",
        "    plt.xticks(rotation=45, ha='right')\n",
        "    plt.show()"
      ],
      "metadata": {
        "id": "uf_5OEp-H6zg"
      },
      "execution_count": 48,
      "outputs": []
    },
    {
      "cell_type": "code",
      "source": [
        "visualize_20_most_frequent_words(flatten_df)"
      ],
      "metadata": {
        "id": "JkKAhDQWH7cA",
        "outputId": "3b81db53-fe50-442e-eed7-150ef58d637b",
        "colab": {
          "base_uri": "https://localhost:8080/",
          "height": 546
        }
      },
      "execution_count": 49,
      "outputs": [
        {
          "output_type": "display_data",
          "data": {
            "text/plain": [
              "<Figure size 900x500 with 1 Axes>"
            ],
            "image/png": "[encoded data removed]"
          },
          "metadata": {}
        }
      ]
    },
    {
      "cell_type": "markdown",
      "source": [
        "## Text Pre-Processing 2"
      ],
      "metadata": {
        "id": "Mb_ONrmV7WQp"
      }
    },
    {
      "cell_type": "markdown",
      "source": [
        "1. Lemmatize tokens\n",
        "2. Create dictionary, corpus, and term document frequency list"
      ],
      "metadata": {
        "id": "6FKnxZMS7ZFZ"
      }
    },
    {
      "cell_type": "code",
      "source": [
        "# Lemmatize the tokens\n",
        "lemmatize_tokens(df)\n",
        "\n",
        "# # Convert the list of lists of strings (list of messages) to array of strings\n",
        "# df = list_of_lists_to_list(df, 'lemmatized_tokens')"
      ],
      "metadata": {
        "id": "I-bqoiNs90KC"
      },
      "execution_count": 50,
      "outputs": []
    },
    {
      "cell_type": "code",
      "source": [
        "# Split the data into training (60%), validation (20%), and test (20%) sets\n",
        "\n",
        "# Splitting the data into training (60%) and temporary (40%) sets, setting the seed to ensure reproducibility\n",
        "X_train, X_temp = train_test_split(df['lemmatized_tokens'], train_size=0.6, random_state=70)\n",
        "\n",
        "# Splitting the temporary set into the validation (50% of the temporary data) and test (50% of the temporary data) sets\n",
        "X_validate, X_test = train_test_split(X_temp, test_size=0.5, random_state=70)"
      ],
      "metadata": {
        "id": "H21bFwraOyA2"
      },
      "execution_count": 51,
      "outputs": []
    },
    {
      "cell_type": "code",
      "source": [
        "# Create dictionary\n",
        "id2word = corpora.Dictionary(X_validate)\n",
        "\n",
        "# Create Corpus\n",
        "texts = X_validate\n",
        "\n",
        "# Term Document Frequency\n",
        "corpus = [id2word.doc2bow(text) for text in texts]"
      ],
      "metadata": {
        "id": "2YESjzClMao6"
      },
      "execution_count": 52,
      "outputs": []
    },
    {
      "cell_type": "code",
      "source": [
        "print(corpus[:1][0][:30])"
      ],
      "metadata": {
        "colab": {
          "base_uri": "https://localhost:8080/"
        },
        "id": "tLIy_HO-NcxT",
        "outputId": "e43ccbe1-1961-4d52-ef5c-8b3e490731f5"
      },
      "execution_count": 53,
      "outputs": [
        {
          "output_type": "stream",
          "name": "stdout",
          "text": [
            "[(0, 1), (1, 1), (2, 1), (3, 1), (4, 1)]\n"
          ]
        }
      ]
    },
    {
      "cell_type": "markdown",
      "source": [
        "## Latent Dirichlet Allocation (LDA)"
      ],
      "metadata": {
        "id": "ClvklNWM7b86"
      }
    },
    {
      "cell_type": "markdown",
      "source": [
        "1. Tuning hyperparameters (search for the best number of topics): use validation data set\n",
        "2. LDA setup (using training set)"
      ],
      "metadata": {
        "id": "345iev_Q7hYn"
      }
    },
    {
      "cell_type": "code",
      "source": [
        "def calculate_coherence_score(LDA_model, data):\n",
        "    coherence_model_LDA = CoherenceModel(model=LDA_model, texts=data, dictionary=id2word, coherence='c_v')\n",
        "    return coherence_model_LDA.get_coherence()"
      ],
      "metadata": {
        "id": "spMlxNOt7-QL"
      },
      "execution_count": 54,
      "outputs": []
    },
    {
      "cell_type": "code",
      "source": [
        "# Tuning hyperparameters (search for the best number of topics)\n",
        "# We're going to use default value for alpha and beta\n",
        "\n",
        "best_coherence_score = -1\n",
        "best_num_topics = -1\n",
        "\n",
        "for num_topics in range(5, 15):\n",
        "    LDA_model = LdaModel(\n",
        "        corpus=corpus,\n",
        "        id2word=id2word,\n",
        "        num_topics=num_topics,\n",
        "        random_state=70,\n",
        "        per_word_topics=True\n",
        "    )\n",
        "    # Compute coherence score\n",
        "    coherence_score = calculate_coherence_score(LDA_model, X_validate)\n",
        "    print(coherence_score)\n",
        "    if coherence_score > best_coherence_score:\n",
        "        best_coherence_score = coherence_score\n",
        "        best_num_topics = num_topics\n",
        "\n",
        "print(f'Chosen num_topics: {best_num_topics} with coherence score {best_coherence_score} using X_validate')"
      ],
      "metadata": {
        "colab": {
          "base_uri": "https://localhost:8080/"
        },
        "id": "gpRSoX9SQrNs",
        "outputId": "66474cd9-77c5-4c9f-8941-54cd4317753e"
      },
      "execution_count": 55,
      "outputs": [
        {
          "output_type": "stream",
          "name": "stderr",
          "text": [
            "WARNING:gensim.models.ldamodel:too few updates, training might not converge; consider increasing the number of passes or iterations to improve accuracy\n",
            "WARNING:gensim.models.ldamodel:too few updates, training might not converge; consider increasing the number of passes or iterations to improve accuracy\n"
          ]
        },
        {
          "output_type": "stream",
          "name": "stdout",
          "text": [
            "0.30120696135810227\n"
          ]
        },
        {
          "output_type": "stream",
          "name": "stderr",
          "text": [
            "WARNING:gensim.models.ldamodel:too few updates, training might not converge; consider increasing the number of passes or iterations to improve accuracy\n"
          ]
        },
        {
          "output_type": "stream",
          "name": "stdout",
          "text": [
            "0.33317954771542535\n"
          ]
        },
        {
          "output_type": "stream",
          "name": "stderr",
          "text": [
            "WARNING:gensim.models.ldamodel:too few updates, training might not converge; consider increasing the number of passes or iterations to improve accuracy\n"
          ]
        },
        {
          "output_type": "stream",
          "name": "stdout",
          "text": [
            "0.32589259139377685\n"
          ]
        },
        {
          "output_type": "stream",
          "name": "stderr",
          "text": [
            "WARNING:gensim.models.ldamodel:too few updates, training might not converge; consider increasing the number of passes or iterations to improve accuracy\n"
          ]
        },
        {
          "output_type": "stream",
          "name": "stdout",
          "text": [
            "0.35339579226161366\n"
          ]
        },
        {
          "output_type": "stream",
          "name": "stderr",
          "text": [
            "WARNING:gensim.models.ldamodel:too few updates, training might not converge; consider increasing the number of passes or iterations to improve accuracy\n"
          ]
        },
        {
          "output_type": "stream",
          "name": "stdout",
          "text": [
            "0.34606788821871076\n"
          ]
        },
        {
          "output_type": "stream",
          "name": "stderr",
          "text": [
            "WARNING:gensim.models.ldamodel:too few updates, training might not converge; consider increasing the number of passes or iterations to improve accuracy\n"
          ]
        },
        {
          "output_type": "stream",
          "name": "stdout",
          "text": [
            "0.39563339158143224\n"
          ]
        },
        {
          "output_type": "stream",
          "name": "stderr",
          "text": [
            "WARNING:gensim.models.ldamodel:too few updates, training might not converge; consider increasing the number of passes or iterations to improve accuracy\n"
          ]
        },
        {
          "output_type": "stream",
          "name": "stdout",
          "text": [
            "0.384028397192861\n"
          ]
        },
        {
          "output_type": "stream",
          "name": "stderr",
          "text": [
            "WARNING:gensim.models.ldamodel:too few updates, training might not converge; consider increasing the number of passes or iterations to improve accuracy\n"
          ]
        },
        {
          "output_type": "stream",
          "name": "stdout",
          "text": [
            "0.38704578997925077\n"
          ]
        },
        {
          "output_type": "stream",
          "name": "stderr",
          "text": [
            "WARNING:gensim.models.ldamodel:too few updates, training might not converge; consider increasing the number of passes or iterations to improve accuracy\n"
          ]
        },
        {
          "output_type": "stream",
          "name": "stdout",
          "text": [
            "0.39840134548515443\n",
            "0.39725188210195433\n",
            "Chosen num_topics: 13 with coherence score 0.39840134548515443 using X_validate\n"
          ]
        }
      ]
    },
    {
      "cell_type": "code",
      "source": [
        "# We have computed the optimal number of topics to be included\n",
        "# Now, we can setup our LDA model using the training dataset\n",
        "\n",
        "# Create dictionary\n",
        "id2word = corpora.Dictionary(X_train)\n",
        "\n",
        "# Create Corpus\n",
        "texts = X_train\n",
        "\n",
        "# Term Document Frequency\n",
        "corpus = [id2word.doc2bow(text) for text in texts]\n",
        "\n",
        "LDA_model = LdaModel(\n",
        "    corpus=corpus,\n",
        "    id2word=id2word,\n",
        "    num_topics=best_num_topics,\n",
        "    chunksize=1000,\n",
        "    passes=10,\n",
        "    random_state=70,\n",
        "    per_word_topics=True\n",
        ")\n",
        "\n",
        "print(f'Coherence score for training data = {calculate_coherence_score(LDA_model, X_train)}')"
      ],
      "metadata": {
        "colab": {
          "base_uri": "https://localhost:8080/"
        },
        "id": "r1us8rFOWCP3",
        "outputId": "ffaa764f-627a-4c4e-84ff-c7afd6a6ef51"
      },
      "execution_count": 56,
      "outputs": [
        {
          "output_type": "stream",
          "name": "stdout",
          "text": [
            "Coherence score for training data = 0.3931923272612478\n"
          ]
        }
      ]
    },
    {
      "cell_type": "code",
      "source": [
        "def get_lda_topics(model, num_topics, top_n_words):\n",
        "    word_dict = {}\n",
        "    for i in range(num_topics):\n",
        "        # Get the top words for the current topic using model.show_topic\n",
        "        top_words = [word for word, _ in model.show_topic(i, topn=top_n_words)]\n",
        "        # Create a dictionary entry for the topic with its top words\n",
        "        word_dict['Topic #{:02d}'.format(i+1)] = top_words\n",
        "\n",
        "    # Convert the dictionary to a DataFrame for easier visualization\n",
        "    topics_df = pd.DataFrame(word_dict)\n",
        "    return topics_df\n",
        "\n",
        "get_lda_topics(LDA_model, best_num_topics,10)"
      ],
      "metadata": {
        "colab": {
          "base_uri": "https://localhost:8080/",
          "height": 363
        },
        "id": "FKjEfZYqK-ji",
        "outputId": "c8e13297-899b-46d2-9c61-774ca593743b"
      },
      "execution_count": 57,
      "outputs": [
        {
          "output_type": "execute_result",
          "data": {
            "text/plain": [
              "      Topic #01 Topic #02   Topic #03 Topic #04     Topic #05 Topic #06  \\\n",
              "0         biden    budget        call    canada      election       tax   \n",
              "1        canada   federal      policy       ccp  interference      make   \n",
              "2     president     hotel      leader  canadian      canadian      much   \n",
              "3  conservative      back  opposition      both        canada    people   \n",
              "4           joe      time        tell     never       foreign      cost   \n",
              "5       trudeau      2023         cpc     issue         great      stay   \n",
              "6      minister      room      former    roxham          many   problem   \n",
              "7         prime     tweet        part    border          keep      hard   \n",
              "8         visit     going           6     smith         party     queen   \n",
              "9            go   alberta       trump    medium          here   working   \n",
              "\n",
              "  Topic #07 Topic #08 Topic #09 Topic #10 Topic #11  Topic #12  Topic #13  \n",
              "0      vote     woman   support      look       get       very       dong  \n",
              "1    public      want       ndp      like      know       show  poilievre  \n",
              "2      take  canadian   another     right       let        now        han  \n",
              "3     house    canada     today      know      like    trudeau        say  \n",
              "4   inquiry     think  security  canadian     first  something       than  \n",
              "5        pm      good   meeting      well     still     justin     better  \n",
              "6    canada  standing       job     thing    dinner        yet     global  \n",
              "7   liberal     start      live      govt       pay    cabinet     pierre  \n",
              "8       war      deal      sure       now    always        got       csis  \n",
              "9      bill      need   exactly       any     state        two     really  "
            ],
            "text/html": [
              "\n",
              "  <div id=\"df-7f929427-c99b-4349-b8d1-ae6002e1509d\" class=\"colab-df-container\">\n",
              "    <div>\n",
              "<style scoped>\n",
              "    .dataframe tbody tr th:only-of-type {\n",
              "        vertical-align: middle;\n",
              "    }\n",
              "\n",
              "    .dataframe tbody tr th {\n",
              "        vertical-align: top;\n",
              "    }\n",
              "\n",
              "    .dataframe thead th {\n",
              "        text-align: right;\n",
              "    }\n",
              "</style>\n",
              "<table border=\"1\" class=\"dataframe\">\n",
              "  <thead>\n",
              "    <tr style=\"text-align: right;\">\n",
              "      <th></th>\n",
              "      <th>Topic #01</th>\n",
              "      <th>Topic #02</th>\n",
              "      <th>Topic #03</th>\n",
              "      <th>Topic #04</th>\n",
              "      <th>Topic #05</th>\n",
              "      <th>Topic #06</th>\n",
              "      <th>Topic #07</th>\n",
              "      <th>Topic #08</th>\n",
              "      <th>Topic #09</th>\n",
              "      <th>Topic #10</th>\n",
              "      <th>Topic #11</th>\n",
              "      <th>Topic #12</th>\n",
              "      <th>Topic #13</th>\n",
              "    </tr>\n",
              "  </thead>\n",
              "  <tbody>\n",
              "    <tr>\n",
              "      <th>0</th>\n",
              "      <td>biden</td>\n",
              "      <td>budget</td>\n",
              "      <td>call</td>\n",
              "      <td>canada</td>\n",
              "      <td>election</td>\n",
              "      <td>tax</td>\n",
              "      <td>vote</td>\n",
              "      <td>woman</td>\n",
              "      <td>support</td>\n",
              "      <td>look</td>\n",
              "      <td>get</td>\n",
              "      <td>very</td>\n",
              "      <td>dong</td>\n",
              "    </tr>\n",
              "    <tr>\n",
              "      <th>1</th>\n",
              "      <td>canada</td>\n",
              "      <td>federal</td>\n",
              "      <td>policy</td>\n",
              "      <td>ccp</td>\n",
              "      <td>interference</td>\n",
              "      <td>make</td>\n",
              "      <td>public</td>\n",
              "      <td>want</td>\n",
              "      <td>ndp</td>\n",
              "      <td>like</td>\n",
              "      <td>know</td>\n",
              "      <td>show</td>\n",
              "      <td>poilievre</td>\n",
              "    </tr>\n",
              "    <tr>\n",
              "      <th>2</th>\n",
              "      <td>president</td>\n",
              "      <td>hotel</td>\n",
              "      <td>leader</td>\n",
              "      <td>canadian</td>\n",
              "      <td>canadian</td>\n",
              "      <td>much</td>\n",
              "      <td>take</td>\n",
              "      <td>canadian</td>\n",
              "      <td>another</td>\n",
              "      <td>right</td>\n",
              "      <td>let</td>\n",
              "      <td>now</td>\n",
              "      <td>han</td>\n",
              "    </tr>\n",
              "    <tr>\n",
              "      <th>3</th>\n",
              "      <td>conservative</td>\n",
              "      <td>back</td>\n",
              "      <td>opposition</td>\n",
              "      <td>both</td>\n",
              "      <td>canada</td>\n",
              "      <td>people</td>\n",
              "      <td>house</td>\n",
              "      <td>canada</td>\n",
              "      <td>today</td>\n",
              "      <td>know</td>\n",
              "      <td>like</td>\n",
              "      <td>trudeau</td>\n",
              "      <td>say</td>\n",
              "    </tr>\n",
              "    <tr>\n",
              "      <th>4</th>\n",
              "      <td>joe</td>\n",
              "      <td>time</td>\n",
              "      <td>tell</td>\n",
              "      <td>never</td>\n",
              "      <td>foreign</td>\n",
              "      <td>cost</td>\n",
              "      <td>inquiry</td>\n",
              "      <td>think</td>\n",
              "      <td>security</td>\n",
              "      <td>canadian</td>\n",
              "      <td>first</td>\n",
              "      <td>something</td>\n",
              "      <td>than</td>\n",
              "    </tr>\n",
              "    <tr>\n",
              "      <th>5</th>\n",
              "      <td>trudeau</td>\n",
              "      <td>2023</td>\n",
              "      <td>cpc</td>\n",
              "      <td>issue</td>\n",
              "      <td>great</td>\n",
              "      <td>stay</td>\n",
              "      <td>pm</td>\n",
              "      <td>good</td>\n",
              "      <td>meeting</td>\n",
              "      <td>well</td>\n",
              "      <td>still</td>\n",
              "      <td>justin</td>\n",
              "      <td>better</td>\n",
              "    </tr>\n",
              "    <tr>\n",
              "      <th>6</th>\n",
              "      <td>minister</td>\n",
              "      <td>room</td>\n",
              "      <td>former</td>\n",
              "      <td>roxham</td>\n",
              "      <td>many</td>\n",
              "      <td>problem</td>\n",
              "      <td>canada</td>\n",
              "      <td>standing</td>\n",
              "      <td>job</td>\n",
              "      <td>thing</td>\n",
              "      <td>dinner</td>\n",
              "      <td>yet</td>\n",
              "      <td>global</td>\n",
              "    </tr>\n",
              "    <tr>\n",
              "      <th>7</th>\n",
              "      <td>prime</td>\n",
              "      <td>tweet</td>\n",
              "      <td>part</td>\n",
              "      <td>border</td>\n",
              "      <td>keep</td>\n",
              "      <td>hard</td>\n",
              "      <td>liberal</td>\n",
              "      <td>start</td>\n",
              "      <td>live</td>\n",
              "      <td>govt</td>\n",
              "      <td>pay</td>\n",
              "      <td>cabinet</td>\n",
              "      <td>pierre</td>\n",
              "    </tr>\n",
              "    <tr>\n",
              "      <th>8</th>\n",
              "      <td>visit</td>\n",
              "      <td>going</td>\n",
              "      <td>6</td>\n",
              "      <td>smith</td>\n",
              "      <td>party</td>\n",
              "      <td>queen</td>\n",
              "      <td>war</td>\n",
              "      <td>deal</td>\n",
              "      <td>sure</td>\n",
              "      <td>now</td>\n",
              "      <td>always</td>\n",
              "      <td>got</td>\n",
              "      <td>csis</td>\n",
              "    </tr>\n",
              "    <tr>\n",
              "      <th>9</th>\n",
              "      <td>go</td>\n",
              "      <td>alberta</td>\n",
              "      <td>trump</td>\n",
              "      <td>medium</td>\n",
              "      <td>here</td>\n",
              "      <td>working</td>\n",
              "      <td>bill</td>\n",
              "      <td>need</td>\n",
              "      <td>exactly</td>\n",
              "      <td>any</td>\n",
              "      <td>state</td>\n",
              "      <td>two</td>\n",
              "      <td>really</td>\n",
              "    </tr>\n",
              "  </tbody>\n",
              "</table>\n",
              "</div>\n",
              "    <div class=\"colab-df-buttons\">\n",
              "\n",
              "  <div class=\"colab-df-container\">\n",
              "    <button class=\"colab-df-convert\" onclick=\"convertToInteractive('df-7f929427-c99b-4349-b8d1-ae6002e1509d')\"\n",
              "            title=\"Convert this dataframe to an interactive table.\"\n",
              "            style=\"display:none;\">\n",
              "\n",
              "  <svg xmlns=\"http://www.w3.org/2000/svg\" height=\"24px\" viewBox=\"0 -960 960 960\">\n",
              "    <path d=\"M120-120v-720h720v720H120Zm60-500h600v-160H180v160Zm220 220h160v-160H400v160Zm0 220h160v-160H400v160ZM180-400h160v-160H180v160Zm440 0h160v-160H620v160ZM180-180h160v-160H180v160Zm440 0h160v-160H620v160Z\"/>\n",
              "  </svg>\n",
              "    </button>\n",
              "\n",
              "  <style>\n",
              "    .colab-df-container {\n",
              "      display:flex;\n",
              "      gap: 12px;\n",
              "    }\n",
              "\n",
              "    .colab-df-convert {\n",
              "      background-color: #E8F0FE;\n",
              "      border: none;\n",
              "      border-radius: 50%;\n",
              "      cursor: pointer;\n",
              "      display: none;\n",
              "      fill: #1967D2;\n",
              "      height: 32px;\n",
              "      padding: 0 0 0 0;\n",
              "      width: 32px;\n",
              "    }\n",
              "\n",
              "    .colab-df-convert:hover {\n",
              "      background-color: #E2EBFA;\n",
              "      box-shadow: 0px 1px 2px rgba(60, 64, 67, 0.3), 0px 1px 3px 1px rgba(60, 64, 67, 0.15);\n",
              "      fill: #174EA6;\n",
              "    }\n",
              "\n",
              "    .colab-df-buttons div {\n",
              "      margin-bottom: 4px;\n",
              "    }\n",
              "\n",
              "    [theme=dark] .colab-df-convert {\n",
              "      background-color: #3B4455;\n",
              "      fill: #D2E3FC;\n",
              "    }\n",
              "\n",
              "    [theme=dark] .colab-df-convert:hover {\n",
              "      background-color: #434B5C;\n",
              "      box-shadow: 0px 1px 3px 1px rgba(0, 0, 0, 0.15);\n",
              "      filter: drop-shadow(0px 1px 2px rgba(0, 0, 0, 0.3));\n",
              "      fill: #FFFFFF;\n",
              "    }\n",
              "  </style>\n",
              "\n",
              "    <script>\n",
              "      const buttonEl =\n",
              "        document.querySelector('#df-7f929427-c99b-4349-b8d1-ae6002e1509d button.colab-df-convert');\n",
              "      buttonEl.style.display =\n",
              "        google.colab.kernel.accessAllowed ? 'block' : 'none';\n",
              "\n",
              "      async function convertToInteractive(key) {\n",
              "        const element = document.querySelector('#df-7f929427-c99b-4349-b8d1-ae6002e1509d');\n",
              "        const dataTable =\n",
              "          await google.colab.kernel.invokeFunction('convertToInteractive',\n",
              "                                                    [key], {});\n",
              "        if (!dataTable) return;\n",
              "\n",
              "        const docLinkHtml = 'Like what you see? Visit the ' +\n",
              "          '<a target=\"_blank\" href=https://colab.research.google.com/notebooks/data_table.ipynb>data table notebook</a>'\n",
              "          + ' to learn more about interactive tables.';\n",
              "        element.innerHTML = '';\n",
              "        dataTable['output_type'] = 'display_data';\n",
              "        await google.colab.output.renderOutput(dataTable, element);\n",
              "        const docLink = document.createElement('div');\n",
              "        docLink.innerHTML = docLinkHtml;\n",
              "        element.appendChild(docLink);\n",
              "      }\n",
              "    </script>\n",
              "  </div>\n",
              "\n",
              "\n",
              "<div id=\"df-69785c75-6300-44e1-80ee-d7690c493d52\">\n",
              "  <button class=\"colab-df-quickchart\" onclick=\"quickchart('df-69785c75-6300-44e1-80ee-d7690c493d52')\"\n",
              "            title=\"Suggest charts\"\n",
              "            style=\"display:none;\">\n",
              "\n",
              "<svg xmlns=\"http://www.w3.org/2000/svg\" height=\"24px\"viewBox=\"0 0 24 24\"\n",
              "     width=\"24px\">\n",
              "    <g>\n",
              "        <path d=\"M19 3H5c-1.1 0-2 .9-2 2v14c0 1.1.9 2 2 2h14c1.1 0 2-.9 2-2V5c0-1.1-.9-2-2-2zM9 17H7v-7h2v7zm4 0h-2V7h2v10zm4 0h-2v-4h2v4z\"/>\n",
              "    </g>\n",
              "</svg>\n",
              "  </button>\n",
              "\n",
              "<style>\n",
              "  .colab-df-quickchart {\n",
              "      --bg-color: #E8F0FE;\n",
              "      --fill-color: #1967D2;\n",
              "      --hover-bg-color: #E2EBFA;\n",
              "      --hover-fill-color: #174EA6;\n",
              "      --disabled-fill-color: #AAA;\n",
              "      --disabled-bg-color: #DDD;\n",
              "  }\n",
              "\n",
              "  [theme=dark] .colab-df-quickchart {\n",
              "      --bg-color: #3B4455;\n",
              "      --fill-color: #D2E3FC;\n",
              "      --hover-bg-color: #434B5C;\n",
              "      --hover-fill-color: #FFFFFF;\n",
              "      --disabled-bg-color: #3B4455;\n",
              "      --disabled-fill-color: #666;\n",
              "  }\n",
              "\n",
              "  .colab-df-quickchart {\n",
              "    background-color: var(--bg-color);\n",
              "    border: none;\n",
              "    border-radius: 50%;\n",
              "    cursor: pointer;\n",
              "    display: none;\n",
              "    fill: var(--fill-color);\n",
              "    height: 32px;\n",
              "    padding: 0;\n",
              "    width: 32px;\n",
              "  }\n",
              "\n",
              "  .colab-df-quickchart:hover {\n",
              "    background-color: var(--hover-bg-color);\n",
              "    box-shadow: 0 1px 2px rgba(60, 64, 67, 0.3), 0 1px 3px 1px rgba(60, 64, 67, 0.15);\n",
              "    fill: var(--button-hover-fill-color);\n",
              "  }\n",
              "\n",
              "  .colab-df-quickchart-complete:disabled,\n",
              "  .colab-df-quickchart-complete:disabled:hover {\n",
              "    background-color: var(--disabled-bg-color);\n",
              "    fill: var(--disabled-fill-color);\n",
              "    box-shadow: none;\n",
              "  }\n",
              "\n",
              "  .colab-df-spinner {\n",
              "    border: 2px solid var(--fill-color);\n",
              "    border-color: transparent;\n",
              "    border-bottom-color: var(--fill-color);\n",
              "    animation:\n",
              "      spin 1s steps(1) infinite;\n",
              "  }\n",
              "\n",
              "  @keyframes spin {\n",
              "    0% {\n",
              "      border-color: transparent;\n",
              "      border-bottom-color: var(--fill-color);\n",
              "      border-left-color: var(--fill-color);\n",
              "    }\n",
              "    20% {\n",
              "      border-color: transparent;\n",
              "      border-left-color: var(--fill-color);\n",
              "      border-top-color: var(--fill-color);\n",
              "    }\n",
              "    30% {\n",
              "      border-color: transparent;\n",
              "      border-left-color: var(--fill-color);\n",
              "      border-top-color: var(--fill-color);\n",
              "      border-right-color: var(--fill-color);\n",
              "    }\n",
              "    40% {\n",
              "      border-color: transparent;\n",
              "      border-right-color: var(--fill-color);\n",
              "      border-top-color: var(--fill-color);\n",
              "    }\n",
              "    60% {\n",
              "      border-color: transparent;\n",
              "      border-right-color: var(--fill-color);\n",
              "    }\n",
              "    80% {\n",
              "      border-color: transparent;\n",
              "      border-right-color: var(--fill-color);\n",
              "      border-bottom-color: var(--fill-color);\n",
              "    }\n",
              "    90% {\n",
              "      border-color: transparent;\n",
              "      border-bottom-color: var(--fill-color);\n",
              "    }\n",
              "  }\n",
              "</style>\n",
              "\n",
              "  <script>\n",
              "    async function quickchart(key) {\n",
              "      const quickchartButtonEl =\n",
              "        document.querySelector('#' + key + ' button');\n",
              "      quickchartButtonEl.disabled = true;  // To prevent multiple clicks.\n",
              "      quickchartButtonEl.classList.add('colab-df-spinner');\n",
              "      try {\n",
              "        const charts = await google.colab.kernel.invokeFunction(\n",
              "            'suggestCharts', [key], {});\n",
              "      } catch (error) {\n",
              "        console.error('Error during call to suggestCharts:', error);\n",
              "      }\n",
              "      quickchartButtonEl.classList.remove('colab-df-spinner');\n",
              "      quickchartButtonEl.classList.add('colab-df-quickchart-complete');\n",
              "    }\n",
              "    (() => {\n",
              "      let quickchartButtonEl =\n",
              "        document.querySelector('#df-69785c75-6300-44e1-80ee-d7690c493d52 button');\n",
              "      quickchartButtonEl.style.display =\n",
              "        google.colab.kernel.accessAllowed ? 'block' : 'none';\n",
              "    })();\n",
              "  </script>\n",
              "</div>\n",
              "\n",
              "    </div>\n",
              "  </div>\n"
            ],
            "application/vnd.google.colaboratory.intrinsic+json": {
              "type": "dataframe",
              "summary": "{\n  \"name\": \"get_lda_topics(LDA_model, best_num_topics,10)\",\n  \"rows\": 10,\n  \"fields\": [\n    {\n      \"column\": \"Topic #01\",\n      \"properties\": {\n        \"dtype\": \"string\",\n        \"num_unique_values\": 10,\n        \"samples\": [\n          \"visit\",\n          \"canada\",\n          \"trudeau\"\n        ],\n        \"semantic_type\": \"\",\n        \"description\": \"\"\n      }\n    },\n    {\n      \"column\": \"Topic #02\",\n      \"properties\": {\n        \"dtype\": \"string\",\n        \"num_unique_values\": 10,\n        \"samples\": [\n          \"going\",\n          \"federal\",\n          \"2023\"\n        ],\n        \"semantic_type\": \"\",\n        \"description\": \"\"\n      }\n    },\n    {\n      \"column\": \"Topic #03\",\n      \"properties\": {\n        \"dtype\": \"string\",\n        \"num_unique_values\": 10,\n        \"samples\": [\n          \"6\",\n          \"policy\",\n          \"cpc\"\n        ],\n        \"semantic_type\": \"\",\n        \"description\": \"\"\n      }\n    },\n    {\n      \"column\": \"Topic #04\",\n      \"properties\": {\n        \"dtype\": \"string\",\n        \"num_unique_values\": 10,\n        \"samples\": [\n          \"smith\",\n          \"ccp\",\n          \"issue\"\n        ],\n        \"semantic_type\": \"\",\n        \"description\": \"\"\n      }\n    },\n    {\n      \"column\": \"Topic #05\",\n      \"properties\": {\n        \"dtype\": \"string\",\n        \"num_unique_values\": 10,\n        \"samples\": [\n          \"party\",\n          \"interference\",\n          \"great\"\n        ],\n        \"semantic_type\": \"\",\n        \"description\": \"\"\n      }\n    },\n    {\n      \"column\": \"Topic #06\",\n      \"properties\": {\n        \"dtype\": \"string\",\n        \"num_unique_values\": 10,\n        \"samples\": [\n          \"queen\",\n          \"make\",\n          \"stay\"\n        ],\n        \"semantic_type\": \"\",\n        \"description\": \"\"\n      }\n    },\n    {\n      \"column\": \"Topic #07\",\n      \"properties\": {\n        \"dtype\": \"string\",\n        \"num_unique_values\": 10,\n        \"samples\": [\n          \"war\",\n          \"public\",\n          \"pm\"\n        ],\n        \"semantic_type\": \"\",\n        \"description\": \"\"\n      }\n    },\n    {\n      \"column\": \"Topic #08\",\n      \"properties\": {\n        \"dtype\": \"string\",\n        \"num_unique_values\": 10,\n        \"samples\": [\n          \"deal\",\n          \"want\",\n          \"good\"\n        ],\n        \"semantic_type\": \"\",\n        \"description\": \"\"\n      }\n    },\n    {\n      \"column\": \"Topic #09\",\n      \"properties\": {\n        \"dtype\": \"string\",\n        \"num_unique_values\": 10,\n        \"samples\": [\n          \"sure\",\n          \"ndp\",\n          \"meeting\"\n        ],\n        \"semantic_type\": \"\",\n        \"description\": \"\"\n      }\n    },\n    {\n      \"column\": \"Topic #10\",\n      \"properties\": {\n        \"dtype\": \"string\",\n        \"num_unique_values\": 10,\n        \"samples\": [\n          \"now\",\n          \"like\",\n          \"well\"\n        ],\n        \"semantic_type\": \"\",\n        \"description\": \"\"\n      }\n    },\n    {\n      \"column\": \"Topic #11\",\n      \"properties\": {\n        \"dtype\": \"string\",\n        \"num_unique_values\": 10,\n        \"samples\": [\n          \"always\",\n          \"know\",\n          \"still\"\n        ],\n        \"semantic_type\": \"\",\n        \"description\": \"\"\n      }\n    },\n    {\n      \"column\": \"Topic #12\",\n      \"properties\": {\n        \"dtype\": \"string\",\n        \"num_unique_values\": 10,\n        \"samples\": [\n          \"got\",\n          \"show\",\n          \"justin\"\n        ],\n        \"semantic_type\": \"\",\n        \"description\": \"\"\n      }\n    },\n    {\n      \"column\": \"Topic #13\",\n      \"properties\": {\n        \"dtype\": \"string\",\n        \"num_unique_values\": 10,\n        \"samples\": [\n          \"csis\",\n          \"poilievre\",\n          \"better\"\n        ],\n        \"semantic_type\": \"\",\n        \"description\": \"\"\n      }\n    }\n  ]\n}"
            }
          },
          "metadata": {},
          "execution_count": 57
        }
      ]
    },
    {
      "cell_type": "code",
      "source": [
        "LDA_model.print_topics()"
      ],
      "metadata": {
        "colab": {
          "base_uri": "https://localhost:8080/"
        },
        "id": "WsWIb1MIW_IV",
        "outputId": "ab756f1e-d1fb-4374-fd1e-a20083a23753"
      },
      "execution_count": 58,
      "outputs": [
        {
          "output_type": "execute_result",
          "data": {
            "text/plain": [
              "[(0,\n",
              "  '0.052*\"biden\" + 0.036*\"canada\" + 0.028*\"president\" + 0.022*\"conservative\" + 0.022*\"joe\" + 0.020*\"trudeau\" + 0.018*\"minister\" + 0.018*\"prime\" + 0.014*\"visit\" + 0.011*\"go\"'),\n",
              " (1,\n",
              "  '0.020*\"budget\" + 0.014*\"federal\" + 0.013*\"hotel\" + 0.012*\"back\" + 0.011*\"time\" + 0.011*\"2023\" + 0.011*\"room\" + 0.010*\"tweet\" + 0.010*\"going\" + 0.010*\"alberta\"'),\n",
              " (2,\n",
              "  '0.021*\"call\" + 0.017*\"policy\" + 0.016*\"leader\" + 0.013*\"opposition\" + 0.013*\"tell\" + 0.011*\"cpc\" + 0.011*\"former\" + 0.011*\"part\" + 0.010*\"6\" + 0.010*\"trump\"'),\n",
              " (3,\n",
              "  '0.014*\"canada\" + 0.014*\"ccp\" + 0.013*\"canadian\" + 0.011*\"both\" + 0.011*\"never\" + 0.010*\"issue\" + 0.010*\"roxham\" + 0.009*\"border\" + 0.009*\"smith\" + 0.009*\"medium\"'),\n",
              " (4,\n",
              "  '0.027*\"election\" + 0.023*\"interference\" + 0.022*\"canadian\" + 0.018*\"canada\" + 0.017*\"foreign\" + 0.016*\"great\" + 0.015*\"many\" + 0.014*\"keep\" + 0.014*\"party\" + 0.014*\"here\"'),\n",
              " (5,\n",
              "  '0.031*\"tax\" + 0.029*\"make\" + 0.015*\"much\" + 0.013*\"people\" + 0.013*\"cost\" + 0.011*\"stay\" + 0.010*\"problem\" + 0.010*\"hard\" + 0.009*\"queen\" + 0.009*\"working\"'),\n",
              " (6,\n",
              "  '0.019*\"vote\" + 0.017*\"public\" + 0.016*\"take\" + 0.016*\"house\" + 0.015*\"inquiry\" + 0.015*\"pm\" + 0.012*\"canada\" + 0.011*\"liberal\" + 0.011*\"war\" + 0.011*\"bill\"'),\n",
              " (7,\n",
              "  '0.027*\"woman\" + 0.025*\"want\" + 0.016*\"canadian\" + 0.013*\"canada\" + 0.013*\"think\" + 0.012*\"good\" + 0.012*\"standing\" + 0.011*\"start\" + 0.011*\"deal\" + 0.011*\"need\"'),\n",
              " (8,\n",
              "  '0.017*\"support\" + 0.014*\"ndp\" + 0.013*\"another\" + 0.013*\"today\" + 0.013*\"security\" + 0.012*\"meeting\" + 0.012*\"job\" + 0.011*\"live\" + 0.010*\"sure\" + 0.010*\"exactly\"'),\n",
              " (9,\n",
              "  '0.022*\"look\" + 0.017*\"like\" + 0.014*\"right\" + 0.013*\"know\" + 0.013*\"canadian\" + 0.012*\"well\" + 0.011*\"thing\" + 0.010*\"govt\" + 0.010*\"now\" + 0.010*\"any\"'),\n",
              " (10,\n",
              "  '0.039*\"get\" + 0.023*\"know\" + 0.018*\"let\" + 0.017*\"like\" + 0.016*\"first\" + 0.015*\"still\" + 0.015*\"dinner\" + 0.012*\"pay\" + 0.012*\"always\" + 0.011*\"state\"'),\n",
              " (11,\n",
              "  '0.024*\"very\" + 0.016*\"show\" + 0.013*\"now\" + 0.013*\"trudeau\" + 0.012*\"something\" + 0.012*\"justin\" + 0.012*\"yet\" + 0.011*\"cabinet\" + 0.011*\"got\" + 0.010*\"two\"'),\n",
              " (12,\n",
              "  '0.027*\"dong\" + 0.021*\"poilievre\" + 0.020*\"han\" + 0.018*\"say\" + 0.018*\"than\" + 0.017*\"better\" + 0.017*\"global\" + 0.014*\"pierre\" + 0.013*\"csis\" + 0.012*\"really\"')]"
            ]
          },
          "metadata": {},
          "execution_count": 58
        }
      ]
    },
    {
      "cell_type": "markdown",
      "source": [
        "## Labelling"
      ],
      "metadata": {
        "id": "ypg8g5cpGaYk"
      }
    },
    {
      "cell_type": "code",
      "source": [
        "# Input the 13 topics from ChatGPT\n",
        "topics = [\n",
        "    \"Politics\",\n",
        "    \"Economy\",\n",
        "    \"Leadership\",\n",
        "    \"International Relations\",\n",
        "    \"Election Issues\",\n",
        "    \"Financial Concerns\",\n",
        "    \"Government Actions\",\n",
        "    \"Social Issues\",\n",
        "    \"Public Services\",\n",
        "    \"General Observations\",\n",
        "    \"Personal Opinions\",\n",
        "    \"Media and Communication\",\n",
        "    \"Miscellaneous\"\n",
        "]\n",
        "\n",
        "# Print the topics\n",
        "print(\"Topics:\")\n",
        "for idx, topic in enumerate(topics):\n",
        "    print(f\"{idx}. {topic}\")\n",
        "\n",
        "# Store the topics in a list\n",
        "topics = list(topics)"
      ],
      "metadata": {
        "id": "-BzydeRuXKqS",
        "colab": {
          "base_uri": "https://localhost:8080/"
        },
        "outputId": "e7a269fc-3f7d-40b1-89a5-05d57eb58fdf"
      },
      "execution_count": 59,
      "outputs": [
        {
          "output_type": "stream",
          "name": "stdout",
          "text": [
            "Topics:\n",
            "0. Politics\n",
            "1. Economy\n",
            "2. Leadership\n",
            "3. International Relations\n",
            "4. Election Issues\n",
            "5. Financial Concerns\n",
            "6. Government Actions\n",
            "7. Social Issues\n",
            "8. Public Services\n",
            "9. General Observations\n",
            "10. Personal Opinions\n",
            "11. Media and Communication\n",
            "12. Miscellaneous\n"
          ]
        }
      ]
    },
    {
      "cell_type": "markdown",
      "source": [
        "## Prediction Model"
      ],
      "metadata": {
        "id": "Py0UD200RPFx"
      }
    },
    {
      "cell_type": "code",
      "source": [
        "def preprocess_message(message):\n",
        "    df_message = pd.DataFrame({'Message': [message]})\n",
        "    expand_contractions_text(df_message)\n",
        "    remove_mentions_and_tags_in_texts(df_message)\n",
        "    tweet_tokenize(df_message)\n",
        "    remove_url(df_message)\n",
        "    remove_punctuation(df_message)\n",
        "    convert_to_lowercase(df_message)\n",
        "    remove_empty_strings(df_message, 'Tokens')\n",
        "    remove_stopwords(df_message, 'Tokens')\n",
        "    lemmatize_tokens(df_message)\n",
        "    return list(df_message['lemmatized_tokens'])[0]"
      ],
      "metadata": {
        "id": "t-1gX1bzRZzF"
      },
      "execution_count": 60,
      "outputs": []
    },
    {
      "cell_type": "code",
      "source": [
        "def lda_predict(message):\n",
        "    print(f\"Tweet to predict:\\n{message}\")\n",
        "    preprocessed_message = preprocess_message(message)\n",
        "    one_corpus = [id2word.doc2bow(preprocessed_message)]\n",
        "    # one_corpus = [id2word.doc2bow(X_test[idx_in_test])]\n",
        "    result = LDA_model[one_corpus]\n",
        "    best_topic_idx = -1\n",
        "    best_topic_score = -1\n",
        "    print(\"\\nPossible topics:\")\n",
        "    for category in result[0][0]:\n",
        "        topic_idx = category[0]\n",
        "        topic_score = category[1]\n",
        "        print(f\"Topic #{topic_idx}: {topics[topic_idx]} with score {topic_score}\")\n",
        "        if topic_score > best_topic_score:\n",
        "            best_topic_idx = topic_idx\n",
        "            best_topic_score = topic_score\n",
        "    print(f\"\\nResult: Topic #{best_topic_idx}: {topics[best_topic_idx]} with score {best_topic_score}\")"
      ],
      "metadata": {
        "id": "Ub51vRNj2Hq8"
      },
      "execution_count": 61,
      "outputs": []
    },
    {
      "cell_type": "markdown",
      "source": [
        "## Performance Evaluation: Coherence Score"
      ],
      "metadata": {
        "id": "3Jhyex8v8mEf"
      }
    },
    {
      "cell_type": "code",
      "source": [
        "print(f'Coherence score for test data = {calculate_coherence_score(LDA_model, X_test)}')"
      ],
      "metadata": {
        "colab": {
          "base_uri": "https://localhost:8080/"
        },
        "id": "Eh-xYEkD71kQ",
        "outputId": "d337014f-e022-4eba-dfc7-b64cd895e43e"
      },
      "execution_count": 62,
      "outputs": [
        {
          "output_type": "stream",
          "name": "stdout",
          "text": [
            "Coherence score for test data = 0.5760226893830661\n"
          ]
        }
      ]
    },
    {
      "cell_type": "markdown",
      "source": [
        "### Example: generate topic for a tweet"
      ],
      "metadata": {
        "id": "da_EnFctGbr0"
      }
    },
    {
      "cell_type": "code",
      "source": [
        "lda_predict(\"The LIBERALs answer to higher grocery prices fueled by their Carbon taxes and policies - Billions more spending whi… https://t.co/QCZuhReqOo\")"
      ],
      "metadata": {
        "colab": {
          "base_uri": "https://localhost:8080/"
        },
        "id": "6zlamLaBIfsg",
        "outputId": "5d160222-f303-47e8-ef30-2c27f600ce3b"
      },
      "execution_count": 63,
      "outputs": [
        {
          "output_type": "stream",
          "name": "stdout",
          "text": [
            "Tweet to predict:\n",
            "The LIBERALs answer to higher grocery prices fueled by their Carbon taxes and policies - Billions more spending whi… https://t.co/QCZuhReqOo\n",
            "\n",
            "Possible topics:\n",
            "Topic #2: Leadership with score 0.09790026396512985\n",
            "Topic #5: Financial Concerns with score 0.27975401282310486\n",
            "Topic #6: Government Actions with score 0.23884908854961395\n",
            "Topic #7: Social Issues with score 0.10994493216276169\n",
            "Topic #9: General Observations with score 0.21761363744735718\n",
            "\n",
            "Result: Topic #5: Financial Concerns with score 0.27975401282310486\n"
          ]
        }
      ]
    }
  ]
}